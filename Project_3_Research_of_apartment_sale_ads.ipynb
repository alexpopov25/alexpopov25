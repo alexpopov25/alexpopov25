{
  "cells": [
    {
      "cell_type": "markdown",
      "metadata": {
        "id": "view-in-github",
        "colab_type": "text"
      },
      "source": [
        "<a href=\"https://colab.research.google.com/github/alexpopov25/alexpopov25/blob/study-projects/Project_3_Research_of_apartment_sale_ads.ipynb\" target=\"_parent\"><img src=\"https://colab.research.google.com/assets/colab-badge.svg\" alt=\"Open In Colab\"/></a>"
      ]
    },
    {
      "cell_type": "markdown",
      "metadata": {
        "toc": true,
        "id": "e9y7lHeVrskV"
      },
      "source": [
        "<h1>Содержание<span class=\"tocSkip\"></span></h1>\n",
        "<div class=\"toc\"><ul class=\"toc-item\"><li><span><a href=\"#Открываем-файл-с-данными-и-изучаем-общую-информацию\" data-toc-modified-id=\"Открываем-файл-с-данными-и-изучаем-общую-информацию-1\"><span class=\"toc-item-num\">1&nbsp;&nbsp;</span>Открываем файл с данными и изучаем общую информацию</a></span></li><li><span><a href=\"#Выполняем-предобработку-данных\" data-toc-modified-id=\"Выполняем-предобработку-данных-2\"><span class=\"toc-item-num\">2&nbsp;&nbsp;</span>Выполняем предобработку данных</a></span></li><li><span><a href=\"#Добавляем-в-таблицу-новые-столбцы\" data-toc-modified-id=\"Добавляем-в-таблицу-новые-столбцы-3\"><span class=\"toc-item-num\">3&nbsp;&nbsp;</span>Добавляем в таблицу новые столбцы</a></span></li><li><span><a href=\"#Проводим-исследовательский-анализ-данных\" data-toc-modified-id=\"Проводим-исследовательский-анализ-данных-4\"><span class=\"toc-item-num\">4&nbsp;&nbsp;</span>Проводим исследовательский анализ данных</a></span><ul class=\"toc-item\"><li><span><a href=\"#Изучение-основных-параметров-объектов-недвижимости\" data-toc-modified-id=\"Изучение-основных-параметров-объектов-недвижимости-4.1\"><span class=\"toc-item-num\">4.1&nbsp;&nbsp;</span>Изучение основных параметров объектов недвижимости</a></span><ul class=\"toc-item\"><li><span><a href=\"#Анализ-общей-площади-объектов-недвижимости-в-объявлениях\" data-toc-modified-id=\"Анализ-общей-площади-объектов-недвижимости-в-объявлениях-4.1.1\"><span class=\"toc-item-num\">4.1.1&nbsp;&nbsp;</span>Анализ общей площади объектов недвижимости в объявлениях</a></span></li><li><span><a href=\"#Анализ-жилой-площади-объектов-недвижимости-в-объявлениях\" data-toc-modified-id=\"Анализ-жилой-площади-объектов-недвижимости-в-объявлениях-4.1.2\"><span class=\"toc-item-num\">4.1.2&nbsp;&nbsp;</span>Анализ жилой площади объектов недвижимости в объявлениях</a></span></li><li><span><a href=\"#Анализ-площади-кухонь-в-объектах-недвижимости\" data-toc-modified-id=\"Анализ-площади-кухонь-в-объектах-недвижимости-4.1.3\"><span class=\"toc-item-num\">4.1.3&nbsp;&nbsp;</span>Анализ площади кухонь в объектах недвижимости</a></span></li><li><span><a href=\"#Анализ-цен-на-квартиры-на-момент-снятия-объявления\" data-toc-modified-id=\"Анализ-цен-на-квартиры-на-момент-снятия-объявления-4.1.4\"><span class=\"toc-item-num\">4.1.4&nbsp;&nbsp;</span>Анализ цен на квартиры на момент снятия объявления</a></span></li><li><span><a href=\"#Анализ-количества-комнат-квартир-в-объявлениях\" data-toc-modified-id=\"Анализ-количества-комнат-квартир-в-объявлениях-4.1.5\"><span class=\"toc-item-num\">4.1.5&nbsp;&nbsp;</span>Анализ количества комнат квартир в объявлениях</a></span></li><li><span><a href=\"#Анализ-высоты-потолков-квартир-в-объявлениях\" data-toc-modified-id=\"Анализ-высоты-потолков-квартир-в-объявлениях-4.1.6\"><span class=\"toc-item-num\">4.1.6&nbsp;&nbsp;</span>Анализ высоты потолков квартир в объявлениях</a></span></li><li><span><a href=\"#Анализ-распределения-квартир-по-типу-этажа\" data-toc-modified-id=\"Анализ-распределения-квартир-по-типу-этажа-4.1.7\"><span class=\"toc-item-num\">4.1.7&nbsp;&nbsp;</span>Анализ распределения квартир по типу этажа</a></span></li><li><span><a href=\"#Анализ-этажности-домов\" data-toc-modified-id=\"Анализ-этажности-домов-4.1.8\"><span class=\"toc-item-num\">4.1.8&nbsp;&nbsp;</span>Анализ этажности домов</a></span></li><li><span><a href=\"#Анализ-удалённости-квартир-от-центра-города\" data-toc-modified-id=\"Анализ-удалённости-квартир-от-центра-города-4.1.9\"><span class=\"toc-item-num\">4.1.9&nbsp;&nbsp;</span>Анализ удалённости квартир от центра города</a></span></li><li><span><a href=\"#Анализ-удалённости-квартир-от-парков\" data-toc-modified-id=\"Анализ-удалённости-квартир-от-парков-4.1.10\"><span class=\"toc-item-num\">4.1.10&nbsp;&nbsp;</span>Анализ удалённости квартир от парков</a></span></li></ul></li><li><span><a href=\"#Изучение-скорости-продажи-квартир\" data-toc-modified-id=\"Изучение-скорости-продажи-квартир-4.2\"><span class=\"toc-item-num\">4.2&nbsp;&nbsp;</span>Изучение скорости продажи квартир</a></span></li><li><span><a href=\"#Определение-факторов,-которые-больше-всего-влияют-на-общую-стоимость-объекта\" data-toc-modified-id=\"Определение-факторов,-которые-больше-всего-влияют-на-общую-стоимость-объекта-4.3\"><span class=\"toc-item-num\">4.3&nbsp;&nbsp;</span>Определение факторов, которые больше всего влияют на общую стоимость объекта</a></span></li><li><span><a href=\"#Подсчёт-средней-цены-одного-квадратного-метра-в-десяти-населённых-пунктах-с-наибольшим-числом-объявлений\" data-toc-modified-id=\"Подсчёт-средней-цены-одного-квадратного-метра-в-десяти-населённых-пунктах-с-наибольшим-числом-объявлений-4.4\"><span class=\"toc-item-num\">4.4&nbsp;&nbsp;</span>Подсчёт средней цены одного квадратного метра в десяти населённых пунктах с наибольшим числом объявлений</a></span></li><li><span><a href=\"#Изучение-средней-стоимости-квартир-на-разном-удалении-их-от-центра-Санкт-Петербурга\" data-toc-modified-id=\"Изучение-средней-стоимости-квартир-на-разном-удалении-их-от-центра-Санкт-Петербурга-4.5\"><span class=\"toc-item-num\">4.5&nbsp;&nbsp;</span>Изучение средней стоимости квартир на разном удалении их от центра Санкт-Петербурга</a></span></li></ul></li><li><span><a href=\"#Общий-вывод-и-рекомендации\" data-toc-modified-id=\"Общий-вывод-и-рекомендации-5\"><span class=\"toc-item-num\">5&nbsp;&nbsp;</span>Общий вывод и рекомендации</a></span></li></ul></div>"
      ]
    },
    {
      "cell_type": "markdown",
      "metadata": {
        "id": "-VFbjcb3Awb7"
      },
      "source": [
        "# Исследование объявлений о продаже квартир\n",
        "\n",
        "В вашем распоряжении данные сервиса Яндекс Недвижимость — архив объявлений о продаже квартир в Санкт-Петербурге и соседних населённых пунктах за несколько лет. Вам нужно научиться определять рыночную стоимость объектов недвижимости. Для этого проведите исследовательский анализ данных и установите параметры, влияющие на цену объектов. Это позволит построить автоматизированную систему: она отследит аномалии и мошенническую деятельность.\n",
        "\n",
        "По каждой квартире на продажу доступны два вида данных. Первые вписаны пользователем, вторые — получены автоматически на основе картографических данных. Например, расстояние до центра, аэропорта и других объектов — эти данные автоматически получены из геосервисов. Количество парков и водоёмов также заполняется без участия пользователя."
      ]
    },
    {
      "cell_type": "markdown",
      "metadata": {
        "id": "aeFLH07FAwb9"
      },
      "source": [
        "### Открываем файл с данными и изучаем общую информацию"
      ]
    },
    {
      "cell_type": "code",
      "execution_count": null,
      "metadata": {
        "id": "7MZxY65pAwb9",
        "scrolled": true,
        "outputId": "d0bf7946-6590-4f1e-b54f-f151d2abdac7"
      },
      "outputs": [
        {
          "data": {
            "text/html": [
              "<div>\n",
              "<style scoped>\n",
              "    .dataframe tbody tr th:only-of-type {\n",
              "        vertical-align: middle;\n",
              "    }\n",
              "\n",
              "    .dataframe tbody tr th {\n",
              "        vertical-align: top;\n",
              "    }\n",
              "\n",
              "    .dataframe thead th {\n",
              "        text-align: right;\n",
              "    }\n",
              "</style>\n",
              "<table border=\"1\" class=\"dataframe\">\n",
              "  <thead>\n",
              "    <tr style=\"text-align: right;\">\n",
              "      <th></th>\n",
              "      <th>total_images</th>\n",
              "      <th>last_price</th>\n",
              "      <th>total_area</th>\n",
              "      <th>first_day_exposition</th>\n",
              "      <th>rooms</th>\n",
              "      <th>ceiling_height</th>\n",
              "      <th>floors_total</th>\n",
              "      <th>living_area</th>\n",
              "      <th>floor</th>\n",
              "      <th>is_apartment</th>\n",
              "      <th>studio</th>\n",
              "      <th>open_plan</th>\n",
              "      <th>kitchen_area</th>\n",
              "      <th>balcony</th>\n",
              "      <th>locality_name</th>\n",
              "      <th>airports_nearest</th>\n",
              "      <th>cityCenters_nearest</th>\n",
              "      <th>parks_around3000</th>\n",
              "      <th>parks_nearest</th>\n",
              "      <th>ponds_around3000</th>\n",
              "      <th>ponds_nearest</th>\n",
              "      <th>days_exposition</th>\n",
              "    </tr>\n",
              "  </thead>\n",
              "  <tbody>\n",
              "    <tr>\n",
              "      <th>0</th>\n",
              "      <td>20</td>\n",
              "      <td>13000000.0</td>\n",
              "      <td>108.0</td>\n",
              "      <td>2019-03-07T00:00:00</td>\n",
              "      <td>3</td>\n",
              "      <td>2.70</td>\n",
              "      <td>16.0</td>\n",
              "      <td>51.0</td>\n",
              "      <td>8</td>\n",
              "      <td>NaN</td>\n",
              "      <td>False</td>\n",
              "      <td>False</td>\n",
              "      <td>25.0</td>\n",
              "      <td>NaN</td>\n",
              "      <td>Санкт-Петербург</td>\n",
              "      <td>18863.0</td>\n",
              "      <td>16028.0</td>\n",
              "      <td>1.0</td>\n",
              "      <td>482.0</td>\n",
              "      <td>2.0</td>\n",
              "      <td>755.0</td>\n",
              "      <td>NaN</td>\n",
              "    </tr>\n",
              "    <tr>\n",
              "      <th>1</th>\n",
              "      <td>7</td>\n",
              "      <td>3350000.0</td>\n",
              "      <td>40.4</td>\n",
              "      <td>2018-12-04T00:00:00</td>\n",
              "      <td>1</td>\n",
              "      <td>NaN</td>\n",
              "      <td>11.0</td>\n",
              "      <td>18.6</td>\n",
              "      <td>1</td>\n",
              "      <td>NaN</td>\n",
              "      <td>False</td>\n",
              "      <td>False</td>\n",
              "      <td>11.0</td>\n",
              "      <td>2.0</td>\n",
              "      <td>посёлок Шушары</td>\n",
              "      <td>12817.0</td>\n",
              "      <td>18603.0</td>\n",
              "      <td>0.0</td>\n",
              "      <td>NaN</td>\n",
              "      <td>0.0</td>\n",
              "      <td>NaN</td>\n",
              "      <td>81.0</td>\n",
              "    </tr>\n",
              "    <tr>\n",
              "      <th>2</th>\n",
              "      <td>10</td>\n",
              "      <td>5196000.0</td>\n",
              "      <td>56.0</td>\n",
              "      <td>2015-08-20T00:00:00</td>\n",
              "      <td>2</td>\n",
              "      <td>NaN</td>\n",
              "      <td>5.0</td>\n",
              "      <td>34.3</td>\n",
              "      <td>4</td>\n",
              "      <td>NaN</td>\n",
              "      <td>False</td>\n",
              "      <td>False</td>\n",
              "      <td>8.3</td>\n",
              "      <td>0.0</td>\n",
              "      <td>Санкт-Петербург</td>\n",
              "      <td>21741.0</td>\n",
              "      <td>13933.0</td>\n",
              "      <td>1.0</td>\n",
              "      <td>90.0</td>\n",
              "      <td>2.0</td>\n",
              "      <td>574.0</td>\n",
              "      <td>558.0</td>\n",
              "    </tr>\n",
              "    <tr>\n",
              "      <th>3</th>\n",
              "      <td>0</td>\n",
              "      <td>64900000.0</td>\n",
              "      <td>159.0</td>\n",
              "      <td>2015-07-24T00:00:00</td>\n",
              "      <td>3</td>\n",
              "      <td>NaN</td>\n",
              "      <td>14.0</td>\n",
              "      <td>NaN</td>\n",
              "      <td>9</td>\n",
              "      <td>NaN</td>\n",
              "      <td>False</td>\n",
              "      <td>False</td>\n",
              "      <td>NaN</td>\n",
              "      <td>0.0</td>\n",
              "      <td>Санкт-Петербург</td>\n",
              "      <td>28098.0</td>\n",
              "      <td>6800.0</td>\n",
              "      <td>2.0</td>\n",
              "      <td>84.0</td>\n",
              "      <td>3.0</td>\n",
              "      <td>234.0</td>\n",
              "      <td>424.0</td>\n",
              "    </tr>\n",
              "    <tr>\n",
              "      <th>4</th>\n",
              "      <td>2</td>\n",
              "      <td>10000000.0</td>\n",
              "      <td>100.0</td>\n",
              "      <td>2018-06-19T00:00:00</td>\n",
              "      <td>2</td>\n",
              "      <td>3.03</td>\n",
              "      <td>14.0</td>\n",
              "      <td>32.0</td>\n",
              "      <td>13</td>\n",
              "      <td>NaN</td>\n",
              "      <td>False</td>\n",
              "      <td>False</td>\n",
              "      <td>41.0</td>\n",
              "      <td>NaN</td>\n",
              "      <td>Санкт-Петербург</td>\n",
              "      <td>31856.0</td>\n",
              "      <td>8098.0</td>\n",
              "      <td>2.0</td>\n",
              "      <td>112.0</td>\n",
              "      <td>1.0</td>\n",
              "      <td>48.0</td>\n",
              "      <td>121.0</td>\n",
              "    </tr>\n",
              "  </tbody>\n",
              "</table>\n",
              "</div>"
            ],
            "text/plain": [
              "   total_images  last_price  total_area first_day_exposition  rooms  \\\n",
              "0            20  13000000.0       108.0  2019-03-07T00:00:00      3   \n",
              "1             7   3350000.0        40.4  2018-12-04T00:00:00      1   \n",
              "2            10   5196000.0        56.0  2015-08-20T00:00:00      2   \n",
              "3             0  64900000.0       159.0  2015-07-24T00:00:00      3   \n",
              "4             2  10000000.0       100.0  2018-06-19T00:00:00      2   \n",
              "\n",
              "   ceiling_height  floors_total  living_area  floor is_apartment  studio  \\\n",
              "0            2.70          16.0         51.0      8          NaN   False   \n",
              "1             NaN          11.0         18.6      1          NaN   False   \n",
              "2             NaN           5.0         34.3      4          NaN   False   \n",
              "3             NaN          14.0          NaN      9          NaN   False   \n",
              "4            3.03          14.0         32.0     13          NaN   False   \n",
              "\n",
              "   open_plan  kitchen_area  balcony    locality_name  airports_nearest  \\\n",
              "0      False          25.0      NaN  Санкт-Петербург           18863.0   \n",
              "1      False          11.0      2.0   посёлок Шушары           12817.0   \n",
              "2      False           8.3      0.0  Санкт-Петербург           21741.0   \n",
              "3      False           NaN      0.0  Санкт-Петербург           28098.0   \n",
              "4      False          41.0      NaN  Санкт-Петербург           31856.0   \n",
              "\n",
              "   cityCenters_nearest  parks_around3000  parks_nearest  ponds_around3000  \\\n",
              "0              16028.0               1.0          482.0               2.0   \n",
              "1              18603.0               0.0            NaN               0.0   \n",
              "2              13933.0               1.0           90.0               2.0   \n",
              "3               6800.0               2.0           84.0               3.0   \n",
              "4               8098.0               2.0          112.0               1.0   \n",
              "\n",
              "   ponds_nearest  days_exposition  \n",
              "0          755.0              NaN  \n",
              "1            NaN             81.0  \n",
              "2          574.0            558.0  \n",
              "3          234.0            424.0  \n",
              "4           48.0            121.0  "
            ]
          },
          "execution_count": 1,
          "metadata": {},
          "output_type": "execute_result"
        }
      ],
      "source": [
        "# загружаем необходимые библиотеки и открываем файл, применяя разделитель для корректной выгрузки данных csv файла\n",
        "\n",
        "import pandas as pd\n",
        "import matplotlib.pyplot as plt\n",
        "\n",
        "# применяем опцию для показа всех колонок в датасете, выводим первые строки таблицы\n",
        "\n",
        "data = pd.read_csv('/datasets/real_estate_data.csv', sep='\\t')\n",
        "pd.set_option('display.max_columns', None)\n",
        "data.head()"
      ]
    },
    {
      "cell_type": "markdown",
      "metadata": {
        "id": "41KMp4okrskk"
      },
      "source": [
        "При первом обзоре обнаруживаем различные типы данных в колонках, а также колонки с пропусками в данных.\n"
      ]
    },
    {
      "cell_type": "code",
      "execution_count": null,
      "metadata": {
        "id": "FSEIv2gCrskk",
        "outputId": "0fad9783-e48a-4fea-9e86-a6503be3f87c"
      },
      "outputs": [
        {
          "name": "stdout",
          "output_type": "stream",
          "text": [
            "<class 'pandas.core.frame.DataFrame'>\n",
            "RangeIndex: 23699 entries, 0 to 23698\n",
            "Data columns (total 22 columns):\n",
            " #   Column                Non-Null Count  Dtype  \n",
            "---  ------                --------------  -----  \n",
            " 0   total_images          23699 non-null  int64  \n",
            " 1   last_price            23699 non-null  float64\n",
            " 2   total_area            23699 non-null  float64\n",
            " 3   first_day_exposition  23699 non-null  object \n",
            " 4   rooms                 23699 non-null  int64  \n",
            " 5   ceiling_height        14504 non-null  float64\n",
            " 6   floors_total          23613 non-null  float64\n",
            " 7   living_area           21796 non-null  float64\n",
            " 8   floor                 23699 non-null  int64  \n",
            " 9   is_apartment          2775 non-null   object \n",
            " 10  studio                23699 non-null  bool   \n",
            " 11  open_plan             23699 non-null  bool   \n",
            " 12  kitchen_area          21421 non-null  float64\n",
            " 13  balcony               12180 non-null  float64\n",
            " 14  locality_name         23650 non-null  object \n",
            " 15  airports_nearest      18157 non-null  float64\n",
            " 16  cityCenters_nearest   18180 non-null  float64\n",
            " 17  parks_around3000      18181 non-null  float64\n",
            " 18  parks_nearest         8079 non-null   float64\n",
            " 19  ponds_around3000      18181 non-null  float64\n",
            " 20  ponds_nearest         9110 non-null   float64\n",
            " 21  days_exposition       20518 non-null  float64\n",
            "dtypes: bool(2), float64(14), int64(3), object(3)\n",
            "memory usage: 3.7+ MB\n"
          ]
        }
      ],
      "source": [
        "# выводим общую информацию о датасете и типе данных в нём\n",
        "\n",
        "data.info()"
      ]
    },
    {
      "cell_type": "markdown",
      "metadata": {
        "id": "K23vRWbIrskk"
      },
      "source": [
        "Видим, что действительно, данные представляют собой в основном дробные и целые числа, булевы значения, а также текстовые либо смешанные значения. Весь датасет состоит из 23699 строк и 22 колонок, только 10 из них - без пропусков в данных.\n",
        "\n",
        "В колонке \"first_day_exposition\" ожидалось значение дата и времени, однако в ней оказались смешанные данные, необходимо будет сменить тип данных на следующем этапе. В колонке \"is_apartment\" ожидалось булево значение, однако колонка практически вся с пропусками, будем исправлять на следующем шаге. Количество балконов, этажей и дней лучше заменить на целочисленные данные. Имеются пропуски в колонках с площадью кухонь, жилой площадью и высотой потолков - важнейших параметрах для недвижимости. Работа с ними предстоит также на следующем этапе."
      ]
    },
    {
      "cell_type": "code",
      "execution_count": null,
      "metadata": {
        "id": "rl1BcajPrskk",
        "outputId": "93a9f161-c047-437c-d60a-dc518d9c5e88"
      },
      "outputs": [
        {
          "data": {
            "text/html": [
              "<div>\n",
              "<style scoped>\n",
              "    .dataframe tbody tr th:only-of-type {\n",
              "        vertical-align: middle;\n",
              "    }\n",
              "\n",
              "    .dataframe tbody tr th {\n",
              "        vertical-align: top;\n",
              "    }\n",
              "\n",
              "    .dataframe thead th {\n",
              "        text-align: right;\n",
              "    }\n",
              "</style>\n",
              "<table border=\"1\" class=\"dataframe\">\n",
              "  <thead>\n",
              "    <tr style=\"text-align: right;\">\n",
              "      <th></th>\n",
              "      <th>total_images</th>\n",
              "      <th>last_price</th>\n",
              "      <th>total_area</th>\n",
              "      <th>rooms</th>\n",
              "      <th>ceiling_height</th>\n",
              "      <th>floors_total</th>\n",
              "      <th>living_area</th>\n",
              "      <th>floor</th>\n",
              "      <th>kitchen_area</th>\n",
              "      <th>balcony</th>\n",
              "      <th>airports_nearest</th>\n",
              "      <th>cityCenters_nearest</th>\n",
              "      <th>parks_around3000</th>\n",
              "      <th>parks_nearest</th>\n",
              "      <th>ponds_around3000</th>\n",
              "      <th>ponds_nearest</th>\n",
              "      <th>days_exposition</th>\n",
              "    </tr>\n",
              "  </thead>\n",
              "  <tbody>\n",
              "    <tr>\n",
              "      <th>count</th>\n",
              "      <td>23699.000000</td>\n",
              "      <td>2.369900e+04</td>\n",
              "      <td>23699.000000</td>\n",
              "      <td>23699.000000</td>\n",
              "      <td>14504.000000</td>\n",
              "      <td>23613.000000</td>\n",
              "      <td>21796.000000</td>\n",
              "      <td>23699.000000</td>\n",
              "      <td>21421.000000</td>\n",
              "      <td>12180.000000</td>\n",
              "      <td>18157.000000</td>\n",
              "      <td>18180.000000</td>\n",
              "      <td>18181.000000</td>\n",
              "      <td>8079.000000</td>\n",
              "      <td>18181.000000</td>\n",
              "      <td>9110.000000</td>\n",
              "      <td>20518.000000</td>\n",
              "    </tr>\n",
              "    <tr>\n",
              "      <th>mean</th>\n",
              "      <td>9.858475</td>\n",
              "      <td>6.541549e+06</td>\n",
              "      <td>60.348651</td>\n",
              "      <td>2.070636</td>\n",
              "      <td>2.771499</td>\n",
              "      <td>10.673824</td>\n",
              "      <td>34.457852</td>\n",
              "      <td>5.892358</td>\n",
              "      <td>10.569807</td>\n",
              "      <td>1.150082</td>\n",
              "      <td>28793.672193</td>\n",
              "      <td>14191.277833</td>\n",
              "      <td>0.611408</td>\n",
              "      <td>490.804555</td>\n",
              "      <td>0.770255</td>\n",
              "      <td>517.980900</td>\n",
              "      <td>180.888634</td>\n",
              "    </tr>\n",
              "    <tr>\n",
              "      <th>std</th>\n",
              "      <td>5.682529</td>\n",
              "      <td>1.088701e+07</td>\n",
              "      <td>35.654083</td>\n",
              "      <td>1.078405</td>\n",
              "      <td>1.261056</td>\n",
              "      <td>6.597173</td>\n",
              "      <td>22.030445</td>\n",
              "      <td>4.885249</td>\n",
              "      <td>5.905438</td>\n",
              "      <td>1.071300</td>\n",
              "      <td>12630.880622</td>\n",
              "      <td>8608.386210</td>\n",
              "      <td>0.802074</td>\n",
              "      <td>342.317995</td>\n",
              "      <td>0.938346</td>\n",
              "      <td>277.720643</td>\n",
              "      <td>219.727988</td>\n",
              "    </tr>\n",
              "    <tr>\n",
              "      <th>min</th>\n",
              "      <td>0.000000</td>\n",
              "      <td>1.219000e+04</td>\n",
              "      <td>12.000000</td>\n",
              "      <td>0.000000</td>\n",
              "      <td>1.000000</td>\n",
              "      <td>1.000000</td>\n",
              "      <td>2.000000</td>\n",
              "      <td>1.000000</td>\n",
              "      <td>1.300000</td>\n",
              "      <td>0.000000</td>\n",
              "      <td>0.000000</td>\n",
              "      <td>181.000000</td>\n",
              "      <td>0.000000</td>\n",
              "      <td>1.000000</td>\n",
              "      <td>0.000000</td>\n",
              "      <td>13.000000</td>\n",
              "      <td>1.000000</td>\n",
              "    </tr>\n",
              "    <tr>\n",
              "      <th>25%</th>\n",
              "      <td>6.000000</td>\n",
              "      <td>3.400000e+06</td>\n",
              "      <td>40.000000</td>\n",
              "      <td>1.000000</td>\n",
              "      <td>2.520000</td>\n",
              "      <td>5.000000</td>\n",
              "      <td>18.600000</td>\n",
              "      <td>2.000000</td>\n",
              "      <td>7.000000</td>\n",
              "      <td>0.000000</td>\n",
              "      <td>18585.000000</td>\n",
              "      <td>9238.000000</td>\n",
              "      <td>0.000000</td>\n",
              "      <td>288.000000</td>\n",
              "      <td>0.000000</td>\n",
              "      <td>294.000000</td>\n",
              "      <td>45.000000</td>\n",
              "    </tr>\n",
              "    <tr>\n",
              "      <th>50%</th>\n",
              "      <td>9.000000</td>\n",
              "      <td>4.650000e+06</td>\n",
              "      <td>52.000000</td>\n",
              "      <td>2.000000</td>\n",
              "      <td>2.650000</td>\n",
              "      <td>9.000000</td>\n",
              "      <td>30.000000</td>\n",
              "      <td>4.000000</td>\n",
              "      <td>9.100000</td>\n",
              "      <td>1.000000</td>\n",
              "      <td>26726.000000</td>\n",
              "      <td>13098.500000</td>\n",
              "      <td>0.000000</td>\n",
              "      <td>455.000000</td>\n",
              "      <td>1.000000</td>\n",
              "      <td>502.000000</td>\n",
              "      <td>95.000000</td>\n",
              "    </tr>\n",
              "    <tr>\n",
              "      <th>75%</th>\n",
              "      <td>14.000000</td>\n",
              "      <td>6.800000e+06</td>\n",
              "      <td>69.900000</td>\n",
              "      <td>3.000000</td>\n",
              "      <td>2.800000</td>\n",
              "      <td>16.000000</td>\n",
              "      <td>42.300000</td>\n",
              "      <td>8.000000</td>\n",
              "      <td>12.000000</td>\n",
              "      <td>2.000000</td>\n",
              "      <td>37273.000000</td>\n",
              "      <td>16293.000000</td>\n",
              "      <td>1.000000</td>\n",
              "      <td>612.000000</td>\n",
              "      <td>1.000000</td>\n",
              "      <td>729.000000</td>\n",
              "      <td>232.000000</td>\n",
              "    </tr>\n",
              "    <tr>\n",
              "      <th>max</th>\n",
              "      <td>50.000000</td>\n",
              "      <td>7.630000e+08</td>\n",
              "      <td>900.000000</td>\n",
              "      <td>19.000000</td>\n",
              "      <td>100.000000</td>\n",
              "      <td>60.000000</td>\n",
              "      <td>409.700000</td>\n",
              "      <td>33.000000</td>\n",
              "      <td>112.000000</td>\n",
              "      <td>5.000000</td>\n",
              "      <td>84869.000000</td>\n",
              "      <td>65968.000000</td>\n",
              "      <td>3.000000</td>\n",
              "      <td>3190.000000</td>\n",
              "      <td>3.000000</td>\n",
              "      <td>1344.000000</td>\n",
              "      <td>1580.000000</td>\n",
              "    </tr>\n",
              "  </tbody>\n",
              "</table>\n",
              "</div>"
            ],
            "text/plain": [
              "       total_images    last_price    total_area         rooms  ceiling_height  \\\n",
              "count  23699.000000  2.369900e+04  23699.000000  23699.000000    14504.000000   \n",
              "mean       9.858475  6.541549e+06     60.348651      2.070636        2.771499   \n",
              "std        5.682529  1.088701e+07     35.654083      1.078405        1.261056   \n",
              "min        0.000000  1.219000e+04     12.000000      0.000000        1.000000   \n",
              "25%        6.000000  3.400000e+06     40.000000      1.000000        2.520000   \n",
              "50%        9.000000  4.650000e+06     52.000000      2.000000        2.650000   \n",
              "75%       14.000000  6.800000e+06     69.900000      3.000000        2.800000   \n",
              "max       50.000000  7.630000e+08    900.000000     19.000000      100.000000   \n",
              "\n",
              "       floors_total   living_area         floor  kitchen_area       balcony  \\\n",
              "count  23613.000000  21796.000000  23699.000000  21421.000000  12180.000000   \n",
              "mean      10.673824     34.457852      5.892358     10.569807      1.150082   \n",
              "std        6.597173     22.030445      4.885249      5.905438      1.071300   \n",
              "min        1.000000      2.000000      1.000000      1.300000      0.000000   \n",
              "25%        5.000000     18.600000      2.000000      7.000000      0.000000   \n",
              "50%        9.000000     30.000000      4.000000      9.100000      1.000000   \n",
              "75%       16.000000     42.300000      8.000000     12.000000      2.000000   \n",
              "max       60.000000    409.700000     33.000000    112.000000      5.000000   \n",
              "\n",
              "       airports_nearest  cityCenters_nearest  parks_around3000  parks_nearest  \\\n",
              "count      18157.000000         18180.000000      18181.000000    8079.000000   \n",
              "mean       28793.672193         14191.277833          0.611408     490.804555   \n",
              "std        12630.880622          8608.386210          0.802074     342.317995   \n",
              "min            0.000000           181.000000          0.000000       1.000000   \n",
              "25%        18585.000000          9238.000000          0.000000     288.000000   \n",
              "50%        26726.000000         13098.500000          0.000000     455.000000   \n",
              "75%        37273.000000         16293.000000          1.000000     612.000000   \n",
              "max        84869.000000         65968.000000          3.000000    3190.000000   \n",
              "\n",
              "       ponds_around3000  ponds_nearest  days_exposition  \n",
              "count      18181.000000    9110.000000     20518.000000  \n",
              "mean           0.770255     517.980900       180.888634  \n",
              "std            0.938346     277.720643       219.727988  \n",
              "min            0.000000      13.000000         1.000000  \n",
              "25%            0.000000     294.000000        45.000000  \n",
              "50%            1.000000     502.000000        95.000000  \n",
              "75%            1.000000     729.000000       232.000000  \n",
              "max            3.000000    1344.000000      1580.000000  "
            ]
          },
          "execution_count": 3,
          "metadata": {},
          "output_type": "execute_result"
        }
      ],
      "source": [
        "# сгенерируем описательную статистику для числовых столбцов, чтобы получить первые представления о количественных диапазонах\n",
        "\n",
        "data.describe()"
      ]
    },
    {
      "cell_type": "markdown",
      "metadata": {
        "id": "Lh1N0tJdrskk"
      },
      "source": [
        "Описательная статистика сразу выводит как средние значения в числовых столбцах, так и выдающиеся значения, которые нельзя не заметить: квартиры с 19 комнатами, площадью 900 кв.м., высотой потолков 100 метров, а также на 60 этаже. Возможно, это одна и та же квартира, придётся выяснить!\n",
        "\n",
        "Также можно обнаружить квартиры без комнат, а высотой потолков в 1 метр (комната Гарри Поттера под лестницей, видимо расположена в Санкт-Петербурге и готова к продаже!). Да и 1580 дней экспозиции квартиры для продажи, а это более 4 лет - тоже выдающееся значение (возможно, это и есть \"та самая\" комната).\n",
        "\n",
        "Для большей наглядности, построим гистограммы для числовых значений:\n"
      ]
    },
    {
      "cell_type": "code",
      "execution_count": null,
      "metadata": {
        "id": "XMJSC5WSrskk",
        "outputId": "fc101a58-c208-4335-f510-09e744d57aad"
      },
      "outputs": [
        {
          "data": {
            "image/png": "[encoded data removed]",
            "text/plain": [
              "<Figure size 1080x1440 with 20 Axes>"
            ]
          },
          "metadata": {
            "needs_background": "light"
          },
          "output_type": "display_data"
        }
      ],
      "source": [
        "data.hist(figsize=(15, 20))\n",
        "plt.show()"
      ]
    },
    {
      "cell_type": "markdown",
      "metadata": {
        "id": "oX2SC8Zyrskk"
      },
      "source": [
        "Гистограммы наглядно показывают, что наши опасения оказались не напрасны и числовые колонки содержат выдающиеся значения, которые могут негативно повлиять на выводы исследования. Например, есть данные об очень дорогих и больших квартирах, которые выбиваются из общих значений, а с высотой потолков какая-то явная проблема в данных.\n",
        "\n",
        "На гистограмме цены продажи квартир - более 20 тысяч значений - не более 1,5 млн рублей, однако на графике цена на некоторые из них доходит до 8 млн. На следующих этапах придётся избавляться от экстремальных значений, заполнять пропуски в данных и корректировать тип значений в датасете.\n",
        "\n",
        "Причём данные в колонках, которые формировались автоматически - в большинстве своём распределения  в них похожи на нормальные и, возможно, не требуют коррекции.\n",
        "\n",
        "**Вывод:** предоставленные данные имеют некоторые отклонения и пропуски, которые можно устранить программными методами. В целом датасет достаточной объёмный, имеет различные данные об объектах недвижимости, которые представляют исследовательский интерес, и пригоден для анализа."
      ]
    },
    {
      "cell_type": "markdown",
      "metadata": {
        "id": "-O5NtivEAwb9"
      },
      "source": [
        "### Выполняем предобработку данных"
      ]
    },
    {
      "cell_type": "markdown",
      "metadata": {
        "id": "ftrbqGfUrskk"
      },
      "source": [
        "На этом этапе мы попытаемся привести датафрейм в порядок, произведём косметические и качественные преобразования, заполним пропуски где это возможно и обработаем аномалии."
      ]
    },
    {
      "cell_type": "code",
      "execution_count": null,
      "metadata": {
        "id": "7v3vAeTuAwb-",
        "outputId": "ee1fa55a-c0da-4cdd-8eff-f252eaccaee5"
      },
      "outputs": [
        {
          "data": {
            "text/plain": [
              "0"
            ]
          },
          "execution_count": 5,
          "metadata": {},
          "output_type": "execute_result"
        }
      ],
      "source": [
        "# проверим количество дубликатов\n",
        "\n",
        "data.duplicated().sum()"
      ]
    },
    {
      "cell_type": "code",
      "execution_count": null,
      "metadata": {
        "id": "zsTOgSSXrskk",
        "outputId": "511c1adc-9470-4570-e93e-7a9fbe36ff09"
      },
      "outputs": [
        {
          "name": "stdout",
          "output_type": "stream",
          "text": [
            "total_images                0\n",
            "last_price                  0\n",
            "total_area                  0\n",
            "first_day_exposition        0\n",
            "rooms                       0\n",
            "ceiling_height           9195\n",
            "floors_total               86\n",
            "living_area              1903\n",
            "floor                       0\n",
            "is_apartment            20924\n",
            "studio                      0\n",
            "open_plan                   0\n",
            "kitchen_area             2278\n",
            "balcony                 11519\n",
            "locality_name              49\n",
            "airports_nearest         5542\n",
            "cityCenters_nearest      5519\n",
            "parks_around3000         5518\n",
            "parks_nearest           15620\n",
            "ponds_around3000         5518\n",
            "ponds_nearest           14589\n",
            "days_exposition          3181\n",
            "dtype: int64\n",
            "\n",
            "total_images             0.000000\n",
            "last_price               0.000000\n",
            "total_area               0.000000\n",
            "first_day_exposition     0.000000\n",
            "rooms                    0.000000\n",
            "ceiling_height          38.799105\n",
            "floors_total             0.362885\n",
            "living_area              8.029875\n",
            "floor                    0.000000\n",
            "is_apartment            88.290645\n",
            "studio                   0.000000\n",
            "open_plan                0.000000\n",
            "kitchen_area             9.612220\n",
            "balcony                 48.605426\n",
            "locality_name            0.206760\n",
            "airports_nearest        23.384953\n",
            "cityCenters_nearest     23.287902\n",
            "parks_around3000        23.283683\n",
            "parks_nearest           65.909954\n",
            "ponds_around3000        23.283683\n",
            "ponds_nearest           61.559559\n",
            "days_exposition         13.422507\n",
            "dtype: float64\n"
          ]
        }
      ],
      "source": [
        "# дублирующих строчек не найдено, ищем столбцы с пропусками\n",
        "\n",
        "print(data.isna().sum())\n",
        "print()\n",
        "print(data.isnull().mean() * 100)\n",
        "\n",
        "temp_1=data.isnull().mean() * 100\n",
        "\n",
        "temp_2=data.isnull().sum()\n",
        "\n",
        "temp_df_1 = pd.DataFrame(temp_1.reset_index().values, columns=[\"columns\", \"percent\"]) # из результатов кода\n",
        "temp_df_2 = pd.DataFrame(temp_2.reset_index().values, columns=[\"columns\", \"count\"]) # создаем два датафрейма\n",
        "\n",
        "merged_temp = temp_df_1.merge(temp_df_2, how='inner', on='columns') # объединяем два датафрейма в один\n",
        "display(merged_temp)"
      ]
    },
    {
      "cell_type": "markdown",
      "metadata": {
        "id": "X3QixCL1rskk"
      },
      "source": [
        "Как мы видим, большое число пропусков в важных характеристиках квартир в столбцах \"ceiling_height\", \"is_apartment\", \"balcony\", \"kitchen_area\", \"days_exposition\". Последовательно заполним пропуски в этих значениях.\n",
        "\n",
        "Пропуски в столбцах, заполняемых автоматически, заполнять не корректно, возможно, геосервис заполнил данные только там, где это возможно. Заполнять эти пропуски своими данными было бы неприемлемо."
      ]
    },
    {
      "cell_type": "code",
      "execution_count": null,
      "metadata": {
        "id": "5Pwgu6Firskk",
        "outputId": "f7bbe8b5-e826-4435-8959-4d43fc9aae75"
      },
      "outputs": [
        {
          "data": {
            "text/html": [
              "<div>\n",
              "<style scoped>\n",
              "    .dataframe tbody tr th:only-of-type {\n",
              "        vertical-align: middle;\n",
              "    }\n",
              "\n",
              "    .dataframe tbody tr th {\n",
              "        vertical-align: top;\n",
              "    }\n",
              "\n",
              "    .dataframe thead th {\n",
              "        text-align: right;\n",
              "    }\n",
              "</style>\n",
              "<table border=\"1\" class=\"dataframe\">\n",
              "  <thead>\n",
              "    <tr style=\"text-align: right;\">\n",
              "      <th></th>\n",
              "      <th>total_images</th>\n",
              "      <th>last_price</th>\n",
              "      <th>total_area</th>\n",
              "      <th>first_day_exposition</th>\n",
              "      <th>rooms</th>\n",
              "      <th>ceiling_height</th>\n",
              "      <th>floors_total</th>\n",
              "      <th>living_area</th>\n",
              "      <th>floor</th>\n",
              "      <th>is_apartment</th>\n",
              "      <th>studio</th>\n",
              "      <th>open_plan</th>\n",
              "      <th>kitchen_area</th>\n",
              "      <th>balcony</th>\n",
              "      <th>locality_name</th>\n",
              "      <th>airports_nearest</th>\n",
              "      <th>city_centers_nearest</th>\n",
              "      <th>parks_around3000</th>\n",
              "      <th>parks_nearest</th>\n",
              "      <th>ponds_around3000</th>\n",
              "      <th>ponds_nearest</th>\n",
              "      <th>days_exposition</th>\n",
              "    </tr>\n",
              "  </thead>\n",
              "  <tbody>\n",
              "    <tr>\n",
              "      <th>23694</th>\n",
              "      <td>9</td>\n",
              "      <td>9700000.0</td>\n",
              "      <td>133.81</td>\n",
              "      <td>2017-03-21</td>\n",
              "      <td>3</td>\n",
              "      <td>3.7</td>\n",
              "      <td>5.0</td>\n",
              "      <td>73.3</td>\n",
              "      <td>3</td>\n",
              "      <td>NaN</td>\n",
              "      <td>False</td>\n",
              "      <td>False</td>\n",
              "      <td>13.83</td>\n",
              "      <td>NaN</td>\n",
              "      <td>Санкт-Петербург</td>\n",
              "      <td>24665.0</td>\n",
              "      <td>4232.0</td>\n",
              "      <td>1.0</td>\n",
              "      <td>796.0</td>\n",
              "      <td>3.0</td>\n",
              "      <td>381.0</td>\n",
              "      <td>NaN</td>\n",
              "    </tr>\n",
              "    <tr>\n",
              "      <th>23695</th>\n",
              "      <td>14</td>\n",
              "      <td>3100000.0</td>\n",
              "      <td>59.00</td>\n",
              "      <td>2018-01-15</td>\n",
              "      <td>3</td>\n",
              "      <td>NaN</td>\n",
              "      <td>5.0</td>\n",
              "      <td>38.0</td>\n",
              "      <td>4</td>\n",
              "      <td>NaN</td>\n",
              "      <td>False</td>\n",
              "      <td>False</td>\n",
              "      <td>8.50</td>\n",
              "      <td>NaN</td>\n",
              "      <td>Тосно</td>\n",
              "      <td>NaN</td>\n",
              "      <td>NaN</td>\n",
              "      <td>NaN</td>\n",
              "      <td>NaN</td>\n",
              "      <td>NaN</td>\n",
              "      <td>NaN</td>\n",
              "      <td>45.0</td>\n",
              "    </tr>\n",
              "    <tr>\n",
              "      <th>23696</th>\n",
              "      <td>18</td>\n",
              "      <td>2500000.0</td>\n",
              "      <td>56.70</td>\n",
              "      <td>2018-02-11</td>\n",
              "      <td>2</td>\n",
              "      <td>NaN</td>\n",
              "      <td>3.0</td>\n",
              "      <td>29.7</td>\n",
              "      <td>1</td>\n",
              "      <td>NaN</td>\n",
              "      <td>False</td>\n",
              "      <td>False</td>\n",
              "      <td>NaN</td>\n",
              "      <td>NaN</td>\n",
              "      <td>село Рождествено</td>\n",
              "      <td>NaN</td>\n",
              "      <td>NaN</td>\n",
              "      <td>NaN</td>\n",
              "      <td>NaN</td>\n",
              "      <td>NaN</td>\n",
              "      <td>NaN</td>\n",
              "      <td>NaN</td>\n",
              "    </tr>\n",
              "    <tr>\n",
              "      <th>23697</th>\n",
              "      <td>13</td>\n",
              "      <td>11475000.0</td>\n",
              "      <td>76.75</td>\n",
              "      <td>2017-03-28</td>\n",
              "      <td>2</td>\n",
              "      <td>3.0</td>\n",
              "      <td>17.0</td>\n",
              "      <td>NaN</td>\n",
              "      <td>12</td>\n",
              "      <td>NaN</td>\n",
              "      <td>False</td>\n",
              "      <td>False</td>\n",
              "      <td>23.30</td>\n",
              "      <td>2.0</td>\n",
              "      <td>Санкт-Петербург</td>\n",
              "      <td>39140.0</td>\n",
              "      <td>10364.0</td>\n",
              "      <td>2.0</td>\n",
              "      <td>173.0</td>\n",
              "      <td>3.0</td>\n",
              "      <td>196.0</td>\n",
              "      <td>602.0</td>\n",
              "    </tr>\n",
              "    <tr>\n",
              "      <th>23698</th>\n",
              "      <td>4</td>\n",
              "      <td>1350000.0</td>\n",
              "      <td>32.30</td>\n",
              "      <td>2017-07-21</td>\n",
              "      <td>1</td>\n",
              "      <td>2.5</td>\n",
              "      <td>5.0</td>\n",
              "      <td>12.3</td>\n",
              "      <td>1</td>\n",
              "      <td>NaN</td>\n",
              "      <td>False</td>\n",
              "      <td>False</td>\n",
              "      <td>9.00</td>\n",
              "      <td>NaN</td>\n",
              "      <td>поселок Новый Учхоз</td>\n",
              "      <td>NaN</td>\n",
              "      <td>NaN</td>\n",
              "      <td>NaN</td>\n",
              "      <td>NaN</td>\n",
              "      <td>NaN</td>\n",
              "      <td>NaN</td>\n",
              "      <td>NaN</td>\n",
              "    </tr>\n",
              "  </tbody>\n",
              "</table>\n",
              "</div>"
            ],
            "text/plain": [
              "       total_images  last_price  total_area first_day_exposition  rooms  \\\n",
              "23694             9   9700000.0      133.81           2017-03-21      3   \n",
              "23695            14   3100000.0       59.00           2018-01-15      3   \n",
              "23696            18   2500000.0       56.70           2018-02-11      2   \n",
              "23697            13  11475000.0       76.75           2017-03-28      2   \n",
              "23698             4   1350000.0       32.30           2017-07-21      1   \n",
              "\n",
              "       ceiling_height  floors_total  living_area  floor is_apartment  studio  \\\n",
              "23694             3.7           5.0         73.3      3          NaN   False   \n",
              "23695             NaN           5.0         38.0      4          NaN   False   \n",
              "23696             NaN           3.0         29.7      1          NaN   False   \n",
              "23697             3.0          17.0          NaN     12          NaN   False   \n",
              "23698             2.5           5.0         12.3      1          NaN   False   \n",
              "\n",
              "       open_plan  kitchen_area  balcony        locality_name  \\\n",
              "23694      False         13.83      NaN      Санкт-Петербург   \n",
              "23695      False          8.50      NaN                Тосно   \n",
              "23696      False           NaN      NaN     село Рождествено   \n",
              "23697      False         23.30      2.0      Санкт-Петербург   \n",
              "23698      False          9.00      NaN  поселок Новый Учхоз   \n",
              "\n",
              "       airports_nearest  city_centers_nearest  parks_around3000  \\\n",
              "23694           24665.0                4232.0               1.0   \n",
              "23695               NaN                   NaN               NaN   \n",
              "23696               NaN                   NaN               NaN   \n",
              "23697           39140.0               10364.0               2.0   \n",
              "23698               NaN                   NaN               NaN   \n",
              "\n",
              "       parks_nearest  ponds_around3000  ponds_nearest  days_exposition  \n",
              "23694          796.0               3.0          381.0              NaN  \n",
              "23695            NaN               NaN            NaN             45.0  \n",
              "23696            NaN               NaN            NaN              NaN  \n",
              "23697          173.0               3.0          196.0            602.0  \n",
              "23698            NaN               NaN            NaN              NaN  "
            ]
          },
          "execution_count": 7,
          "metadata": {},
          "output_type": "execute_result"
        }
      ],
      "source": [
        "# наводим порядок в столбцах и значениях: приводим столбец \"cityCenters_nearest\" к змеиному регистру\n",
        "\n",
        "data.rename(columns = {'cityCenters_nearest':'city_centers_nearest'}, inplace = True )\n",
        "\n",
        "# округляем значения в столбцах и приводим их к целым числам, общую площадь квартир округляем\n",
        "\n",
        "data['total_images'].astype('int')\n",
        "data['last_price'].astype('int')\n",
        "data['total_area'].round(2)\n",
        "\n",
        "# значения времени переводим в человекочитаемый вид\n",
        "\n",
        "data['first_day_exposition'] = pd.to_datetime(data['first_day_exposition'], format='%Y-%m-%dT%H:%M:%S')\n",
        "\n",
        "data.tail()"
      ]
    },
    {
      "cell_type": "markdown",
      "metadata": {
        "id": "8BOjBRgnrskk"
      },
      "source": [
        "Начинаем заполнять пропуски в данных, видим, что большинство квартир не являются апартаментами, поэтому заполняем пропуски булевым значением.\n",
        "\n",
        "В тех объявлениях, где пропуски в значениях балконов, возможно их просто нет, заполним пропуски нулями.\n",
        "\n",
        "Пропуски в жилой площади, возможно появились из-за человеческого фактора: не указали данный вид площади или из-за того, что среди объектов недвижимости имеются апартаменты, в которых вообще нет жилой площади, поэтому принимаем решение не искажать данные и заполнить пропуски нулями.\n",
        "\n",
        "Пропуски в площади кухни заполним следующим образом: разделим общую площадь квартир на среднее соотношение площади кухонь к площади квартир. Проверим зависимость площади кухни от общей площади квартиры:"
      ]
    },
    {
      "cell_type": "code",
      "execution_count": null,
      "metadata": {
        "id": "06eTvoBVrskk",
        "outputId": "3b8d06c4-b300-4085-ecf3-7acf13c5f3aa"
      },
      "outputs": [
        {
          "name": "stdout",
          "output_type": "stream",
          "text": [
            "kitchen_area    1.000000\n",
            "total_area      0.609121\n",
            "last_price      0.519869\n",
            "living_area     0.428674\n",
            "rooms           0.269945\n",
            "Name: kitchen_area, dtype: float64\n"
          ]
        }
      ],
      "source": [
        "print(data.corr().sort_values(by='kitchen_area', ascending=False)['kitchen_area'].head())"
      ]
    },
    {
      "cell_type": "code",
      "execution_count": null,
      "metadata": {
        "scrolled": true,
        "id": "ux59VNojrskk",
        "outputId": "9bf18ff4-3b7e-458c-a93c-a496d544f86a"
      },
      "outputs": [
        {
          "data": {
            "text/html": [
              "<div>\n",
              "<style scoped>\n",
              "    .dataframe tbody tr th:only-of-type {\n",
              "        vertical-align: middle;\n",
              "    }\n",
              "\n",
              "    .dataframe tbody tr th {\n",
              "        vertical-align: top;\n",
              "    }\n",
              "\n",
              "    .dataframe thead th {\n",
              "        text-align: right;\n",
              "    }\n",
              "</style>\n",
              "<table border=\"1\" class=\"dataframe\">\n",
              "  <thead>\n",
              "    <tr style=\"text-align: right;\">\n",
              "      <th></th>\n",
              "      <th>total_images</th>\n",
              "      <th>last_price</th>\n",
              "      <th>total_area</th>\n",
              "      <th>first_day_exposition</th>\n",
              "      <th>rooms</th>\n",
              "      <th>ceiling_height</th>\n",
              "      <th>floors_total</th>\n",
              "      <th>living_area</th>\n",
              "      <th>floor</th>\n",
              "      <th>is_apartment</th>\n",
              "      <th>studio</th>\n",
              "      <th>open_plan</th>\n",
              "      <th>kitchen_area</th>\n",
              "      <th>balcony</th>\n",
              "      <th>locality_name</th>\n",
              "      <th>airports_nearest</th>\n",
              "      <th>city_centers_nearest</th>\n",
              "      <th>parks_around3000</th>\n",
              "      <th>parks_nearest</th>\n",
              "      <th>ponds_around3000</th>\n",
              "      <th>ponds_nearest</th>\n",
              "      <th>days_exposition</th>\n",
              "    </tr>\n",
              "  </thead>\n",
              "  <tbody>\n",
              "    <tr>\n",
              "      <th>23694</th>\n",
              "      <td>9</td>\n",
              "      <td>9700000.0</td>\n",
              "      <td>133.81</td>\n",
              "      <td>2017-03-21</td>\n",
              "      <td>3</td>\n",
              "      <td>3.7</td>\n",
              "      <td>5.0</td>\n",
              "      <td>73.3</td>\n",
              "      <td>3</td>\n",
              "      <td>0</td>\n",
              "      <td>False</td>\n",
              "      <td>False</td>\n",
              "      <td>13.83</td>\n",
              "      <td>0.0</td>\n",
              "      <td>Санкт-Петербург</td>\n",
              "      <td>24665.0</td>\n",
              "      <td>4232.0</td>\n",
              "      <td>1.0</td>\n",
              "      <td>796.0</td>\n",
              "      <td>3.0</td>\n",
              "      <td>381.0</td>\n",
              "      <td>NaN</td>\n",
              "    </tr>\n",
              "    <tr>\n",
              "      <th>23695</th>\n",
              "      <td>14</td>\n",
              "      <td>3100000.0</td>\n",
              "      <td>59.00</td>\n",
              "      <td>2018-01-15</td>\n",
              "      <td>3</td>\n",
              "      <td>NaN</td>\n",
              "      <td>5.0</td>\n",
              "      <td>38.0</td>\n",
              "      <td>4</td>\n",
              "      <td>0</td>\n",
              "      <td>False</td>\n",
              "      <td>False</td>\n",
              "      <td>8.50</td>\n",
              "      <td>0.0</td>\n",
              "      <td>Тосно</td>\n",
              "      <td>NaN</td>\n",
              "      <td>NaN</td>\n",
              "      <td>NaN</td>\n",
              "      <td>NaN</td>\n",
              "      <td>NaN</td>\n",
              "      <td>NaN</td>\n",
              "      <td>45.0</td>\n",
              "    </tr>\n",
              "    <tr>\n",
              "      <th>23696</th>\n",
              "      <td>18</td>\n",
              "      <td>2500000.0</td>\n",
              "      <td>56.70</td>\n",
              "      <td>2018-02-11</td>\n",
              "      <td>2</td>\n",
              "      <td>NaN</td>\n",
              "      <td>3.0</td>\n",
              "      <td>29.7</td>\n",
              "      <td>1</td>\n",
              "      <td>0</td>\n",
              "      <td>False</td>\n",
              "      <td>False</td>\n",
              "      <td>9.24</td>\n",
              "      <td>0.0</td>\n",
              "      <td>село Рождествено</td>\n",
              "      <td>NaN</td>\n",
              "      <td>NaN</td>\n",
              "      <td>NaN</td>\n",
              "      <td>NaN</td>\n",
              "      <td>NaN</td>\n",
              "      <td>NaN</td>\n",
              "      <td>NaN</td>\n",
              "    </tr>\n",
              "    <tr>\n",
              "      <th>23697</th>\n",
              "      <td>13</td>\n",
              "      <td>11475000.0</td>\n",
              "      <td>76.75</td>\n",
              "      <td>2017-03-28</td>\n",
              "      <td>2</td>\n",
              "      <td>3.0</td>\n",
              "      <td>17.0</td>\n",
              "      <td>0.0</td>\n",
              "      <td>12</td>\n",
              "      <td>0</td>\n",
              "      <td>False</td>\n",
              "      <td>False</td>\n",
              "      <td>23.30</td>\n",
              "      <td>2.0</td>\n",
              "      <td>Санкт-Петербург</td>\n",
              "      <td>39140.0</td>\n",
              "      <td>10364.0</td>\n",
              "      <td>2.0</td>\n",
              "      <td>173.0</td>\n",
              "      <td>3.0</td>\n",
              "      <td>196.0</td>\n",
              "      <td>602.0</td>\n",
              "    </tr>\n",
              "    <tr>\n",
              "      <th>23698</th>\n",
              "      <td>4</td>\n",
              "      <td>1350000.0</td>\n",
              "      <td>32.30</td>\n",
              "      <td>2017-07-21</td>\n",
              "      <td>1</td>\n",
              "      <td>2.5</td>\n",
              "      <td>5.0</td>\n",
              "      <td>12.3</td>\n",
              "      <td>1</td>\n",
              "      <td>0</td>\n",
              "      <td>False</td>\n",
              "      <td>False</td>\n",
              "      <td>9.00</td>\n",
              "      <td>0.0</td>\n",
              "      <td>поселок Новый Учхоз</td>\n",
              "      <td>NaN</td>\n",
              "      <td>NaN</td>\n",
              "      <td>NaN</td>\n",
              "      <td>NaN</td>\n",
              "      <td>NaN</td>\n",
              "      <td>NaN</td>\n",
              "      <td>NaN</td>\n",
              "    </tr>\n",
              "  </tbody>\n",
              "</table>\n",
              "</div>"
            ],
            "text/plain": [
              "       total_images  last_price  total_area first_day_exposition  rooms  \\\n",
              "23694             9   9700000.0      133.81           2017-03-21      3   \n",
              "23695            14   3100000.0       59.00           2018-01-15      3   \n",
              "23696            18   2500000.0       56.70           2018-02-11      2   \n",
              "23697            13  11475000.0       76.75           2017-03-28      2   \n",
              "23698             4   1350000.0       32.30           2017-07-21      1   \n",
              "\n",
              "       ceiling_height  floors_total  living_area  floor  is_apartment  studio  \\\n",
              "23694             3.7           5.0         73.3      3             0   False   \n",
              "23695             NaN           5.0         38.0      4             0   False   \n",
              "23696             NaN           3.0         29.7      1             0   False   \n",
              "23697             3.0          17.0          0.0     12             0   False   \n",
              "23698             2.5           5.0         12.3      1             0   False   \n",
              "\n",
              "       open_plan  kitchen_area  balcony        locality_name  \\\n",
              "23694      False         13.83      0.0      Санкт-Петербург   \n",
              "23695      False          8.50      0.0                Тосно   \n",
              "23696      False          9.24      0.0     село Рождествено   \n",
              "23697      False         23.30      2.0      Санкт-Петербург   \n",
              "23698      False          9.00      0.0  поселок Новый Учхоз   \n",
              "\n",
              "       airports_nearest  city_centers_nearest  parks_around3000  \\\n",
              "23694           24665.0                4232.0               1.0   \n",
              "23695               NaN                   NaN               NaN   \n",
              "23696               NaN                   NaN               NaN   \n",
              "23697           39140.0               10364.0               2.0   \n",
              "23698               NaN                   NaN               NaN   \n",
              "\n",
              "       parks_nearest  ponds_around3000  ponds_nearest  days_exposition  \n",
              "23694          796.0               3.0          381.0              NaN  \n",
              "23695            NaN               NaN            NaN             45.0  \n",
              "23696            NaN               NaN            NaN              NaN  \n",
              "23697          173.0               3.0          196.0            602.0  \n",
              "23698            NaN               NaN            NaN              NaN  "
            ]
          },
          "execution_count": 9,
          "metadata": {},
          "output_type": "execute_result"
        }
      ],
      "source": [
        "# решаем, что в объявлениях в основном указаны квартиры и пропуски данных в столбце \"is_apartment\" заполним значением False\n",
        "# заменяем тип данных на \"bool\"\n",
        "data['is_apartment'] = data['is_apartment'].fillna(False)\n",
        "data['is_apartment'] = data['is_apartment'].astype(bool)\n",
        "\n",
        "# пропуски жилой площади заполняем нулями, округляем значения столбца\n",
        "data['living_area'] = data['living_area'].fillna(0)\n",
        "data['living_area'] = data['living_area'].round(2)\n",
        "\n",
        "# пропуски наличия балкона заполняем нулями, округляем значения столбца\n",
        "data['balcony'] = data['balcony'].fillna(0)\n",
        "data['is_apartment'] = data['is_apartment'].astype(int)\n",
        "\n",
        "# разделим общую площадь квартир на среднее соотношение площади кухонь к площади квартир\n",
        "\n",
        "data['kitchen_area'] = data['kitchen_area'].fillna(data['total_area'] / (data['total_area'] / data['kitchen_area']).mean())\n",
        "data['kitchen_area'] = data['kitchen_area'].round(2)\n",
        "\n",
        "#проверяем изменения\n",
        "data.tail()"
      ]
    },
    {
      "cell_type": "markdown",
      "metadata": {
        "id": "QvyTQMo7rskk"
      },
      "source": [
        "Мы уже выяснили, что с высотой потолков что-то не так: много пропусков и необычнх значений. Пытаемся разобраться с этим, выводим 30 самых больших значений на экран:"
      ]
    },
    {
      "cell_type": "code",
      "execution_count": null,
      "metadata": {
        "id": "Jjt1UQturskk",
        "outputId": "5c38f75f-3bf6-4ee4-ca6f-0c71b9d92477"
      },
      "outputs": [
        {
          "data": {
            "text/plain": [
              "22869    100.0\n",
              "22336     32.0\n",
              "3148      32.0\n",
              "21377     27.5\n",
              "20478     27.0\n",
              "5246      27.0\n",
              "5807      27.0\n",
              "10773     27.0\n",
              "17857     27.0\n",
              "22938     27.0\n",
              "21824     27.0\n",
              "4876      27.0\n",
              "5669      26.0\n",
              "18545     25.0\n",
              "11285     25.0\n",
              "355       25.0\n",
              "6246      25.0\n",
              "14382     25.0\n",
              "4643      25.0\n",
              "9379      25.0\n",
              "5076      24.0\n",
              "20507     22.6\n",
              "17496     20.0\n",
              "15061     14.0\n",
              "22309     10.3\n",
              "5863       8.3\n",
              "15743      8.0\n",
              "3474       8.0\n",
              "17442      8.0\n",
              "20264      6.0\n",
              "Name: ceiling_height, dtype: float64"
            ]
          },
          "execution_count": 10,
          "metadata": {},
          "output_type": "execute_result"
        }
      ],
      "source": [
        "data['ceiling_height'].sort_values(ascending=False).head(30)"
      ]
    },
    {
      "cell_type": "markdown",
      "metadata": {
        "id": "o-Niu36Krskk"
      },
      "source": [
        "Теоретически, бывают квартиры и апартаменты с 8 и 10-метровыми потолками, но 20 метров это уже перебор. Возможно, при публикации объявлений не проставлялась дробная часть (запятая), либо она пропала при конвертации данных. Поэтому, все квартиры, с высотой потолков больше 20 метров подвергнем переносу запятой - поделим эти выдающиеся значения на 10."
      ]
    },
    {
      "cell_type": "code",
      "execution_count": null,
      "metadata": {
        "id": "Z3-ig_3srskk",
        "outputId": "c744c2cf-640f-42a4-a852-c97e43d3f925"
      },
      "outputs": [
        {
          "name": "stdout",
          "output_type": "stream",
          "text": [
            "count    23699.000000\n",
            "mean         2.698721\n",
            "std          0.253208\n",
            "min          1.000000\n",
            "25%          2.600000\n",
            "50%          2.650000\n",
            "75%          2.700000\n",
            "max         14.000000\n",
            "Name: ceiling_height, dtype: float64\n",
            "Количество пропусков в значениях: 0\n"
          ]
        }
      ],
      "source": [
        "data.loc[data['ceiling_height'] >= 20.0, 'ceiling_height'] = data['ceiling_height']/10\n",
        "\n",
        "# а теперь можно и поработать с пропусками в этом столбце - заменим их на медианные значения\n",
        "\n",
        "data['ceiling_height'] = data['ceiling_height'].fillna(data['ceiling_height'].median())\n",
        "\n",
        "# проверим, что теперь всё впорядке: и средняя и медиана в реальных диапазонах\n",
        "\n",
        "print(data['ceiling_height'].describe())\n",
        "print('Количество пропусков в значениях:', data['ceiling_height'].isna().sum())"
      ]
    },
    {
      "cell_type": "markdown",
      "metadata": {
        "id": "yb9rjhNVrskk"
      },
      "source": [
        "Теперь заполним пропуски в столбце 'floors_total', пропусков не много, поэтому медианное значение хорошо для этого подойдёт."
      ]
    },
    {
      "cell_type": "code",
      "execution_count": null,
      "metadata": {
        "scrolled": true,
        "id": "OSm-yborrskk",
        "outputId": "3555d90d-b31d-4ecd-cfe8-34b4a319e3fd"
      },
      "outputs": [
        {
          "name": "stdout",
          "output_type": "stream",
          "text": [
            "Количество пропусков в значениях: 0\n"
          ]
        }
      ],
      "source": [
        "# для заполнения пропусков в этажности домов, определим функцию \"floors_total\", которая заменит пропуски медианным значением\n",
        "def floors_total(row):\n",
        "    if row['floors_total'] >= 0:\n",
        "        return 0\n",
        "    else:\n",
        "        return data[data['floor'] == row['floor']]['floors_total'].median()\n",
        "\n",
        "# создадим временный столбец и запишем в него результат работы функции\n",
        "# применим функцию для заполнения пропусков, важно, что этаж - это всегда целое значение\n",
        "# сначала заполним пропуски в колонке 'floors_total' нулевым значением\n",
        "# на следующем этапе просто сложим два столбца вместе: значения из временного столбца заполнят нули столбца 'floors_total'\n",
        "# удалим временный столбец из датасета и проверяем работу функции\n",
        "\n",
        "data['fl'] = data.apply(floors_total, axis=1)\n",
        "data['floors_total'] = data['floors_total'].fillna(0)\n",
        "data['floors_total'] = (data['fl'] + data['floors_total']).astype('int')\n",
        "data.drop('fl', axis= 1 , inplace= True)\n",
        "\n",
        "print('Количество пропусков в значениях:', data['floors_total'].isna().sum())"
      ]
    },
    {
      "cell_type": "markdown",
      "metadata": {
        "id": "ZC563xz0rsk0"
      },
      "source": [
        "Далее разберёмся с явными и неявными дубликатами в населённых пунктах: избавимся от разночтений е и ё, уберём заглавные буквы и оставим в данном столбце только названия, удалив типы населённых пунктов."
      ]
    },
    {
      "cell_type": "code",
      "execution_count": null,
      "metadata": {
        "scrolled": true,
        "id": "d22rf0LZrsk0",
        "outputId": "477a1b5e-d195-4ba4-fcbd-cea1a79735b6"
      },
      "outputs": [
        {
          "data": {
            "text/plain": [
              "{'69-й километр',\n",
              " 'агалатово',\n",
              " 'александровская',\n",
              " 'алексеевка',\n",
              " 'аннино',\n",
              " 'аро',\n",
              " 'барышево',\n",
              " 'батово',\n",
              " 'бегуницы',\n",
              " 'без названия',\n",
              " 'белогорка',\n",
              " 'белоостров',\n",
              " 'бокситогорск',\n",
              " 'большая вруда',\n",
              " 'большая ижора',\n",
              " 'большая пустомержа',\n",
              " 'большие колпаны',\n",
              " 'большое рейзино',\n",
              " 'большой сабск',\n",
              " 'бор',\n",
              " 'борисова грива',\n",
              " 'бугры',\n",
              " 'будогощь',\n",
              " 'ваганово',\n",
              " 'важины',\n",
              " 'вартемяги',\n",
              " 'вахнова кара',\n",
              " 'вещево',\n",
              " 'виллози',\n",
              " 'вознесенье',\n",
              " 'возрождение',\n",
              " 'войсковицы',\n",
              " 'войскорово',\n",
              " 'володарское',\n",
              " 'волосово',\n",
              " 'волхов',\n",
              " 'всеволожск',\n",
              " 'выборг',\n",
              " 'вырица',\n",
              " 'выскатка',\n",
              " 'высокоключевой',\n",
              " 'высоцк',\n",
              " 'гаврилово',\n",
              " 'гарболово',\n",
              " 'гатчина',\n",
              " 'гладкое',\n",
              " 'глажево',\n",
              " 'глебычево',\n",
              " 'глинка',\n",
              " 'гончарово',\n",
              " 'горбунки',\n",
              " 'гостилицы',\n",
              " 'громово',\n",
              " 'дзержинского',\n",
              " 'дружная горка',\n",
              " 'дружноселье',\n",
              " 'дубровка',\n",
              " 'елизаветино',\n",
              " 'ефимовский',\n",
              " 'жилгородок',\n",
              " 'жилпоселок',\n",
              " 'житково',\n",
              " 'заводской',\n",
              " 'заклинье',\n",
              " 'заневка',\n",
              " 'запорожское',\n",
              " 'зеленогорск',\n",
              " 'зеленый бор',\n",
              " 'зимитицы',\n",
              " 'ивангород',\n",
              " 'извара',\n",
              " 'ильичево',\n",
              " 'имени морозова',\n",
              " 'имени свердлова',\n",
              " 'иссад',\n",
              " 'калитино',\n",
              " 'каложицы',\n",
              " 'кальтино',\n",
              " 'каменногорск',\n",
              " 'камышовка',\n",
              " 'каськово',\n",
              " 'келози',\n",
              " 'кивеннапа север',\n",
              " 'кикерино',\n",
              " 'кингисепп',\n",
              " 'кингисеппский',\n",
              " 'кипень',\n",
              " 'кириши',\n",
              " 'кировск',\n",
              " 'кирпичное',\n",
              " 'кисельня',\n",
              " 'кобралово',\n",
              " 'кобринское',\n",
              " 'колпино',\n",
              " 'колтуши',\n",
              " 'коммунар',\n",
              " 'коммунары',\n",
              " 'кондратьево',\n",
              " 'копорье',\n",
              " 'коркино',\n",
              " 'корнево',\n",
              " 'коробицыно',\n",
              " 'котельский',\n",
              " 'котлы',\n",
              " 'красная долина',\n",
              " 'красное село',\n",
              " 'красносельское',\n",
              " 'красный бор',\n",
              " 'кривко',\n",
              " 'кронштадт',\n",
              " 'кудрово',\n",
              " 'кузнечное',\n",
              " 'кузьмолово',\n",
              " 'кузьмоловский',\n",
              " 'курковицы',\n",
              " 'куровицы',\n",
              " 'куттузи',\n",
              " 'лаврики',\n",
              " 'лаголово',\n",
              " 'лампово',\n",
              " 'лебяжье',\n",
              " 'левашово',\n",
              " 'ленинское',\n",
              " 'лесколово',\n",
              " 'лесная поляна',\n",
              " 'лесное',\n",
              " 'лесогорский',\n",
              " 'лисий нос',\n",
              " 'лодейное поле',\n",
              " 'ломоносов',\n",
              " 'лопухинка',\n",
              " 'луга',\n",
              " 'лужайка',\n",
              " 'лукаши',\n",
              " 'лупполово',\n",
              " 'любань',\n",
              " 'малая романовка',\n",
              " 'малое верево',\n",
              " 'малое карлино',\n",
              " 'малые колпаны',\n",
              " 'мануйлово',\n",
              " 'мга',\n",
              " 'мельниково',\n",
              " 'меньково',\n",
              " 'металлострой',\n",
              " 'мины',\n",
              " 'мистолово',\n",
              " 'мичуринское',\n",
              " 'молодежное',\n",
              " 'молодцово',\n",
              " 'мурино',\n",
              " 'мыза-ивановка',\n",
              " 'назия',\n",
              " 'ненимяки',\n",
              " 'нижние осельки',\n",
              " 'нижняя',\n",
              " 'низино',\n",
              " 'никольский',\n",
              " 'никольское',\n",
              " 'новая ладога',\n",
              " 'новая ропша',\n",
              " 'новогорелово',\n",
              " 'новое девяткино',\n",
              " 'новолисино',\n",
              " 'новоселье',\n",
              " 'новый свет',\n",
              " 'новый учхоз',\n",
              " 'нурма',\n",
              " 'оредеж',\n",
              " 'оржицы',\n",
              " 'отрадное',\n",
              " 'павлово',\n",
              " 'павловск',\n",
              " 'парголово',\n",
              " 'парицы',\n",
              " 'паша',\n",
              " 'пельгора',\n",
              " 'пеники',\n",
              " 'первомайское',\n",
              " 'перово',\n",
              " 'песочный',\n",
              " 'петергоф',\n",
              " 'петро-славянка',\n",
              " 'петровское',\n",
              " 'пижма',\n",
              " 'пикалево',\n",
              " 'пикколово',\n",
              " 'плодовое',\n",
              " 'плоское',\n",
              " 'победа',\n",
              " 'подпорожье',\n",
              " 'поляны',\n",
              " 'понтонный',\n",
              " 'почап',\n",
              " 'починок',\n",
              " 'приветнинское',\n",
              " 'пригородный',\n",
              " 'приладожский',\n",
              " 'приморск',\n",
              " 'приозерск',\n",
              " 'пудомяги',\n",
              " 'пудость',\n",
              " 'пустынка',\n",
              " 'путилово',\n",
              " 'пушкин',\n",
              " 'пушное',\n",
              " 'пчева',\n",
              " 'пчевжа',\n",
              " 'рабитицы',\n",
              " 'разбегаево',\n",
              " 'раздолье',\n",
              " 'разметелево',\n",
              " 'рапполово',\n",
              " 'рахья',\n",
              " 'реброво',\n",
              " 'репино',\n",
              " 'рождествено',\n",
              " 'романовка',\n",
              " 'ромашки',\n",
              " 'ропша',\n",
              " 'рощино',\n",
              " 'русско',\n",
              " 'русско-высоцкое',\n",
              " 'рябово',\n",
              " 'садко',\n",
              " 'санкт-петербург',\n",
              " 'саперное',\n",
              " 'саперный',\n",
              " 'светогорск',\n",
              " 'свирь',\n",
              " 'свирьстрой',\n",
              " 'севастьяново',\n",
              " 'селезнево',\n",
              " 'сельцо',\n",
              " 'семиозерье',\n",
              " 'семрино',\n",
              " 'серебрянский',\n",
              " 'сертолово',\n",
              " 'сестрорецк',\n",
              " 'сиверский',\n",
              " 'сижно',\n",
              " 'синявино',\n",
              " 'сланцы',\n",
              " 'снегиревка',\n",
              " 'советский',\n",
              " 'совхозный',\n",
              " 'сосново',\n",
              " 'сосновый бор',\n",
              " 'старая',\n",
              " 'старая ладога',\n",
              " 'старая малукса',\n",
              " 'старая пустошь',\n",
              " 'старое хинколово',\n",
              " 'старополье',\n",
              " 'старосиверская',\n",
              " 'старые бегуницы',\n",
              " 'стеклянный',\n",
              " 'стрельна',\n",
              " 'суйда',\n",
              " 'сумино',\n",
              " 'суоранда',\n",
              " 'суходолье',\n",
              " 'счастье',\n",
              " 'сяськелево',\n",
              " 'сясьстрой',\n",
              " 'тайцы',\n",
              " 'тарасово',\n",
              " 'тельмана',\n",
              " 'терволово',\n",
              " 'терпилицы',\n",
              " 'тесово-4',\n",
              " 'тихвин',\n",
              " 'тихковицы',\n",
              " 'тойворово',\n",
              " 'токсово',\n",
              " 'торковичи',\n",
              " 'торосово',\n",
              " 'торошковичи',\n",
              " 'торфяное',\n",
              " 'тосно',\n",
              " 'трубников бор',\n",
              " 'углово',\n",
              " 'ульяновка',\n",
              " 'усть-ижора',\n",
              " 'усть-луга',\n",
              " 'ушаки',\n",
              " 'фалилеево',\n",
              " 'федоровское',\n",
              " 'форносово',\n",
              " 'форт красная горка',\n",
              " 'хапо-ое',\n",
              " 'хязельки',\n",
              " 'цвелодубово',\n",
              " 'цвылево',\n",
              " 'чудской бор',\n",
              " 'шлиссельбург',\n",
              " 'шпаньково',\n",
              " 'шугозеро',\n",
              " 'шум',\n",
              " 'шушары',\n",
              " 'щеглово',\n",
              " 'юкки',\n",
              " 'ялгино',\n",
              " 'яльгелево',\n",
              " 'ям-тесово',\n",
              " 'янино-1'}"
            ]
          },
          "execution_count": 13,
          "metadata": {},
          "output_type": "execute_result"
        }
      ],
      "source": [
        "# переводим в названиях НП заглавные буквы в строчные\n",
        "data['locality_name'] = data['locality_name'].str.lower()\n",
        "\n",
        "# заменяем в названиях ё на е, вычищаем типы НП с пробелами, оставляем только названия\n",
        "data['locality_name'] = (\n",
        "    data['locality_name']\n",
        "    .str.replace('ё','е')\n",
        "    .replace(['поселок ','при железнодорожной станции ', 'платформа ', 'садоводческое некоммерческое товарищество ',\n",
        "             'садовое товарищество ', 'станции ', 'село ', 'пансионат ', 'городского типа ', 'городской ', 'коттеджный ',\n",
        "             'деревня ', 'городской поселок '], '', regex=True)\n",
        ")\n",
        "\n",
        "# оставшиеся пропуски заменяем на значение \"без названия\"\n",
        "data['locality_name'] = data['locality_name'].fillna('без названия')\n",
        "\n",
        "# проверяем список уникальных значений в алфавитном порядке\n",
        "set(data['locality_name'].unique())"
      ]
    },
    {
      "cell_type": "markdown",
      "metadata": {
        "id": "-0ZijndVrsk0"
      },
      "source": [
        "Теперь разберёмся с колонками датасета, заполненными автоматически: пропуски в колонке 'airports_nearest' возможно вызваны тем, что в данном НП нет аэропорта, либо он настолько далеко, что его наличие неважно.\n",
        "\n",
        "Незаполненные пропуски в колонке 'city_centers_nearest' скорее всего, указывают на то, что объект продажи находится не в городе.\n",
        "\n",
        "Пропуски в значениях 'parks_around3000' скорее всего, указывают на то,что на расстоянии более 3 км от объекта продажи нет парков и значение можно заполнить нулями.\n",
        "\n",
        "Пропущенные значения в 'parks_nearest' также указывают на то, что объект продажи находится далеко от какого-либо парка.\n",
        "\n",
        "Незаполненные пропуски в 'ponds_nearest' скорее всего, указывают, что на таком расстоянии нет водоёмов и значение можно заполнить нулями.\n",
        "\n",
        "Незаполненные пропуски в столбце 'days_exposition' скорее всего, указывают на то, что объект не был продан на момент выгрузки датасета. Оставляем значения как есть."
      ]
    },
    {
      "cell_type": "code",
      "execution_count": null,
      "metadata": {
        "id": "of_gwopqrsk0"
      },
      "outputs": [],
      "source": [
        "# оставляем пропуски как есть, округляем значения\n",
        "data['airports_nearest'].round(2)\n",
        "data['city_centers_nearest'].round(2)\n",
        "data['parks_nearest'].round(2)\n",
        "data['ponds_nearest'].round(2)\n",
        "\n",
        "# заполняем пропуски нулями, округляем значения\n",
        "data['parks_around3000'] = data['parks_around3000'].fillna(0)\n",
        "data['parks_around3000'] = data['parks_around3000'].astype(int)\n",
        "\n",
        "data['ponds_around3000'] = data['ponds_around3000'].fillna(0)\n",
        "data['ponds_around3000'] = data['ponds_around3000'].astype(int)"
      ]
    },
    {
      "cell_type": "code",
      "execution_count": null,
      "metadata": {
        "id": "KyPQ4VA0rsk0",
        "outputId": "7d0f50f8-8069-4751-b194-04c493f7e9d0"
      },
      "outputs": [
        {
          "data": {
            "text/plain": [
              "total_images                0\n",
              "last_price                  0\n",
              "total_area                  0\n",
              "first_day_exposition        0\n",
              "rooms                       0\n",
              "ceiling_height              0\n",
              "floors_total                0\n",
              "living_area                 0\n",
              "floor                       0\n",
              "is_apartment                0\n",
              "studio                      0\n",
              "open_plan                   0\n",
              "kitchen_area                0\n",
              "balcony                     0\n",
              "locality_name               0\n",
              "airports_nearest         5542\n",
              "city_centers_nearest     5519\n",
              "parks_around3000            0\n",
              "parks_nearest           15620\n",
              "ponds_around3000            0\n",
              "ponds_nearest           14589\n",
              "days_exposition          3181\n",
              "dtype: int64"
            ]
          },
          "execution_count": 15,
          "metadata": {},
          "output_type": "execute_result"
        }
      ],
      "source": [
        "# проверяем повторно количество пропусков\n",
        "data.isna().sum()"
      ]
    },
    {
      "cell_type": "markdown",
      "metadata": {
        "id": "X8A45B8Orsk0"
      },
      "source": [
        "Теперь мы можем убедиться, что после предобработки данных в таблице уменьшилось количество пропусков.\n",
        "\n",
        "Причины появления пропусков могут быть разными: невнимательность человека при размещении объявления, несовершенство либо обновление программного обеспечения, ошибки при выгрузке или конвертировании данных.\n",
        "\n",
        "**Вывод:** в процессе предобработки были изменены типы данных в столбцах, произведено переименование одного столбца, обнаружены и заполнены пропуски, где это было возможно, округлены значения до значащих величин, обнаружены и устранены некоторые аномалии, а данные приведены в удобный для анализа вид. Оставшиеся пропуски решено оставить, как не сильно влияющие на цель и задачи исследования. Предобработка позволит в будущем произвести более качественное исследование с большей степенью достоверности выводов."
      ]
    },
    {
      "cell_type": "markdown",
      "metadata": {
        "id": "QCcvyY6YAwb-"
      },
      "source": [
        "### Добавляем в таблицу новые столбцы"
      ]
    },
    {
      "cell_type": "markdown",
      "metadata": {
        "id": "K4gXRAGsrsk0"
      },
      "source": [
        "Добавляем новый столбец \"square_meter_cost\", в котором будет содержаться цена за 1 кв метр площади объекта недвижимости."
      ]
    },
    {
      "cell_type": "code",
      "execution_count": null,
      "metadata": {
        "id": "vl-9nRsErsk0"
      },
      "outputs": [],
      "source": [
        "# определяем столбец, округляем значения\n",
        "data['square_meter_cost'] = (data['last_price'] / data['total_area']).round(2)"
      ]
    },
    {
      "cell_type": "markdown",
      "metadata": {
        "id": "PpYfd_n9rsk0"
      },
      "source": [
        "Добавляем столбец \"publication_day\", обозначающий день недели публикации объявления (0 — понедельник, 1 — вторник и так далее)."
      ]
    },
    {
      "cell_type": "code",
      "execution_count": null,
      "metadata": {
        "id": "9467Zx6ursk0"
      },
      "outputs": [],
      "source": [
        "# метод dt.weekday возвращает день недели в виде целого числа\n",
        "data['publication_day'] = data['first_day_exposition'].dt.weekday"
      ]
    },
    {
      "cell_type": "markdown",
      "metadata": {
        "id": "Es3VfUafrsk0"
      },
      "source": [
        "По такому же принципу добавляем столбец \"publication_month\", в котором будет зашифрован месяц публикации объявления."
      ]
    },
    {
      "cell_type": "code",
      "execution_count": null,
      "metadata": {
        "id": "AXhg9i_Vrsk0"
      },
      "outputs": [],
      "source": [
        "# метод dt.month возвращает месяц в виде целого числа\n",
        "data['publication_month'] = data['first_day_exposition'].dt.month"
      ]
    },
    {
      "cell_type": "markdown",
      "metadata": {
        "id": "gzf4OLXkrsk0"
      },
      "source": [
        "Добавим столбец \"publication_year\", который будет обозначать год публикации объявления."
      ]
    },
    {
      "cell_type": "code",
      "execution_count": null,
      "metadata": {
        "id": "Bz-fIwFwrsk0",
        "outputId": "c511f995-1532-4cb8-db79-5eb2b9cecec9"
      },
      "outputs": [
        {
          "name": "stdout",
          "output_type": "stream",
          "text": [
            "[120370.37  82920.79  92785.71 ...  44091.71 149511.4   41795.67]\n",
            "\n",
            "[ 3 12  8  7  6  9 11  4  5  2  1 10]\n",
            "\n",
            "[3 1 4 0 2 6 5]\n",
            "\n",
            "[2019 2018 2015 2017 2016 2014]\n",
            "\n",
            "   publication_month  publication_day  publication_year first_day_exposition\n",
            "0                  3                3              2019           2019-03-07\n",
            "1                 12                1              2018           2018-12-04\n",
            "2                  8                3              2015           2015-08-20\n",
            "3                  7                4              2015           2015-07-24\n",
            "4                  6                1              2018           2018-06-19\n"
          ]
        }
      ],
      "source": [
        "# метод dt.year возвращает год в виде целого числа\n",
        "data['publication_year'] = data['first_day_exposition'].dt.year\n",
        "\n",
        "# проверяем, всё ли сработало как надо:\n",
        "print(data['square_meter_cost'].unique())\n",
        "print()\n",
        "print(data['publication_month'].unique())\n",
        "print()\n",
        "print(data['publication_day'].unique())\n",
        "print()\n",
        "print(data['publication_year'].unique())\n",
        "print()\n",
        "print(data[['publication_month', 'publication_day', 'publication_year', 'first_day_exposition']].head())"
      ]
    },
    {
      "cell_type": "markdown",
      "metadata": {
        "id": "MD1aGrn4rsk0"
      },
      "source": [
        "Видим, что даты расшифровываются в правильном ключе: например, 20 августа 2015 был четверг (значение дня недели = 4, месяц = 8).\n",
        "\n",
        "Теперь добавим столбец 'apartment_floor_type', который будет категоризировать тип этажа квартиры (значения — «первый», «последний», «другой») при помощи функции."
      ]
    },
    {
      "cell_type": "code",
      "execution_count": null,
      "metadata": {
        "id": "CPihmZCGrsk0",
        "outputId": "e9141d41-6df7-454e-dcce-fa7d4b5eb08c"
      },
      "outputs": [
        {
          "data": {
            "text/plain": [
              "array(['другой', 'первый', 'последний'], dtype=object)"
            ]
          },
          "execution_count": 20,
          "metadata": {},
          "output_type": "execute_result"
        }
      ],
      "source": [
        "# определим функцию \"floor_category\" для категоризации типа этажа и проверим её работу\n",
        "def floor_category(row):\n",
        "    if row['floor'] == 1:\n",
        "        return 'первый'\n",
        "    if row['floor'] == row['floors_total']:\n",
        "        return 'последний'\n",
        "    else:\n",
        "        return 'другой'\n",
        "\n",
        "data['apartment_floor_type'] = data.apply(floor_category, axis=1)\n",
        "data['apartment_floor_type'].unique()"
      ]
    },
    {
      "cell_type": "markdown",
      "metadata": {
        "id": "Z8eJek3IAwb-"
      },
      "source": [
        "Создадим столбец 'distance_city_center', в котором будет содержаться расстояние до центра города в километрах, для этого переведём из метры в километры, разделив значения на 1000 и округлим до ближайших целых значений."
      ]
    },
    {
      "cell_type": "code",
      "execution_count": null,
      "metadata": {
        "id": "3n4nfuwDrsk0",
        "outputId": "f7dec0af-4c8c-45f9-f3b3-03d08215f6a7"
      },
      "outputs": [
        {
          "name": "stdout",
          "output_type": "stream",
          "text": [
            "   square_meter_cost  distance_city_center apartment_floor_type\n",
            "0          120370.37                  16.0               другой\n",
            "1           82920.79                  19.0               первый\n",
            "2           92785.71                  14.0               другой\n"
          ]
        }
      ],
      "source": [
        "data['distance_city_center'] = (data['city_centers_nearest'] / 1000).round(0)\n",
        "\n",
        "# проверим вывод новых значений в датафрейме\n",
        "print(data[['square_meter_cost', 'distance_city_center', 'apartment_floor_type']].head(3))"
      ]
    },
    {
      "cell_type": "markdown",
      "metadata": {
        "id": "ja14K5Abrsk0"
      },
      "source": [
        "Как мы видим, новые данные успешно добавлены в таблицу и правильно выводятся на экран.\n",
        "\n",
        "**Выводы:** в данном разделе мы произвели категоризацию данных по следующим параметрам: день недели, месяц, год публикации объявления, тип этажа квартиры, а также добавлены значения стоимости квадратного метра жилья для каждого объявления. Данная категоризация поможет нам в дальнейшем исследовании и поможет прийти к новым интересным выводам."
      ]
    },
    {
      "cell_type": "markdown",
      "metadata": {
        "id": "pPyxrKWTAwb-"
      },
      "source": [
        "### Проводим исследовательский анализ данных\n",
        "#### Изучение основных параметров объектов недвижимости"
      ]
    },
    {
      "cell_type": "markdown",
      "metadata": {
        "id": "V2f0D3kLAwb-"
      },
      "source": [
        "##### Анализ общей площади объектов недвижимости в объявлениях"
      ]
    },
    {
      "cell_type": "code",
      "execution_count": null,
      "metadata": {
        "id": "1dqXTxcjrsk0",
        "outputId": "323788f7-4527-4907-9619-5c528cfec23d"
      },
      "outputs": [
        {
          "data": {
            "text/plain": [
              "count    23699.000000\n",
              "mean        60.348651\n",
              "std         35.654083\n",
              "min         12.000000\n",
              "25%         40.000000\n",
              "50%         52.000000\n",
              "75%         69.900000\n",
              "max        900.000000\n",
              "Name: total_area, dtype: float64"
            ]
          },
          "execution_count": 22,
          "metadata": {},
          "output_type": "execute_result"
        }
      ],
      "source": [
        "data['total_area'].describe()"
      ]
    },
    {
      "cell_type": "markdown",
      "metadata": {
        "id": "kIKDI1v2rsk0"
      },
      "source": [
        "Мы видим, что между средней и медианой имеется отклонения, а максимальное значение сильно выбивается из всех и скорее всего является выбросом. Выберем для анализа значения от 12 до 120 квадратных метров и построим гистограмму."
      ]
    },
    {
      "cell_type": "code",
      "execution_count": null,
      "metadata": {
        "id": "vGmUYKbSrsk0",
        "outputId": "fd8d9821-fbe5-4cda-a75e-ff163eda1334"
      },
      "outputs": [
        {
          "data": {
            "image/png": "[encoded data removed]",
            "text/plain": [
              "<Figure size 432x288 with 1 Axes>"
            ]
          },
          "metadata": {
            "needs_background": "light"
          },
          "output_type": "display_data"
        }
      ],
      "source": [
        "plt.hist(data['total_area'], bins=100, range=(12, 150))\n",
        "plt.title('Анализ общей площади объектов недвижимости')\n",
        "plt.xlabel('Квадратные метры')\n",
        "plt.ylabel('Количество квартир')\n",
        "plt.show()"
      ]
    },
    {
      "cell_type": "markdown",
      "metadata": {
        "id": "5DP9najHrsk0"
      },
      "source": [
        "На этом графике мы можем наблюдать практически нормальное распределение с большим пиком в районе медианы (52 кв.м.). Несколько пиков можно объяснить тем, что с 1960 по 1980 годы в России строилось много однотипного жилья со средними параметрами для квартир: однокомнатные от 28 до 35 м², двухкомнатные: 35–55 м², трёхкомнатные: 55–68 м². В исследовании мы увидели, что все эти квартиры востребованы на рынке.\n",
        "\n",
        "\n",
        "**Вывод:** можем с уверенностью сказать, что на рынке самое большое предложение квартир - от 40 до 69 кв.м."
      ]
    },
    {
      "cell_type": "markdown",
      "metadata": {
        "id": "N9argkvUrsk0"
      },
      "source": [
        "##### Анализ жилой площади объектов недвижимости в объявлениях"
      ]
    },
    {
      "cell_type": "code",
      "execution_count": null,
      "metadata": {
        "id": "B65qTvQwrsk0",
        "outputId": "8cfe4126-88c7-4e09-cfc5-997d0bddc236"
      },
      "outputs": [
        {
          "data": {
            "text/plain": [
              "count    23699.000000\n",
              "mean        31.690930\n",
              "std         23.109666\n",
              "min          0.000000\n",
              "25%         17.800000\n",
              "50%         29.000000\n",
              "75%         41.100000\n",
              "max        409.700000\n",
              "Name: living_area, dtype: float64"
            ]
          },
          "execution_count": 24,
          "metadata": {},
          "output_type": "execute_result"
        }
      ],
      "source": [
        "data['living_area'].describe()"
      ]
    },
    {
      "cell_type": "markdown",
      "metadata": {
        "id": "IwTujvzhrsk0"
      },
      "source": [
        "После анализа данных значений, где минимальное и максимальное явно являются выбросами, а стандартное отклонение достаточно велико, ограничим график зоной до первого и после третьего квартиля."
      ]
    },
    {
      "cell_type": "code",
      "execution_count": null,
      "metadata": {
        "id": "yGShm7YBrsk0",
        "outputId": "016c065e-d0e6-43eb-d169-25a558cc8248"
      },
      "outputs": [
        {
          "data": {
            "image/png": "[encoded data removed]",
            "text/plain": [
              "<Figure size 432x288 with 1 Axes>"
            ]
          },
          "metadata": {
            "needs_background": "light"
          },
          "output_type": "display_data"
        }
      ],
      "source": [
        "plt.hist(data['living_area'], bins=100, range=(10,60))\n",
        "plt.title('Анализ жилой площади объектов недвижимости')\n",
        "plt.xlabel('Квадратные метры')\n",
        "plt.ylabel('Количество квартир')\n",
        "plt.show()"
      ]
    },
    {
      "cell_type": "markdown",
      "metadata": {
        "id": "ErIAh005rsk0"
      },
      "source": [
        "На данной гистограмме можно наблюдать три пика, как раз у вершин квартилей и медианы - 18, 30 и 42 кв.м. Подтверждается востребованность однушек, двушек и трёшек: как раз три больших пика по жилой площади, которая варьируется в определённых пределах.\n",
        "\n",
        "**Вывод:** самые популярные в продаже квартиры с жилой площадью 18 кв.м. и 30 кв.м., а в диапазоне от 20 кв.м. до 27 кв.м - предложений сравнительно мало."
      ]
    },
    {
      "cell_type": "markdown",
      "metadata": {
        "id": "_50BiGHarsk0"
      },
      "source": [
        "##### Анализ площади кухонь в объектах недвижимости"
      ]
    },
    {
      "cell_type": "code",
      "execution_count": null,
      "metadata": {
        "id": "3AoeBHFNrsk0",
        "outputId": "0c8220bc-f29c-4883-c028-b9d09dc955e4"
      },
      "outputs": [
        {
          "data": {
            "text/plain": [
              "count    23699.000000\n",
              "mean        10.440452\n",
              "std          5.995335\n",
              "min          1.300000\n",
              "25%          7.000000\n",
              "50%          9.000000\n",
              "75%         11.975000\n",
              "max        112.000000\n",
              "Name: kitchen_area, dtype: float64"
            ]
          },
          "execution_count": 26,
          "metadata": {},
          "output_type": "execute_result"
        }
      ],
      "source": [
        "data['kitchen_area'].describe()"
      ]
    },
    {
      "cell_type": "markdown",
      "metadata": {
        "id": "F1iugJAhrsk0"
      },
      "source": [
        "Как мы выяснили ранее, во многих объектах недвижимости нет сведений о площади кухни, поэтому мы будем строить график в следующих пределах: начальное значение в два раза меньше третьего квартиля, конечное значение - в два раза больше третьего квартиля."
      ]
    },
    {
      "cell_type": "code",
      "execution_count": null,
      "metadata": {
        "id": "gUwbhNTyrsk0",
        "outputId": "0f343e9a-c175-4353-f4a9-9a72cb76eb4c"
      },
      "outputs": [
        {
          "data": {
            "image/png": "[encoded data removed]",
            "text/plain": [
              "<Figure size 432x288 with 1 Axes>"
            ]
          },
          "metadata": {
            "needs_background": "light"
          },
          "output_type": "display_data"
        }
      ],
      "source": [
        "plt.hist(data['kitchen_area'], bins=100, range=(5,15))\n",
        "plt.title('Анализ площади кухонь')\n",
        "plt.xlabel('Квадратные метры')\n",
        "plt.ylabel('Количество квартир')\n",
        "plt.show()"
      ]
    },
    {
      "cell_type": "markdown",
      "metadata": {
        "id": "mdJCtzZ0rsk0"
      },
      "source": [
        "Самые популярные площади кухонь - это кухни по 6, 8 и 10 кв.метров, причём у целых значений наблюдаются периодические всплески. После замены пропусков значения более выровнялись. Видим пики у целых значений: люди чаще в быту округляют цифры до целых чисел. Ну и опять же подверждается зависимость площади кухни от количества комнат.\n",
        "\n",
        "**Вывод:** больше всего предложений на рынке недвижимости - площади кухонь от 6 кв.м. до 10 кв.м."
      ]
    },
    {
      "cell_type": "markdown",
      "metadata": {
        "id": "hDqtuqoyrsk0"
      },
      "source": [
        "##### Анализ цен на квартиры на момент снятия объявления"
      ]
    },
    {
      "cell_type": "code",
      "execution_count": null,
      "metadata": {
        "id": "7xYk_G1_rsk0",
        "outputId": "e6c2aff5-c144-4fb6-b1b0-0c38f03e1b6f"
      },
      "outputs": [
        {
          "data": {
            "text/plain": [
              "count    2.369900e+04\n",
              "mean     6.541549e+06\n",
              "std      1.088701e+07\n",
              "min      1.219000e+04\n",
              "25%      3.400000e+06\n",
              "50%      4.650000e+06\n",
              "75%      6.800000e+06\n",
              "max      7.630000e+08\n",
              "Name: last_price, dtype: float64"
            ]
          },
          "execution_count": 28,
          "metadata": {},
          "output_type": "execute_result"
        }
      ],
      "source": [
        "data['last_price'].describe()"
      ]
    },
    {
      "cell_type": "markdown",
      "metadata": {
        "id": "Cu2X5ooarslE"
      },
      "source": [
        "Наблюдаем очень большой разброс цен, в максимальных значениях - до 8 знаков после запятой (приближаемся к миллиардным значениям). Проверяем десять самых высоких ценников на квартиры:"
      ]
    },
    {
      "cell_type": "code",
      "execution_count": null,
      "metadata": {
        "id": "4WyEAPGprslE",
        "outputId": "7788ed64-fb75-4108-92f7-aaf7c9a8edff"
      },
      "outputs": [
        {
          "data": {
            "text/plain": [
              "12971    763000000.0\n",
              "19540    420000000.0\n",
              "14706    401300000.0\n",
              "1436     330000000.0\n",
              "15651    300000000.0\n",
              "22831    289238400.0\n",
              "16461    245000000.0\n",
              "13749    240000000.0\n",
              "5893     230000000.0\n",
              "8900     190870000.0\n",
              "Name: last_price, dtype: float64"
            ]
          },
          "execution_count": 29,
          "metadata": {},
          "output_type": "execute_result"
        }
      ],
      "source": [
        "data['last_price'].sort_values(ascending=False).head(10)"
      ]
    },
    {
      "cell_type": "markdown",
      "metadata": {
        "id": "j-yyTf_lrslE"
      },
      "source": [
        "Действительно, были такие объявления от 100 до 763 млн рублей, но всё же, это не массовый сегмент, а категория элитной недвижимсоти. Сосредоточимся на более популярных вариантах. Для этого ограничим круг исследования квартирами, стоимостью от 1 млн. и до 9 млн. рублей."
      ]
    },
    {
      "cell_type": "code",
      "execution_count": null,
      "metadata": {
        "id": "0JJmv6hKrslE",
        "outputId": "148d593d-fb99-4931-e92d-6913150d0161"
      },
      "outputs": [
        {
          "data": {
            "image/png": "[encoded data removed]",
            "text/plain": [
              "<Figure size 432x288 with 1 Axes>"
            ]
          },
          "metadata": {
            "needs_background": "light"
          },
          "output_type": "display_data"
        }
      ],
      "source": [
        "plt.hist(data['last_price'], bins=100, range=(1.00000e+04, 9.00000e+06))\n",
        "plt.title('Анализ цен на квартиры на момент снятия объявления')\n",
        "plt.xlabel('Цена в млн. руб.')\n",
        "plt.ylabel('Количество квартир')\n",
        "plt.show()"
      ]
    },
    {
      "cell_type": "markdown",
      "metadata": {
        "id": "M7yTDgmZrslE"
      },
      "source": [
        "График показывает, что наибольшее количество объявлений в категории от 2 до 6 млн. рублей.\n",
        "\n",
        "**Вывод:** чаще всего квартиры продавались в диапазоне от 3 до 5 млн.рублей - самый массовый сегмент спроса-предложения."
      ]
    },
    {
      "cell_type": "markdown",
      "metadata": {
        "id": "BCv4jYtJrslE"
      },
      "source": [
        "##### Анализ количества комнат квартир в объявлениях"
      ]
    },
    {
      "cell_type": "code",
      "execution_count": null,
      "metadata": {
        "id": "Sb_Z-QTErslE",
        "outputId": "db5ab908-945a-4e58-eab4-3857a576f7ba"
      },
      "outputs": [
        {
          "data": {
            "text/plain": [
              "count    23699.000000\n",
              "mean         2.070636\n",
              "std          1.078405\n",
              "min          0.000000\n",
              "25%          1.000000\n",
              "50%          2.000000\n",
              "75%          3.000000\n",
              "max         19.000000\n",
              "Name: rooms, dtype: float64"
            ]
          },
          "execution_count": 31,
          "metadata": {},
          "output_type": "execute_result"
        }
      ],
      "source": [
        "data['rooms'].describe()"
      ]
    },
    {
      "cell_type": "markdown",
      "metadata": {
        "id": "hvsOyh9erslE"
      },
      "source": [
        "Отсекаем 19-ти комнатные варианты и строим график для квартир до 6 комнат."
      ]
    },
    {
      "cell_type": "code",
      "execution_count": null,
      "metadata": {
        "id": "sopE7qa1rslE",
        "outputId": "d374bc5e-0a37-4c32-92f7-9841819f8900"
      },
      "outputs": [
        {
          "data": {
            "image/png": "[encoded data removed]",
            "text/plain": [
              "<Figure size 432x288 with 1 Axes>"
            ]
          },
          "metadata": {
            "needs_background": "light"
          },
          "output_type": "display_data"
        }
      ],
      "source": [
        "plt.hist(data['rooms'], bins=6, range=(0,6))\n",
        "plt.title('Анализ количества комнат в квартирах')\n",
        "plt.xlabel('Количество комнат')\n",
        "plt.ylabel('Количество квартир')\n",
        "plt.show()"
      ]
    },
    {
      "cell_type": "markdown",
      "metadata": {
        "id": "C4vTwcbdrslE"
      },
      "source": [
        "**Вывод:** практически одинаковым спросом пользуются одно- и двухкомнатные квартиры, \"трёшки\" также востребованы среди покупателей."
      ]
    },
    {
      "cell_type": "markdown",
      "metadata": {
        "id": "6rngT8ybrslE"
      },
      "source": [
        "##### Анализ высоты потолков квартир в объявлениях"
      ]
    },
    {
      "cell_type": "code",
      "execution_count": null,
      "metadata": {
        "id": "xeVvMro-rslE",
        "outputId": "3b5f1e34-6d02-442f-f575-f0d67e53f4d5"
      },
      "outputs": [
        {
          "data": {
            "text/plain": [
              "count    23699.000000\n",
              "mean         2.698721\n",
              "std          0.253208\n",
              "min          1.000000\n",
              "25%          2.600000\n",
              "50%          2.650000\n",
              "75%          2.700000\n",
              "max         14.000000\n",
              "Name: ceiling_height, dtype: float64"
            ]
          },
          "execution_count": 33,
          "metadata": {},
          "output_type": "execute_result"
        }
      ],
      "source": [
        "data['ceiling_height'].describe()"
      ]
    },
    {
      "cell_type": "markdown",
      "metadata": {
        "id": "0w58fNGRrslE"
      },
      "source": [
        "Как мы можем видеть, шаг высоты потолков не очень большой: 2.60, 2.65 и 2.70 метров, поэтому для вывода на график, для наглядности, увеличим количество корзин."
      ]
    },
    {
      "cell_type": "code",
      "execution_count": null,
      "metadata": {
        "id": "b1w02qxPrslE",
        "outputId": "a2768bbf-9e6a-407d-d683-ab17b2002ab4"
      },
      "outputs": [
        {
          "data": {
            "image/png": "[encoded data removed]",
            "text/plain": [
              "<Figure size 432x288 with 1 Axes>"
            ]
          },
          "metadata": {
            "needs_background": "light"
          },
          "output_type": "display_data"
        }
      ],
      "source": [
        "plt.hist(data['ceiling_height'], bins=30, range=(2,4))\n",
        "plt.title('Анализ высоты потолков квартир в объявлениях')\n",
        "plt.xlabel('Метры')\n",
        "plt.ylabel('Количество квартир')\n",
        "plt.show()"
      ]
    },
    {
      "cell_type": "markdown",
      "metadata": {
        "id": "K6rmWLrOrslE"
      },
      "source": [
        "**Вывод:** самые популярные квартиры с высотой потолков, равной 2.65 метра, что совпадает с текущими тенденциями рынка."
      ]
    },
    {
      "cell_type": "markdown",
      "metadata": {
        "id": "Y8_ctWC2rslE"
      },
      "source": [
        "##### Анализ распределения квартир по типу этажа"
      ]
    },
    {
      "cell_type": "markdown",
      "metadata": {
        "id": "MY71XtbZrslE"
      },
      "source": [
        "Логично предположить, что больше всего в продаже квартир со второго до предпоследнего этажа, посмотрим на диаграмму:"
      ]
    },
    {
      "cell_type": "code",
      "execution_count": null,
      "metadata": {
        "id": "mBttvS9nrslE",
        "outputId": "ef5d9fb6-ea96-4c46-cc83-314f0bf376b6"
      },
      "outputs": [
        {
          "data": {
            "image/png": "[encoded data removed]",
            "text/plain": [
              "<Figure size 432x288 with 1 Axes>"
            ]
          },
          "metadata": {
            "needs_background": "light"
          },
          "output_type": "display_data"
        }
      ],
      "source": [
        "count = data['apartment_floor_type'].value_counts()\n",
        "plt.bar(x=count.index, height=count.values)\n",
        "plt.xlabel('Категории этажа')\n",
        "plt.ylabel('Количество объявлений')\n",
        "plt.title('Распределение квартир по типу этажа')\n",
        "plt.show()"
      ]
    },
    {
      "cell_type": "markdown",
      "metadata": {
        "id": "8jk1F5TbrslE"
      },
      "source": [
        "Действительно, большинство квартир находятся не на первом и не на последнем этаже, а квартир на первых этажах - самое малое количество.\n",
        "\n",
        "**Вывод:** квартиры на первом и последнем этаже не пользуются популярностью среди покупателей."
      ]
    },
    {
      "cell_type": "markdown",
      "metadata": {
        "id": "DqfBoKxhrslE"
      },
      "source": [
        "##### Анализ этажности домов"
      ]
    },
    {
      "cell_type": "code",
      "execution_count": null,
      "metadata": {
        "id": "PzED5rsMrslE",
        "outputId": "47fbf351-97f5-4ee7-b614-c626111ea298"
      },
      "outputs": [
        {
          "data": {
            "image/png": "[encoded data removed]",
            "text/plain": [
              "<Figure size 432x288 with 1 Axes>"
            ]
          },
          "metadata": {
            "needs_background": "light"
          },
          "output_type": "display_data"
        }
      ],
      "source": [
        "plt.hist(data['floors_total'], bins=100, range=(1,25))\n",
        "plt.title('Анализ этажности домов')\n",
        "plt.xlabel('Этаж')\n",
        "plt.ylabel('Количество квартир')\n",
        "plt.show()"
      ]
    },
    {
      "cell_type": "markdown",
      "metadata": {
        "id": "7PCc542jrslE"
      },
      "source": [
        "**Вывод:** в большинстве своём квартиры продавались в пяти- и девятиэтажных домах (скорее всего советской постройки), а также в домах новых серий: 11, 16 и 25 этажей."
      ]
    },
    {
      "cell_type": "markdown",
      "metadata": {
        "id": "_j_ZHYjorslE"
      },
      "source": [
        "<div class=\"alert alert-block alert-warning\">\n",
        "\n",
        "**Комментарий ревьювера (что можно улучшить)**\n",
        "    \n",
        "Если изучить сторонние источники, то можно увидеть, что максимальное количество этажей в жилых домах для Санкт-Петербурга равно 37 (ЖК Александр Невский). В других населенных пунктах значения выше маловероятны.\n",
        "</div>"
      ]
    },
    {
      "cell_type": "markdown",
      "metadata": {
        "id": "gVTaXMDhrslE"
      },
      "source": [
        "##### Анализ удалённости квартир от центра города"
      ]
    },
    {
      "cell_type": "code",
      "execution_count": null,
      "metadata": {
        "id": "lEsoNrzarslE",
        "outputId": "25b33acd-fd65-4e93-9303-658b63a9f79f"
      },
      "outputs": [
        {
          "data": {
            "image/png": "[encoded data removed]",
            "text/plain": [
              "<Figure size 432x288 with 1 Axes>"
            ]
          },
          "metadata": {
            "needs_background": "light"
          },
          "output_type": "display_data"
        }
      ],
      "source": [
        "plt.hist(data['city_centers_nearest'], bins=100, range=(0,25000))\n",
        "plt.title('Анализ удалённости квартир от центра города')\n",
        "plt.xlabel('Расстояние до центра города (м.)')\n",
        "plt.ylabel('Количество квартир')\n",
        "plt.show()"
      ]
    },
    {
      "cell_type": "markdown",
      "metadata": {
        "id": "K4M7NrxorslE"
      },
      "source": [
        "**Вывод:** самое большое количество предложений квартир на значительном удалении от центра города: от 12 до 15 км., также наблюдается всплеск объявлений о продаже квартир в пределах 5 км. от центра."
      ]
    },
    {
      "cell_type": "markdown",
      "metadata": {
        "id": "yrZGLCNFrslE"
      },
      "source": [
        "##### Анализ удалённости квартир от парков"
      ]
    },
    {
      "cell_type": "code",
      "execution_count": null,
      "metadata": {
        "id": "u86XX_6WrslE",
        "outputId": "447634a1-460b-406f-e7f1-bea11638e3d2"
      },
      "outputs": [
        {
          "data": {
            "text/plain": [
              "count    8079.000000\n",
              "mean      490.804555\n",
              "std       342.317995\n",
              "min         1.000000\n",
              "25%       288.000000\n",
              "50%       455.000000\n",
              "75%       612.000000\n",
              "max      3190.000000\n",
              "Name: parks_nearest, dtype: float64"
            ]
          },
          "execution_count": 38,
          "metadata": {},
          "output_type": "execute_result"
        }
      ],
      "source": [
        "data['parks_nearest'].describe()"
      ]
    },
    {
      "cell_type": "markdown",
      "metadata": {
        "id": "0RbmfeSqrslE"
      },
      "source": [
        "Видим, что здесь данные чуть более чем о 8 тыс. квартир, максимальное значение - около 3200 метров, получается, парки на большем удалении - стали пропусками в данных, либо в данных населённых пунктах и вовсе нет парков."
      ]
    },
    {
      "cell_type": "code",
      "execution_count": null,
      "metadata": {
        "id": "qKoueTTKrslE",
        "outputId": "07582467-cdc7-4ef1-d911-df48920aaf39"
      },
      "outputs": [
        {
          "data": {
            "image/png": "[encoded data removed]",
            "text/plain": [
              "<Figure size 432x288 with 1 Axes>"
            ]
          },
          "metadata": {
            "needs_background": "light"
          },
          "output_type": "display_data"
        }
      ],
      "source": [
        "plt.hist(data['parks_nearest'], bins=100, range=(10,1000))\n",
        "plt.title('Анализ удалённости квартир от парков')\n",
        "plt.xlabel('Расстояние до марка (м.)')\n",
        "plt.ylabel('Количество квартир')\n",
        "plt.show()"
      ]
    },
    {
      "cell_type": "markdown",
      "metadata": {
        "id": "KG8gIt4JrslE"
      },
      "source": [
        "Как мы выяснили ранее, что в данных о расстояниях до парков имеется много пропусков и предположили, что квартиры, расположенные слишком далеко от парков не были включены в колонку. Гистограмма показывает, что большое количество квартир находится у парков, если они есть поблизости.\n",
        "\n",
        "**Вывод:** от большинства квартир, расположенных рядом с парками, последние находятся на расстоянии от 300 до 600 метров."
      ]
    },
    {
      "cell_type": "markdown",
      "metadata": {
        "id": "NP9ulim0rslE"
      },
      "source": [
        "**Выводы:** в данном подразделе мы исследовали основные характеристики квартир в объявлениях, построили наглядные графики для отображения параметров квартир. Выяснили, что типичное предложение на рынке выглядит следующим образом: одно- или двухкомнатная квартира в девятиэтажном доме, с небольшой кухней и невысокими потолками, стоимостью около 3 млн. рублей. Вряд ли рядом с ней будет какой-либо парк, зато она будет не на первом или последнем этаже."
      ]
    },
    {
      "cell_type": "markdown",
      "metadata": {
        "id": "SQdAdBbtrslE"
      },
      "source": [
        "#### Изучение скорости продажи квартир"
      ]
    },
    {
      "cell_type": "markdown",
      "metadata": {
        "id": "mbU9jADkrslE"
      },
      "source": [
        "Скорость продажи квартир содержится в столбце 'days_exposition' и для начала мы посмотрим общую информацию об этих данных:"
      ]
    },
    {
      "cell_type": "code",
      "execution_count": null,
      "metadata": {
        "id": "7kx6MROirslE",
        "outputId": "af97d6d1-e512-46bb-c09b-4433722f818c"
      },
      "outputs": [
        {
          "data": {
            "text/plain": [
              "count    20518.000000\n",
              "mean       180.888634\n",
              "std        219.727988\n",
              "min          1.000000\n",
              "25%         45.000000\n",
              "50%         95.000000\n",
              "75%        232.000000\n",
              "max       1580.000000\n",
              "Name: days_exposition, dtype: float64"
            ]
          },
          "execution_count": 40,
          "metadata": {},
          "output_type": "execute_result"
        }
      ],
      "source": [
        "data['days_exposition'].describe()"
      ]
    },
    {
      "cell_type": "markdown",
      "metadata": {
        "id": "McYhw2xorslE"
      },
      "source": [
        "Среднее время продажи составило 180 дней (полгода), медиана по сроку продаж составляет 95 дней (чуть больше 3 месяцев). Построим гистрограмму:"
      ]
    },
    {
      "cell_type": "code",
      "execution_count": null,
      "metadata": {
        "id": "vV_5MXjjrslE",
        "outputId": "db581fcb-c29e-4b4d-c9c1-03e794c72401"
      },
      "outputs": [
        {
          "data": {
            "image/png": "[encoded data removed]",
            "text/plain": [
              "<Figure size 432x288 with 1 Axes>"
            ]
          },
          "metadata": {
            "needs_background": "light"
          },
          "output_type": "display_data"
        }
      ],
      "source": [
        "plt.hist(data['days_exposition'], bins=100, range=(0, 300))\n",
        "plt.title('Скорость продажи квартир')\n",
        "plt.xlabel('Срок размещения объявления (в днях)')\n",
        "plt.ylabel('Количество объявлений')\n",
        "plt.show()"
      ]
    },
    {
      "cell_type": "markdown",
      "metadata": {
        "id": "FWvaMYPvrslE"
      },
      "source": [
        "Как мы видим, чаще всего квартиры находятся на экспозиции недолго (возможно, привлекательные варианты), есть всплески у значений 45, 60 и 90 дней (возможно после этого срока объявление автоматически снимается и его надо публиковать заново). Наблюдаем тенденцию, что чем дольше квартира находится в продаже, тем менее вероятно, что для неё найдётся покупатель.\n",
        "\n",
        "Можно высказать гипотезу о том, что дорогие квартиры долго продаются, а дешёвые \"улетают\" сразу. Проверим это утверждение:\n"
      ]
    },
    {
      "cell_type": "code",
      "execution_count": null,
      "metadata": {
        "id": "jIoozYYirslE",
        "outputId": "0f749e69-db08-4971-de4d-0b8d02ab4eff"
      },
      "outputs": [
        {
          "data": {
            "image/png": "[encoded data removed]",
            "text/plain": [
              "<Figure size 720x360 with 1 Axes>"
            ]
          },
          "metadata": {
            "needs_background": "light"
          },
          "output_type": "display_data"
        }
      ],
      "source": [
        "# создадим сводную таблицу с данными по цене и скоростью продажи, пересечения обозначим точками на графике\n",
        "# сделаем срез данных по цене (меньше 9 млн. руб.), чтобы выдающиеся значения не влияли на график\n",
        "(\n",
        "    data\n",
        "    .query('last_price <9000000')\n",
        "    .pivot_table(index='days_exposition', values=('last_price'))\n",
        "    .plot(grid=True, style='o', figsize=(10, 5))\n",
        ")\n",
        "plt.title('Зависимость срока продажи квартиры от её цены')\n",
        "plt.xlabel('Срок размещения объявления (в днях)')\n",
        "plt.ylabel('Цена (в миллионах)')\n",
        "plt.show()"
      ]
    },
    {
      "cell_type": "markdown",
      "metadata": {
        "id": "qimhPE_MrslE"
      },
      "source": [
        "Как оказалось, прямой зависимости времени продажи квартиры от её стоимости обнаружено не было, видимо, на длительность срока продажи квартиры влияют другие факторы. Но, чем ближе цена квартиры к её медианному значению (4,6 млн.руб.), тем быстрее она продаётся. Также, чем дольше квартира в продаже, тем больше её продажная цена будет отличаться от рыночной.\n",
        "\n",
        "\n",
        "**Выводы:** в среднем, квартира продаётся за полгода с момента публикации объявления, быстрой продажей можно назвать, если квартира \"уходит\" в течение 45 дней, необычно долгой продажей можно считать, если объект размещён более 9 месяцев подряд."
      ]
    },
    {
      "cell_type": "markdown",
      "metadata": {
        "id": "OV4xxz1DrslE"
      },
      "source": [
        "#### Определение факторов, которые больше всего влияют на общую стоимость объекта"
      ]
    },
    {
      "cell_type": "code",
      "execution_count": null,
      "metadata": {
        "id": "0tJrzfW1rslE",
        "outputId": "2fc1bde7-2b81-47cc-f885-68d4e0b1a56e"
      },
      "outputs": [
        {
          "data": {
            "text/html": [
              "<div>\n",
              "<style scoped>\n",
              "    .dataframe tbody tr th:only-of-type {\n",
              "        vertical-align: middle;\n",
              "    }\n",
              "\n",
              "    .dataframe tbody tr th {\n",
              "        vertical-align: top;\n",
              "    }\n",
              "\n",
              "    .dataframe thead th {\n",
              "        text-align: right;\n",
              "    }\n",
              "</style>\n",
              "<table border=\"1\" class=\"dataframe\">\n",
              "  <thead>\n",
              "    <tr style=\"text-align: right;\">\n",
              "      <th></th>\n",
              "      <th>kitchen_area</th>\n",
              "      <th>last_price</th>\n",
              "      <th>living_area</th>\n",
              "      <th>rooms</th>\n",
              "      <th>total_area</th>\n",
              "    </tr>\n",
              "  </thead>\n",
              "  <tbody>\n",
              "    <tr>\n",
              "      <th>kitchen_area</th>\n",
              "      <td>1.000000</td>\n",
              "      <td>0.306179</td>\n",
              "      <td>0.214263</td>\n",
              "      <td>0.151710</td>\n",
              "      <td>0.435195</td>\n",
              "    </tr>\n",
              "    <tr>\n",
              "      <th>last_price</th>\n",
              "      <td>0.306179</td>\n",
              "      <td>1.000000</td>\n",
              "      <td>0.621699</td>\n",
              "      <td>0.442449</td>\n",
              "      <td>0.738972</td>\n",
              "    </tr>\n",
              "    <tr>\n",
              "      <th>living_area</th>\n",
              "      <td>0.214263</td>\n",
              "      <td>0.621699</td>\n",
              "      <td>1.000000</td>\n",
              "      <td>0.893732</td>\n",
              "      <td>0.947346</td>\n",
              "    </tr>\n",
              "    <tr>\n",
              "      <th>rooms</th>\n",
              "      <td>0.151710</td>\n",
              "      <td>0.442449</td>\n",
              "      <td>0.893732</td>\n",
              "      <td>1.000000</td>\n",
              "      <td>0.811538</td>\n",
              "    </tr>\n",
              "    <tr>\n",
              "      <th>total_area</th>\n",
              "      <td>0.435195</td>\n",
              "      <td>0.738972</td>\n",
              "      <td>0.947346</td>\n",
              "      <td>0.811538</td>\n",
              "      <td>1.000000</td>\n",
              "    </tr>\n",
              "  </tbody>\n",
              "</table>\n",
              "</div>"
            ],
            "text/plain": [
              "              kitchen_area  last_price  living_area     rooms  total_area\n",
              "kitchen_area      1.000000    0.306179     0.214263  0.151710    0.435195\n",
              "last_price        0.306179    1.000000     0.621699  0.442449    0.738972\n",
              "living_area       0.214263    0.621699     1.000000  0.893732    0.947346\n",
              "rooms             0.151710    0.442449     0.893732  1.000000    0.811538\n",
              "total_area        0.435195    0.738972     0.947346  0.811538    1.000000"
            ]
          },
          "execution_count": 43,
          "metadata": {},
          "output_type": "execute_result"
        }
      ],
      "source": [
        "# составим сводную таблицу и выявим корреляцию между ценой, площадью кухонь, общей и жилой площадью квартир, количеством комнат\n",
        "(\n",
        "    data\n",
        "    .pivot_table(index='floor', values=['last_price','total_area','living_area','kitchen_area','rooms'])\n",
        "    .corr()\n",
        ")"
      ]
    },
    {
      "cell_type": "markdown",
      "metadata": {
        "id": "FK5USxrBrslE"
      },
      "source": [
        "Прослеживается почти прямая зависимость между: ценой квартиры и её общей площадью и жилой площадью, не очень большая между ценой и количеством комнат в квартире.\n",
        "Слабая взаимосвязь между ценой и площадью кухни.\n",
        "\n",
        "\n",
        "Проверим на точечном графике корреляцию между ценой квартиры и её общей площадью:"
      ]
    },
    {
      "cell_type": "code",
      "execution_count": null,
      "metadata": {
        "id": "sHp-h4pwrslE",
        "outputId": "2bd011f0-739a-4089-b7aa-f5aff4576c6f"
      },
      "outputs": [
        {
          "data": {
            "image/png": "[encoded data removed]",
            "text/plain": [
              "<Figure size 432x288 with 1 Axes>"
            ]
          },
          "metadata": {
            "needs_background": "light"
          },
          "output_type": "display_data"
        }
      ],
      "source": [
        "plt.scatter(x=data['total_area'], y=data['last_price'], color='green', marker='o', s=5)\n",
        "plt.title('Зависимость цены квартиры от её общей площади')\n",
        "plt.xlabel('Общая площадь квартиры (в метрах)')\n",
        "plt.ylabel('Цена (в миллионах)')\n",
        "plt.show()"
      ]
    },
    {
      "cell_type": "markdown",
      "metadata": {
        "id": "GjdgATuarslE"
      },
      "source": [
        "Зависимость подтверждается, поэтому фактор общей площади квартиры сильно влияет на её цену."
      ]
    },
    {
      "cell_type": "code",
      "execution_count": null,
      "metadata": {
        "id": "Tfp5w-9SrslE",
        "outputId": "39b63919-ee46-43aa-c93d-fe179bbfd0e9"
      },
      "outputs": [
        {
          "data": {
            "image/png": "[encoded data removed]",
            "text/plain": [
              "<Figure size 432x288 with 1 Axes>"
            ]
          },
          "metadata": {
            "needs_background": "light"
          },
          "output_type": "display_data"
        }
      ],
      "source": [
        "plt.scatter(x=data['living_area'], y=data['last_price'], color='green', marker='o', s=5)\n",
        "plt.title('Зависимость цены квартиры от её жилой площади')\n",
        "plt.xlabel('Жилая площадь квартиры (в метрах)')\n",
        "plt.ylabel('Цена (в миллионах)')\n",
        "plt.show()"
      ]
    },
    {
      "cell_type": "markdown",
      "metadata": {
        "id": "qrsHSLx0rslE"
      },
      "source": [
        "Зависимость цены квартиры от её жилой площади немного меньше, чем от общей площади, но коррелляция всё равно прослеживается."
      ]
    },
    {
      "cell_type": "code",
      "execution_count": null,
      "metadata": {
        "id": "r92vMwg8rslE",
        "outputId": "e1742471-7398-4db0-8077-87b978b2e65a"
      },
      "outputs": [
        {
          "data": {
            "image/png": "[encoded data removed]",
            "text/plain": [
              "<Figure size 432x288 with 1 Axes>"
            ]
          },
          "metadata": {
            "needs_background": "light"
          },
          "output_type": "display_data"
        }
      ],
      "source": [
        "plt.scatter(x=data['kitchen_area'], y=data['last_price'], color='green', marker='o', s=5)\n",
        "plt.title('Зависимость цены квартиры от площади кухни')\n",
        "plt.xlabel('Площадь кухни (в метрах)')\n",
        "plt.ylabel('Цена (в миллионах)')\n",
        "plt.show()"
      ]
    },
    {
      "cell_type": "markdown",
      "metadata": {
        "id": "1h0xwuVQrslE"
      },
      "source": [
        "Зависимость цены квартиры от площади её кухни небольшая, но есть. Тут стоит вспомнить, что в датасете имеются квартиры-студии, в которых площадь кухни нулевая."
      ]
    },
    {
      "cell_type": "code",
      "execution_count": null,
      "metadata": {
        "id": "jVroEFSgrslE",
        "outputId": "0afbe6ba-6c43-4b13-e2b5-64d47a039a4e"
      },
      "outputs": [
        {
          "data": {
            "image/png": "[encoded data removed]",
            "text/plain": [
              "<Figure size 360x360 with 1 Axes>"
            ]
          },
          "metadata": {
            "needs_background": "light"
          },
          "output_type": "display_data"
        }
      ],
      "source": [
        "(\n",
        "    data\n",
        "    .query('last_price <9000000')\n",
        "    .pivot_table(index='rooms', values='last_price')\n",
        "    .plot(grid=True, style='o-', figsize=(5, 5), color='green')\n",
        ")\n",
        "plt.title('Зависимость цены квартиры от количества комнат')\n",
        "plt.xlabel('Количество комнат (штук)')\n",
        "plt.ylabel('Цена (в миллионах)')\n",
        "plt.show()"
      ]
    },
    {
      "cell_type": "markdown",
      "metadata": {
        "id": "XqZDTcfsrslE"
      },
      "source": [
        "Можно увидеть взаимосвязь между ценой объекта и количеством комнат, однако после трёхкомнатных квартир влияние количества комнат на стоимость квартиры уже не также сильное. Плюс надо учесть территориальный фактор: квартиры в центре города всегда дороже, не зависимо от количества комнат, а вдали от города количество комнат уже влияет слабо на цену."
      ]
    },
    {
      "cell_type": "code",
      "execution_count": null,
      "metadata": {
        "id": "Y25Sk8UQrslE",
        "outputId": "613e1310-d83d-4811-bdd2-4cd9ac0a40ca"
      },
      "outputs": [
        {
          "data": {
            "image/png": "[encoded data removed]",
            "text/plain": [
              "<Figure size 360x360 with 1 Axes>"
            ]
          },
          "metadata": {
            "needs_background": "light"
          },
          "output_type": "display_data"
        }
      ],
      "source": [
        "(\n",
        "    data\n",
        "    .query('last_price <9000000')\n",
        "    .pivot_table(index='apartment_floor_type', values='last_price')\n",
        "    .plot(grid=True, style='o-', figsize=(5, 5), color='green')\n",
        ")\n",
        "plt.title('Зависимость цены типа этажа расположения')\n",
        "plt.show()"
      ]
    },
    {
      "cell_type": "markdown",
      "metadata": {
        "id": "a5jueZKYrslE"
      },
      "source": [
        "Как мы видим, более недорогие квартиры на первых этажах, на последнем этаже подороже и более дорогие квартиры расположены на других этажах.\n",
        "\n",
        "Далее изучим влияет ли на цены продажи дата размещения объявления (день недели, месяц или год):"
      ]
    },
    {
      "cell_type": "code",
      "execution_count": null,
      "metadata": {
        "id": "9tb6IW5-rslE",
        "outputId": "c45d708f-6b52-493c-bc85-665139def0fb"
      },
      "outputs": [
        {
          "data": {
            "image/png": "[encoded data removed]",
            "text/plain": [
              "<Figure size 360x360 with 1 Axes>"
            ]
          },
          "metadata": {
            "needs_background": "light"
          },
          "output_type": "display_data"
        }
      ],
      "source": [
        "(\n",
        "    data\n",
        "    .query('last_price <9000000')\n",
        "    .pivot_table(index='publication_day', values='last_price', aggfunc='median')\n",
        "    .plot(grid=True, style='o-', figsize=(5, 5), color='green')\n",
        ")\n",
        "plt.title('Зависимость цены от дня публикации')\n",
        "plt.show()"
      ]
    },
    {
      "cell_type": "markdown",
      "metadata": {
        "id": "USRwaFuZrslE"
      },
      "source": [
        "Можем увидеть небольшую зависимость цены квартиры от дня публикации: в начале недели квартиры продаются немного дороже тех, которые публикуются в выходные."
      ]
    },
    {
      "cell_type": "code",
      "execution_count": null,
      "metadata": {
        "id": "ZN-UFrE8rslT",
        "outputId": "b4a052f1-b5ca-4a8a-c9be-38ee0ba37ce2"
      },
      "outputs": [
        {
          "data": {
            "image/png": "[encoded data removed]",
            "text/plain": [
              "<Figure size 360x360 with 1 Axes>"
            ]
          },
          "metadata": {
            "needs_background": "light"
          },
          "output_type": "display_data"
        }
      ],
      "source": [
        "(\n",
        "    data\n",
        "    .query('last_price <9000000')\n",
        "    .pivot_table(index='publication_month', values='last_price', aggfunc='median')\n",
        "    .plot(grid=True, style='o-', figsize=(5, 5), color='green')\n",
        ")\n",
        "plt.title('Зависимость цены от месяца публикации')\n",
        "plt.show()"
      ]
    },
    {
      "cell_type": "markdown",
      "metadata": {
        "id": "KhqABFOIrslT"
      },
      "source": [
        "Видим, что в начале года, особенно весной, публикуются объявления с более дорогими квартирами, нежели летом и осенью."
      ]
    },
    {
      "cell_type": "code",
      "execution_count": null,
      "metadata": {
        "id": "27nr4NUUrslT",
        "outputId": "b7dd27a7-1b4e-49ee-a84e-fd192d231b7d"
      },
      "outputs": [
        {
          "data": {
            "image/png": "[encoded data removed]",
            "text/plain": [
              "<Figure size 360x360 with 1 Axes>"
            ]
          },
          "metadata": {
            "needs_background": "light"
          },
          "output_type": "display_data"
        }
      ],
      "source": [
        "(\n",
        "    data\n",
        "    .query('last_price <9000000')\n",
        "    .pivot_table(index='publication_year', values='last_price', aggfunc='median')\n",
        "    .plot(grid=True, style='o-', figsize=(5, 5), color='green')\n",
        ")\n",
        "plt.title('Зависимость цены от года публикации')\n",
        "plt.show()"
      ]
    },
    {
      "cell_type": "markdown",
      "metadata": {
        "id": "PgVXSFyhrslT"
      },
      "source": [
        "На данном графике можно увидеть чёткую тенденцию к удешевлению квартир с 2015 года, последующем провалом по цене и рост стоимости с 2018 года. Так что год публикации сильно влияет на стоимость продажи квартиры.\n",
        "\n",
        "**Выводы:** сильнее всего на конечную стоимость квартиры влияют общая и жилая площадь квартиры, количество комнат, этаж (не первый и не последний) и год размещения объявления. Остальные факторы влияют мало или практически не влияют."
      ]
    },
    {
      "cell_type": "markdown",
      "metadata": {
        "id": "Lo7woFIerslT"
      },
      "source": [
        "#### Подсчёт средней цены одного квадратного метра в десяти населённых пунктах с наибольшим числом объявлений"
      ]
    },
    {
      "cell_type": "code",
      "execution_count": null,
      "metadata": {
        "id": "nHlo14jKrslT",
        "outputId": "d49ea0d5-cf64-4a4f-821c-3d102467a8f8"
      },
      "outputs": [
        {
          "data": {
            "text/html": [
              "<div>\n",
              "<style scoped>\n",
              "    .dataframe tbody tr th:only-of-type {\n",
              "        vertical-align: middle;\n",
              "    }\n",
              "\n",
              "    .dataframe tbody tr th {\n",
              "        vertical-align: top;\n",
              "    }\n",
              "\n",
              "    .dataframe thead th {\n",
              "        text-align: right;\n",
              "    }\n",
              "</style>\n",
              "<table border=\"1\" class=\"dataframe\">\n",
              "  <thead>\n",
              "    <tr style=\"text-align: right;\">\n",
              "      <th></th>\n",
              "      <th>кол-во объявлений</th>\n",
              "      <th>цена за 1 кв.метр</th>\n",
              "    </tr>\n",
              "    <tr>\n",
              "      <th>населённый пункт</th>\n",
              "      <th></th>\n",
              "      <th></th>\n",
              "    </tr>\n",
              "  </thead>\n",
              "  <tbody>\n",
              "    <tr>\n",
              "      <th>санкт-петербург</th>\n",
              "      <td>15721</td>\n",
              "      <td>114849.01</td>\n",
              "    </tr>\n",
              "    <tr>\n",
              "      <th>пушкин</th>\n",
              "      <td>369</td>\n",
              "      <td>103125.82</td>\n",
              "    </tr>\n",
              "    <tr>\n",
              "      <th>кудрово</th>\n",
              "      <td>472</td>\n",
              "      <td>95324.93</td>\n",
              "    </tr>\n",
              "    <tr>\n",
              "      <th>парголово</th>\n",
              "      <td>327</td>\n",
              "      <td>90175.91</td>\n",
              "    </tr>\n",
              "    <tr>\n",
              "      <th>мурино</th>\n",
              "      <td>590</td>\n",
              "      <td>86087.51</td>\n",
              "    </tr>\n",
              "    <tr>\n",
              "      <th>шушары</th>\n",
              "      <td>440</td>\n",
              "      <td>78677.36</td>\n",
              "    </tr>\n",
              "    <tr>\n",
              "      <th>колпино</th>\n",
              "      <td>338</td>\n",
              "      <td>75424.58</td>\n",
              "    </tr>\n",
              "    <tr>\n",
              "      <th>гатчина</th>\n",
              "      <td>307</td>\n",
              "      <td>68746.15</td>\n",
              "    </tr>\n",
              "    <tr>\n",
              "      <th>всеволожск</th>\n",
              "      <td>398</td>\n",
              "      <td>68654.47</td>\n",
              "    </tr>\n",
              "    <tr>\n",
              "      <th>выборг</th>\n",
              "      <td>237</td>\n",
              "      <td>58141.91</td>\n",
              "    </tr>\n",
              "  </tbody>\n",
              "</table>\n",
              "</div>"
            ],
            "text/plain": [
              "                  кол-во объявлений  цена за 1 кв.метр\n",
              "населённый пункт                                      \n",
              "санкт-петербург               15721          114849.01\n",
              "пушкин                          369          103125.82\n",
              "кудрово                         472           95324.93\n",
              "парголово                       327           90175.91\n",
              "мурино                          590           86087.51\n",
              "шушары                          440           78677.36\n",
              "колпино                         338           75424.58\n",
              "гатчина                         307           68746.15\n",
              "всеволожск                      398           68654.47\n",
              "выборг                          237           58141.91"
            ]
          },
          "execution_count": 52,
          "metadata": {},
          "output_type": "execute_result"
        }
      ],
      "source": [
        "# создадим сводную таблицу распределения цен на квартиры в зависимости от населённого пункта, подсчитаем количество объявлений\n",
        "# отсортируем значения количества объявлений по убыванию, сформируем десятку городов с самым большим количеством объявлений\n",
        "# добавим в полученную таблицу колонку со средней стоимсотью квадратного метра в данном НП\n",
        "\n",
        "top10_mean_price = data.pivot_table(index='locality_name', values='last_price', aggfunc=['count'])\n",
        "top10_mean_price.columns = ['count']\n",
        "top10_mean_price = top10_mean_price.sort_values(by='count', ascending=False).head(10)\n",
        "top10_mean_price['square_meter_cost'] = data.pivot_table(index='locality_name', values='square_meter_cost').round(2)\n",
        "\n",
        "# наведём лоск в таблице, переименуем названия колонок в читаемый вид\n",
        "\n",
        "top10_mean_price = top10_mean_price.rename(columns={'count': 'кол-во объявлений', 'square_meter_cost': 'цена за 1 кв.метр'})\n",
        "top10_mean_price = top10_mean_price.rename_axis('населённый пункт')\n",
        "top10_mean_price.sort_values(by='цена за 1 кв.метр', ascending=False)"
      ]
    },
    {
      "cell_type": "markdown",
      "metadata": {
        "id": "8ycaH3Y8rslT"
      },
      "source": [
        "Населёнными пунктами с самой дороой недвижимостью стали (ожидаемо) Санкт-Петербург, город Пушкин, Кудрово, Парголово, Мурино и т.д. Замыкает десятку городов с самой высокой стоимостью недвижимсоти за квадратный метр - Выборг."
      ]
    },
    {
      "cell_type": "code",
      "execution_count": null,
      "metadata": {
        "id": "8dAtO_YQrslT",
        "outputId": "aef9b52b-5ef6-4219-fc41-eeca589eedca"
      },
      "outputs": [
        {
          "data": {
            "text/html": [
              "<div>\n",
              "<style scoped>\n",
              "    .dataframe tbody tr th:only-of-type {\n",
              "        vertical-align: middle;\n",
              "    }\n",
              "\n",
              "    .dataframe tbody tr th {\n",
              "        vertical-align: top;\n",
              "    }\n",
              "\n",
              "    .dataframe thead th {\n",
              "        text-align: right;\n",
              "    }\n",
              "</style>\n",
              "<table border=\"1\" class=\"dataframe\">\n",
              "  <thead>\n",
              "    <tr style=\"text-align: right;\">\n",
              "      <th></th>\n",
              "      <th>кол-во объявлений</th>\n",
              "      <th>цена за 1 кв.метр</th>\n",
              "    </tr>\n",
              "    <tr>\n",
              "      <th>населённый пункт</th>\n",
              "      <th></th>\n",
              "      <th></th>\n",
              "    </tr>\n",
              "  </thead>\n",
              "  <tbody>\n",
              "    <tr>\n",
              "      <th>малая романовка</th>\n",
              "      <td>1</td>\n",
              "      <td>12724.55</td>\n",
              "    </tr>\n",
              "    <tr>\n",
              "      <th>мануйлово</th>\n",
              "      <td>1</td>\n",
              "      <td>24476.99</td>\n",
              "    </tr>\n",
              "    <tr>\n",
              "      <th>69-й километр</th>\n",
              "      <td>1</td>\n",
              "      <td>25616.70</td>\n",
              "    </tr>\n",
              "    <tr>\n",
              "      <th>меньково</th>\n",
              "      <td>1</td>\n",
              "      <td>28828.83</td>\n",
              "    </tr>\n",
              "    <tr>\n",
              "      <th>мыза-ивановка</th>\n",
              "      <td>1</td>\n",
              "      <td>30694.67</td>\n",
              "    </tr>\n",
              "    <tr>\n",
              "      <th>жилпоселок</th>\n",
              "      <td>1</td>\n",
              "      <td>32480.31</td>\n",
              "    </tr>\n",
              "    <tr>\n",
              "      <th>нижние осельки</th>\n",
              "      <td>1</td>\n",
              "      <td>39864.86</td>\n",
              "    </tr>\n",
              "    <tr>\n",
              "      <th>нижняя</th>\n",
              "      <td>1</td>\n",
              "      <td>40816.33</td>\n",
              "    </tr>\n",
              "    <tr>\n",
              "      <th>лупполово</th>\n",
              "      <td>1</td>\n",
              "      <td>61366.34</td>\n",
              "    </tr>\n",
              "    <tr>\n",
              "      <th>новая ропша</th>\n",
              "      <td>1</td>\n",
              "      <td>81081.08</td>\n",
              "    </tr>\n",
              "  </tbody>\n",
              "</table>\n",
              "</div>"
            ],
            "text/plain": [
              "                  кол-во объявлений  цена за 1 кв.метр\n",
              "населённый пункт                                      \n",
              "малая романовка                   1           12724.55\n",
              "мануйлово                         1           24476.99\n",
              "69-й километр                     1           25616.70\n",
              "меньково                          1           28828.83\n",
              "мыза-ивановка                     1           30694.67\n",
              "жилпоселок                        1           32480.31\n",
              "нижние осельки                    1           39864.86\n",
              "нижняя                            1           40816.33\n",
              "лупполово                         1           61366.34\n",
              "новая ропша                       1           81081.08"
            ]
          },
          "execution_count": 53,
          "metadata": {},
          "output_type": "execute_result"
        }
      ],
      "source": [
        "# повторим предыдущий шаг, но для населённых пунктов с самой дешёвой недвижимостью\n",
        "\n",
        "last10_mean_price = data.pivot_table(index='locality_name', values='last_price', aggfunc=['count'])\n",
        "last10_mean_price.columns = ['count']\n",
        "last10_mean_price = last10_mean_price.sort_values(by='count').head(10)\n",
        "last10_mean_price['square_meter_cost'] = data.pivot_table(index='locality_name', values='square_meter_cost').round(2)\n",
        "last10_mean_price = last10_mean_price.rename(columns={'count': 'кол-во объявлений', 'square_meter_cost': 'цена за 1 кв.метр'})\n",
        "last10_mean_price = last10_mean_price.rename_axis('населённый пункт')\n",
        "last10_mean_price.sort_values(by='цена за 1 кв.метр')"
      ]
    },
    {
      "cell_type": "markdown",
      "metadata": {
        "id": "E7kpJ6bXrslT"
      },
      "source": [
        "Самая низкая стоимость недвижимости за один квадратный метр нашлась в отдалённых посёлках Лениградской области. Однако данный рейтинг не очень показателен, т.к. количество объявлений в данных населённых пунктах - минимально.\n",
        "\n",
        "**Выводы:** самая высокая средняя стоимость квадратного метра наблюдается в городе Санкт-Петербурге. Затем следует Пушкин, что, вероятно, объясняется исторической привлекательностью города и наличием множества парков. После идут районы, которые фактически находятся вблизи Санкт-Петербурга. Среди десяти лучших районов наименьшая стоимость наблюдается в Гатчине и Всеволожске, до которых нужно далеко ехать из Санкт-Петербурга, а также в небольшом по численности населения Выборге, который находится на большом расстоянии от Санкт-Петербурга."
      ]
    },
    {
      "cell_type": "markdown",
      "metadata": {
        "id": "bSvCYdMnrslT"
      },
      "source": [
        "#### Изучение средней стоимости квартир на разном удалении их от центра Санкт-Петербурга"
      ]
    },
    {
      "cell_type": "code",
      "execution_count": null,
      "metadata": {
        "id": "kV_Iah4xrslT",
        "outputId": "59004800-470d-4871-94e8-237cd681ecf1"
      },
      "outputs": [
        {
          "data": {
            "image/png": "[encoded data removed]",
            "text/plain": [
              "<Figure size 1080x360 with 1 Axes>"
            ]
          },
          "metadata": {
            "needs_background": "light"
          },
          "output_type": "display_data"
        }
      ],
      "source": [
        "# создадим срез данных из стоимости квартир в Санкт-Петербурге, построим график зависимости цены от расстояния\n",
        "(\n",
        "    data\n",
        "    .query('locality_name == \"санкт-петербург\"')\n",
        "    .pivot_table(index='distance_city_center', values='last_price')\n",
        "    .plot(grid=True, style='o-', figsize=(15, 5))\n",
        ")\n",
        "plt.title('Зависимость цены от удаления от центра города в Санкт-Петербурге')\n",
        "plt.xlabel('Расстояние от центра города (километров)')\n",
        "plt.ylabel('Цена (10 млн. руб.)')\n",
        "plt.show()"
      ]
    },
    {
      "cell_type": "markdown",
      "metadata": {
        "id": "GvY5uxzgrslT"
      },
      "source": [
        "Как мы можем увидеть, средняя стоимость квартирев центре города выше, нежели на отдалении. Первые восемь километров от центра цена не опускается ниже 10 млн. рублей. После десяти километров от центра стоимость квартир начинает приближаться к среднерыночным. Пик на 27 км можем объяснить, что в 27 км от центра Сантк-Петербурга находится город Пушкин, богатый дворцовыми ансамблями и парками."
      ]
    },
    {
      "cell_type": "code",
      "execution_count": null,
      "metadata": {
        "id": "STYarX18rslT",
        "outputId": "36bfe098-d338-437f-856d-ab8335129931"
      },
      "outputs": [
        {
          "name": "stdout",
          "output_type": "stream",
          "text": [
            "Таблица средней стоимость квартир в зависимости от удаления от центра города Санкт-Петербург\n"
          ]
        },
        {
          "data": {
            "text/html": [
              "<div>\n",
              "<style scoped>\n",
              "    .dataframe tbody tr th:only-of-type {\n",
              "        vertical-align: middle;\n",
              "    }\n",
              "\n",
              "    .dataframe tbody tr th {\n",
              "        vertical-align: top;\n",
              "    }\n",
              "\n",
              "    .dataframe thead th {\n",
              "        text-align: right;\n",
              "    }\n",
              "</style>\n",
              "<table border=\"1\" class=\"dataframe\">\n",
              "  <thead>\n",
              "    <tr style=\"text-align: right;\">\n",
              "      <th></th>\n",
              "      <th>цена продажи</th>\n",
              "    </tr>\n",
              "    <tr>\n",
              "      <th>расстояние от центра</th>\n",
              "      <th></th>\n",
              "    </tr>\n",
              "  </thead>\n",
              "  <tbody>\n",
              "    <tr>\n",
              "      <th>0.0</th>\n",
              "      <td>31449116.0</td>\n",
              "    </tr>\n",
              "    <tr>\n",
              "      <th>1.0</th>\n",
              "      <td>21206721.0</td>\n",
              "    </tr>\n",
              "    <tr>\n",
              "      <th>2.0</th>\n",
              "      <td>17788320.0</td>\n",
              "    </tr>\n",
              "    <tr>\n",
              "      <th>3.0</th>\n",
              "      <td>11126581.0</td>\n",
              "    </tr>\n",
              "    <tr>\n",
              "      <th>4.0</th>\n",
              "      <td>13304280.0</td>\n",
              "    </tr>\n",
              "    <tr>\n",
              "      <th>5.0</th>\n",
              "      <td>14499121.0</td>\n",
              "    </tr>\n",
              "    <tr>\n",
              "      <th>6.0</th>\n",
              "      <td>15338418.0</td>\n",
              "    </tr>\n",
              "    <tr>\n",
              "      <th>7.0</th>\n",
              "      <td>14775153.0</td>\n",
              "    </tr>\n",
              "    <tr>\n",
              "      <th>8.0</th>\n",
              "      <td>9957717.0</td>\n",
              "    </tr>\n",
              "    <tr>\n",
              "      <th>9.0</th>\n",
              "      <td>6950659.0</td>\n",
              "    </tr>\n",
              "  </tbody>\n",
              "</table>\n",
              "</div>"
            ],
            "text/plain": [
              "                      цена продажи\n",
              "расстояние от центра              \n",
              "0.0                     31449116.0\n",
              "1.0                     21206721.0\n",
              "2.0                     17788320.0\n",
              "3.0                     11126581.0\n",
              "4.0                     13304280.0\n",
              "5.0                     14499121.0\n",
              "6.0                     15338418.0\n",
              "7.0                     14775153.0\n",
              "8.0                      9957717.0\n",
              "9.0                      6950659.0"
            ]
          },
          "execution_count": 55,
          "metadata": {},
          "output_type": "execute_result"
        }
      ],
      "source": [
        "# построим таблицу зависимости стоимости квартир от удаления из центра города Санкт-Петербург\n",
        "# ограничим таблицу первыми десятью километрами, так как после этой отметки зависимость становится менее выраженной\n",
        "\n",
        "print('Таблица средней стоимость квартир в зависимости от удаления от центра города Санкт-Петербург')\n",
        "(\n",
        "    data\n",
        "    .query('locality_name == \"санкт-петербург\" and distance_city_center<10')\n",
        "    .pivot_table(index='distance_city_center', values='last_price')\n",
        "    .round()\n",
        "    .rename(columns={'last_price': 'цена продажи'})\n",
        "    .rename_axis('расстояние от центра')\n",
        ")"
      ]
    },
    {
      "cell_type": "markdown",
      "metadata": {
        "id": "6qHwQsP-rslT"
      },
      "source": [
        "Теперь мы можем наблюдать прямую зависимость стоимости объекта недвижимости от расстояния до центра города: квартиру в Санкт-Петербурге в историческом центре вряд ли удасться купить дешевле 100 млн. рублей. А в пределах пешей доступности от Дворцовой площади - не менее 300 млн. рублей (по данным 2016-2019 гг.)"
      ]
    },
    {
      "cell_type": "markdown",
      "metadata": {
        "id": "h7VpzkIDAwb-"
      },
      "source": [
        "### Общий вывод и рекомендации"
      ]
    },
    {
      "cell_type": "markdown",
      "metadata": {
        "id": "3H4lnp_KAwb-"
      },
      "source": [
        "Представленный для анализа датасет был проанализирован на тип и количество значений в нём, найдены и заполнены пропуски в значениях, где это показалось необходимым, устранены ошибки, неявные дубликаты, обработаны редкие и выбивающиеся значения.\n",
        "\n",
        "Были добавлены новые параметры, которые позволили изучить факторы, влияющие на конечную цену объекта недвижимости. Изучены параметры, корреллирующие с ценой квартир и выделены более значащие. Доказано, что сильнее всего на стоимость квартир влияет их общая площадь, количество комнат, этажность и близость к центру города.\n",
        "\n",
        "Визуализирована средняя скорость продажи объекта недвижимсоти и выведена формула быстрой продажи квартиры: чем ближе её цена к среднерыночной, тем быстрее квартира продаётся. Выявлено, что в среднем, квартира продаётся в течение 45 дней.\n",
        "\n",
        "Обнаружено, что летом цены на квартиры немного падают, а самые выгодные объявления публикуют в выходные дни.\n",
        "\n",
        "Подтверждено, что самые дорогие квартиры ближе к центру Санкт-Петербурга, в 10 км от центра горда - квартиры уже в три раза дешевле, а в ближайших пригородах - цены близки к среднерыночным (около 4,6 млн. рублей).\n",
        "\n",
        "Вычислена средняя стоимость объектов недвижимости на каждом километре от центра Санкт-Петербурга и выявлена зависимость цены квартиры от расстояния до центра города. Выяснено, что в самом центре города цена на квартиры выше среднерыночной почти в 10 раз!\n",
        "\n",
        "**По итогам исследования можно дать следующие рекомендации для отслеживания аномалий и подозрении на мошенническую деятельность:**\n",
        "\n",
        "1. Ориентируясь на полученные данные, алгоритм сайта объявлений может предлагать среднюю цену пользователю при публикации объяления и предупреждать его, если заявленная им цена не соответсвует среднерыночной в данной локации либо при данных характеристиках квартиры.\n",
        "\n",
        "2. При публикации объявления со значениями, выбивающимися от средних, алгоритм сайта может помечать данное объявление как \"сомнительное\" и отправлять его для ручной проверки администраторам сайта.\n",
        "\n",
        "3. После публикации на сайте объявления, содержащего подозрительную цену на объект недвижимости, можно выводить для пользователей сообщение, что заявленная продавцом цена не соответсвует аналогичным объявлениям. Конечно, продать квартиру ниже рынка закон не запрещает, но стоит предупредить потенциального покупателя о возможных рисках мошенничества."
      ]
    }
  ],
  "metadata": {
    "ExecuteTimeLog": [
      {
        "duration": 476,
        "start_time": "2024-07-25T23:04:04.932Z"
      },
      {
        "duration": 194,
        "start_time": "2024-07-25T23:04:25.122Z"
      },
      {
        "duration": 741,
        "start_time": "2024-07-28T20:45:15.459Z"
      },
      {
        "duration": 135,
        "start_time": "2024-07-28T20:45:46.127Z"
      },
      {
        "duration": 23,
        "start_time": "2024-07-28T20:45:54.113Z"
      },
      {
        "duration": 23,
        "start_time": "2024-07-28T20:46:33.718Z"
      },
      {
        "duration": 5,
        "start_time": "2024-07-28T20:49:17.597Z"
      },
      {
        "duration": 6,
        "start_time": "2024-07-28T20:50:40.967Z"
      },
      {
        "duration": 9,
        "start_time": "2024-07-28T20:57:16.494Z"
      },
      {
        "duration": 76,
        "start_time": "2024-07-28T20:57:42.176Z"
      },
      {
        "duration": 20,
        "start_time": "2024-07-28T21:00:31.277Z"
      },
      {
        "duration": 578,
        "start_time": "2024-07-28T21:03:04.220Z"
      },
      {
        "duration": 1789,
        "start_time": "2024-07-28T21:08:37.318Z"
      },
      {
        "duration": 1147,
        "start_time": "2024-07-29T19:58:46.392Z"
      },
      {
        "duration": 23,
        "start_time": "2024-07-29T19:58:54.565Z"
      },
      {
        "duration": 100,
        "start_time": "2024-07-29T19:59:00.667Z"
      },
      {
        "duration": 124,
        "start_time": "2024-07-29T20:00:54.625Z"
      },
      {
        "duration": 2242,
        "start_time": "2024-07-29T20:01:08.163Z"
      },
      {
        "duration": 30,
        "start_time": "2024-07-29T20:01:15.418Z"
      },
      {
        "duration": 98,
        "start_time": "2024-07-29T21:02:12.689Z"
      },
      {
        "duration": 21,
        "start_time": "2024-07-29T21:50:14.627Z"
      },
      {
        "duration": 46,
        "start_time": "2024-07-30T17:19:21.641Z"
      },
      {
        "duration": 971,
        "start_time": "2024-07-30T17:19:48.274Z"
      },
      {
        "duration": 14,
        "start_time": "2024-07-30T17:19:49.247Z"
      },
      {
        "duration": 94,
        "start_time": "2024-07-30T17:19:49.263Z"
      },
      {
        "duration": 1888,
        "start_time": "2024-07-30T17:19:49.359Z"
      },
      {
        "duration": 6,
        "start_time": "2024-07-30T17:19:51.248Z"
      },
      {
        "duration": 26,
        "start_time": "2024-07-30T17:19:51.255Z"
      },
      {
        "duration": 11,
        "start_time": "2024-07-30T17:25:38.853Z"
      },
      {
        "duration": 9,
        "start_time": "2024-07-30T17:38:11.215Z"
      },
      {
        "duration": 3,
        "start_time": "2024-07-30T17:38:15.261Z"
      },
      {
        "duration": 8,
        "start_time": "2024-07-30T17:38:19.107Z"
      },
      {
        "duration": 1098,
        "start_time": "2024-07-30T17:45:37.388Z"
      },
      {
        "duration": 8,
        "start_time": "2024-07-30T17:46:12.266Z"
      },
      {
        "duration": 8,
        "start_time": "2024-07-30T17:46:31.947Z"
      },
      {
        "duration": 11,
        "start_time": "2024-07-30T17:47:00.795Z"
      },
      {
        "duration": 7,
        "start_time": "2024-07-30T17:47:09.580Z"
      },
      {
        "duration": 9,
        "start_time": "2024-07-30T17:48:30.713Z"
      },
      {
        "duration": 24,
        "start_time": "2024-07-30T17:49:15.878Z"
      },
      {
        "duration": 22,
        "start_time": "2024-07-30T17:49:56.238Z"
      },
      {
        "duration": 35,
        "start_time": "2024-07-30T17:50:03.671Z"
      },
      {
        "duration": 22,
        "start_time": "2024-07-30T17:50:55.522Z"
      },
      {
        "duration": 1074,
        "start_time": "2024-07-30T17:52:00.334Z"
      },
      {
        "duration": 9,
        "start_time": "2024-07-30T17:52:43.190Z"
      },
      {
        "duration": 11,
        "start_time": "2024-07-30T17:53:32.335Z"
      },
      {
        "duration": 22,
        "start_time": "2024-07-30T17:53:45.603Z"
      },
      {
        "duration": 32,
        "start_time": "2024-07-30T17:54:12.447Z"
      },
      {
        "duration": 33,
        "start_time": "2024-07-30T17:56:37.937Z"
      },
      {
        "duration": 43,
        "start_time": "2024-07-30T17:58:23.200Z"
      },
      {
        "duration": 19,
        "start_time": "2024-07-30T17:58:48.266Z"
      },
      {
        "duration": 21,
        "start_time": "2024-07-30T17:59:03.379Z"
      },
      {
        "duration": 33,
        "start_time": "2024-07-30T17:59:16.876Z"
      },
      {
        "duration": 6,
        "start_time": "2024-07-30T18:09:26.692Z"
      },
      {
        "duration": 10,
        "start_time": "2024-07-30T18:12:31.754Z"
      },
      {
        "duration": 35,
        "start_time": "2024-07-30T18:12:55.525Z"
      },
      {
        "duration": 9,
        "start_time": "2024-07-30T18:26:47.332Z"
      },
      {
        "duration": 7,
        "start_time": "2024-07-30T18:27:27.658Z"
      },
      {
        "duration": 12,
        "start_time": "2024-07-30T18:27:36.628Z"
      },
      {
        "duration": 19,
        "start_time": "2024-07-30T18:28:01.649Z"
      },
      {
        "duration": 16,
        "start_time": "2024-07-30T18:28:12.472Z"
      },
      {
        "duration": 8,
        "start_time": "2024-07-30T18:33:25.816Z"
      },
      {
        "duration": 7,
        "start_time": "2024-07-30T18:33:35.763Z"
      },
      {
        "duration": 13,
        "start_time": "2024-07-30T18:36:40.362Z"
      },
      {
        "duration": 7,
        "start_time": "2024-07-30T18:42:02.861Z"
      },
      {
        "duration": 6,
        "start_time": "2024-07-30T18:44:12.816Z"
      },
      {
        "duration": 9,
        "start_time": "2024-07-30T18:44:34.263Z"
      },
      {
        "duration": 14,
        "start_time": "2024-07-30T18:44:53.406Z"
      },
      {
        "duration": 11,
        "start_time": "2024-07-30T18:45:42.842Z"
      },
      {
        "duration": 11,
        "start_time": "2024-07-30T18:46:25.867Z"
      },
      {
        "duration": 10,
        "start_time": "2024-07-30T18:46:57.627Z"
      },
      {
        "duration": 10,
        "start_time": "2024-07-30T18:47:45.720Z"
      },
      {
        "duration": 12,
        "start_time": "2024-07-30T18:48:59.674Z"
      },
      {
        "duration": 13,
        "start_time": "2024-07-30T18:51:57.099Z"
      },
      {
        "duration": 387,
        "start_time": "2024-07-30T18:53:18.823Z"
      },
      {
        "duration": 236,
        "start_time": "2024-07-30T18:53:55.028Z"
      },
      {
        "duration": 211,
        "start_time": "2024-07-30T18:54:45.155Z"
      },
      {
        "duration": 223,
        "start_time": "2024-07-30T18:55:05.680Z"
      },
      {
        "duration": 272,
        "start_time": "2024-07-30T18:55:25.503Z"
      },
      {
        "duration": 240,
        "start_time": "2024-07-30T18:57:17.842Z"
      },
      {
        "duration": 223,
        "start_time": "2024-07-30T19:02:53.699Z"
      },
      {
        "duration": 283,
        "start_time": "2024-07-30T19:09:19.853Z"
      },
      {
        "duration": 330,
        "start_time": "2024-07-30T19:10:45.718Z"
      },
      {
        "duration": 266,
        "start_time": "2024-07-30T19:10:59.162Z"
      },
      {
        "duration": 282,
        "start_time": "2024-07-30T19:11:46.464Z"
      },
      {
        "duration": 294,
        "start_time": "2024-07-30T19:12:46.412Z"
      },
      {
        "duration": 68,
        "start_time": "2024-07-30T19:14:06.324Z"
      },
      {
        "duration": 324,
        "start_time": "2024-07-30T19:14:13.907Z"
      },
      {
        "duration": 261,
        "start_time": "2024-07-30T19:24:46.419Z"
      },
      {
        "duration": 278,
        "start_time": "2024-07-30T19:35:15.781Z"
      },
      {
        "duration": 10,
        "start_time": "2024-07-30T19:52:23.149Z"
      },
      {
        "duration": 11,
        "start_time": "2024-07-30T19:52:47.192Z"
      },
      {
        "duration": 10,
        "start_time": "2024-07-30T20:16:33.780Z"
      },
      {
        "duration": 4,
        "start_time": "2024-07-30T20:16:42.974Z"
      },
      {
        "duration": 6,
        "start_time": "2024-07-30T20:19:33.292Z"
      },
      {
        "duration": 6,
        "start_time": "2024-07-30T20:21:53.400Z"
      },
      {
        "duration": 6,
        "start_time": "2024-07-30T20:23:34.725Z"
      },
      {
        "duration": 5,
        "start_time": "2024-07-30T20:23:36.009Z"
      },
      {
        "duration": 6,
        "start_time": "2024-07-30T20:24:07.438Z"
      },
      {
        "duration": 1039,
        "start_time": "2024-07-30T20:27:30.160Z"
      },
      {
        "duration": 4,
        "start_time": "2024-07-30T20:28:53.974Z"
      },
      {
        "duration": 6,
        "start_time": "2024-07-30T20:28:54.957Z"
      },
      {
        "duration": 6,
        "start_time": "2024-07-30T20:28:55.982Z"
      },
      {
        "duration": 9,
        "start_time": "2024-07-30T20:29:04.585Z"
      },
      {
        "duration": 10,
        "start_time": "2024-07-30T20:29:36.265Z"
      },
      {
        "duration": 12,
        "start_time": "2024-07-30T20:30:38.850Z"
      },
      {
        "duration": 16,
        "start_time": "2024-07-30T20:33:25.837Z"
      },
      {
        "duration": 13,
        "start_time": "2024-07-30T20:34:01.921Z"
      },
      {
        "duration": 14,
        "start_time": "2024-07-30T20:34:23.070Z"
      },
      {
        "duration": 14,
        "start_time": "2024-07-30T20:34:34.053Z"
      },
      {
        "duration": 13,
        "start_time": "2024-07-30T20:35:47.642Z"
      },
      {
        "duration": 1055,
        "start_time": "2024-07-30T20:45:06.222Z"
      },
      {
        "duration": 126,
        "start_time": "2024-07-30T20:47:23.322Z"
      },
      {
        "duration": 15,
        "start_time": "2024-07-30T20:47:23.450Z"
      },
      {
        "duration": 100,
        "start_time": "2024-07-30T20:47:23.466Z"
      },
      {
        "duration": 1820,
        "start_time": "2024-07-30T20:47:23.568Z"
      },
      {
        "duration": 7,
        "start_time": "2024-07-30T20:47:25.389Z"
      },
      {
        "duration": 66,
        "start_time": "2024-07-30T20:47:25.397Z"
      },
      {
        "duration": 9,
        "start_time": "2024-07-30T20:47:25.465Z"
      },
      {
        "duration": 28,
        "start_time": "2024-07-30T20:47:25.476Z"
      },
      {
        "duration": 49,
        "start_time": "2024-07-30T20:47:25.506Z"
      },
      {
        "duration": 7,
        "start_time": "2024-07-30T20:47:25.557Z"
      },
      {
        "duration": 18,
        "start_time": "2024-07-30T20:47:25.566Z"
      },
      {
        "duration": 427,
        "start_time": "2024-07-30T20:47:25.586Z"
      },
      {
        "duration": 299,
        "start_time": "2024-07-30T20:47:26.014Z"
      },
      {
        "duration": 25,
        "start_time": "2024-07-30T20:47:26.314Z"
      },
      {
        "duration": 130,
        "start_time": "2024-07-30T20:47:26.341Z"
      },
      {
        "duration": 72,
        "start_time": "2024-07-30T20:47:26.473Z"
      },
      {
        "duration": 10,
        "start_time": "2024-07-30T20:47:26.547Z"
      },
      {
        "duration": 10,
        "start_time": "2024-07-30T20:47:26.559Z"
      },
      {
        "duration": 21,
        "start_time": "2024-07-30T20:47:26.571Z"
      },
      {
        "duration": 0,
        "start_time": "2024-07-30T20:47:27.696Z"
      },
      {
        "duration": 1089,
        "start_time": "2024-07-30T20:47:53.026Z"
      },
      {
        "duration": 1074,
        "start_time": "2024-07-30T20:50:19.639Z"
      },
      {
        "duration": 319,
        "start_time": "2024-07-30T20:53:18.794Z"
      },
      {
        "duration": 9,
        "start_time": "2024-07-30T20:53:32.241Z"
      },
      {
        "duration": 318,
        "start_time": "2024-07-30T20:53:51.980Z"
      },
      {
        "duration": 210,
        "start_time": "2024-07-30T20:57:04.818Z"
      },
      {
        "duration": 9,
        "start_time": "2024-07-30T20:57:19.052Z"
      },
      {
        "duration": 315,
        "start_time": "2024-07-30T20:57:26.151Z"
      },
      {
        "duration": 108,
        "start_time": "2024-07-30T20:57:57.889Z"
      },
      {
        "duration": 17,
        "start_time": "2024-07-30T20:57:57.999Z"
      },
      {
        "duration": 82,
        "start_time": "2024-07-30T20:57:58.018Z"
      },
      {
        "duration": 1880,
        "start_time": "2024-07-30T20:57:58.102Z"
      },
      {
        "duration": 6,
        "start_time": "2024-07-30T20:57:59.983Z"
      },
      {
        "duration": 25,
        "start_time": "2024-07-30T20:57:59.991Z"
      },
      {
        "duration": 9,
        "start_time": "2024-07-30T20:58:00.037Z"
      },
      {
        "duration": 84,
        "start_time": "2024-07-30T20:58:00.047Z"
      },
      {
        "duration": 76,
        "start_time": "2024-07-30T20:58:00.133Z"
      },
      {
        "duration": 53,
        "start_time": "2024-07-30T20:58:00.211Z"
      },
      {
        "duration": 42,
        "start_time": "2024-07-30T20:58:00.266Z"
      },
      {
        "duration": 365,
        "start_time": "2024-07-30T20:58:00.310Z"
      },
      {
        "duration": 309,
        "start_time": "2024-07-30T20:58:00.676Z"
      },
      {
        "duration": 9,
        "start_time": "2024-07-30T20:58:00.987Z"
      },
      {
        "duration": 150,
        "start_time": "2024-07-30T20:58:00.997Z"
      },
      {
        "duration": 63,
        "start_time": "2024-07-30T20:58:01.149Z"
      },
      {
        "duration": 65,
        "start_time": "2024-07-30T20:58:01.214Z"
      },
      {
        "duration": 44,
        "start_time": "2024-07-30T20:58:01.281Z"
      },
      {
        "duration": 30,
        "start_time": "2024-07-30T20:58:01.327Z"
      },
      {
        "duration": 424,
        "start_time": "2024-07-30T20:58:01.359Z"
      },
      {
        "duration": 314,
        "start_time": "2024-07-30T21:02:11.560Z"
      },
      {
        "duration": 4,
        "start_time": "2024-07-30T21:06:08.698Z"
      },
      {
        "duration": 10,
        "start_time": "2024-07-30T21:10:15.098Z"
      },
      {
        "duration": 9,
        "start_time": "2024-07-30T21:10:48.380Z"
      },
      {
        "duration": 9,
        "start_time": "2024-07-30T21:11:20.741Z"
      },
      {
        "duration": 9,
        "start_time": "2024-07-30T21:11:37.055Z"
      },
      {
        "duration": 9,
        "start_time": "2024-07-30T21:13:13.578Z"
      },
      {
        "duration": 9,
        "start_time": "2024-07-30T21:13:21.785Z"
      },
      {
        "duration": 7,
        "start_time": "2024-07-30T21:14:05.348Z"
      },
      {
        "duration": 9,
        "start_time": "2024-07-30T21:23:29.325Z"
      },
      {
        "duration": 254,
        "start_time": "2024-07-30T21:27:18.059Z"
      },
      {
        "duration": 251,
        "start_time": "2024-07-30T21:28:18.483Z"
      },
      {
        "duration": 223,
        "start_time": "2024-07-30T21:29:05.057Z"
      },
      {
        "duration": 245,
        "start_time": "2024-07-30T21:29:34.034Z"
      },
      {
        "duration": 240,
        "start_time": "2024-07-30T21:29:42.688Z"
      },
      {
        "duration": 379,
        "start_time": "2024-07-30T21:29:51.383Z"
      },
      {
        "duration": 9,
        "start_time": "2024-07-30T21:37:59.261Z"
      },
      {
        "duration": 231,
        "start_time": "2024-07-30T21:39:20.201Z"
      },
      {
        "duration": 252,
        "start_time": "2024-07-30T21:40:56.067Z"
      },
      {
        "duration": 228,
        "start_time": "2024-07-30T21:41:15.830Z"
      },
      {
        "duration": 218,
        "start_time": "2024-07-30T21:41:36.049Z"
      },
      {
        "duration": 239,
        "start_time": "2024-07-30T21:41:43.790Z"
      },
      {
        "duration": 244,
        "start_time": "2024-07-30T21:41:53.706Z"
      },
      {
        "duration": 379,
        "start_time": "2024-07-30T21:41:59.776Z"
      },
      {
        "duration": 9,
        "start_time": "2024-07-30T21:51:16.416Z"
      },
      {
        "duration": 245,
        "start_time": "2024-07-30T21:52:16.408Z"
      },
      {
        "duration": 211,
        "start_time": "2024-07-30T21:52:34.015Z"
      },
      {
        "duration": 244,
        "start_time": "2024-07-30T21:52:46.472Z"
      },
      {
        "duration": 226,
        "start_time": "2024-07-30T21:52:55.966Z"
      },
      {
        "duration": 1124,
        "start_time": "2024-07-31T10:16:11.675Z"
      },
      {
        "duration": 18,
        "start_time": "2024-07-31T10:16:12.801Z"
      },
      {
        "duration": 68,
        "start_time": "2024-07-31T10:16:12.820Z"
      },
      {
        "duration": 1855,
        "start_time": "2024-07-31T10:16:12.890Z"
      },
      {
        "duration": 26,
        "start_time": "2024-07-31T10:16:14.747Z"
      },
      {
        "duration": 9,
        "start_time": "2024-07-31T10:16:14.774Z"
      },
      {
        "duration": 58,
        "start_time": "2024-07-31T10:16:14.784Z"
      },
      {
        "duration": 27,
        "start_time": "2024-07-31T10:16:14.843Z"
      },
      {
        "duration": 21,
        "start_time": "2024-07-31T10:16:14.872Z"
      },
      {
        "duration": 27,
        "start_time": "2024-07-31T10:16:14.897Z"
      },
      {
        "duration": 349,
        "start_time": "2024-07-31T10:16:14.926Z"
      },
      {
        "duration": 298,
        "start_time": "2024-07-31T10:16:15.277Z"
      },
      {
        "duration": 8,
        "start_time": "2024-07-31T10:16:15.577Z"
      },
      {
        "duration": 8,
        "start_time": "2024-07-31T10:16:15.586Z"
      },
      {
        "duration": 4,
        "start_time": "2024-07-31T10:16:15.595Z"
      },
      {
        "duration": 28,
        "start_time": "2024-07-31T10:16:15.600Z"
      },
      {
        "duration": 35,
        "start_time": "2024-07-31T10:16:15.629Z"
      },
      {
        "duration": 47,
        "start_time": "2024-07-31T10:16:15.665Z"
      },
      {
        "duration": 318,
        "start_time": "2024-07-31T10:16:15.714Z"
      },
      {
        "duration": 10,
        "start_time": "2024-07-31T10:16:16.034Z"
      },
      {
        "duration": 11,
        "start_time": "2024-07-31T10:16:16.045Z"
      },
      {
        "duration": 338,
        "start_time": "2024-07-31T10:16:16.058Z"
      },
      {
        "duration": 10,
        "start_time": "2024-07-31T10:16:16.398Z"
      },
      {
        "duration": 262,
        "start_time": "2024-07-31T10:16:16.409Z"
      },
      {
        "duration": 11,
        "start_time": "2024-07-31T10:16:16.673Z"
      },
      {
        "duration": 262,
        "start_time": "2024-07-31T10:16:16.685Z"
      },
      {
        "duration": 223,
        "start_time": "2024-07-31T10:23:47.089Z"
      },
      {
        "duration": 2,
        "start_time": "2024-07-31T10:32:27.700Z"
      },
      {
        "duration": 10,
        "start_time": "2024-07-31T10:32:35.356Z"
      },
      {
        "duration": 240,
        "start_time": "2024-07-31T10:39:18.784Z"
      },
      {
        "duration": 319,
        "start_time": "2024-07-31T10:39:56.561Z"
      },
      {
        "duration": 237,
        "start_time": "2024-07-31T10:40:13.447Z"
      },
      {
        "duration": 245,
        "start_time": "2024-07-31T10:40:44.037Z"
      },
      {
        "duration": 249,
        "start_time": "2024-07-31T10:42:13.184Z"
      },
      {
        "duration": 250,
        "start_time": "2024-07-31T10:43:47.923Z"
      },
      {
        "duration": 316,
        "start_time": "2024-07-31T10:44:07.900Z"
      },
      {
        "duration": 244,
        "start_time": "2024-07-31T10:48:09.888Z"
      },
      {
        "duration": 250,
        "start_time": "2024-07-31T10:48:19.400Z"
      },
      {
        "duration": 5,
        "start_time": "2024-07-31T10:49:30.313Z"
      },
      {
        "duration": 79,
        "start_time": "2024-07-31T10:49:54.543Z"
      },
      {
        "duration": 5,
        "start_time": "2024-07-31T10:50:25.207Z"
      },
      {
        "duration": 9,
        "start_time": "2024-07-31T10:53:33.332Z"
      },
      {
        "duration": 7,
        "start_time": "2024-07-31T10:53:47.991Z"
      },
      {
        "duration": 9,
        "start_time": "2024-07-31T10:53:57.929Z"
      },
      {
        "duration": 10,
        "start_time": "2024-07-31T10:54:46.032Z"
      },
      {
        "duration": 8,
        "start_time": "2024-07-31T10:57:59.965Z"
      },
      {
        "duration": 8,
        "start_time": "2024-07-31T11:00:52.134Z"
      },
      {
        "duration": 8,
        "start_time": "2024-07-31T11:01:05.617Z"
      },
      {
        "duration": 7,
        "start_time": "2024-07-31T11:01:21.196Z"
      },
      {
        "duration": 9,
        "start_time": "2024-07-31T11:15:04.781Z"
      },
      {
        "duration": 147,
        "start_time": "2024-07-31T11:15:51.937Z"
      },
      {
        "duration": 149,
        "start_time": "2024-07-31T11:16:31.637Z"
      },
      {
        "duration": 131,
        "start_time": "2024-07-31T11:18:02.574Z"
      },
      {
        "duration": 10,
        "start_time": "2024-07-31T11:25:48.025Z"
      },
      {
        "duration": 164,
        "start_time": "2024-07-31T11:27:34.988Z"
      },
      {
        "duration": 114,
        "start_time": "2024-07-31T11:27:43.026Z"
      },
      {
        "duration": 110,
        "start_time": "2024-07-31T11:28:02.306Z"
      },
      {
        "duration": 255,
        "start_time": "2024-07-31T11:28:18.476Z"
      },
      {
        "duration": 171,
        "start_time": "2024-07-31T11:28:39.402Z"
      },
      {
        "duration": 174,
        "start_time": "2024-07-31T11:29:01.404Z"
      },
      {
        "duration": 173,
        "start_time": "2024-07-31T11:29:24.259Z"
      },
      {
        "duration": 187,
        "start_time": "2024-07-31T11:29:35.513Z"
      },
      {
        "duration": 186,
        "start_time": "2024-07-31T11:29:59.424Z"
      },
      {
        "duration": 171,
        "start_time": "2024-07-31T11:33:24.597Z"
      },
      {
        "duration": 175,
        "start_time": "2024-07-31T11:47:28.045Z"
      },
      {
        "duration": 159,
        "start_time": "2024-07-31T11:48:24.735Z"
      },
      {
        "duration": 177,
        "start_time": "2024-07-31T12:08:22.237Z"
      },
      {
        "duration": 151,
        "start_time": "2024-07-31T12:08:33.469Z"
      },
      {
        "duration": 255,
        "start_time": "2024-07-31T12:08:49.598Z"
      },
      {
        "duration": 154,
        "start_time": "2024-07-31T12:09:05.515Z"
      },
      {
        "duration": 160,
        "start_time": "2024-07-31T12:14:29.880Z"
      },
      {
        "duration": 252,
        "start_time": "2024-07-31T12:26:47.641Z"
      },
      {
        "duration": 256,
        "start_time": "2024-07-31T12:27:04.537Z"
      },
      {
        "duration": 243,
        "start_time": "2024-07-31T12:27:47.474Z"
      },
      {
        "duration": 276,
        "start_time": "2024-07-31T12:32:00.088Z"
      },
      {
        "duration": 357,
        "start_time": "2024-07-31T12:32:40.538Z"
      },
      {
        "duration": 230,
        "start_time": "2024-07-31T12:39:25.899Z"
      },
      {
        "duration": 234,
        "start_time": "2024-07-31T12:39:35.650Z"
      },
      {
        "duration": 240,
        "start_time": "2024-07-31T12:39:47.215Z"
      },
      {
        "duration": 10,
        "start_time": "2024-07-31T13:18:08.996Z"
      },
      {
        "duration": 11,
        "start_time": "2024-07-31T13:57:57.504Z"
      },
      {
        "duration": 249,
        "start_time": "2024-07-31T14:13:45.263Z"
      },
      {
        "duration": 353,
        "start_time": "2024-07-31T14:15:08.708Z"
      },
      {
        "duration": 188,
        "start_time": "2024-07-31T14:20:44.595Z"
      },
      {
        "duration": 184,
        "start_time": "2024-07-31T14:21:44.168Z"
      },
      {
        "duration": 189,
        "start_time": "2024-07-31T14:22:32.253Z"
      },
      {
        "duration": 192,
        "start_time": "2024-07-31T14:23:05.666Z"
      },
      {
        "duration": 1164,
        "start_time": "2024-07-31T14:23:22.178Z"
      },
      {
        "duration": 202,
        "start_time": "2024-07-31T14:23:42.508Z"
      },
      {
        "duration": 215,
        "start_time": "2024-07-31T14:24:55.694Z"
      },
      {
        "duration": 245,
        "start_time": "2024-07-31T14:25:31.776Z"
      },
      {
        "duration": 197,
        "start_time": "2024-07-31T14:28:53.020Z"
      },
      {
        "duration": 202,
        "start_time": "2024-07-31T14:29:50.785Z"
      },
      {
        "duration": 203,
        "start_time": "2024-07-31T14:30:46.383Z"
      },
      {
        "duration": 9,
        "start_time": "2024-07-31T14:40:36.914Z"
      },
      {
        "duration": 287,
        "start_time": "2024-07-31T14:40:45.052Z"
      },
      {
        "duration": 193,
        "start_time": "2024-07-31T14:50:07.521Z"
      },
      {
        "duration": 207,
        "start_time": "2024-07-31T14:50:19.686Z"
      },
      {
        "duration": 189,
        "start_time": "2024-07-31T14:50:27.335Z"
      },
      {
        "duration": 195,
        "start_time": "2024-07-31T14:51:32.382Z"
      },
      {
        "duration": 46,
        "start_time": "2024-07-31T14:53:43.931Z"
      },
      {
        "duration": 50,
        "start_time": "2024-07-31T14:54:18.098Z"
      },
      {
        "duration": 60,
        "start_time": "2024-07-31T14:54:29.592Z"
      },
      {
        "duration": 54,
        "start_time": "2024-07-31T14:54:47.410Z"
      },
      {
        "duration": 49,
        "start_time": "2024-07-31T14:55:21.788Z"
      },
      {
        "duration": 820,
        "start_time": "2024-07-31T14:55:39.343Z"
      },
      {
        "duration": 19,
        "start_time": "2024-07-31T14:55:40.164Z"
      },
      {
        "duration": 101,
        "start_time": "2024-07-31T14:55:40.185Z"
      },
      {
        "duration": 2000,
        "start_time": "2024-07-31T14:55:40.288Z"
      },
      {
        "duration": 25,
        "start_time": "2024-07-31T14:55:42.290Z"
      },
      {
        "duration": 25,
        "start_time": "2024-07-31T14:55:42.317Z"
      },
      {
        "duration": 30,
        "start_time": "2024-07-31T14:55:42.343Z"
      },
      {
        "duration": 28,
        "start_time": "2024-07-31T14:55:42.374Z"
      },
      {
        "duration": 7,
        "start_time": "2024-07-31T14:55:42.404Z"
      },
      {
        "duration": 14,
        "start_time": "2024-07-31T14:55:42.425Z"
      },
      {
        "duration": 375,
        "start_time": "2024-07-31T14:55:42.440Z"
      },
      {
        "duration": 318,
        "start_time": "2024-07-31T14:55:42.817Z"
      },
      {
        "duration": 9,
        "start_time": "2024-07-31T14:55:43.137Z"
      },
      {
        "duration": 8,
        "start_time": "2024-07-31T14:55:43.147Z"
      },
      {
        "duration": 4,
        "start_time": "2024-07-31T14:55:43.156Z"
      },
      {
        "duration": 22,
        "start_time": "2024-07-31T14:55:43.161Z"
      },
      {
        "duration": 5,
        "start_time": "2024-07-31T14:55:43.185Z"
      },
      {
        "duration": 38,
        "start_time": "2024-07-31T14:55:43.191Z"
      },
      {
        "duration": 362,
        "start_time": "2024-07-31T14:55:43.230Z"
      },
      {
        "duration": 10,
        "start_time": "2024-07-31T14:55:43.593Z"
      },
      {
        "duration": 21,
        "start_time": "2024-07-31T14:55:43.605Z"
      },
      {
        "duration": 333,
        "start_time": "2024-07-31T14:55:43.628Z"
      },
      {
        "duration": 9,
        "start_time": "2024-07-31T14:55:43.963Z"
      },
      {
        "duration": 270,
        "start_time": "2024-07-31T14:55:43.974Z"
      },
      {
        "duration": 10,
        "start_time": "2024-07-31T14:55:44.245Z"
      },
      {
        "duration": 278,
        "start_time": "2024-07-31T14:55:44.256Z"
      },
      {
        "duration": 10,
        "start_time": "2024-07-31T14:55:44.535Z"
      },
      {
        "duration": 8,
        "start_time": "2024-07-31T14:55:44.548Z"
      },
      {
        "duration": 268,
        "start_time": "2024-07-31T14:55:44.558Z"
      },
      {
        "duration": 9,
        "start_time": "2024-07-31T14:55:44.827Z"
      },
      {
        "duration": 170,
        "start_time": "2024-07-31T14:55:44.838Z"
      },
      {
        "duration": 16,
        "start_time": "2024-07-31T14:55:45.009Z"
      },
      {
        "duration": 222,
        "start_time": "2024-07-31T14:55:45.026Z"
      },
      {
        "duration": 181,
        "start_time": "2024-07-31T14:55:45.250Z"
      },
      {
        "duration": 370,
        "start_time": "2024-07-31T14:55:45.433Z"
      },
      {
        "duration": 257,
        "start_time": "2024-07-31T14:55:45.804Z"
      },
      {
        "duration": 9,
        "start_time": "2024-07-31T14:55:46.063Z"
      },
      {
        "duration": 266,
        "start_time": "2024-07-31T14:55:46.073Z"
      },
      {
        "duration": 9,
        "start_time": "2024-07-31T14:55:46.341Z"
      },
      {
        "duration": 258,
        "start_time": "2024-07-31T14:55:46.352Z"
      },
      {
        "duration": 48,
        "start_time": "2024-07-31T14:55:46.612Z"
      },
      {
        "duration": 65,
        "start_time": "2024-07-31T14:57:57.646Z"
      },
      {
        "duration": 81,
        "start_time": "2024-07-31T14:58:30.475Z"
      },
      {
        "duration": 190,
        "start_time": "2024-07-31T14:59:19.598Z"
      },
      {
        "duration": 206,
        "start_time": "2024-07-31T14:59:28.551Z"
      },
      {
        "duration": 4,
        "start_time": "2024-07-31T15:06:38.232Z"
      },
      {
        "duration": 49,
        "start_time": "2024-07-31T15:06:52.329Z"
      },
      {
        "duration": 80,
        "start_time": "2024-07-31T15:07:09.510Z"
      },
      {
        "duration": 745,
        "start_time": "2024-07-31T15:07:20.049Z"
      },
      {
        "duration": 188,
        "start_time": "2024-07-31T15:08:08.927Z"
      },
      {
        "duration": 165,
        "start_time": "2024-07-31T15:20:48.970Z"
      },
      {
        "duration": 179,
        "start_time": "2024-07-31T15:21:03.487Z"
      },
      {
        "duration": 166,
        "start_time": "2024-07-31T15:21:21.772Z"
      },
      {
        "duration": 179,
        "start_time": "2024-07-31T15:21:27.110Z"
      },
      {
        "duration": 171,
        "start_time": "2024-07-31T15:21:32.042Z"
      },
      {
        "duration": 177,
        "start_time": "2024-07-31T15:21:37.002Z"
      },
      {
        "duration": 174,
        "start_time": "2024-07-31T15:21:53.657Z"
      },
      {
        "duration": 191,
        "start_time": "2024-07-31T15:22:10.617Z"
      },
      {
        "duration": 4,
        "start_time": "2024-07-31T16:10:52.638Z"
      },
      {
        "duration": 11,
        "start_time": "2024-07-31T16:11:04.695Z"
      },
      {
        "duration": 9,
        "start_time": "2024-07-31T16:11:42.893Z"
      },
      {
        "duration": 29,
        "start_time": "2024-07-31T16:11:52.550Z"
      },
      {
        "duration": 25,
        "start_time": "2024-07-31T16:21:54.885Z"
      },
      {
        "duration": 24,
        "start_time": "2024-07-31T16:22:05.473Z"
      },
      {
        "duration": 29,
        "start_time": "2024-07-31T16:22:24.408Z"
      },
      {
        "duration": 147,
        "start_time": "2024-07-31T16:22:53.628Z"
      },
      {
        "duration": 20,
        "start_time": "2024-07-31T17:18:10.723Z"
      },
      {
        "duration": 183,
        "start_time": "2024-07-31T17:33:20.597Z"
      },
      {
        "duration": 159,
        "start_time": "2024-07-31T17:33:33.095Z"
      },
      {
        "duration": 185,
        "start_time": "2024-07-31T17:35:29.188Z"
      },
      {
        "duration": 265,
        "start_time": "2024-07-31T17:35:57.720Z"
      },
      {
        "duration": 24,
        "start_time": "2024-07-31T17:41:41.628Z"
      },
      {
        "duration": 19,
        "start_time": "2024-07-31T17:42:00.690Z"
      },
      {
        "duration": 177,
        "start_time": "2024-07-31T17:42:09.522Z"
      },
      {
        "duration": 148,
        "start_time": "2024-07-31T17:57:47.415Z"
      },
      {
        "duration": 158,
        "start_time": "2024-07-31T17:58:06.902Z"
      },
      {
        "duration": 153,
        "start_time": "2024-07-31T17:59:03.846Z"
      },
      {
        "duration": 224,
        "start_time": "2024-07-31T18:03:08.671Z"
      },
      {
        "duration": 151,
        "start_time": "2024-07-31T18:03:30.876Z"
      },
      {
        "duration": 169,
        "start_time": "2024-07-31T18:04:42.271Z"
      },
      {
        "duration": 164,
        "start_time": "2024-07-31T18:05:14.231Z"
      },
      {
        "duration": 20,
        "start_time": "2024-07-31T18:07:55.045Z"
      },
      {
        "duration": 166,
        "start_time": "2024-07-31T18:08:00.453Z"
      },
      {
        "duration": 170,
        "start_time": "2024-07-31T18:09:05.734Z"
      },
      {
        "duration": 161,
        "start_time": "2024-07-31T18:10:10.634Z"
      },
      {
        "duration": 157,
        "start_time": "2024-07-31T18:13:21.035Z"
      },
      {
        "duration": 273,
        "start_time": "2024-07-31T18:13:32.962Z"
      },
      {
        "duration": 149,
        "start_time": "2024-07-31T18:16:49.645Z"
      },
      {
        "duration": 157,
        "start_time": "2024-07-31T18:17:05.900Z"
      },
      {
        "duration": 23,
        "start_time": "2024-07-31T18:17:49.242Z"
      },
      {
        "duration": 24,
        "start_time": "2024-07-31T18:18:41.609Z"
      },
      {
        "duration": 22,
        "start_time": "2024-07-31T18:19:42.480Z"
      },
      {
        "duration": 22,
        "start_time": "2024-07-31T18:22:40.219Z"
      },
      {
        "duration": 16,
        "start_time": "2024-07-31T18:28:24.783Z"
      },
      {
        "duration": 44,
        "start_time": "2024-07-31T18:28:31.401Z"
      },
      {
        "duration": 18,
        "start_time": "2024-07-31T18:28:41.300Z"
      },
      {
        "duration": 15,
        "start_time": "2024-07-31T18:29:48.398Z"
      },
      {
        "duration": 12,
        "start_time": "2024-07-31T18:32:03.248Z"
      },
      {
        "duration": 13,
        "start_time": "2024-07-31T18:32:17.059Z"
      },
      {
        "duration": 8,
        "start_time": "2024-07-31T18:32:53.685Z"
      },
      {
        "duration": 15,
        "start_time": "2024-07-31T18:33:05.235Z"
      },
      {
        "duration": 18,
        "start_time": "2024-07-31T18:33:27.113Z"
      },
      {
        "duration": 53,
        "start_time": "2024-07-31T18:39:37.762Z"
      },
      {
        "duration": 942,
        "start_time": "2024-07-31T18:40:12.683Z"
      },
      {
        "duration": 121,
        "start_time": "2024-07-31T18:40:35.024Z"
      },
      {
        "duration": 206,
        "start_time": "2024-07-31T18:41:02.856Z"
      },
      {
        "duration": 94,
        "start_time": "2024-07-31T18:41:19.263Z"
      },
      {
        "duration": 97,
        "start_time": "2024-07-31T18:41:27.981Z"
      },
      {
        "duration": 115,
        "start_time": "2024-07-31T18:41:38.342Z"
      },
      {
        "duration": 114,
        "start_time": "2024-07-31T18:41:56.098Z"
      },
      {
        "duration": 124,
        "start_time": "2024-07-31T18:45:30.350Z"
      },
      {
        "duration": 76,
        "start_time": "2024-07-31T18:46:28.652Z"
      },
      {
        "duration": 208,
        "start_time": "2024-07-31T18:46:58.022Z"
      },
      {
        "duration": 8,
        "start_time": "2024-07-31T18:49:03.866Z"
      },
      {
        "duration": 8,
        "start_time": "2024-07-31T18:49:11.694Z"
      },
      {
        "duration": 69,
        "start_time": "2024-07-31T18:49:44.437Z"
      },
      {
        "duration": 164,
        "start_time": "2024-07-31T18:50:26.131Z"
      },
      {
        "duration": 120,
        "start_time": "2024-07-31T18:52:23.145Z"
      },
      {
        "duration": 14,
        "start_time": "2024-07-31T18:53:27.453Z"
      },
      {
        "duration": 134,
        "start_time": "2024-07-31T18:53:41.220Z"
      },
      {
        "duration": 128,
        "start_time": "2024-07-31T18:53:53.078Z"
      },
      {
        "duration": 121,
        "start_time": "2024-07-31T18:54:05.516Z"
      },
      {
        "duration": 133,
        "start_time": "2024-07-31T18:54:24.018Z"
      },
      {
        "duration": 149,
        "start_time": "2024-07-31T18:55:13.279Z"
      },
      {
        "duration": 149,
        "start_time": "2024-07-31T18:55:53.752Z"
      },
      {
        "duration": 155,
        "start_time": "2024-07-31T19:00:33.961Z"
      },
      {
        "duration": 152,
        "start_time": "2024-07-31T19:01:41.706Z"
      },
      {
        "duration": 151,
        "start_time": "2024-07-31T19:01:49.828Z"
      },
      {
        "duration": 254,
        "start_time": "2024-07-31T19:01:54.317Z"
      },
      {
        "duration": 147,
        "start_time": "2024-07-31T19:02:03.274Z"
      },
      {
        "duration": 151,
        "start_time": "2024-07-31T19:05:25.086Z"
      },
      {
        "duration": 182,
        "start_time": "2024-07-31T19:05:40.108Z"
      },
      {
        "duration": 159,
        "start_time": "2024-07-31T19:06:03.050Z"
      },
      {
        "duration": 146,
        "start_time": "2024-07-31T19:06:36.107Z"
      },
      {
        "duration": 19,
        "start_time": "2024-07-31T19:12:18.396Z"
      },
      {
        "duration": 155,
        "start_time": "2024-07-31T19:12:37.619Z"
      },
      {
        "duration": 156,
        "start_time": "2024-07-31T19:13:02.287Z"
      },
      {
        "duration": 27,
        "start_time": "2024-07-31T19:25:29.936Z"
      },
      {
        "duration": 26,
        "start_time": "2024-07-31T19:42:52.550Z"
      },
      {
        "duration": 28,
        "start_time": "2024-07-31T19:43:16.111Z"
      },
      {
        "duration": 22,
        "start_time": "2024-07-31T19:46:16.599Z"
      },
      {
        "duration": 30,
        "start_time": "2024-07-31T19:46:36.523Z"
      },
      {
        "duration": 29,
        "start_time": "2024-07-31T19:46:58.482Z"
      },
      {
        "duration": 31,
        "start_time": "2024-07-31T19:48:00.110Z"
      },
      {
        "duration": 28,
        "start_time": "2024-07-31T19:48:20.570Z"
      },
      {
        "duration": 28,
        "start_time": "2024-07-31T19:50:34.442Z"
      },
      {
        "duration": 45,
        "start_time": "2024-07-31T19:50:51.212Z"
      },
      {
        "duration": 29,
        "start_time": "2024-07-31T19:55:12.997Z"
      },
      {
        "duration": 204,
        "start_time": "2024-07-31T20:20:00.983Z"
      },
      {
        "duration": 187,
        "start_time": "2024-07-31T20:23:23.684Z"
      },
      {
        "duration": 193,
        "start_time": "2024-07-31T20:23:35.972Z"
      },
      {
        "duration": 43,
        "start_time": "2024-07-31T20:26:06.870Z"
      },
      {
        "duration": 228,
        "start_time": "2024-07-31T20:26:29.541Z"
      },
      {
        "duration": 202,
        "start_time": "2024-07-31T20:26:51.725Z"
      },
      {
        "duration": 27,
        "start_time": "2024-07-31T20:27:37.188Z"
      },
      {
        "duration": 24,
        "start_time": "2024-07-31T20:28:10.718Z"
      },
      {
        "duration": 22,
        "start_time": "2024-07-31T20:28:19.438Z"
      },
      {
        "duration": 27,
        "start_time": "2024-07-31T20:28:45.290Z"
      },
      {
        "duration": 52,
        "start_time": "2024-07-31T20:29:28.408Z"
      },
      {
        "duration": 50,
        "start_time": "2024-07-31T20:29:45.310Z"
      },
      {
        "duration": 22,
        "start_time": "2024-07-31T20:30:10.719Z"
      },
      {
        "duration": 132,
        "start_time": "2024-07-31T20:31:23.033Z"
      },
      {
        "duration": 198,
        "start_time": "2024-07-31T20:32:46.380Z"
      },
      {
        "duration": 198,
        "start_time": "2024-07-31T20:33:44.006Z"
      },
      {
        "duration": 225,
        "start_time": "2024-07-31T20:34:02.523Z"
      },
      {
        "duration": 191,
        "start_time": "2024-07-31T20:34:23.095Z"
      },
      {
        "duration": 48,
        "start_time": "2024-07-31T20:37:50.367Z"
      },
      {
        "duration": 73,
        "start_time": "2024-07-31T20:38:03.301Z"
      },
      {
        "duration": 20,
        "start_time": "2024-07-31T20:38:28.038Z"
      },
      {
        "duration": 17,
        "start_time": "2024-07-31T20:39:49.825Z"
      },
      {
        "duration": 47,
        "start_time": "2024-08-01T11:33:07.657Z"
      },
      {
        "duration": 1084,
        "start_time": "2024-08-01T11:33:15.610Z"
      },
      {
        "duration": 15,
        "start_time": "2024-08-01T11:33:16.696Z"
      },
      {
        "duration": 79,
        "start_time": "2024-08-01T11:33:16.713Z"
      },
      {
        "duration": 1766,
        "start_time": "2024-08-01T11:33:16.793Z"
      },
      {
        "duration": 24,
        "start_time": "2024-08-01T11:33:18.561Z"
      },
      {
        "duration": 10,
        "start_time": "2024-08-01T11:33:18.587Z"
      },
      {
        "duration": 28,
        "start_time": "2024-08-01T11:33:18.599Z"
      },
      {
        "duration": 25,
        "start_time": "2024-08-01T11:33:18.628Z"
      },
      {
        "duration": 32,
        "start_time": "2024-08-01T11:33:18.654Z"
      },
      {
        "duration": 11,
        "start_time": "2024-08-01T11:33:18.688Z"
      },
      {
        "duration": 320,
        "start_time": "2024-08-01T11:33:18.700Z"
      },
      {
        "duration": 270,
        "start_time": "2024-08-01T11:33:19.022Z"
      },
      {
        "duration": 8,
        "start_time": "2024-08-01T11:33:19.293Z"
      },
      {
        "duration": 18,
        "start_time": "2024-08-01T11:33:19.304Z"
      },
      {
        "duration": 4,
        "start_time": "2024-08-01T11:33:19.323Z"
      },
      {
        "duration": 8,
        "start_time": "2024-08-01T11:33:19.328Z"
      },
      {
        "duration": 5,
        "start_time": "2024-08-01T11:33:19.337Z"
      },
      {
        "duration": 16,
        "start_time": "2024-08-01T11:33:19.343Z"
      },
      {
        "duration": 330,
        "start_time": "2024-08-01T11:33:19.360Z"
      },
      {
        "duration": 9,
        "start_time": "2024-08-01T11:33:19.692Z"
      },
      {
        "duration": 8,
        "start_time": "2024-08-01T11:33:19.702Z"
      },
      {
        "duration": 314,
        "start_time": "2024-08-01T11:33:19.711Z"
      },
      {
        "duration": 8,
        "start_time": "2024-08-01T11:33:20.026Z"
      },
      {
        "duration": 253,
        "start_time": "2024-08-01T11:33:20.036Z"
      },
      {
        "duration": 8,
        "start_time": "2024-08-01T11:33:20.290Z"
      },
      {
        "duration": 244,
        "start_time": "2024-08-01T11:33:20.299Z"
      },
      {
        "duration": 8,
        "start_time": "2024-08-01T11:33:20.545Z"
      },
      {
        "duration": 6,
        "start_time": "2024-08-01T11:33:20.555Z"
      },
      {
        "duration": 229,
        "start_time": "2024-08-01T11:33:20.562Z"
      },
      {
        "duration": 7,
        "start_time": "2024-08-01T11:33:20.792Z"
      },
      {
        "duration": 162,
        "start_time": "2024-08-01T11:33:20.800Z"
      },
      {
        "duration": 19,
        "start_time": "2024-08-01T11:33:20.963Z"
      },
      {
        "duration": 158,
        "start_time": "2024-08-01T11:33:20.984Z"
      },
      {
        "duration": 147,
        "start_time": "2024-08-01T11:33:21.143Z"
      },
      {
        "duration": 319,
        "start_time": "2024-08-01T11:33:21.291Z"
      },
      {
        "duration": 229,
        "start_time": "2024-08-01T11:33:21.612Z"
      },
      {
        "duration": 9,
        "start_time": "2024-08-01T11:33:21.843Z"
      },
      {
        "duration": 246,
        "start_time": "2024-08-01T11:33:21.853Z"
      },
      {
        "duration": 9,
        "start_time": "2024-08-01T11:33:22.101Z"
      },
      {
        "duration": 242,
        "start_time": "2024-08-01T11:33:22.111Z"
      },
      {
        "duration": 188,
        "start_time": "2024-08-01T11:33:22.356Z"
      },
      {
        "duration": 17,
        "start_time": "2024-08-01T11:33:22.546Z"
      },
      {
        "duration": 151,
        "start_time": "2024-08-01T11:33:22.565Z"
      },
      {
        "duration": 208,
        "start_time": "2024-08-01T11:33:22.718Z"
      },
      {
        "duration": 276,
        "start_time": "2024-08-01T11:33:22.928Z"
      },
      {
        "duration": 166,
        "start_time": "2024-08-01T11:33:23.205Z"
      },
      {
        "duration": 144,
        "start_time": "2024-08-01T11:33:23.372Z"
      },
      {
        "duration": 151,
        "start_time": "2024-08-01T11:33:23.517Z"
      },
      {
        "duration": 149,
        "start_time": "2024-08-01T11:33:23.669Z"
      },
      {
        "duration": 147,
        "start_time": "2024-08-01T11:33:23.819Z"
      },
      {
        "duration": 26,
        "start_time": "2024-08-01T11:33:23.967Z"
      },
      {
        "duration": 24,
        "start_time": "2024-08-01T11:33:23.994Z"
      },
      {
        "duration": 180,
        "start_time": "2024-08-01T11:33:24.020Z"
      },
      {
        "duration": 25,
        "start_time": "2024-08-01T11:33:38.293Z"
      },
      {
        "duration": 5,
        "start_time": "2024-08-01T11:37:18.829Z"
      },
      {
        "duration": 181,
        "start_time": "2024-08-01T11:37:27.581Z"
      },
      {
        "duration": 179,
        "start_time": "2024-08-01T11:38:21.595Z"
      },
      {
        "duration": 181,
        "start_time": "2024-08-01T11:38:37.429Z"
      },
      {
        "duration": 176,
        "start_time": "2024-08-01T11:38:45.316Z"
      },
      {
        "duration": 178,
        "start_time": "2024-08-01T11:39:01.821Z"
      },
      {
        "duration": 179,
        "start_time": "2024-08-01T11:40:09.979Z"
      },
      {
        "duration": 262,
        "start_time": "2024-08-01T11:40:33.672Z"
      },
      {
        "duration": 155,
        "start_time": "2024-08-01T11:42:59.981Z"
      },
      {
        "duration": 19,
        "start_time": "2024-08-01T11:43:07.048Z"
      },
      {
        "duration": 3,
        "start_time": "2024-08-01T11:54:58.455Z"
      },
      {
        "duration": 71,
        "start_time": "2024-08-01T11:55:04.638Z"
      },
      {
        "duration": 19,
        "start_time": "2024-08-01T11:55:24.071Z"
      },
      {
        "duration": 20,
        "start_time": "2024-08-01T11:56:02.689Z"
      },
      {
        "duration": 19,
        "start_time": "2024-08-01T11:56:23.698Z"
      },
      {
        "duration": 161,
        "start_time": "2024-08-01T11:58:50.330Z"
      },
      {
        "duration": 163,
        "start_time": "2024-08-01T12:00:42.766Z"
      },
      {
        "duration": 159,
        "start_time": "2024-08-01T12:02:08.412Z"
      },
      {
        "duration": 167,
        "start_time": "2024-08-01T12:03:30.387Z"
      },
      {
        "duration": 178,
        "start_time": "2024-08-01T12:04:00.013Z"
      },
      {
        "duration": 34,
        "start_time": "2024-08-01T12:07:41.336Z"
      },
      {
        "duration": 46,
        "start_time": "2024-08-01T12:08:46.499Z"
      },
      {
        "duration": 54,
        "start_time": "2024-08-01T12:09:01.810Z"
      },
      {
        "duration": 56,
        "start_time": "2024-08-01T12:13:37.506Z"
      },
      {
        "duration": 52,
        "start_time": "2024-08-01T12:13:48.654Z"
      },
      {
        "duration": 3,
        "start_time": "2024-08-01T12:14:12.507Z"
      },
      {
        "duration": 431,
        "start_time": "2024-08-01T12:14:24.489Z"
      },
      {
        "duration": 8,
        "start_time": "2024-08-01T12:15:19.746Z"
      },
      {
        "duration": 51,
        "start_time": "2024-08-01T12:15:55.969Z"
      },
      {
        "duration": 7,
        "start_time": "2024-08-01T12:16:16.271Z"
      },
      {
        "duration": 48,
        "start_time": "2024-08-01T12:16:41.079Z"
      },
      {
        "duration": 22,
        "start_time": "2024-08-01T12:16:48.633Z"
      },
      {
        "duration": 18,
        "start_time": "2024-08-01T12:17:22.960Z"
      },
      {
        "duration": 462,
        "start_time": "2024-08-01T12:18:49.454Z"
      },
      {
        "duration": 52,
        "start_time": "2024-08-01T12:19:17.972Z"
      },
      {
        "duration": 41,
        "start_time": "2024-08-01T12:19:24.631Z"
      },
      {
        "duration": 17,
        "start_time": "2024-08-01T12:19:58.848Z"
      },
      {
        "duration": 9,
        "start_time": "2024-08-01T12:20:37.632Z"
      },
      {
        "duration": 9,
        "start_time": "2024-08-01T12:25:30.496Z"
      },
      {
        "duration": 9,
        "start_time": "2024-08-01T12:25:41.318Z"
      },
      {
        "duration": 9,
        "start_time": "2024-08-01T12:32:27.122Z"
      },
      {
        "duration": 50,
        "start_time": "2024-08-01T13:04:12.933Z"
      },
      {
        "duration": 48,
        "start_time": "2024-08-01T13:04:24.225Z"
      },
      {
        "duration": 5885,
        "start_time": "2024-08-01T13:04:47.197Z"
      },
      {
        "duration": 36,
        "start_time": "2024-08-01T13:05:56.355Z"
      },
      {
        "duration": 34,
        "start_time": "2024-08-01T13:06:02.483Z"
      },
      {
        "duration": 19,
        "start_time": "2024-08-01T13:06:41.117Z"
      },
      {
        "duration": 917,
        "start_time": "2024-08-02T04:08:59.042Z"
      },
      {
        "duration": 14,
        "start_time": "2024-08-02T04:08:59.961Z"
      },
      {
        "duration": 69,
        "start_time": "2024-08-02T04:08:59.976Z"
      },
      {
        "duration": 1863,
        "start_time": "2024-08-02T04:09:00.047Z"
      },
      {
        "duration": 25,
        "start_time": "2024-08-02T04:09:01.912Z"
      },
      {
        "duration": 21,
        "start_time": "2024-08-02T04:09:01.938Z"
      },
      {
        "duration": 41,
        "start_time": "2024-08-02T04:09:01.960Z"
      },
      {
        "duration": 25,
        "start_time": "2024-08-02T04:09:02.003Z"
      },
      {
        "duration": 7,
        "start_time": "2024-08-02T04:09:02.029Z"
      },
      {
        "duration": 23,
        "start_time": "2024-08-02T04:09:02.037Z"
      },
      {
        "duration": 357,
        "start_time": "2024-08-02T04:09:02.061Z"
      },
      {
        "duration": 297,
        "start_time": "2024-08-02T04:09:02.420Z"
      },
      {
        "duration": 8,
        "start_time": "2024-08-02T04:09:02.719Z"
      },
      {
        "duration": 8,
        "start_time": "2024-08-02T04:09:02.731Z"
      },
      {
        "duration": 5,
        "start_time": "2024-08-02T04:09:02.741Z"
      },
      {
        "duration": 20,
        "start_time": "2024-08-02T04:09:02.747Z"
      },
      {
        "duration": 5,
        "start_time": "2024-08-02T04:09:02.769Z"
      },
      {
        "duration": 33,
        "start_time": "2024-08-02T04:09:02.775Z"
      },
      {
        "duration": 317,
        "start_time": "2024-08-02T04:09:02.810Z"
      },
      {
        "duration": 10,
        "start_time": "2024-08-02T04:09:03.128Z"
      },
      {
        "duration": 8,
        "start_time": "2024-08-02T04:09:03.139Z"
      },
      {
        "duration": 311,
        "start_time": "2024-08-02T04:09:03.148Z"
      },
      {
        "duration": 8,
        "start_time": "2024-08-02T04:09:03.461Z"
      },
      {
        "duration": 249,
        "start_time": "2024-08-02T04:09:03.470Z"
      },
      {
        "duration": 9,
        "start_time": "2024-08-02T04:09:03.720Z"
      },
      {
        "duration": 256,
        "start_time": "2024-08-02T04:09:03.731Z"
      },
      {
        "duration": 8,
        "start_time": "2024-08-02T04:09:03.996Z"
      },
      {
        "duration": 6,
        "start_time": "2024-08-02T04:09:04.005Z"
      },
      {
        "duration": 301,
        "start_time": "2024-08-02T04:09:04.012Z"
      },
      {
        "duration": 9,
        "start_time": "2024-08-02T04:09:04.314Z"
      },
      {
        "duration": 144,
        "start_time": "2024-08-02T04:09:04.325Z"
      },
      {
        "duration": 7,
        "start_time": "2024-08-02T04:09:04.471Z"
      },
      {
        "duration": 179,
        "start_time": "2024-08-02T04:09:04.480Z"
      },
      {
        "duration": 156,
        "start_time": "2024-08-02T04:09:04.660Z"
      },
      {
        "duration": 336,
        "start_time": "2024-08-02T04:09:04.818Z"
      },
      {
        "duration": 274,
        "start_time": "2024-08-02T04:09:05.155Z"
      },
      {
        "duration": 15,
        "start_time": "2024-08-02T04:09:05.431Z"
      },
      {
        "duration": 250,
        "start_time": "2024-08-02T04:09:05.448Z"
      },
      {
        "duration": 9,
        "start_time": "2024-08-02T04:09:05.699Z"
      },
      {
        "duration": 252,
        "start_time": "2024-08-02T04:09:05.709Z"
      },
      {
        "duration": 180,
        "start_time": "2024-08-02T04:09:05.964Z"
      },
      {
        "duration": 17,
        "start_time": "2024-08-02T04:09:06.146Z"
      },
      {
        "duration": 173,
        "start_time": "2024-08-02T04:09:06.165Z"
      },
      {
        "duration": 167,
        "start_time": "2024-08-02T04:09:06.340Z"
      },
      {
        "duration": 233,
        "start_time": "2024-08-02T04:09:06.508Z"
      },
      {
        "duration": 157,
        "start_time": "2024-08-02T04:09:06.743Z"
      },
      {
        "duration": 154,
        "start_time": "2024-08-02T04:09:06.901Z"
      },
      {
        "duration": 161,
        "start_time": "2024-08-02T04:09:07.056Z"
      },
      {
        "duration": 159,
        "start_time": "2024-08-02T04:09:07.218Z"
      },
      {
        "duration": 163,
        "start_time": "2024-08-02T04:09:07.378Z"
      },
      {
        "duration": 25,
        "start_time": "2024-08-02T04:09:07.543Z"
      },
      {
        "duration": 37,
        "start_time": "2024-08-02T04:09:07.570Z"
      },
      {
        "duration": 182,
        "start_time": "2024-08-02T04:09:07.608Z"
      },
      {
        "duration": 20,
        "start_time": "2024-08-02T04:09:07.796Z"
      },
      {
        "duration": 12,
        "start_time": "2024-08-02T04:29:56.518Z"
      },
      {
        "duration": 39,
        "start_time": "2024-08-02T04:40:37.176Z"
      },
      {
        "duration": 758,
        "start_time": "2024-08-02T04:43:46.682Z"
      },
      {
        "duration": 15,
        "start_time": "2024-08-02T04:43:47.442Z"
      },
      {
        "duration": 80,
        "start_time": "2024-08-02T04:43:47.458Z"
      },
      {
        "duration": 1820,
        "start_time": "2024-08-02T04:43:47.540Z"
      },
      {
        "duration": 35,
        "start_time": "2024-08-02T04:43:49.362Z"
      },
      {
        "duration": 10,
        "start_time": "2024-08-02T04:43:49.399Z"
      },
      {
        "duration": 28,
        "start_time": "2024-08-02T04:43:49.410Z"
      },
      {
        "duration": 25,
        "start_time": "2024-08-02T04:43:49.439Z"
      },
      {
        "duration": 32,
        "start_time": "2024-08-02T04:43:49.465Z"
      },
      {
        "duration": 12,
        "start_time": "2024-08-02T04:43:49.499Z"
      },
      {
        "duration": 320,
        "start_time": "2024-08-02T04:43:49.512Z"
      },
      {
        "duration": 286,
        "start_time": "2024-08-02T04:43:49.834Z"
      },
      {
        "duration": 8,
        "start_time": "2024-08-02T04:43:50.121Z"
      },
      {
        "duration": 12,
        "start_time": "2024-08-02T04:43:50.130Z"
      },
      {
        "duration": 6,
        "start_time": "2024-08-02T04:43:50.144Z"
      },
      {
        "duration": 40,
        "start_time": "2024-08-02T04:43:50.151Z"
      },
      {
        "duration": 13,
        "start_time": "2024-08-02T04:43:50.192Z"
      },
      {
        "duration": 15,
        "start_time": "2024-08-02T04:43:50.207Z"
      },
      {
        "duration": 303,
        "start_time": "2024-08-02T04:43:50.223Z"
      },
      {
        "duration": 9,
        "start_time": "2024-08-02T04:43:50.528Z"
      },
      {
        "duration": 14,
        "start_time": "2024-08-02T04:43:50.538Z"
      },
      {
        "duration": 298,
        "start_time": "2024-08-02T04:43:50.554Z"
      },
      {
        "duration": 8,
        "start_time": "2024-08-02T04:43:50.853Z"
      },
      {
        "duration": 278,
        "start_time": "2024-08-02T04:43:50.862Z"
      },
      {
        "duration": 8,
        "start_time": "2024-08-02T04:43:51.141Z"
      },
      {
        "duration": 240,
        "start_time": "2024-08-02T04:43:51.150Z"
      },
      {
        "duration": 8,
        "start_time": "2024-08-02T04:43:51.395Z"
      },
      {
        "duration": 6,
        "start_time": "2024-08-02T04:43:51.406Z"
      },
      {
        "duration": 232,
        "start_time": "2024-08-02T04:43:51.414Z"
      },
      {
        "duration": 8,
        "start_time": "2024-08-02T04:43:51.647Z"
      },
      {
        "duration": 149,
        "start_time": "2024-08-02T04:43:51.656Z"
      },
      {
        "duration": 8,
        "start_time": "2024-08-02T04:43:51.807Z"
      },
      {
        "duration": 172,
        "start_time": "2024-08-02T04:43:51.816Z"
      },
      {
        "duration": 152,
        "start_time": "2024-08-02T04:43:51.995Z"
      },
      {
        "duration": 307,
        "start_time": "2024-08-02T04:43:52.148Z"
      },
      {
        "duration": 230,
        "start_time": "2024-08-02T04:43:52.456Z"
      },
      {
        "duration": 14,
        "start_time": "2024-08-02T04:43:52.688Z"
      },
      {
        "duration": 239,
        "start_time": "2024-08-02T04:43:52.703Z"
      },
      {
        "duration": 9,
        "start_time": "2024-08-02T04:43:52.943Z"
      },
      {
        "duration": 249,
        "start_time": "2024-08-02T04:43:52.954Z"
      },
      {
        "duration": 177,
        "start_time": "2024-08-02T04:43:53.204Z"
      },
      {
        "duration": 20,
        "start_time": "2024-08-02T04:43:53.383Z"
      },
      {
        "duration": 162,
        "start_time": "2024-08-02T04:43:53.404Z"
      },
      {
        "duration": 159,
        "start_time": "2024-08-02T04:43:53.567Z"
      },
      {
        "duration": 238,
        "start_time": "2024-08-02T04:43:53.727Z"
      },
      {
        "duration": 159,
        "start_time": "2024-08-02T04:43:53.966Z"
      },
      {
        "duration": 142,
        "start_time": "2024-08-02T04:43:54.126Z"
      },
      {
        "duration": 153,
        "start_time": "2024-08-02T04:43:54.269Z"
      },
      {
        "duration": 152,
        "start_time": "2024-08-02T04:43:54.423Z"
      },
      {
        "duration": 149,
        "start_time": "2024-08-02T04:43:54.576Z"
      },
      {
        "duration": 26,
        "start_time": "2024-08-02T04:43:54.727Z"
      },
      {
        "duration": 27,
        "start_time": "2024-08-02T04:43:54.755Z"
      },
      {
        "duration": 176,
        "start_time": "2024-08-02T04:43:54.796Z"
      },
      {
        "duration": 31,
        "start_time": "2024-08-02T04:43:54.974Z"
      },
      {
        "duration": 45,
        "start_time": "2024-08-05T09:20:00.838Z"
      },
      {
        "duration": 5,
        "start_time": "2024-08-05T09:21:06.543Z"
      },
      {
        "duration": 1138,
        "start_time": "2024-08-05T20:54:33.540Z"
      },
      {
        "duration": 16,
        "start_time": "2024-08-05T20:54:34.679Z"
      },
      {
        "duration": 73,
        "start_time": "2024-08-05T20:54:34.697Z"
      },
      {
        "duration": 2017,
        "start_time": "2024-08-05T20:54:34.772Z"
      },
      {
        "duration": 26,
        "start_time": "2024-08-05T20:54:36.791Z"
      },
      {
        "duration": 17,
        "start_time": "2024-08-05T20:54:36.819Z"
      },
      {
        "duration": 30,
        "start_time": "2024-08-05T20:54:36.838Z"
      },
      {
        "duration": 49,
        "start_time": "2024-08-05T20:54:36.870Z"
      },
      {
        "duration": 7,
        "start_time": "2024-08-05T20:54:36.921Z"
      },
      {
        "duration": 11,
        "start_time": "2024-08-05T20:54:36.930Z"
      },
      {
        "duration": 384,
        "start_time": "2024-08-05T20:54:36.943Z"
      },
      {
        "duration": 298,
        "start_time": "2024-08-05T20:54:37.328Z"
      },
      {
        "duration": 9,
        "start_time": "2024-08-05T20:54:37.628Z"
      },
      {
        "duration": 8,
        "start_time": "2024-08-05T20:54:37.639Z"
      },
      {
        "duration": 4,
        "start_time": "2024-08-05T20:54:37.649Z"
      },
      {
        "duration": 7,
        "start_time": "2024-08-05T20:54:37.655Z"
      },
      {
        "duration": 34,
        "start_time": "2024-08-05T20:54:37.664Z"
      },
      {
        "duration": 18,
        "start_time": "2024-08-05T20:54:37.699Z"
      },
      {
        "duration": 366,
        "start_time": "2024-08-05T20:54:37.719Z"
      },
      {
        "duration": 16,
        "start_time": "2024-08-05T20:54:38.087Z"
      },
      {
        "duration": 8,
        "start_time": "2024-08-05T20:54:38.104Z"
      },
      {
        "duration": 331,
        "start_time": "2024-08-05T20:54:38.113Z"
      },
      {
        "duration": 9,
        "start_time": "2024-08-05T20:54:38.445Z"
      },
      {
        "duration": 255,
        "start_time": "2024-08-05T20:54:38.456Z"
      },
      {
        "duration": 9,
        "start_time": "2024-08-05T20:54:38.713Z"
      },
      {
        "duration": 265,
        "start_time": "2024-08-05T20:54:38.723Z"
      },
      {
        "duration": 13,
        "start_time": "2024-08-05T20:54:38.990Z"
      },
      {
        "duration": 7,
        "start_time": "2024-08-05T20:54:39.007Z"
      },
      {
        "duration": 254,
        "start_time": "2024-08-05T20:54:39.015Z"
      },
      {
        "duration": 9,
        "start_time": "2024-08-05T20:54:39.271Z"
      },
      {
        "duration": 162,
        "start_time": "2024-08-05T20:54:39.281Z"
      },
      {
        "duration": 9,
        "start_time": "2024-08-05T20:54:39.445Z"
      },
      {
        "duration": 230,
        "start_time": "2024-08-05T20:54:39.455Z"
      },
      {
        "duration": 161,
        "start_time": "2024-08-05T20:54:39.687Z"
      },
      {
        "duration": 317,
        "start_time": "2024-08-05T20:54:39.849Z"
      },
      {
        "duration": 247,
        "start_time": "2024-08-05T20:54:40.168Z"
      },
      {
        "duration": 9,
        "start_time": "2024-08-05T20:54:40.417Z"
      },
      {
        "duration": 263,
        "start_time": "2024-08-05T20:54:40.427Z"
      },
      {
        "duration": 10,
        "start_time": "2024-08-05T20:54:40.695Z"
      },
      {
        "duration": 251,
        "start_time": "2024-08-05T20:54:40.706Z"
      },
      {
        "duration": 181,
        "start_time": "2024-08-05T20:54:40.958Z"
      },
      {
        "duration": 17,
        "start_time": "2024-08-05T20:54:41.140Z"
      },
      {
        "duration": 180,
        "start_time": "2024-08-05T20:54:41.159Z"
      },
      {
        "duration": 176,
        "start_time": "2024-08-05T20:54:41.340Z"
      },
      {
        "duration": 242,
        "start_time": "2024-08-05T20:54:41.518Z"
      },
      {
        "duration": 167,
        "start_time": "2024-08-05T20:54:41.761Z"
      },
      {
        "duration": 160,
        "start_time": "2024-08-05T20:54:41.929Z"
      },
      {
        "duration": 166,
        "start_time": "2024-08-05T20:54:42.090Z"
      },
      {
        "duration": 161,
        "start_time": "2024-08-05T20:54:42.258Z"
      },
      {
        "duration": 169,
        "start_time": "2024-08-05T20:54:42.420Z"
      },
      {
        "duration": 30,
        "start_time": "2024-08-05T20:54:42.591Z"
      },
      {
        "duration": 29,
        "start_time": "2024-08-05T20:54:42.622Z"
      },
      {
        "duration": 211,
        "start_time": "2024-08-05T20:54:42.653Z"
      },
      {
        "duration": 32,
        "start_time": "2024-08-05T20:54:42.865Z"
      },
      {
        "duration": 20,
        "start_time": "2024-08-05T21:00:48.174Z"
      },
      {
        "duration": 15,
        "start_time": "2024-08-05T21:01:31.474Z"
      },
      {
        "duration": 44,
        "start_time": "2024-08-05T21:05:54.113Z"
      },
      {
        "duration": 45,
        "start_time": "2024-08-05T21:06:03.077Z"
      },
      {
        "duration": 44,
        "start_time": "2024-08-05T21:06:33.032Z"
      },
      {
        "duration": 751,
        "start_time": "2024-08-05T21:12:49.325Z"
      },
      {
        "duration": 22,
        "start_time": "2024-08-05T21:12:50.078Z"
      },
      {
        "duration": 75,
        "start_time": "2024-08-05T21:12:50.101Z"
      },
      {
        "duration": 1910,
        "start_time": "2024-08-05T21:12:50.178Z"
      },
      {
        "duration": 25,
        "start_time": "2024-08-05T21:12:52.090Z"
      },
      {
        "duration": 16,
        "start_time": "2024-08-05T21:12:52.116Z"
      },
      {
        "duration": 28,
        "start_time": "2024-08-05T21:12:52.133Z"
      },
      {
        "duration": 54,
        "start_time": "2024-08-05T21:12:52.162Z"
      },
      {
        "duration": 28,
        "start_time": "2024-08-05T21:12:52.218Z"
      },
      {
        "duration": 7,
        "start_time": "2024-08-05T21:12:52.248Z"
      },
      {
        "duration": 11,
        "start_time": "2024-08-05T21:12:52.257Z"
      },
      {
        "duration": 354,
        "start_time": "2024-08-05T21:12:52.270Z"
      },
      {
        "duration": 293,
        "start_time": "2024-08-05T21:12:52.626Z"
      },
      {
        "duration": 8,
        "start_time": "2024-08-05T21:12:52.920Z"
      },
      {
        "duration": 7,
        "start_time": "2024-08-05T21:12:52.930Z"
      },
      {
        "duration": 3,
        "start_time": "2024-08-05T21:12:52.939Z"
      },
      {
        "duration": 8,
        "start_time": "2024-08-05T21:12:52.943Z"
      },
      {
        "duration": 5,
        "start_time": "2024-08-05T21:12:52.952Z"
      },
      {
        "duration": 45,
        "start_time": "2024-08-05T21:12:52.959Z"
      },
      {
        "duration": 328,
        "start_time": "2024-08-05T21:12:53.005Z"
      },
      {
        "duration": 9,
        "start_time": "2024-08-05T21:12:53.335Z"
      },
      {
        "duration": 8,
        "start_time": "2024-08-05T21:12:53.346Z"
      },
      {
        "duration": 327,
        "start_time": "2024-08-05T21:12:53.355Z"
      },
      {
        "duration": 14,
        "start_time": "2024-08-05T21:12:53.684Z"
      },
      {
        "duration": 261,
        "start_time": "2024-08-05T21:12:53.699Z"
      },
      {
        "duration": 8,
        "start_time": "2024-08-05T21:12:53.962Z"
      },
      {
        "duration": 252,
        "start_time": "2024-08-05T21:12:53.971Z"
      },
      {
        "duration": 9,
        "start_time": "2024-08-05T21:12:54.226Z"
      },
      {
        "duration": 7,
        "start_time": "2024-08-05T21:12:54.237Z"
      },
      {
        "duration": 253,
        "start_time": "2024-08-05T21:12:54.245Z"
      },
      {
        "duration": 8,
        "start_time": "2024-08-05T21:12:54.500Z"
      },
      {
        "duration": 149,
        "start_time": "2024-08-05T21:12:54.509Z"
      },
      {
        "duration": 7,
        "start_time": "2024-08-05T21:12:54.660Z"
      },
      {
        "duration": 179,
        "start_time": "2024-08-05T21:12:54.669Z"
      },
      {
        "duration": 160,
        "start_time": "2024-08-05T21:12:54.849Z"
      },
      {
        "duration": 306,
        "start_time": "2024-08-05T21:12:55.011Z"
      },
      {
        "duration": 283,
        "start_time": "2024-08-05T21:12:55.319Z"
      },
      {
        "duration": 9,
        "start_time": "2024-08-05T21:12:55.603Z"
      },
      {
        "duration": 261,
        "start_time": "2024-08-05T21:12:55.614Z"
      },
      {
        "duration": 9,
        "start_time": "2024-08-05T21:12:55.877Z"
      },
      {
        "duration": 243,
        "start_time": "2024-08-05T21:12:55.896Z"
      },
      {
        "duration": 191,
        "start_time": "2024-08-05T21:12:56.141Z"
      },
      {
        "duration": 18,
        "start_time": "2024-08-05T21:12:56.333Z"
      },
      {
        "duration": 168,
        "start_time": "2024-08-05T21:12:56.352Z"
      },
      {
        "duration": 179,
        "start_time": "2024-08-05T21:12:56.522Z"
      },
      {
        "duration": 232,
        "start_time": "2024-08-05T21:12:56.702Z"
      },
      {
        "duration": 166,
        "start_time": "2024-08-05T21:12:56.936Z"
      },
      {
        "duration": 156,
        "start_time": "2024-08-05T21:12:57.103Z"
      },
      {
        "duration": 165,
        "start_time": "2024-08-05T21:12:57.260Z"
      },
      {
        "duration": 163,
        "start_time": "2024-08-05T21:12:57.427Z"
      },
      {
        "duration": 158,
        "start_time": "2024-08-05T21:12:57.595Z"
      },
      {
        "duration": 43,
        "start_time": "2024-08-05T21:12:57.754Z"
      },
      {
        "duration": 26,
        "start_time": "2024-08-05T21:12:57.799Z"
      },
      {
        "duration": 192,
        "start_time": "2024-08-05T21:12:57.827Z"
      },
      {
        "duration": 21,
        "start_time": "2024-08-05T21:12:58.021Z"
      },
      {
        "duration": 112,
        "start_time": "2024-08-05T21:15:55.483Z"
      },
      {
        "duration": 38,
        "start_time": "2024-08-05T21:16:09.657Z"
      },
      {
        "duration": 10,
        "start_time": "2024-08-05T21:16:38.820Z"
      },
      {
        "duration": 11,
        "start_time": "2024-08-05T21:17:30.748Z"
      },
      {
        "duration": 7,
        "start_time": "2024-08-05T21:18:23.259Z"
      },
      {
        "duration": 46,
        "start_time": "2024-08-05T21:18:43.232Z"
      },
      {
        "duration": 8,
        "start_time": "2024-08-05T21:18:50.097Z"
      },
      {
        "duration": 7,
        "start_time": "2024-08-05T21:19:29.112Z"
      },
      {
        "duration": 7,
        "start_time": "2024-08-05T21:21:31.770Z"
      },
      {
        "duration": 7,
        "start_time": "2024-08-05T21:23:09.022Z"
      },
      {
        "duration": 21,
        "start_time": "2024-08-05T21:31:10.354Z"
      },
      {
        "duration": 21,
        "start_time": "2024-08-05T21:31:24.147Z"
      },
      {
        "duration": 46,
        "start_time": "2024-08-05T21:32:00.163Z"
      },
      {
        "duration": 21,
        "start_time": "2024-08-05T21:32:24.097Z"
      },
      {
        "duration": 18,
        "start_time": "2024-08-05T21:33:15.326Z"
      },
      {
        "duration": 46,
        "start_time": "2024-08-05T21:33:44.445Z"
      },
      {
        "duration": 15,
        "start_time": "2024-08-05T21:34:06.550Z"
      },
      {
        "duration": 744,
        "start_time": "2024-08-05T21:36:00.848Z"
      },
      {
        "duration": 15,
        "start_time": "2024-08-05T21:36:01.595Z"
      },
      {
        "duration": 158,
        "start_time": "2024-08-05T21:36:01.612Z"
      },
      {
        "duration": 2016,
        "start_time": "2024-08-05T21:36:01.772Z"
      },
      {
        "duration": 24,
        "start_time": "2024-08-05T21:36:03.790Z"
      },
      {
        "duration": 15,
        "start_time": "2024-08-05T21:36:03.816Z"
      },
      {
        "duration": 28,
        "start_time": "2024-08-05T21:36:03.833Z"
      },
      {
        "duration": 50,
        "start_time": "2024-08-05T21:36:03.862Z"
      },
      {
        "duration": 26,
        "start_time": "2024-08-05T21:36:03.914Z"
      },
      {
        "duration": 8,
        "start_time": "2024-08-05T21:36:03.942Z"
      },
      {
        "duration": 32,
        "start_time": "2024-08-05T21:36:03.952Z"
      },
      {
        "duration": 19,
        "start_time": "2024-08-05T21:36:03.985Z"
      },
      {
        "duration": 11,
        "start_time": "2024-08-05T21:36:04.005Z"
      },
      {
        "duration": 328,
        "start_time": "2024-08-05T21:36:04.018Z"
      },
      {
        "duration": 294,
        "start_time": "2024-08-05T21:36:04.347Z"
      },
      {
        "duration": 8,
        "start_time": "2024-08-05T21:36:04.643Z"
      },
      {
        "duration": 8,
        "start_time": "2024-08-05T21:36:04.652Z"
      },
      {
        "duration": 11,
        "start_time": "2024-08-05T21:36:04.661Z"
      },
      {
        "duration": 17,
        "start_time": "2024-08-05T21:36:04.673Z"
      },
      {
        "duration": 8,
        "start_time": "2024-08-05T21:36:04.696Z"
      },
      {
        "duration": 20,
        "start_time": "2024-08-05T21:36:04.705Z"
      },
      {
        "duration": 349,
        "start_time": "2024-08-05T21:36:04.727Z"
      },
      {
        "duration": 11,
        "start_time": "2024-08-05T21:36:05.077Z"
      },
      {
        "duration": 8,
        "start_time": "2024-08-05T21:36:05.096Z"
      },
      {
        "duration": 367,
        "start_time": "2024-08-05T21:36:05.106Z"
      },
      {
        "duration": 22,
        "start_time": "2024-08-05T21:36:05.475Z"
      },
      {
        "duration": 248,
        "start_time": "2024-08-05T21:36:05.498Z"
      },
      {
        "duration": 9,
        "start_time": "2024-08-05T21:36:05.749Z"
      },
      {
        "duration": 260,
        "start_time": "2024-08-05T21:36:05.760Z"
      },
      {
        "duration": 10,
        "start_time": "2024-08-05T21:36:06.022Z"
      },
      {
        "duration": 11,
        "start_time": "2024-08-05T21:36:06.034Z"
      },
      {
        "duration": 252,
        "start_time": "2024-08-05T21:36:06.046Z"
      },
      {
        "duration": 9,
        "start_time": "2024-08-05T21:36:06.300Z"
      },
      {
        "duration": 159,
        "start_time": "2024-08-05T21:36:06.310Z"
      },
      {
        "duration": 8,
        "start_time": "2024-08-05T21:36:06.471Z"
      },
      {
        "duration": 184,
        "start_time": "2024-08-05T21:36:06.481Z"
      },
      {
        "duration": 157,
        "start_time": "2024-08-05T21:36:06.666Z"
      },
      {
        "duration": 307,
        "start_time": "2024-08-05T21:36:06.825Z"
      },
      {
        "duration": 248,
        "start_time": "2024-08-05T21:36:07.134Z"
      },
      {
        "duration": 17,
        "start_time": "2024-08-05T21:36:07.383Z"
      },
      {
        "duration": 257,
        "start_time": "2024-08-05T21:36:07.402Z"
      },
      {
        "duration": 8,
        "start_time": "2024-08-05T21:36:07.661Z"
      },
      {
        "duration": 296,
        "start_time": "2024-08-05T21:36:07.671Z"
      },
      {
        "duration": 175,
        "start_time": "2024-08-05T21:36:07.968Z"
      },
      {
        "duration": 18,
        "start_time": "2024-08-05T21:36:08.145Z"
      },
      {
        "duration": 171,
        "start_time": "2024-08-05T21:36:08.164Z"
      },
      {
        "duration": 175,
        "start_time": "2024-08-05T21:36:08.337Z"
      },
      {
        "duration": 231,
        "start_time": "2024-08-05T21:36:08.514Z"
      },
      {
        "duration": 160,
        "start_time": "2024-08-05T21:36:08.746Z"
      },
      {
        "duration": 154,
        "start_time": "2024-08-05T21:36:08.907Z"
      },
      {
        "duration": 160,
        "start_time": "2024-08-05T21:36:09.063Z"
      },
      {
        "duration": 162,
        "start_time": "2024-08-05T21:36:09.224Z"
      },
      {
        "duration": 165,
        "start_time": "2024-08-05T21:36:09.388Z"
      },
      {
        "duration": 28,
        "start_time": "2024-08-05T21:36:09.555Z"
      },
      {
        "duration": 28,
        "start_time": "2024-08-05T21:36:09.596Z"
      },
      {
        "duration": 190,
        "start_time": "2024-08-05T21:36:09.626Z"
      },
      {
        "duration": 21,
        "start_time": "2024-08-05T21:36:09.817Z"
      },
      {
        "duration": 7,
        "start_time": "2024-08-05T21:38:02.260Z"
      },
      {
        "duration": 96,
        "start_time": "2024-08-05T21:39:05.161Z"
      },
      {
        "duration": 30,
        "start_time": "2024-08-05T21:41:01.057Z"
      },
      {
        "duration": 12,
        "start_time": "2024-08-05T21:41:10.295Z"
      },
      {
        "duration": 27,
        "start_time": "2024-08-05T21:46:52.595Z"
      },
      {
        "duration": 46,
        "start_time": "2024-08-05T21:49:14.344Z"
      },
      {
        "duration": 1082,
        "start_time": "2024-08-06T18:29:45.924Z"
      },
      {
        "duration": 16,
        "start_time": "2024-08-06T18:29:47.008Z"
      },
      {
        "duration": 89,
        "start_time": "2024-08-06T18:29:47.025Z"
      },
      {
        "duration": 2033,
        "start_time": "2024-08-06T18:29:47.116Z"
      },
      {
        "duration": 26,
        "start_time": "2024-08-06T18:29:49.151Z"
      },
      {
        "duration": 17,
        "start_time": "2024-08-06T18:29:49.179Z"
      },
      {
        "duration": 40,
        "start_time": "2024-08-06T18:29:49.197Z"
      },
      {
        "duration": 37,
        "start_time": "2024-08-06T18:29:49.239Z"
      },
      {
        "duration": 81,
        "start_time": "2024-08-06T18:29:49.278Z"
      },
      {
        "duration": 11,
        "start_time": "2024-08-06T18:29:49.362Z"
      },
      {
        "duration": 28,
        "start_time": "2024-08-06T18:29:49.375Z"
      },
      {
        "duration": 33,
        "start_time": "2024-08-06T18:29:49.405Z"
      },
      {
        "duration": 17,
        "start_time": "2024-08-06T18:29:49.439Z"
      },
      {
        "duration": 45,
        "start_time": "2024-08-06T18:29:49.458Z"
      },
      {
        "duration": 383,
        "start_time": "2024-08-06T18:29:49.505Z"
      },
      {
        "duration": 294,
        "start_time": "2024-08-06T18:29:49.890Z"
      },
      {
        "duration": 9,
        "start_time": "2024-08-06T18:29:50.185Z"
      },
      {
        "duration": 19,
        "start_time": "2024-08-06T18:29:50.195Z"
      },
      {
        "duration": 21,
        "start_time": "2024-08-06T18:29:50.215Z"
      },
      {
        "duration": 31,
        "start_time": "2024-08-06T18:29:50.238Z"
      },
      {
        "duration": 67,
        "start_time": "2024-08-06T18:29:50.270Z"
      },
      {
        "duration": 64,
        "start_time": "2024-08-06T18:29:50.339Z"
      },
      {
        "duration": 392,
        "start_time": "2024-08-06T18:29:50.405Z"
      },
      {
        "duration": 16,
        "start_time": "2024-08-06T18:29:50.799Z"
      },
      {
        "duration": 19,
        "start_time": "2024-08-06T18:29:50.816Z"
      },
      {
        "duration": 383,
        "start_time": "2024-08-06T18:29:50.837Z"
      },
      {
        "duration": 9,
        "start_time": "2024-08-06T18:29:51.222Z"
      },
      {
        "duration": 276,
        "start_time": "2024-08-06T18:29:51.235Z"
      },
      {
        "duration": 9,
        "start_time": "2024-08-06T18:29:51.513Z"
      },
      {
        "duration": 284,
        "start_time": "2024-08-06T18:29:51.524Z"
      },
      {
        "duration": 10,
        "start_time": "2024-08-06T18:29:51.810Z"
      },
      {
        "duration": 37,
        "start_time": "2024-08-06T18:29:51.821Z"
      },
      {
        "duration": 259,
        "start_time": "2024-08-06T18:29:51.860Z"
      },
      {
        "duration": 8,
        "start_time": "2024-08-06T18:29:52.121Z"
      },
      {
        "duration": 201,
        "start_time": "2024-08-06T18:29:52.130Z"
      },
      {
        "duration": 9,
        "start_time": "2024-08-06T18:29:52.333Z"
      },
      {
        "duration": 298,
        "start_time": "2024-08-06T18:29:52.344Z"
      },
      {
        "duration": 190,
        "start_time": "2024-08-06T18:29:52.644Z"
      },
      {
        "duration": 358,
        "start_time": "2024-08-06T18:29:52.836Z"
      },
      {
        "duration": 264,
        "start_time": "2024-08-06T18:29:53.196Z"
      },
      {
        "duration": 9,
        "start_time": "2024-08-06T18:29:53.462Z"
      },
      {
        "duration": 260,
        "start_time": "2024-08-06T18:29:53.472Z"
      },
      {
        "duration": 9,
        "start_time": "2024-08-06T18:29:53.733Z"
      },
      {
        "duration": 302,
        "start_time": "2024-08-06T18:29:53.744Z"
      },
      {
        "duration": 212,
        "start_time": "2024-08-06T18:29:54.048Z"
      },
      {
        "duration": 23,
        "start_time": "2024-08-06T18:29:54.262Z"
      },
      {
        "duration": 238,
        "start_time": "2024-08-06T18:29:54.287Z"
      },
      {
        "duration": 178,
        "start_time": "2024-08-06T18:29:54.527Z"
      },
      {
        "duration": 233,
        "start_time": "2024-08-06T18:29:54.707Z"
      },
      {
        "duration": 167,
        "start_time": "2024-08-06T18:29:54.942Z"
      },
      {
        "duration": 163,
        "start_time": "2024-08-06T18:29:55.111Z"
      },
      {
        "duration": 168,
        "start_time": "2024-08-06T18:29:55.275Z"
      },
      {
        "duration": 170,
        "start_time": "2024-08-06T18:29:55.445Z"
      },
      {
        "duration": 179,
        "start_time": "2024-08-06T18:29:55.617Z"
      },
      {
        "duration": 34,
        "start_time": "2024-08-06T18:29:55.798Z"
      },
      {
        "duration": 31,
        "start_time": "2024-08-06T18:29:55.834Z"
      },
      {
        "duration": 226,
        "start_time": "2024-08-06T18:29:55.867Z"
      },
      {
        "duration": 24,
        "start_time": "2024-08-06T18:29:56.095Z"
      },
      {
        "duration": 8,
        "start_time": "2024-08-06T19:08:57.617Z"
      },
      {
        "duration": 5,
        "start_time": "2024-08-06T19:09:13.445Z"
      },
      {
        "duration": 851,
        "start_time": "2024-08-06T19:09:49.462Z"
      },
      {
        "duration": 20,
        "start_time": "2024-08-06T19:09:50.316Z"
      },
      {
        "duration": 92,
        "start_time": "2024-08-06T19:09:50.338Z"
      },
      {
        "duration": 2200,
        "start_time": "2024-08-06T19:09:50.433Z"
      },
      {
        "duration": 27,
        "start_time": "2024-08-06T19:09:52.635Z"
      },
      {
        "duration": 17,
        "start_time": "2024-08-06T19:09:52.663Z"
      },
      {
        "duration": 5,
        "start_time": "2024-08-06T19:09:52.681Z"
      },
      {
        "duration": 56,
        "start_time": "2024-08-06T19:09:52.688Z"
      },
      {
        "duration": 36,
        "start_time": "2024-08-06T19:09:52.745Z"
      },
      {
        "duration": 42,
        "start_time": "2024-08-06T19:09:52.784Z"
      },
      {
        "duration": 66,
        "start_time": "2024-08-06T19:09:52.828Z"
      },
      {
        "duration": 14,
        "start_time": "2024-08-06T19:09:52.896Z"
      },
      {
        "duration": 13,
        "start_time": "2024-08-06T19:09:52.912Z"
      },
      {
        "duration": 9,
        "start_time": "2024-08-06T19:09:52.927Z"
      },
      {
        "duration": 15,
        "start_time": "2024-08-06T19:09:52.937Z"
      },
      {
        "duration": 403,
        "start_time": "2024-08-06T19:09:52.953Z"
      },
      {
        "duration": 329,
        "start_time": "2024-08-06T19:09:53.357Z"
      },
      {
        "duration": 20,
        "start_time": "2024-08-06T19:09:53.688Z"
      },
      {
        "duration": 14,
        "start_time": "2024-08-06T19:09:53.711Z"
      },
      {
        "duration": 14,
        "start_time": "2024-08-06T19:09:53.728Z"
      },
      {
        "duration": 11,
        "start_time": "2024-08-06T19:09:53.744Z"
      },
      {
        "duration": 15,
        "start_time": "2024-08-06T19:09:53.756Z"
      },
      {
        "duration": 19,
        "start_time": "2024-08-06T19:09:53.772Z"
      },
      {
        "duration": 366,
        "start_time": "2024-08-06T19:09:53.805Z"
      },
      {
        "duration": 11,
        "start_time": "2024-08-06T19:09:54.173Z"
      },
      {
        "duration": 26,
        "start_time": "2024-08-06T19:09:54.185Z"
      },
      {
        "duration": 359,
        "start_time": "2024-08-06T19:09:54.213Z"
      },
      {
        "duration": 9,
        "start_time": "2024-08-06T19:09:54.576Z"
      },
      {
        "duration": 312,
        "start_time": "2024-08-06T19:09:54.586Z"
      },
      {
        "duration": 14,
        "start_time": "2024-08-06T19:09:54.900Z"
      },
      {
        "duration": 300,
        "start_time": "2024-08-06T19:09:54.916Z"
      },
      {
        "duration": 23,
        "start_time": "2024-08-06T19:09:55.218Z"
      },
      {
        "duration": 17,
        "start_time": "2024-08-06T19:09:55.243Z"
      },
      {
        "duration": 318,
        "start_time": "2024-08-06T19:09:55.262Z"
      },
      {
        "duration": 10,
        "start_time": "2024-08-06T19:09:55.581Z"
      },
      {
        "duration": 170,
        "start_time": "2024-08-06T19:09:55.606Z"
      },
      {
        "duration": 9,
        "start_time": "2024-08-06T19:09:55.778Z"
      },
      {
        "duration": 209,
        "start_time": "2024-08-06T19:09:55.788Z"
      },
      {
        "duration": 211,
        "start_time": "2024-08-06T19:09:56.000Z"
      },
      {
        "duration": 367,
        "start_time": "2024-08-06T19:09:56.213Z"
      },
      {
        "duration": 302,
        "start_time": "2024-08-06T19:09:56.582Z"
      },
      {
        "duration": 10,
        "start_time": "2024-08-06T19:09:56.885Z"
      },
      {
        "duration": 312,
        "start_time": "2024-08-06T19:09:56.908Z"
      },
      {
        "duration": 11,
        "start_time": "2024-08-06T19:09:57.222Z"
      },
      {
        "duration": 301,
        "start_time": "2024-08-06T19:09:57.235Z"
      },
      {
        "duration": 192,
        "start_time": "2024-08-06T19:09:57.538Z"
      },
      {
        "duration": 19,
        "start_time": "2024-08-06T19:09:57.732Z"
      },
      {
        "duration": 195,
        "start_time": "2024-08-06T19:09:57.752Z"
      },
      {
        "duration": 198,
        "start_time": "2024-08-06T19:09:57.949Z"
      },
      {
        "duration": 279,
        "start_time": "2024-08-06T19:09:58.149Z"
      },
      {
        "duration": 208,
        "start_time": "2024-08-06T19:09:58.430Z"
      },
      {
        "duration": 203,
        "start_time": "2024-08-06T19:09:58.640Z"
      },
      {
        "duration": 190,
        "start_time": "2024-08-06T19:09:58.845Z"
      },
      {
        "duration": 183,
        "start_time": "2024-08-06T19:09:59.037Z"
      },
      {
        "duration": 175,
        "start_time": "2024-08-06T19:09:59.222Z"
      },
      {
        "duration": 43,
        "start_time": "2024-08-06T19:09:59.399Z"
      },
      {
        "duration": 30,
        "start_time": "2024-08-06T19:09:59.444Z"
      },
      {
        "duration": 231,
        "start_time": "2024-08-06T19:09:59.476Z"
      },
      {
        "duration": 29,
        "start_time": "2024-08-06T19:09:59.709Z"
      },
      {
        "duration": 4,
        "start_time": "2024-08-06T19:10:51.038Z"
      },
      {
        "duration": 124,
        "start_time": "2024-08-06T19:11:27.541Z"
      },
      {
        "duration": 14,
        "start_time": "2024-08-06T19:11:27.668Z"
      },
      {
        "duration": 105,
        "start_time": "2024-08-06T19:11:27.684Z"
      },
      {
        "duration": 2128,
        "start_time": "2024-08-06T19:11:27.791Z"
      },
      {
        "duration": 25,
        "start_time": "2024-08-06T19:11:29.923Z"
      },
      {
        "duration": 14,
        "start_time": "2024-08-06T19:11:29.949Z"
      },
      {
        "duration": 5,
        "start_time": "2024-08-06T19:11:32.664Z"
      },
      {
        "duration": 29,
        "start_time": "2024-08-06T19:13:29.435Z"
      },
      {
        "duration": 28,
        "start_time": "2024-08-06T19:14:44.458Z"
      },
      {
        "duration": 31,
        "start_time": "2024-08-06T19:16:37.119Z"
      },
      {
        "duration": 853,
        "start_time": "2024-08-06T19:16:47.803Z"
      },
      {
        "duration": 24,
        "start_time": "2024-08-06T19:16:48.659Z"
      },
      {
        "duration": 88,
        "start_time": "2024-08-06T19:16:48.685Z"
      },
      {
        "duration": 2121,
        "start_time": "2024-08-06T19:16:48.776Z"
      },
      {
        "duration": 27,
        "start_time": "2024-08-06T19:16:50.899Z"
      },
      {
        "duration": 17,
        "start_time": "2024-08-06T19:16:50.928Z"
      },
      {
        "duration": 23,
        "start_time": "2024-08-06T19:16:50.946Z"
      },
      {
        "duration": 46,
        "start_time": "2024-08-06T19:16:50.970Z"
      },
      {
        "duration": 33,
        "start_time": "2024-08-06T19:16:51.017Z"
      },
      {
        "duration": 32,
        "start_time": "2024-08-06T19:16:51.053Z"
      },
      {
        "duration": 26,
        "start_time": "2024-08-06T19:16:51.087Z"
      },
      {
        "duration": 13,
        "start_time": "2024-08-06T19:16:51.115Z"
      },
      {
        "duration": 17,
        "start_time": "2024-08-06T19:16:51.130Z"
      },
      {
        "duration": 46,
        "start_time": "2024-08-06T19:16:51.148Z"
      },
      {
        "duration": 24,
        "start_time": "2024-08-06T19:16:51.196Z"
      },
      {
        "duration": 382,
        "start_time": "2024-08-06T19:16:51.222Z"
      },
      {
        "duration": 348,
        "start_time": "2024-08-06T19:16:51.606Z"
      },
      {
        "duration": 10,
        "start_time": "2024-08-06T19:16:51.956Z"
      },
      {
        "duration": 10,
        "start_time": "2024-08-06T19:16:51.968Z"
      },
      {
        "duration": 26,
        "start_time": "2024-08-06T19:16:51.980Z"
      },
      {
        "duration": 21,
        "start_time": "2024-08-06T19:16:52.008Z"
      },
      {
        "duration": 19,
        "start_time": "2024-08-06T19:16:52.031Z"
      },
      {
        "duration": 20,
        "start_time": "2024-08-06T19:16:52.052Z"
      },
      {
        "duration": 337,
        "start_time": "2024-08-06T19:16:52.074Z"
      },
      {
        "duration": 11,
        "start_time": "2024-08-06T19:16:52.413Z"
      },
      {
        "duration": 10,
        "start_time": "2024-08-06T19:16:52.426Z"
      },
      {
        "duration": 356,
        "start_time": "2024-08-06T19:16:52.438Z"
      },
      {
        "duration": 10,
        "start_time": "2024-08-06T19:16:52.804Z"
      },
      {
        "duration": 316,
        "start_time": "2024-08-06T19:16:52.816Z"
      },
      {
        "duration": 10,
        "start_time": "2024-08-06T19:16:53.134Z"
      },
      {
        "duration": 279,
        "start_time": "2024-08-06T19:16:53.145Z"
      },
      {
        "duration": 12,
        "start_time": "2024-08-06T19:16:53.426Z"
      },
      {
        "duration": 8,
        "start_time": "2024-08-06T19:16:53.440Z"
      },
      {
        "duration": 270,
        "start_time": "2024-08-06T19:16:53.449Z"
      },
      {
        "duration": 9,
        "start_time": "2024-08-06T19:16:53.720Z"
      },
      {
        "duration": 165,
        "start_time": "2024-08-06T19:16:53.730Z"
      },
      {
        "duration": 13,
        "start_time": "2024-08-06T19:16:53.897Z"
      },
      {
        "duration": 193,
        "start_time": "2024-08-06T19:16:53.912Z"
      },
      {
        "duration": 178,
        "start_time": "2024-08-06T19:16:54.106Z"
      },
      {
        "duration": 330,
        "start_time": "2024-08-06T19:16:54.285Z"
      },
      {
        "duration": 303,
        "start_time": "2024-08-06T19:16:54.617Z"
      },
      {
        "duration": 10,
        "start_time": "2024-08-06T19:16:54.922Z"
      },
      {
        "duration": 288,
        "start_time": "2024-08-06T19:16:54.934Z"
      },
      {
        "duration": 10,
        "start_time": "2024-08-06T19:16:55.224Z"
      },
      {
        "duration": 270,
        "start_time": "2024-08-06T19:16:55.235Z"
      },
      {
        "duration": 184,
        "start_time": "2024-08-06T19:16:55.506Z"
      },
      {
        "duration": 27,
        "start_time": "2024-08-06T19:16:55.692Z"
      },
      {
        "duration": 192,
        "start_time": "2024-08-06T19:16:55.721Z"
      },
      {
        "duration": 218,
        "start_time": "2024-08-06T19:16:55.914Z"
      },
      {
        "duration": 250,
        "start_time": "2024-08-06T19:16:56.133Z"
      },
      {
        "duration": 192,
        "start_time": "2024-08-06T19:16:56.385Z"
      },
      {
        "duration": 175,
        "start_time": "2024-08-06T19:16:56.579Z"
      },
      {
        "duration": 204,
        "start_time": "2024-08-06T19:16:56.756Z"
      },
      {
        "duration": 189,
        "start_time": "2024-08-06T19:16:56.962Z"
      },
      {
        "duration": 177,
        "start_time": "2024-08-06T19:16:57.152Z"
      },
      {
        "duration": 30,
        "start_time": "2024-08-06T19:16:57.331Z"
      },
      {
        "duration": 44,
        "start_time": "2024-08-06T19:16:57.362Z"
      },
      {
        "duration": 197,
        "start_time": "2024-08-06T19:16:57.408Z"
      },
      {
        "duration": 27,
        "start_time": "2024-08-06T19:16:57.607Z"
      },
      {
        "duration": 121,
        "start_time": "2024-08-06T19:51:02.678Z"
      },
      {
        "duration": 20,
        "start_time": "2024-08-06T19:51:02.800Z"
      },
      {
        "duration": 93,
        "start_time": "2024-08-06T19:51:02.822Z"
      },
      {
        "duration": 2019,
        "start_time": "2024-08-06T19:51:02.916Z"
      },
      {
        "duration": 22,
        "start_time": "2024-08-06T19:51:04.937Z"
      },
      {
        "duration": 16,
        "start_time": "2024-08-06T19:51:04.961Z"
      },
      {
        "duration": 62,
        "start_time": "2024-08-06T19:51:04.979Z"
      },
      {
        "duration": 31,
        "start_time": "2024-08-06T19:51:05.043Z"
      },
      {
        "duration": 31,
        "start_time": "2024-08-06T19:51:16.883Z"
      },
      {
        "duration": 29,
        "start_time": "2024-08-06T19:52:00.610Z"
      },
      {
        "duration": 794,
        "start_time": "2024-08-06T19:52:13.829Z"
      },
      {
        "duration": 17,
        "start_time": "2024-08-06T19:52:14.626Z"
      },
      {
        "duration": 120,
        "start_time": "2024-08-06T19:52:14.645Z"
      },
      {
        "duration": 2062,
        "start_time": "2024-08-06T19:52:14.767Z"
      },
      {
        "duration": 26,
        "start_time": "2024-08-06T19:52:16.831Z"
      },
      {
        "duration": 17,
        "start_time": "2024-08-06T19:52:16.858Z"
      },
      {
        "duration": 31,
        "start_time": "2024-08-06T19:52:16.877Z"
      },
      {
        "duration": 35,
        "start_time": "2024-08-06T19:52:16.910Z"
      },
      {
        "duration": 30,
        "start_time": "2024-08-06T19:52:16.946Z"
      },
      {
        "duration": 60,
        "start_time": "2024-08-06T19:52:16.979Z"
      },
      {
        "duration": 8,
        "start_time": "2024-08-06T19:52:17.041Z"
      },
      {
        "duration": 9,
        "start_time": "2024-08-06T19:52:17.050Z"
      },
      {
        "duration": 9,
        "start_time": "2024-08-06T19:52:17.061Z"
      },
      {
        "duration": 14,
        "start_time": "2024-08-06T19:52:17.072Z"
      },
      {
        "duration": 354,
        "start_time": "2024-08-06T19:52:17.088Z"
      },
      {
        "duration": 325,
        "start_time": "2024-08-06T19:52:17.443Z"
      },
      {
        "duration": 10,
        "start_time": "2024-08-06T19:52:17.770Z"
      },
      {
        "duration": 25,
        "start_time": "2024-08-06T19:52:17.781Z"
      },
      {
        "duration": 5,
        "start_time": "2024-08-06T19:52:17.808Z"
      },
      {
        "duration": 23,
        "start_time": "2024-08-06T19:52:17.815Z"
      },
      {
        "duration": 6,
        "start_time": "2024-08-06T19:52:17.840Z"
      },
      {
        "duration": 15,
        "start_time": "2024-08-06T19:52:17.848Z"
      },
      {
        "duration": 348,
        "start_time": "2024-08-06T19:52:17.865Z"
      },
      {
        "duration": 10,
        "start_time": "2024-08-06T19:52:18.214Z"
      },
      {
        "duration": 9,
        "start_time": "2024-08-06T19:52:18.226Z"
      },
      {
        "duration": 344,
        "start_time": "2024-08-06T19:52:18.237Z"
      },
      {
        "duration": 9,
        "start_time": "2024-08-06T19:52:18.583Z"
      },
      {
        "duration": 353,
        "start_time": "2024-08-06T19:52:18.604Z"
      },
      {
        "duration": 9,
        "start_time": "2024-08-06T19:52:18.958Z"
      },
      {
        "duration": 317,
        "start_time": "2024-08-06T19:52:18.969Z"
      },
      {
        "duration": 16,
        "start_time": "2024-08-06T19:52:19.288Z"
      },
      {
        "duration": 9,
        "start_time": "2024-08-06T19:52:19.306Z"
      },
      {
        "duration": 262,
        "start_time": "2024-08-06T19:52:19.317Z"
      },
      {
        "duration": 8,
        "start_time": "2024-08-06T19:52:19.581Z"
      },
      {
        "duration": 159,
        "start_time": "2024-08-06T19:52:19.591Z"
      },
      {
        "duration": 9,
        "start_time": "2024-08-06T19:52:19.751Z"
      },
      {
        "duration": 191,
        "start_time": "2024-08-06T19:52:19.762Z"
      },
      {
        "duration": 166,
        "start_time": "2024-08-06T19:52:19.955Z"
      },
      {
        "duration": 313,
        "start_time": "2024-08-06T19:52:20.122Z"
      },
      {
        "duration": 271,
        "start_time": "2024-08-06T19:52:20.437Z"
      },
      {
        "duration": 9,
        "start_time": "2024-08-06T19:52:20.710Z"
      },
      {
        "duration": 307,
        "start_time": "2024-08-06T19:52:20.720Z"
      },
      {
        "duration": 10,
        "start_time": "2024-08-06T19:52:21.028Z"
      },
      {
        "duration": 283,
        "start_time": "2024-08-06T19:52:21.040Z"
      },
      {
        "duration": 184,
        "start_time": "2024-08-06T19:52:21.325Z"
      },
      {
        "duration": 19,
        "start_time": "2024-08-06T19:52:21.511Z"
      },
      {
        "duration": 197,
        "start_time": "2024-08-06T19:52:21.532Z"
      },
      {
        "duration": 179,
        "start_time": "2024-08-06T19:52:21.731Z"
      },
      {
        "duration": 252,
        "start_time": "2024-08-06T19:52:21.912Z"
      },
      {
        "duration": 175,
        "start_time": "2024-08-06T19:52:22.165Z"
      },
      {
        "duration": 169,
        "start_time": "2024-08-06T19:52:22.342Z"
      },
      {
        "duration": 176,
        "start_time": "2024-08-06T19:52:22.513Z"
      },
      {
        "duration": 166,
        "start_time": "2024-08-06T19:52:22.691Z"
      },
      {
        "duration": 172,
        "start_time": "2024-08-06T19:52:22.858Z"
      },
      {
        "duration": 29,
        "start_time": "2024-08-06T19:52:23.032Z"
      },
      {
        "duration": 44,
        "start_time": "2024-08-06T19:52:23.062Z"
      },
      {
        "duration": 203,
        "start_time": "2024-08-06T19:52:23.108Z"
      },
      {
        "duration": 20,
        "start_time": "2024-08-06T19:52:23.313Z"
      },
      {
        "duration": 32,
        "start_time": "2024-08-06T20:04:38.772Z"
      },
      {
        "duration": 809,
        "start_time": "2024-08-06T20:05:19.946Z"
      },
      {
        "duration": 17,
        "start_time": "2024-08-06T20:05:20.757Z"
      },
      {
        "duration": 89,
        "start_time": "2024-08-06T20:05:20.775Z"
      },
      {
        "duration": 2015,
        "start_time": "2024-08-06T20:05:20.866Z"
      },
      {
        "duration": 31,
        "start_time": "2024-08-06T20:05:22.883Z"
      },
      {
        "duration": 17,
        "start_time": "2024-08-06T20:05:22.916Z"
      },
      {
        "duration": 29,
        "start_time": "2024-08-06T20:05:22.934Z"
      },
      {
        "duration": 52,
        "start_time": "2024-08-06T20:05:22.964Z"
      },
      {
        "duration": 29,
        "start_time": "2024-08-06T20:05:23.017Z"
      },
      {
        "duration": 33,
        "start_time": "2024-08-06T20:05:23.049Z"
      },
      {
        "duration": 7,
        "start_time": "2024-08-06T20:05:23.084Z"
      },
      {
        "duration": 12,
        "start_time": "2024-08-06T20:05:23.093Z"
      },
      {
        "duration": 8,
        "start_time": "2024-08-06T20:05:23.106Z"
      },
      {
        "duration": 14,
        "start_time": "2024-08-06T20:05:23.115Z"
      },
      {
        "duration": 370,
        "start_time": "2024-08-06T20:05:23.131Z"
      },
      {
        "duration": 304,
        "start_time": "2024-08-06T20:05:23.505Z"
      },
      {
        "duration": 8,
        "start_time": "2024-08-06T20:05:23.810Z"
      },
      {
        "duration": 8,
        "start_time": "2024-08-06T20:05:23.820Z"
      },
      {
        "duration": 4,
        "start_time": "2024-08-06T20:05:23.829Z"
      },
      {
        "duration": 7,
        "start_time": "2024-08-06T20:05:23.835Z"
      },
      {
        "duration": 5,
        "start_time": "2024-08-06T20:05:23.843Z"
      },
      {
        "duration": 15,
        "start_time": "2024-08-06T20:05:23.850Z"
      },
      {
        "duration": 365,
        "start_time": "2024-08-06T20:05:23.867Z"
      },
      {
        "duration": 11,
        "start_time": "2024-08-06T20:05:24.234Z"
      },
      {
        "duration": 10,
        "start_time": "2024-08-06T20:05:24.246Z"
      },
      {
        "duration": 350,
        "start_time": "2024-08-06T20:05:24.258Z"
      },
      {
        "duration": 9,
        "start_time": "2024-08-06T20:05:24.610Z"
      },
      {
        "duration": 342,
        "start_time": "2024-08-06T20:05:24.623Z"
      },
      {
        "duration": 9,
        "start_time": "2024-08-06T20:05:24.966Z"
      },
      {
        "duration": 258,
        "start_time": "2024-08-06T20:05:24.976Z"
      },
      {
        "duration": 10,
        "start_time": "2024-08-06T20:05:25.236Z"
      },
      {
        "duration": 8,
        "start_time": "2024-08-06T20:05:25.248Z"
      },
      {
        "duration": 253,
        "start_time": "2024-08-06T20:05:25.258Z"
      },
      {
        "duration": 8,
        "start_time": "2024-08-06T20:05:25.512Z"
      },
      {
        "duration": 147,
        "start_time": "2024-08-06T20:05:25.521Z"
      },
      {
        "duration": 9,
        "start_time": "2024-08-06T20:05:25.669Z"
      },
      {
        "duration": 202,
        "start_time": "2024-08-06T20:05:25.679Z"
      },
      {
        "duration": 196,
        "start_time": "2024-08-06T20:05:25.883Z"
      },
      {
        "duration": 336,
        "start_time": "2024-08-06T20:05:26.080Z"
      },
      {
        "duration": 245,
        "start_time": "2024-08-06T20:05:26.418Z"
      },
      {
        "duration": 9,
        "start_time": "2024-08-06T20:05:26.665Z"
      },
      {
        "duration": 333,
        "start_time": "2024-08-06T20:05:26.675Z"
      },
      {
        "duration": 9,
        "start_time": "2024-08-06T20:05:27.010Z"
      },
      {
        "duration": 326,
        "start_time": "2024-08-06T20:05:27.021Z"
      },
      {
        "duration": 188,
        "start_time": "2024-08-06T20:05:27.349Z"
      },
      {
        "duration": 18,
        "start_time": "2024-08-06T20:05:27.539Z"
      },
      {
        "duration": 184,
        "start_time": "2024-08-06T20:05:27.559Z"
      },
      {
        "duration": 208,
        "start_time": "2024-08-06T20:05:27.744Z"
      },
      {
        "duration": 259,
        "start_time": "2024-08-06T20:05:27.954Z"
      },
      {
        "duration": 190,
        "start_time": "2024-08-06T20:05:28.215Z"
      },
      {
        "duration": 177,
        "start_time": "2024-08-06T20:05:28.407Z"
      },
      {
        "duration": 182,
        "start_time": "2024-08-06T20:05:28.586Z"
      },
      {
        "duration": 209,
        "start_time": "2024-08-06T20:05:28.770Z"
      },
      {
        "duration": 183,
        "start_time": "2024-08-06T20:05:28.981Z"
      },
      {
        "duration": 48,
        "start_time": "2024-08-06T20:05:29.165Z"
      },
      {
        "duration": 37,
        "start_time": "2024-08-06T20:05:29.215Z"
      },
      {
        "duration": 231,
        "start_time": "2024-08-06T20:05:29.254Z"
      },
      {
        "duration": 26,
        "start_time": "2024-08-06T20:05:29.487Z"
      },
      {
        "duration": 50,
        "start_time": "2024-08-06T20:36:16.291Z"
      },
      {
        "duration": 67,
        "start_time": "2024-08-06T20:42:29.125Z"
      },
      {
        "duration": 85,
        "start_time": "2024-08-06T20:43:03.796Z"
      },
      {
        "duration": 254,
        "start_time": "2024-08-06T21:03:32.047Z"
      },
      {
        "duration": 34388,
        "start_time": "2024-08-06T21:13:14.593Z"
      },
      {
        "duration": 37217,
        "start_time": "2024-08-06T21:14:27.966Z"
      },
      {
        "duration": 201158,
        "start_time": "2024-08-06T21:21:24.869Z"
      },
      {
        "duration": 40019,
        "start_time": "2024-08-06T21:28:19.770Z"
      },
      {
        "duration": 43558,
        "start_time": "2024-08-06T21:31:34.542Z"
      },
      {
        "duration": 178,
        "start_time": "2024-08-06T21:39:58.210Z"
      },
      {
        "duration": 213,
        "start_time": "2024-08-06T21:42:05.000Z"
      },
      {
        "duration": 183,
        "start_time": "2024-08-06T21:42:46.391Z"
      },
      {
        "duration": 105,
        "start_time": "2024-08-06T21:44:38.732Z"
      },
      {
        "duration": 8,
        "start_time": "2024-08-06T21:45:56.154Z"
      },
      {
        "duration": 8,
        "start_time": "2024-08-06T21:46:11.786Z"
      },
      {
        "duration": 42070,
        "start_time": "2024-08-06T21:46:20.148Z"
      },
      {
        "duration": 37841,
        "start_time": "2024-08-06T21:51:49.294Z"
      },
      {
        "duration": 131,
        "start_time": "2024-08-06T21:58:18.368Z"
      },
      {
        "duration": 127,
        "start_time": "2024-08-06T21:59:56.250Z"
      },
      {
        "duration": 16,
        "start_time": "2024-08-06T22:12:17.354Z"
      },
      {
        "duration": 22,
        "start_time": "2024-08-06T22:12:36.982Z"
      },
      {
        "duration": 3446,
        "start_time": "2024-08-06T22:13:17.525Z"
      },
      {
        "duration": 111,
        "start_time": "2024-08-06T22:13:36.576Z"
      },
      {
        "duration": 117,
        "start_time": "2024-08-06T22:13:54.964Z"
      },
      {
        "duration": 123,
        "start_time": "2024-08-06T22:14:01.117Z"
      },
      {
        "duration": 184,
        "start_time": "2024-08-06T22:14:08.231Z"
      },
      {
        "duration": 164,
        "start_time": "2024-08-06T22:17:50.641Z"
      },
      {
        "duration": 175,
        "start_time": "2024-08-06T22:18:49.749Z"
      },
      {
        "duration": 161,
        "start_time": "2024-08-06T22:20:18.527Z"
      },
      {
        "duration": 172,
        "start_time": "2024-08-06T22:22:10.237Z"
      },
      {
        "duration": 24,
        "start_time": "2024-08-06T22:24:35.007Z"
      },
      {
        "duration": 789,
        "start_time": "2024-08-06T22:39:56.842Z"
      },
      {
        "duration": 16,
        "start_time": "2024-08-06T22:39:57.633Z"
      },
      {
        "duration": 92,
        "start_time": "2024-08-06T22:39:57.651Z"
      },
      {
        "duration": 2080,
        "start_time": "2024-08-06T22:39:57.745Z"
      },
      {
        "duration": 29,
        "start_time": "2024-08-06T22:39:59.827Z"
      },
      {
        "duration": 17,
        "start_time": "2024-08-06T22:39:59.858Z"
      },
      {
        "duration": 45,
        "start_time": "2024-08-06T22:39:59.877Z"
      },
      {
        "duration": 32,
        "start_time": "2024-08-06T22:39:59.924Z"
      },
      {
        "duration": 53,
        "start_time": "2024-08-06T22:39:59.958Z"
      },
      {
        "duration": 10,
        "start_time": "2024-08-06T22:40:00.014Z"
      },
      {
        "duration": 95,
        "start_time": "2024-08-06T22:40:00.025Z"
      },
      {
        "duration": 387,
        "start_time": "2024-08-06T22:40:00.121Z"
      },
      {
        "duration": 315,
        "start_time": "2024-08-06T22:40:00.510Z"
      },
      {
        "duration": 11,
        "start_time": "2024-08-06T22:40:00.827Z"
      },
      {
        "duration": 75,
        "start_time": "2024-08-06T22:40:00.840Z"
      },
      {
        "duration": 75,
        "start_time": "2024-08-06T22:40:00.916Z"
      },
      {
        "duration": 219,
        "start_time": "2024-08-06T22:40:00.992Z"
      },
      {
        "duration": 171,
        "start_time": "2024-08-06T22:40:01.213Z"
      },
      {
        "duration": 94,
        "start_time": "2024-08-06T22:40:01.386Z"
      },
      {
        "duration": 349,
        "start_time": "2024-08-06T22:40:01.482Z"
      },
      {
        "duration": 10,
        "start_time": "2024-08-06T22:40:01.833Z"
      },
      {
        "duration": 40,
        "start_time": "2024-08-06T22:40:01.845Z"
      },
      {
        "duration": 476,
        "start_time": "2024-08-06T22:40:01.887Z"
      },
      {
        "duration": 10,
        "start_time": "2024-08-06T22:40:02.365Z"
      },
      {
        "duration": 500,
        "start_time": "2024-08-06T22:40:02.377Z"
      },
      {
        "duration": 10,
        "start_time": "2024-08-06T22:40:02.878Z"
      },
      {
        "duration": 270,
        "start_time": "2024-08-06T22:40:02.889Z"
      },
      {
        "duration": 9,
        "start_time": "2024-08-06T22:40:03.163Z"
      },
      {
        "duration": 26,
        "start_time": "2024-08-06T22:40:03.174Z"
      },
      {
        "duration": 252,
        "start_time": "2024-08-06T22:40:03.202Z"
      },
      {
        "duration": 10,
        "start_time": "2024-08-06T22:40:03.456Z"
      },
      {
        "duration": 163,
        "start_time": "2024-08-06T22:40:03.467Z"
      },
      {
        "duration": 9,
        "start_time": "2024-08-06T22:40:03.631Z"
      },
      {
        "duration": 206,
        "start_time": "2024-08-06T22:40:03.642Z"
      },
      {
        "duration": 133,
        "start_time": "2024-08-06T22:40:03.850Z"
      },
      {
        "duration": 330,
        "start_time": "2024-08-06T22:40:03.984Z"
      },
      {
        "duration": 249,
        "start_time": "2024-08-06T22:40:04.316Z"
      },
      {
        "duration": 10,
        "start_time": "2024-08-06T22:40:04.566Z"
      },
      {
        "duration": 266,
        "start_time": "2024-08-06T22:40:04.577Z"
      },
      {
        "duration": 11,
        "start_time": "2024-08-06T22:40:04.844Z"
      },
      {
        "duration": 264,
        "start_time": "2024-08-06T22:40:04.857Z"
      },
      {
        "duration": 197,
        "start_time": "2024-08-06T22:40:05.124Z"
      },
      {
        "duration": 18,
        "start_time": "2024-08-06T22:40:05.323Z"
      },
      {
        "duration": 185,
        "start_time": "2024-08-06T22:40:05.343Z"
      },
      {
        "duration": 172,
        "start_time": "2024-08-06T22:40:05.530Z"
      },
      {
        "duration": 243,
        "start_time": "2024-08-06T22:40:05.704Z"
      },
      {
        "duration": 190,
        "start_time": "2024-08-06T22:40:05.949Z"
      },
      {
        "duration": 162,
        "start_time": "2024-08-06T22:40:06.140Z"
      },
      {
        "duration": 162,
        "start_time": "2024-08-06T22:40:06.304Z"
      },
      {
        "duration": 173,
        "start_time": "2024-08-06T22:40:06.468Z"
      },
      {
        "duration": 185,
        "start_time": "2024-08-06T22:40:06.643Z"
      },
      {
        "duration": 31,
        "start_time": "2024-08-06T22:40:06.830Z"
      },
      {
        "duration": 54,
        "start_time": "2024-08-06T22:40:06.863Z"
      },
      {
        "duration": 197,
        "start_time": "2024-08-06T22:40:06.919Z"
      },
      {
        "duration": 21,
        "start_time": "2024-08-06T22:40:07.117Z"
      },
      {
        "duration": 734,
        "start_time": "2024-08-07T14:22:22.034Z"
      },
      {
        "duration": 14,
        "start_time": "2024-08-07T14:22:22.769Z"
      },
      {
        "duration": 78,
        "start_time": "2024-08-07T14:22:22.785Z"
      },
      {
        "duration": 1947,
        "start_time": "2024-08-07T14:22:22.865Z"
      },
      {
        "duration": 23,
        "start_time": "2024-08-07T14:22:24.814Z"
      },
      {
        "duration": 15,
        "start_time": "2024-08-07T14:22:24.839Z"
      },
      {
        "duration": 32,
        "start_time": "2024-08-07T14:22:24.856Z"
      },
      {
        "duration": 34,
        "start_time": "2024-08-07T14:22:24.890Z"
      },
      {
        "duration": 29,
        "start_time": "2024-08-07T14:22:24.925Z"
      },
      {
        "duration": 9,
        "start_time": "2024-08-07T14:22:24.957Z"
      },
      {
        "duration": 35,
        "start_time": "2024-08-07T14:22:24.968Z"
      },
      {
        "duration": 355,
        "start_time": "2024-08-07T14:22:25.005Z"
      },
      {
        "duration": 331,
        "start_time": "2024-08-07T14:22:25.362Z"
      },
      {
        "duration": 7,
        "start_time": "2024-08-07T14:22:25.696Z"
      },
      {
        "duration": 7,
        "start_time": "2024-08-07T14:22:25.705Z"
      },
      {
        "duration": 3,
        "start_time": "2024-08-07T14:22:25.713Z"
      },
      {
        "duration": 7,
        "start_time": "2024-08-07T14:22:25.717Z"
      },
      {
        "duration": 5,
        "start_time": "2024-08-07T14:22:25.725Z"
      },
      {
        "duration": 14,
        "start_time": "2024-08-07T14:22:25.732Z"
      },
      {
        "duration": 349,
        "start_time": "2024-08-07T14:22:25.747Z"
      },
      {
        "duration": 9,
        "start_time": "2024-08-07T14:22:26.098Z"
      },
      {
        "duration": 8,
        "start_time": "2024-08-07T14:22:26.108Z"
      },
      {
        "duration": 325,
        "start_time": "2024-08-07T14:22:26.117Z"
      },
      {
        "duration": 8,
        "start_time": "2024-08-07T14:22:26.444Z"
      },
      {
        "duration": 284,
        "start_time": "2024-08-07T14:22:26.454Z"
      },
      {
        "duration": 8,
        "start_time": "2024-08-07T14:22:26.740Z"
      },
      {
        "duration": 244,
        "start_time": "2024-08-07T14:22:26.750Z"
      },
      {
        "duration": 8,
        "start_time": "2024-08-07T14:22:26.998Z"
      },
      {
        "duration": 6,
        "start_time": "2024-08-07T14:22:27.008Z"
      },
      {
        "duration": 229,
        "start_time": "2024-08-07T14:22:27.016Z"
      },
      {
        "duration": 8,
        "start_time": "2024-08-07T14:22:27.246Z"
      },
      {
        "duration": 155,
        "start_time": "2024-08-07T14:22:27.255Z"
      },
      {
        "duration": 8,
        "start_time": "2024-08-07T14:22:27.412Z"
      },
      {
        "duration": 183,
        "start_time": "2024-08-07T14:22:27.421Z"
      },
      {
        "duration": 121,
        "start_time": "2024-08-07T14:22:27.606Z"
      },
      {
        "duration": 301,
        "start_time": "2024-08-07T14:22:27.728Z"
      },
      {
        "duration": 253,
        "start_time": "2024-08-07T14:22:28.031Z"
      },
      {
        "duration": 12,
        "start_time": "2024-08-07T14:22:28.285Z"
      },
      {
        "duration": 244,
        "start_time": "2024-08-07T14:22:28.298Z"
      },
      {
        "duration": 8,
        "start_time": "2024-08-07T14:22:28.544Z"
      },
      {
        "duration": 237,
        "start_time": "2024-08-07T14:22:28.554Z"
      },
      {
        "duration": 174,
        "start_time": "2024-08-07T14:22:28.796Z"
      },
      {
        "duration": 16,
        "start_time": "2024-08-07T14:22:28.971Z"
      },
      {
        "duration": 152,
        "start_time": "2024-08-07T14:22:28.996Z"
      },
      {
        "duration": 149,
        "start_time": "2024-08-07T14:22:29.150Z"
      },
      {
        "duration": 222,
        "start_time": "2024-08-07T14:22:29.300Z"
      },
      {
        "duration": 159,
        "start_time": "2024-08-07T14:22:29.524Z"
      },
      {
        "duration": 142,
        "start_time": "2024-08-07T14:22:29.685Z"
      },
      {
        "duration": 155,
        "start_time": "2024-08-07T14:22:29.829Z"
      },
      {
        "duration": 166,
        "start_time": "2024-08-07T14:22:29.985Z"
      },
      {
        "duration": 154,
        "start_time": "2024-08-07T14:22:30.153Z"
      },
      {
        "duration": 25,
        "start_time": "2024-08-07T14:22:30.308Z"
      },
      {
        "duration": 81,
        "start_time": "2024-08-07T14:22:30.335Z"
      },
      {
        "duration": 200,
        "start_time": "2024-08-07T14:22:30.418Z"
      },
      {
        "duration": 20,
        "start_time": "2024-08-07T14:22:30.619Z"
      },
      {
        "duration": 75,
        "start_time": "2024-08-07T14:23:54.986Z"
      },
      {
        "duration": 9,
        "start_time": "2024-08-07T14:25:31.331Z"
      },
      {
        "duration": 9,
        "start_time": "2024-08-07T14:25:40.222Z"
      },
      {
        "duration": 10,
        "start_time": "2024-08-07T14:27:56.256Z"
      },
      {
        "duration": 25,
        "start_time": "2024-08-07T14:28:47.582Z"
      },
      {
        "duration": 15,
        "start_time": "2024-08-07T14:29:11.340Z"
      },
      {
        "duration": 22,
        "start_time": "2024-08-07T14:31:35.081Z"
      },
      {
        "duration": 742,
        "start_time": "2024-08-07T14:39:36.416Z"
      },
      {
        "duration": 14,
        "start_time": "2024-08-07T14:39:37.161Z"
      },
      {
        "duration": 82,
        "start_time": "2024-08-07T14:39:37.176Z"
      },
      {
        "duration": 1831,
        "start_time": "2024-08-07T14:39:37.260Z"
      },
      {
        "duration": 25,
        "start_time": "2024-08-07T14:39:39.096Z"
      },
      {
        "duration": 15,
        "start_time": "2024-08-07T14:39:39.123Z"
      },
      {
        "duration": 56,
        "start_time": "2024-08-07T14:39:39.140Z"
      },
      {
        "duration": 31,
        "start_time": "2024-08-07T14:39:39.198Z"
      },
      {
        "duration": 29,
        "start_time": "2024-08-07T14:39:39.231Z"
      },
      {
        "duration": 7,
        "start_time": "2024-08-07T14:39:39.262Z"
      },
      {
        "duration": 12,
        "start_time": "2024-08-07T14:39:39.297Z"
      },
      {
        "duration": 342,
        "start_time": "2024-08-07T14:39:39.310Z"
      },
      {
        "duration": 288,
        "start_time": "2024-08-07T14:39:39.654Z"
      },
      {
        "duration": 8,
        "start_time": "2024-08-07T14:39:39.943Z"
      },
      {
        "duration": 12,
        "start_time": "2024-08-07T14:39:39.953Z"
      },
      {
        "duration": 4,
        "start_time": "2024-08-07T14:39:39.966Z"
      },
      {
        "duration": 27,
        "start_time": "2024-08-07T14:39:39.971Z"
      },
      {
        "duration": 5,
        "start_time": "2024-08-07T14:39:40.000Z"
      },
      {
        "duration": 31,
        "start_time": "2024-08-07T14:39:40.006Z"
      },
      {
        "duration": 333,
        "start_time": "2024-08-07T14:39:40.039Z"
      },
      {
        "duration": 9,
        "start_time": "2024-08-07T14:39:40.374Z"
      },
      {
        "duration": 21,
        "start_time": "2024-08-07T14:39:40.396Z"
      },
      {
        "duration": 327,
        "start_time": "2024-08-07T14:39:40.418Z"
      },
      {
        "duration": 11,
        "start_time": "2024-08-07T14:39:40.747Z"
      },
      {
        "duration": 250,
        "start_time": "2024-08-07T14:39:40.760Z"
      },
      {
        "duration": 8,
        "start_time": "2024-08-07T14:39:41.012Z"
      },
      {
        "duration": 258,
        "start_time": "2024-08-07T14:39:41.022Z"
      },
      {
        "duration": 16,
        "start_time": "2024-08-07T14:39:41.285Z"
      },
      {
        "duration": 8,
        "start_time": "2024-08-07T14:39:41.303Z"
      },
      {
        "duration": 246,
        "start_time": "2024-08-07T14:39:41.312Z"
      },
      {
        "duration": 9,
        "start_time": "2024-08-07T14:39:41.560Z"
      },
      {
        "duration": 151,
        "start_time": "2024-08-07T14:39:41.570Z"
      },
      {
        "duration": 9,
        "start_time": "2024-08-07T14:39:41.723Z"
      },
      {
        "duration": 183,
        "start_time": "2024-08-07T14:39:41.734Z"
      },
      {
        "duration": 124,
        "start_time": "2024-08-07T14:39:41.919Z"
      },
      {
        "duration": 313,
        "start_time": "2024-08-07T14:39:42.044Z"
      },
      {
        "duration": 245,
        "start_time": "2024-08-07T14:39:42.359Z"
      },
      {
        "duration": 10,
        "start_time": "2024-08-07T14:39:42.605Z"
      },
      {
        "duration": 256,
        "start_time": "2024-08-07T14:39:42.616Z"
      },
      {
        "duration": 11,
        "start_time": "2024-08-07T14:39:42.874Z"
      },
      {
        "duration": 271,
        "start_time": "2024-08-07T14:39:42.895Z"
      },
      {
        "duration": 197,
        "start_time": "2024-08-07T14:39:43.167Z"
      },
      {
        "duration": 31,
        "start_time": "2024-08-07T14:39:43.366Z"
      },
      {
        "duration": 160,
        "start_time": "2024-08-07T14:39:43.399Z"
      },
      {
        "duration": 178,
        "start_time": "2024-08-07T14:39:43.560Z"
      },
      {
        "duration": 237,
        "start_time": "2024-08-07T14:39:43.740Z"
      },
      {
        "duration": 173,
        "start_time": "2024-08-07T14:39:43.978Z"
      },
      {
        "duration": 175,
        "start_time": "2024-08-07T14:39:44.153Z"
      },
      {
        "duration": 177,
        "start_time": "2024-08-07T14:39:44.329Z"
      },
      {
        "duration": 166,
        "start_time": "2024-08-07T14:39:44.508Z"
      },
      {
        "duration": 161,
        "start_time": "2024-08-07T14:39:44.675Z"
      },
      {
        "duration": 27,
        "start_time": "2024-08-07T14:39:44.837Z"
      },
      {
        "duration": 41,
        "start_time": "2024-08-07T14:39:44.866Z"
      },
      {
        "duration": 206,
        "start_time": "2024-08-07T14:39:44.909Z"
      },
      {
        "duration": 20,
        "start_time": "2024-08-07T14:39:45.116Z"
      }
    ],
    "colab": {
      "provenance": [],
      "include_colab_link": true
    },
    "kernelspec": {
      "display_name": "Python 3 (ipykernel)",
      "language": "python",
      "name": "python3"
    },
    "language_info": {
      "codemirror_mode": {
        "name": "ipython",
        "version": 3
      },
      "file_extension": ".py",
      "mimetype": "text/x-python",
      "name": "python",
      "nbconvert_exporter": "python",
      "pygments_lexer": "ipython3",
      "version": "3.9.5"
    },
    "toc": {
      "base_numbering": 1,
      "nav_menu": {},
      "number_sections": true,
      "sideBar": true,
      "skip_h1_title": true,
      "title_cell": "Содержание",
      "title_sidebar": "Contents",
      "toc_cell": true,
      "toc_position": {},
      "toc_section_display": true,
      "toc_window_display": false
    }
  },
  "nbformat": 4,
  "nbformat_minor": 0
}