{
  "cells": [
    {
      "cell_type": "markdown",
      "metadata": {
        "id": "view-in-github",
        "colab_type": "text"
      },
      "source": [
        "<a href=\"https://colab.research.google.com/github/alexpopov25/alexpopov25/blob/study-projects/Project_4_Scooter_Rental_Service_Research.ipynb\" target=\"_parent\"><img src=\"https://colab.research.google.com/assets/colab-badge.svg\" alt=\"Open In Colab\"/></a>"
      ]
    },
    {
      "cell_type": "markdown",
      "id": "4b031b40",
      "metadata": {
        "toc": true,
        "id": "4b031b40"
      },
      "source": [
        "<h1>Содержание<span class=\"tocSkip\"></span></h1>\n",
        "<div class=\"toc\"><ul class=\"toc-item\"><li><span><a href=\"#Шаг-1.-Загрузка-данных\" data-toc-modified-id=\"Шаг-1.-Загрузка-данных-1\"><span class=\"toc-item-num\">1&nbsp;&nbsp;</span>Шаг 1. Загрузка данных</a></span><ul class=\"toc-item\"><li><span><a href=\"#Считаем-CSV-файлы-с-данными,-зададим-переменные,-отобразим-первые-строки\" data-toc-modified-id=\"Считаем-CSV-файлы-с-данными,-зададим-переменные,-отобразим-первые-строки-1.1\"><span class=\"toc-item-num\">1.1&nbsp;&nbsp;</span>Считаем CSV-файлы с данными, зададим переменные, отобразим первые строки</a></span></li><li><span><a href=\"#Изучаем-общую-информацию-о-каждом-датасете\" data-toc-modified-id=\"Изучаем-общую-информацию-о-каждом-датасете-1.2\"><span class=\"toc-item-num\">1.2&nbsp;&nbsp;</span>Изучаем общую информацию о каждом датасете</a></span></li></ul></li><li><span><a href=\"#Шаг-2.-Предобработка-данных\" data-toc-modified-id=\"Шаг-2.-Предобработка-данных-2\"><span class=\"toc-item-num\">2&nbsp;&nbsp;</span>Шаг 2. Предобработка данных</a></span><ul class=\"toc-item\"><li><span><a href=\"#Значения-времени-переводим-в-тип-pandas\" data-toc-modified-id=\"Значения-времени-переводим-в-тип-pandas-2.1\"><span class=\"toc-item-num\">2.1&nbsp;&nbsp;</span>Значения времени переводим в тип pandas</a></span></li><li><span><a href=\"#Создаём-новый-столбец-с-номером-месяца\" data-toc-modified-id=\"Создаём-новый-столбец-с-номером-месяца-2.2\"><span class=\"toc-item-num\">2.2&nbsp;&nbsp;</span>Создаём новый столбец с номером месяца</a></span></li><li><span><a href=\"#Поиск-и-удаление-дубликатов\" data-toc-modified-id=\"Поиск-и-удаление-дубликатов-2.3\"><span class=\"toc-item-num\">2.3&nbsp;&nbsp;</span>Поиск и удаление дубликатов</a></span></li></ul></li><li><span><a href=\"#Шаг-3.-Исследовательский-анализ-данных\" data-toc-modified-id=\"Шаг-3.-Исследовательский-анализ-данных-3\"><span class=\"toc-item-num\">3&nbsp;&nbsp;</span>Шаг 3. Исследовательский анализ данных</a></span><ul class=\"toc-item\"><li><span><a href=\"#Самые-популярные-города-присутствия-GoFast\" data-toc-modified-id=\"Самые-популярные-города-присутствия-GoFast-3.1\"><span class=\"toc-item-num\">3.1&nbsp;&nbsp;</span>Самые популярные города присутствия GoFast</a></span></li><li><span><a href=\"#Соотношение-количества-пользователей-с-подпиской-и-без-подписки\" data-toc-modified-id=\"Соотношение-количества-пользователей-с-подпиской-и-без-подписки-3.2\"><span class=\"toc-item-num\">3.2&nbsp;&nbsp;</span>Соотношение количества пользователей с подпиской и без подписки</a></span></li><li><span><a href=\"#Изучаем-возраст-пользователей\" data-toc-modified-id=\"Изучаем-возраст-пользователей-3.3\"><span class=\"toc-item-num\">3.3&nbsp;&nbsp;</span>Изучаем возраст пользователей</a></span></li><li><span><a href=\"#Среднее-расстояние-за-одну-поездку\" data-toc-modified-id=\"Среднее-расстояние-за-одну-поездку-3.4\"><span class=\"toc-item-num\">3.4&nbsp;&nbsp;</span>Среднее расстояние за одну поездку</a></span></li><li><span><a href=\"#Средняя-продолжительность-поездок\" data-toc-modified-id=\"Средняя-продолжительность-поездок-3.5\"><span class=\"toc-item-num\">3.5&nbsp;&nbsp;</span>Средняя продолжительность поездок</a></span></li></ul></li><li><span><a href=\"#Шаг-4.-Объединение-данных\" data-toc-modified-id=\"Шаг-4.-Объединение-данных-4\"><span class=\"toc-item-num\">4&nbsp;&nbsp;</span>Шаг 4. Объединение данных</a></span><ul class=\"toc-item\"><li><span><a href=\"#Объединение-данных-о-пользователях,-поездках-и-подписках-в-один-датафрейм.\" data-toc-modified-id=\"Объединение-данных-о-пользователях,-поездках-и-подписках-в-один-датафрейм.-4.1\"><span class=\"toc-item-num\">4.1&nbsp;&nbsp;</span>Объединение данных о пользователях, поездках и подписках в один датафрейм.</a></span></li><li><span><a href=\"#Создадим-датафреймы-для-пользователей-с-подпиской-и-без-подписки\" data-toc-modified-id=\"Создадим-датафреймы-для-пользователей-с-подпиской-и-без-подписки-4.2\"><span class=\"toc-item-num\">4.2&nbsp;&nbsp;</span>Создадим датафреймы для пользователей с подпиской и без подписки</a></span><ul class=\"toc-item\"><li><span><a href=\"#Таблица-с-данными-о-пользователях-без-подписки\" data-toc-modified-id=\"Таблица-с-данными-о-пользователях-без-подписки-4.2.1\"><span class=\"toc-item-num\">4.2.1&nbsp;&nbsp;</span>Таблица с данными о пользователях без подписки</a></span></li><li><span><a href=\"#Таблица-с-данными-о-пользователях-с-подпиской\" data-toc-modified-id=\"Таблица-с-данными-о-пользователях-с-подпиской-4.2.2\"><span class=\"toc-item-num\">4.2.2&nbsp;&nbsp;</span>Таблица с данными о пользователях с подпиской</a></span></li></ul></li><li><span><a href=\"#Сравнение-информации-о-расстоянии-и-времени-поездок-для-разных-категорий-пользователей\" data-toc-modified-id=\"Сравнение-информации-о-расстоянии-и-времени-поездок-для-разных-категорий-пользователей-4.3\"><span class=\"toc-item-num\">4.3&nbsp;&nbsp;</span>Сравнение информации о расстоянии и времени поездок для разных категорий пользователей</a></span><ul class=\"toc-item\"><li><span><a href=\"#Сравнение-пользователей-по-расстояню-поездок\" data-toc-modified-id=\"Сравнение-пользователей-по-расстояню-поездок-4.3.1\"><span class=\"toc-item-num\">4.3.1&nbsp;&nbsp;</span>Сравнение пользователей по расстояню поездок</a></span></li><li><span><a href=\"#Сравнение-пользователей-по-длительности-поездок\" data-toc-modified-id=\"Сравнение-пользователей-по-длительности-поездок-4.3.2\"><span class=\"toc-item-num\">4.3.2&nbsp;&nbsp;</span>Сравнение пользователей по длительности поездок</a></span></li></ul></li></ul></li><li><span><a href=\"#Шаг-5.-Подсчёт-выручки\" data-toc-modified-id=\"Шаг-5.-Подсчёт-выручки-5\"><span class=\"toc-item-num\">5&nbsp;&nbsp;</span>Шаг 5. Подсчёт выручки</a></span><ul class=\"toc-item\"><li><span><a href=\"#Суммарное-расстояние,-время-и-количество-поездок-для-каждого-пользователя-за-каждый-месяц\" data-toc-modified-id=\"Суммарное-расстояние,-время-и-количество-поездок-для-каждого-пользователя-за-каждый-месяц-5.1\"><span class=\"toc-item-num\">5.1&nbsp;&nbsp;</span>Суммарное расстояние, время и количество поездок для каждого пользователя за каждый месяц</a></span></li><li><span><a href=\"#Подсчёт-помесячной-выручки\" data-toc-modified-id=\"Подсчёт-помесячной-выручки-5.2\"><span class=\"toc-item-num\">5.2&nbsp;&nbsp;</span>Подсчёт помесячной выручки</a></span></li></ul></li><li><span><a href=\"#Шаг-6.-Проверка-гипотез\" data-toc-modified-id=\"Шаг-6.-Проверка-гипотез-6\"><span class=\"toc-item-num\">6&nbsp;&nbsp;</span>Шаг 6. Проверка гипотез</a></span><ul class=\"toc-item\"><li><span><a href=\"#Проверка-гипотезы-о-том,-что-пользователи-с-полдпиской-тратят-больше-времени-на-поездки\" data-toc-modified-id=\"Проверка-гипотезы-о-том,-что-пользователи-с-полдпиской-тратят-больше-времени-на-поездки-6.1\"><span class=\"toc-item-num\">6.1&nbsp;&nbsp;</span>Проверка гипотезы о том, что пользователи с полдпиской тратят больше времени на поездки</a></span></li><li><span><a href=\"#Проверка-гипотезы-о-том,-что-среднее-расстояние-поездки-c-подпиской-не-превышает-3130-метров\" data-toc-modified-id=\"Проверка-гипотезы-о-том,-что-среднее-расстояние-поездки-c-подпиской-не-превышает-3130-метров-6.2\"><span class=\"toc-item-num\">6.2&nbsp;&nbsp;</span>Проверка гипотезы о том, что среднее расстояние поездки c подпиской не превышает 3130 метров</a></span></li><li><span><a href=\"#Проверка-гипотезы-о-том,-будет-ли-помесячная-выручка-от-пользователей-с-подпиской-по-месяцам-выше,-чем-выручка-от-пользователей-без-подписки\" data-toc-modified-id=\"Проверка-гипотезы-о-том,-будет-ли-помесячная-выручка-от-пользователей-с-подпиской-по-месяцам-выше,-чем-выручка-от-пользователей-без-подписки-6.3\"><span class=\"toc-item-num\">6.3&nbsp;&nbsp;</span>Проверка гипотезы о том, будет ли помесячная выручка от пользователей с подпиской по месяцам выше, чем выручка от пользователей без подписки</a></span></li><li><span><a href=\"#Проверка-гипотезы-о-том,-снизилось-ли-количество-обращений-в-техподдержку-после-обновления-сервера\" data-toc-modified-id=\"Проверка-гипотезы-о-том,-снизилось-ли-количество-обращений-в-техподдержку-после-обновления-сервера-6.4\"><span class=\"toc-item-num\">6.4&nbsp;&nbsp;</span>Проверка гипотезы о том, снизилось ли количество обращений в техподдержку после обновления сервера</a></span></li></ul></li><li><span><a href=\"#Шаг-7.-Распределения\" data-toc-modified-id=\"Шаг-7.-Распределения-7\"><span class=\"toc-item-num\">7&nbsp;&nbsp;</span>Шаг 7. Распределения</a></span><ul class=\"toc-item\"><li><span><a href=\"#Какое-количество-промокодов-нужно-раздать-на-один-бесплатный-месяц,-чтобы-в-следующем-месяце-как-минимум-100-существующих-клиентов-продлили-подписку\" data-toc-modified-id=\"Какое-количество-промокодов-нужно-раздать-на-один-бесплатный-месяц,-чтобы-в-следующем-месяце-как-минимум-100-существующих-клиентов-продлили-подписку-7.1\"><span class=\"toc-item-num\">7.1&nbsp;&nbsp;</span>Какое количество промокодов нужно раздать на один бесплатный месяц, чтобы в следующем месяце как минимум 100 существующих клиентов продлили подписку</a></span></li><li><span><a href=\"#Оценка-вероятности-того,-что-уведомление-откроют-не-более-399,5-тыс.-пользователей,-если-разослать-1-млн-уведомлений\" data-toc-modified-id=\"Оценка-вероятности-того,-что-уведомление-откроют-не-более-399,5-тыс.-пользователей,-если-разослать-1-млн-уведомлений-7.2\"><span class=\"toc-item-num\">7.2&nbsp;&nbsp;</span>Оценка вероятности того, что уведомление откроют не более 399,5 тыс. пользователей, если разослать 1 млн уведомлений</a></span></li></ul></li><li><span><a href=\"#Общий-вывод-и-рекомендации\" data-toc-modified-id=\"Общий-вывод-и-рекомендации-8\"><span class=\"toc-item-num\">8&nbsp;&nbsp;</span>Общий вывод и рекомендации</a></span></li></ul></div>"
      ]
    },
    {
      "cell_type": "markdown",
      "id": "a3332aec",
      "metadata": {
        "id": "a3332aec"
      },
      "source": [
        "# Исследование сервиса аренды самокатов GoFast\n",
        "\n",
        "\n",
        "Пользователи сервиса аренды самокатов **GoFast** пользуются мобильным приложением.\n",
        "\n",
        "\n",
        "Сервисом можно пользоваться *без подписки*, при этом абонентская плата отсутствует, стоимость одной минуты поездки — 8 рублей, а\n",
        "стоимость старта (начала поездки) — 50 рублей.\n",
        "\n",
        "Для пользователей с *подпиской Ultra* - абонентская плата — 199 рублей в месяц, стоимость одной минуты поездки — 6 рублей, а стоимость старта — бесплатно.\n",
        "\n",
        "\n",
        "**Описание данных**: в анализируемых данных есть информация о *пользователях*, их *поездках* и *подписках*.\n",
        "\n",
        "\n",
        "**Пользователи** — файл \"users_go.csv\", где \"user_id\" — это уникальный идентификатор пользователя, \"name\"\t— имя пользователя, \"age\"\t— возраст, \"city\"\t— город, \"subscription_type\"\t— тип подписки (free, ultra).\n",
        "\n",
        "**Поездки** — файл \"rides_go.csv\", где \"user_id\" —\tэто уникальный идентификатор пользователя, \"distance\" —\tрасстояние, которое пользователь проехал в текущей сессии (в метрах), \"duration\" —\tпродолжительность сессии (в минутах) — время с того момента, как пользователь нажал кнопку «Начать поездку» до момента, как он нажал кнопку «Завершить поездку», \"date\" — дата совершения поездки.\n",
        "\n",
        "**Подписки** — файл \"subscriptions_go.csv\", где \"subscription_type\" — это тип подписки, \"minute_price\" — стоимость одной минуты поездки по данной подписке, \"start_ride_price\" — стоимость начала поездки, \"subscription_fee\"\t— стоимость ежемесячного платежа.\n",
        "\n",
        "\n",
        "**Цель исследования:** изучить данные о пользователях, их поездках и подписках, выявить особенности каждой категории пользователей, подтвердить предположение о том, что пользователи с подпиской приносят больше денег сервису, чем пользователи без подписки.\n",
        "\n",
        "\n",
        "**Ход исследования:** 1) загрузить данные, 2) произвести предварительную обработку данных, 3) произвести первичный исследовательский анализ, 4) создать сводную таблицу по всем данным, 5) подсчитать полученную выручку, 6) проверить исследовательские гипотезы, 7) изучить биноминальные распределения.\n"
      ]
    },
    {
      "cell_type": "markdown",
      "id": "4edee78c",
      "metadata": {
        "id": "4edee78c"
      },
      "source": [
        "<div class=\"alert alert-success\">\n",
        "<b>✔️ Комментарий ревьюера v1:</b>\n",
        "<br>Здорово, что ты оставляешь описание задачи. Это поможет тебе быстро вспомнить о чем проект, если спустя время ты решишь к нему вернуться)\n",
        "</div>"
      ]
    },
    {
      "cell_type": "code",
      "execution_count": null,
      "id": "f01c0831",
      "metadata": {
        "id": "f01c0831"
      },
      "outputs": [],
      "source": [
        "import pandas as pd\n",
        "import matplotlib.pyplot as plt\n",
        "import numpy as np\n",
        "from scipy import stats as st\n",
        "from scipy.stats import binom, norm, poisson"
      ]
    },
    {
      "cell_type": "markdown",
      "id": "c42cbe00",
      "metadata": {
        "id": "c42cbe00"
      },
      "source": [
        "#### Шаг 1. Загрузка данных"
      ]
    },
    {
      "cell_type": "markdown",
      "id": "8d54cd2f",
      "metadata": {
        "id": "8d54cd2f"
      },
      "source": [
        "##### Считаем CSV-файлы с данными, зададим переменные, отобразим первые строки"
      ]
    },
    {
      "cell_type": "code",
      "execution_count": null,
      "id": "eff9f206",
      "metadata": {
        "id": "eff9f206",
        "outputId": "45ff7290-d338-4666-b3bd-ebeb7418fc75"
      },
      "outputs": [
        {
          "data": {
            "text/html": [
              "<div>\n",
              "<style scoped>\n",
              "    .dataframe tbody tr th:only-of-type {\n",
              "        vertical-align: middle;\n",
              "    }\n",
              "\n",
              "    .dataframe tbody tr th {\n",
              "        vertical-align: top;\n",
              "    }\n",
              "\n",
              "    .dataframe thead th {\n",
              "        text-align: right;\n",
              "    }\n",
              "</style>\n",
              "<table border=\"1\" class=\"dataframe\">\n",
              "  <thead>\n",
              "    <tr style=\"text-align: right;\">\n",
              "      <th></th>\n",
              "      <th>user_id</th>\n",
              "      <th>name</th>\n",
              "      <th>age</th>\n",
              "      <th>city</th>\n",
              "      <th>subscription_type</th>\n",
              "    </tr>\n",
              "  </thead>\n",
              "  <tbody>\n",
              "    <tr>\n",
              "      <th>0</th>\n",
              "      <td>1</td>\n",
              "      <td>Кира</td>\n",
              "      <td>22</td>\n",
              "      <td>Тюмень</td>\n",
              "      <td>ultra</td>\n",
              "    </tr>\n",
              "    <tr>\n",
              "      <th>1</th>\n",
              "      <td>2</td>\n",
              "      <td>Станислав</td>\n",
              "      <td>31</td>\n",
              "      <td>Омск</td>\n",
              "      <td>ultra</td>\n",
              "    </tr>\n",
              "    <tr>\n",
              "      <th>2</th>\n",
              "      <td>3</td>\n",
              "      <td>Алексей</td>\n",
              "      <td>20</td>\n",
              "      <td>Москва</td>\n",
              "      <td>ultra</td>\n",
              "    </tr>\n",
              "    <tr>\n",
              "      <th>3</th>\n",
              "      <td>4</td>\n",
              "      <td>Константин</td>\n",
              "      <td>26</td>\n",
              "      <td>Ростов-на-Дону</td>\n",
              "      <td>ultra</td>\n",
              "    </tr>\n",
              "    <tr>\n",
              "      <th>4</th>\n",
              "      <td>5</td>\n",
              "      <td>Адель</td>\n",
              "      <td>28</td>\n",
              "      <td>Омск</td>\n",
              "      <td>ultra</td>\n",
              "    </tr>\n",
              "  </tbody>\n",
              "</table>\n",
              "</div>"
            ],
            "text/plain": [
              "   user_id        name  age            city subscription_type\n",
              "0        1        Кира   22          Тюмень             ultra\n",
              "1        2   Станислав   31            Омск             ultra\n",
              "2        3     Алексей   20          Москва             ultra\n",
              "3        4  Константин   26  Ростов-на-Дону             ultra\n",
              "4        5       Адель   28            Омск             ultra"
            ]
          },
          "execution_count": 2,
          "metadata": {},
          "output_type": "execute_result"
        }
      ],
      "source": [
        "# открываем файлы, применяя разделитель для корректной выгрузки данных csv файла\n",
        "# выводим первые строки таблиц, изучаем данные\n",
        "\n",
        "users = pd.read_csv('/datasets/users_go.csv', sep=',')\n",
        "rides = pd.read_csv('/datasets/rides_go.csv', sep=',')\n",
        "subscriptions = pd.read_csv('/datasets/subscriptions_go.csv', sep=',')\n",
        "\n",
        "users.head()"
      ]
    },
    {
      "cell_type": "markdown",
      "id": "8efc0e67",
      "metadata": {
        "id": "8efc0e67"
      },
      "source": [
        "##### Изучаем общую информацию о каждом датасете"
      ]
    },
    {
      "cell_type": "code",
      "execution_count": null,
      "id": "7fb4bce7",
      "metadata": {
        "id": "7fb4bce7",
        "outputId": "7a8b13e5-9a76-40d1-cb8c-e2ddfe5561cb"
      },
      "outputs": [
        {
          "name": "stdout",
          "output_type": "stream",
          "text": [
            "<class 'pandas.core.frame.DataFrame'>\n",
            "RangeIndex: 1565 entries, 0 to 1564\n",
            "Data columns (total 5 columns):\n",
            " #   Column             Non-Null Count  Dtype \n",
            "---  ------             --------------  ----- \n",
            " 0   user_id            1565 non-null   int64 \n",
            " 1   name               1565 non-null   object\n",
            " 2   age                1565 non-null   int64 \n",
            " 3   city               1565 non-null   object\n",
            " 4   subscription_type  1565 non-null   object\n",
            "dtypes: int64(2), object(3)\n",
            "memory usage: 61.3+ KB\n"
          ]
        }
      ],
      "source": [
        "users.info()"
      ]
    },
    {
      "cell_type": "markdown",
      "id": "12a7c1a7",
      "metadata": {
        "id": "12a7c1a7"
      },
      "source": [
        "Датасет \"users\" (\"пользователи\") состоит из 5 столбцов и 1565 строк, индификационный номер пользователя и возраст - заполнены целыми числами, остальные колонки - имена и названия, пропусков в данных не обнаружено, на этом этапе данные выглядят пригодными для анализа."
      ]
    },
    {
      "cell_type": "code",
      "execution_count": null,
      "id": "b18702a3",
      "metadata": {
        "id": "b18702a3",
        "outputId": "ed48e778-5d59-49a6-f8ab-0e8dc9146d20"
      },
      "outputs": [
        {
          "data": {
            "text/html": [
              "<div>\n",
              "<style scoped>\n",
              "    .dataframe tbody tr th:only-of-type {\n",
              "        vertical-align: middle;\n",
              "    }\n",
              "\n",
              "    .dataframe tbody tr th {\n",
              "        vertical-align: top;\n",
              "    }\n",
              "\n",
              "    .dataframe thead th {\n",
              "        text-align: right;\n",
              "    }\n",
              "</style>\n",
              "<table border=\"1\" class=\"dataframe\">\n",
              "  <thead>\n",
              "    <tr style=\"text-align: right;\">\n",
              "      <th></th>\n",
              "      <th>user_id</th>\n",
              "      <th>distance</th>\n",
              "      <th>duration</th>\n",
              "      <th>date</th>\n",
              "    </tr>\n",
              "  </thead>\n",
              "  <tbody>\n",
              "    <tr>\n",
              "      <th>0</th>\n",
              "      <td>1</td>\n",
              "      <td>4409.919140</td>\n",
              "      <td>25.599769</td>\n",
              "      <td>2021-01-01</td>\n",
              "    </tr>\n",
              "    <tr>\n",
              "      <th>1</th>\n",
              "      <td>1</td>\n",
              "      <td>2617.592153</td>\n",
              "      <td>15.816871</td>\n",
              "      <td>2021-01-18</td>\n",
              "    </tr>\n",
              "    <tr>\n",
              "      <th>2</th>\n",
              "      <td>1</td>\n",
              "      <td>754.159807</td>\n",
              "      <td>6.232113</td>\n",
              "      <td>2021-04-20</td>\n",
              "    </tr>\n",
              "    <tr>\n",
              "      <th>3</th>\n",
              "      <td>1</td>\n",
              "      <td>2694.783254</td>\n",
              "      <td>18.511000</td>\n",
              "      <td>2021-08-11</td>\n",
              "    </tr>\n",
              "    <tr>\n",
              "      <th>4</th>\n",
              "      <td>1</td>\n",
              "      <td>4028.687306</td>\n",
              "      <td>26.265803</td>\n",
              "      <td>2021-08-28</td>\n",
              "    </tr>\n",
              "  </tbody>\n",
              "</table>\n",
              "</div>"
            ],
            "text/plain": [
              "   user_id     distance   duration        date\n",
              "0        1  4409.919140  25.599769  2021-01-01\n",
              "1        1  2617.592153  15.816871  2021-01-18\n",
              "2        1   754.159807   6.232113  2021-04-20\n",
              "3        1  2694.783254  18.511000  2021-08-11\n",
              "4        1  4028.687306  26.265803  2021-08-28"
            ]
          },
          "execution_count": 4,
          "metadata": {},
          "output_type": "execute_result"
        }
      ],
      "source": [
        "rides.head()"
      ]
    },
    {
      "cell_type": "code",
      "execution_count": null,
      "id": "7c261aa8",
      "metadata": {
        "id": "7c261aa8",
        "outputId": "e2d96a84-ae4b-4d69-83bb-7ca94147fb48"
      },
      "outputs": [
        {
          "name": "stdout",
          "output_type": "stream",
          "text": [
            "<class 'pandas.core.frame.DataFrame'>\n",
            "RangeIndex: 18068 entries, 0 to 18067\n",
            "Data columns (total 4 columns):\n",
            " #   Column    Non-Null Count  Dtype  \n",
            "---  ------    --------------  -----  \n",
            " 0   user_id   18068 non-null  int64  \n",
            " 1   distance  18068 non-null  float64\n",
            " 2   duration  18068 non-null  float64\n",
            " 3   date      18068 non-null  object \n",
            "dtypes: float64(2), int64(1), object(1)\n",
            "memory usage: 564.8+ KB\n"
          ]
        }
      ],
      "source": [
        "rides.info()"
      ]
    },
    {
      "cell_type": "markdown",
      "id": "2a2d7b83",
      "metadata": {
        "id": "2a2d7b83"
      },
      "source": [
        "Датасет \"rides\" (\"поездки\") состоит из 4 столбцов и 18068 строк, в столбце \"date\" (\"дата\") указан неверный тип данных, поработаем с ним на следующем этапе, иных проблем и пропусков в данных не обнаружено."
      ]
    },
    {
      "cell_type": "code",
      "execution_count": null,
      "id": "095a4526",
      "metadata": {
        "id": "095a4526",
        "outputId": "fa83a995-b620-4551-f763-787c2b0203fd"
      },
      "outputs": [
        {
          "data": {
            "text/html": [
              "<div>\n",
              "<style scoped>\n",
              "    .dataframe tbody tr th:only-of-type {\n",
              "        vertical-align: middle;\n",
              "    }\n",
              "\n",
              "    .dataframe tbody tr th {\n",
              "        vertical-align: top;\n",
              "    }\n",
              "\n",
              "    .dataframe thead th {\n",
              "        text-align: right;\n",
              "    }\n",
              "</style>\n",
              "<table border=\"1\" class=\"dataframe\">\n",
              "  <thead>\n",
              "    <tr style=\"text-align: right;\">\n",
              "      <th></th>\n",
              "      <th>subscription_type</th>\n",
              "      <th>minute_price</th>\n",
              "      <th>start_ride_price</th>\n",
              "      <th>subscription_fee</th>\n",
              "    </tr>\n",
              "  </thead>\n",
              "  <tbody>\n",
              "    <tr>\n",
              "      <th>0</th>\n",
              "      <td>free</td>\n",
              "      <td>8</td>\n",
              "      <td>50</td>\n",
              "      <td>0</td>\n",
              "    </tr>\n",
              "    <tr>\n",
              "      <th>1</th>\n",
              "      <td>ultra</td>\n",
              "      <td>6</td>\n",
              "      <td>0</td>\n",
              "      <td>199</td>\n",
              "    </tr>\n",
              "  </tbody>\n",
              "</table>\n",
              "</div>"
            ],
            "text/plain": [
              "  subscription_type  minute_price  start_ride_price  subscription_fee\n",
              "0              free             8                50                 0\n",
              "1             ultra             6                 0               199"
            ]
          },
          "execution_count": 6,
          "metadata": {},
          "output_type": "execute_result"
        }
      ],
      "source": [
        "subscriptions.head()"
      ]
    },
    {
      "cell_type": "code",
      "execution_count": null,
      "id": "ea3f17bd",
      "metadata": {
        "id": "ea3f17bd",
        "outputId": "9cb2c8f8-55c4-43d2-cef5-7bb0fd0860d6"
      },
      "outputs": [
        {
          "name": "stdout",
          "output_type": "stream",
          "text": [
            "<class 'pandas.core.frame.DataFrame'>\n",
            "RangeIndex: 2 entries, 0 to 1\n",
            "Data columns (total 4 columns):\n",
            " #   Column             Non-Null Count  Dtype \n",
            "---  ------             --------------  ----- \n",
            " 0   subscription_type  2 non-null      object\n",
            " 1   minute_price       2 non-null      int64 \n",
            " 2   start_ride_price   2 non-null      int64 \n",
            " 3   subscription_fee   2 non-null      int64 \n",
            "dtypes: int64(3), object(1)\n",
            "memory usage: 192.0+ bytes\n"
          ]
        }
      ],
      "source": [
        "subscriptions.info()"
      ]
    },
    {
      "cell_type": "markdown",
      "id": "ec8ef156",
      "metadata": {
        "id": "ec8ef156"
      },
      "source": [
        "Таблица \"subscriptions\" (\"подписки\") состоит из 4 столбцов и 2 строк, числовые значения записаны под верным типом данных, пропусков в данных не обнаружено, таблица выглядит пригодной для дальнейшего анализа.\n",
        "\n",
        "\n",
        "**Вывод:** таблицы загружены и проведён первичный анализ данных, описана общая информация о датасетах.\n"
      ]
    },
    {
      "cell_type": "markdown",
      "id": "e95ebca7",
      "metadata": {
        "id": "e95ebca7"
      },
      "source": [
        "#### Шаг 2. Предобработка данных"
      ]
    },
    {
      "cell_type": "markdown",
      "id": "2c6f3094",
      "metadata": {
        "id": "2c6f3094"
      },
      "source": [
        "##### Значения времени переводим в тип pandas"
      ]
    },
    {
      "cell_type": "code",
      "execution_count": null,
      "id": "af6d202c",
      "metadata": {
        "id": "af6d202c",
        "outputId": "9301a3ef-e6e8-4f26-97bd-c17a115ae899"
      },
      "outputs": [
        {
          "name": "stdout",
          "output_type": "stream",
          "text": [
            "<class 'pandas.core.frame.DataFrame'>\n",
            "RangeIndex: 18068 entries, 0 to 18067\n",
            "Data columns (total 4 columns):\n",
            " #   Column    Non-Null Count  Dtype         \n",
            "---  ------    --------------  -----         \n",
            " 0   user_id   18068 non-null  int64         \n",
            " 1   distance  18068 non-null  float64       \n",
            " 2   duration  18068 non-null  float64       \n",
            " 3   date      18068 non-null  datetime64[ns]\n",
            "dtypes: datetime64[ns](1), float64(2), int64(1)\n",
            "memory usage: 564.8 KB\n"
          ]
        }
      ],
      "source": [
        "rides['date'] = pd.to_datetime(rides['date'], format='%Y-%m-%d')\n",
        "\n",
        "# проверяем изменения\n",
        "rides.info()"
      ]
    },
    {
      "cell_type": "markdown",
      "id": "e979e40d",
      "metadata": {
        "id": "e979e40d"
      },
      "source": [
        "##### Создаём новый столбец с номером месяца"
      ]
    },
    {
      "cell_type": "markdown",
      "id": "3290d91a",
      "metadata": {
        "id": "3290d91a"
      },
      "source": [
        "В датасет \"rides\" добавим столбец \"ride_month\", в котором будет зашифрован месяц публикации объявления, затем округлим значения пройденного расстояния до двух знаков после запятой, а значения длительности поездки округлим до целых минут."
      ]
    },
    {
      "cell_type": "code",
      "execution_count": null,
      "id": "47a07cf9",
      "metadata": {
        "id": "47a07cf9",
        "outputId": "93f370e2-128c-4bcd-b902-7e13eb54b24e"
      },
      "outputs": [
        {
          "data": {
            "text/html": [
              "<div>\n",
              "<style scoped>\n",
              "    .dataframe tbody tr th:only-of-type {\n",
              "        vertical-align: middle;\n",
              "    }\n",
              "\n",
              "    .dataframe tbody tr th {\n",
              "        vertical-align: top;\n",
              "    }\n",
              "\n",
              "    .dataframe thead th {\n",
              "        text-align: right;\n",
              "    }\n",
              "</style>\n",
              "<table border=\"1\" class=\"dataframe\">\n",
              "  <thead>\n",
              "    <tr style=\"text-align: right;\">\n",
              "      <th></th>\n",
              "      <th>user_id</th>\n",
              "      <th>distance</th>\n",
              "      <th>duration</th>\n",
              "      <th>date</th>\n",
              "      <th>ride_month</th>\n",
              "    </tr>\n",
              "  </thead>\n",
              "  <tbody>\n",
              "    <tr>\n",
              "      <th>0</th>\n",
              "      <td>1</td>\n",
              "      <td>4409.92</td>\n",
              "      <td>26</td>\n",
              "      <td>2021-01-01</td>\n",
              "      <td>1</td>\n",
              "    </tr>\n",
              "    <tr>\n",
              "      <th>1</th>\n",
              "      <td>1</td>\n",
              "      <td>2617.59</td>\n",
              "      <td>16</td>\n",
              "      <td>2021-01-18</td>\n",
              "      <td>1</td>\n",
              "    </tr>\n",
              "    <tr>\n",
              "      <th>2</th>\n",
              "      <td>1</td>\n",
              "      <td>754.16</td>\n",
              "      <td>7</td>\n",
              "      <td>2021-04-20</td>\n",
              "      <td>4</td>\n",
              "    </tr>\n",
              "    <tr>\n",
              "      <th>3</th>\n",
              "      <td>1</td>\n",
              "      <td>2694.78</td>\n",
              "      <td>19</td>\n",
              "      <td>2021-08-11</td>\n",
              "      <td>8</td>\n",
              "    </tr>\n",
              "    <tr>\n",
              "      <th>4</th>\n",
              "      <td>1</td>\n",
              "      <td>4028.69</td>\n",
              "      <td>27</td>\n",
              "      <td>2021-08-28</td>\n",
              "      <td>8</td>\n",
              "    </tr>\n",
              "  </tbody>\n",
              "</table>\n",
              "</div>"
            ],
            "text/plain": [
              "   user_id  distance  duration       date  ride_month\n",
              "0        1   4409.92        26 2021-01-01           1\n",
              "1        1   2617.59        16 2021-01-18           1\n",
              "2        1    754.16         7 2021-04-20           4\n",
              "3        1   2694.78        19 2021-08-11           8\n",
              "4        1   4028.69        27 2021-08-28           8"
            ]
          },
          "execution_count": 9,
          "metadata": {},
          "output_type": "execute_result"
        }
      ],
      "source": [
        "# метод dt.month возвращает месяц в виде целого числа\n",
        "rides['ride_month'] = rides['date'].dt.month\n",
        "\n",
        "rides['distance'] = rides['distance'].round(2)\n",
        "rides['duration'] = np.ceil(rides['duration']).astype('int')\n",
        "\n",
        "rides.head()"
      ]
    },
    {
      "cell_type": "markdown",
      "id": "efaa91c6",
      "metadata": {
        "id": "efaa91c6"
      },
      "source": [
        "Как мы видим, новые данные успешно добавлены в таблицу, значения округлены и правильно выводятся на экран."
      ]
    },
    {
      "cell_type": "markdown",
      "id": "68dd59ec",
      "metadata": {
        "id": "68dd59ec"
      },
      "source": [
        "##### Поиск и удаление дубликатов"
      ]
    },
    {
      "cell_type": "code",
      "execution_count": null,
      "id": "4c6a0641",
      "metadata": {
        "id": "4c6a0641",
        "outputId": "58d7bf93-52ae-41a4-e28b-e83ddeabbf45"
      },
      "outputs": [
        {
          "name": "stdout",
          "output_type": "stream",
          "text": [
            "Дубликатов найдено: 31\n",
            "Дубликатов нет.\n",
            "Дубликатов нет.\n"
          ]
        }
      ],
      "source": [
        "# проверим наличие дубликатов в датасетах, для чего напишем небольшую функцию:\n",
        "\n",
        "def find_dupl(data):\n",
        "    duplicated = data.duplicated()\n",
        "    if duplicated.any():\n",
        "        print('Дубликатов найдено:', data.duplicated().sum())\n",
        "    else:\n",
        "        print('Дубликатов нет.')\n",
        "\n",
        "find_dupl(users)\n",
        "find_dupl(rides)\n",
        "find_dupl(subscriptions)"
      ]
    },
    {
      "cell_type": "markdown",
      "id": "dfe34aa2",
      "metadata": {
        "id": "dfe34aa2"
      },
      "source": [
        "В таблице \"users\" обнаружены явные дубликаты, очистим от них датасет и проверим результат."
      ]
    },
    {
      "cell_type": "code",
      "execution_count": null,
      "id": "03657567",
      "metadata": {
        "id": "03657567",
        "outputId": "484ce0d3-9d7e-4804-b095-b86e9a792130"
      },
      "outputs": [
        {
          "name": "stdout",
          "output_type": "stream",
          "text": [
            "Дубликатов нет.\n"
          ]
        }
      ],
      "source": [
        "users = users.drop_duplicates()\n",
        "find_dupl(users)"
      ]
    },
    {
      "cell_type": "markdown",
      "id": "d4126f5b",
      "metadata": {
        "id": "d4126f5b"
      },
      "source": [
        "**Вывод:** после первичного анализа датасетов была произведена предобработка данных: найдены и удалены явные дубликаты, добавлена новая колонка со значением месяца поездки, колонка с датой приведена к типу pandas, значения времени и расстояния округлены для целей дальнейшего анализа."
      ]
    },
    {
      "cell_type": "markdown",
      "id": "212593c7",
      "metadata": {
        "id": "212593c7"
      },
      "source": [
        "#### Шаг 3. Исследовательский анализ данных"
      ]
    },
    {
      "cell_type": "markdown",
      "id": "79338c99",
      "metadata": {
        "id": "79338c99"
      },
      "source": [
        "##### Самые популярные города присутствия GoFast\n",
        "\n",
        "\n",
        "Посмотрим, в каких городах сервис GoFast популярнее всего, для чего сделаем сводную таблицу и визуализируем полученные данные."
      ]
    },
    {
      "cell_type": "code",
      "execution_count": null,
      "id": "15812c9a",
      "metadata": {
        "id": "15812c9a",
        "outputId": "e78d138a-6364-40b4-8a93-d4b9be5cf724"
      },
      "outputs": [
        {
          "name": "stdout",
          "output_type": "stream",
          "text": [
            "Количество пользователей по городам \n"
          ]
        },
        {
          "data": {
            "text/html": [
              "<div>\n",
              "<style scoped>\n",
              "    .dataframe tbody tr th:only-of-type {\n",
              "        vertical-align: middle;\n",
              "    }\n",
              "\n",
              "    .dataframe tbody tr th {\n",
              "        vertical-align: top;\n",
              "    }\n",
              "\n",
              "    .dataframe thead th {\n",
              "        text-align: right;\n",
              "    }\n",
              "</style>\n",
              "<table border=\"1\" class=\"dataframe\">\n",
              "  <thead>\n",
              "    <tr style=\"text-align: right;\">\n",
              "      <th></th>\n",
              "      <th>Кол-во пользователей</th>\n",
              "    </tr>\n",
              "    <tr>\n",
              "      <th>Город</th>\n",
              "      <th></th>\n",
              "    </tr>\n",
              "  </thead>\n",
              "  <tbody>\n",
              "    <tr>\n",
              "      <th>Пятигорск</th>\n",
              "      <td>219</td>\n",
              "    </tr>\n",
              "    <tr>\n",
              "      <th>Екатеринбург</th>\n",
              "      <td>204</td>\n",
              "    </tr>\n",
              "    <tr>\n",
              "      <th>Ростов-на-Дону</th>\n",
              "      <td>198</td>\n",
              "    </tr>\n",
              "    <tr>\n",
              "      <th>Краснодар</th>\n",
              "      <td>193</td>\n",
              "    </tr>\n",
              "    <tr>\n",
              "      <th>Сочи</th>\n",
              "      <td>189</td>\n",
              "    </tr>\n",
              "    <tr>\n",
              "      <th>Омск</th>\n",
              "      <td>183</td>\n",
              "    </tr>\n",
              "    <tr>\n",
              "      <th>Тюмень</th>\n",
              "      <td>180</td>\n",
              "    </tr>\n",
              "    <tr>\n",
              "      <th>Москва</th>\n",
              "      <td>168</td>\n",
              "    </tr>\n",
              "  </tbody>\n",
              "</table>\n",
              "</div>"
            ],
            "text/plain": [
              "                Кол-во пользователей\n",
              "Город                               \n",
              "Пятигорск                        219\n",
              "Екатеринбург                     204\n",
              "Ростов-на-Дону                   198\n",
              "Краснодар                        193\n",
              "Сочи                             189\n",
              "Омск                             183\n",
              "Тюмень                           180\n",
              "Москва                           168"
            ]
          },
          "execution_count": 12,
          "metadata": {},
          "output_type": "execute_result"
        }
      ],
      "source": [
        "print('Количество пользователей по городам ')\n",
        "(\n",
        "    users\n",
        "    .pivot_table(index='city', values='user_id', aggfunc='count')\n",
        "    .sort_values(by='user_id', ascending=False)\n",
        "    .rename(columns={'user_id': 'Кол-во пользователей'})\n",
        "    .rename_axis('Город')\n",
        ")"
      ]
    },
    {
      "cell_type": "code",
      "execution_count": null,
      "id": "fca3e48f",
      "metadata": {
        "id": "fca3e48f",
        "outputId": "cce11599-baa4-4643-fab8-f993b1ed6eec"
      },
      "outputs": [
        {
          "data": {
            "image/png": "[encoded data removed]",
            "text/plain": [
              "<Figure size 720x360 with 1 Axes>"
            ]
          },
          "metadata": {
            "needs_background": "light"
          },
          "output_type": "display_data"
        }
      ],
      "source": [
        "# построим горизонтальную гистограмму для лучшего считывания названий городов, самые популярные города окажутся сверху\n",
        "(\n",
        "    users\n",
        "    .pivot_table(index='city', values='user_id', aggfunc='count')\n",
        "    .sort_values(by='user_id', ascending=True)\n",
        "    .plot(kind='barh', grid=True, figsize=(10, 5))\n",
        ")\n",
        "plt.title('Количество пользователей по городам')\n",
        "plt.ylabel('Город')\n",
        "plt.xlabel('Количество пользователей')\n",
        "plt.show()"
      ]
    },
    {
      "cell_type": "markdown",
      "id": "3ffc9970",
      "metadata": {
        "id": "3ffc9970"
      },
      "source": [
        "Мы можем увидеть, что сервис наиболее популярен в Пятигорске и Екатеринбурге (более 200 уникальных пользователей), наименее популярен в Москве. География распространения сервиса - это крупные города юга России и самые крупные города Западной Сибири. Высокая популярность на юге возможно связана с удачным выходом на рынок, длительным сезоном проката и отсутствием в этих городах других крупных игроков, низкую популярность в Москве можно объяснить высокой конкуренцией и занятостью ниш другими игроками."
      ]
    },
    {
      "cell_type": "markdown",
      "id": "f21d88be",
      "metadata": {
        "id": "f21d88be"
      },
      "source": [
        "##### Соотношение количества пользователей с подпиской и без подписки"
      ]
    },
    {
      "cell_type": "markdown",
      "id": "0d0174ad",
      "metadata": {
        "id": "0d0174ad"
      },
      "source": [
        "Для того, чтобы посмотреть на соотношение количества пользователей с подпиской и без подписки - сделаем сводную таблицу и построим по ней круговую диаграмму."
      ]
    },
    {
      "cell_type": "code",
      "execution_count": null,
      "id": "2f56330a",
      "metadata": {
        "id": "2f56330a",
        "outputId": "6ca9177a-9567-4b6c-be04-fe218e67ee3f"
      },
      "outputs": [
        {
          "data": {
            "text/html": [
              "<div>\n",
              "<style scoped>\n",
              "    .dataframe tbody tr th:only-of-type {\n",
              "        vertical-align: middle;\n",
              "    }\n",
              "\n",
              "    .dataframe tbody tr th {\n",
              "        vertical-align: top;\n",
              "    }\n",
              "\n",
              "    .dataframe thead th {\n",
              "        text-align: right;\n",
              "    }\n",
              "</style>\n",
              "<table border=\"1\" class=\"dataframe\">\n",
              "  <thead>\n",
              "    <tr style=\"text-align: right;\">\n",
              "      <th></th>\n",
              "      <th>Кол-во пользователей</th>\n",
              "    </tr>\n",
              "    <tr>\n",
              "      <th>Тип подписки</th>\n",
              "      <th></th>\n",
              "    </tr>\n",
              "  </thead>\n",
              "  <tbody>\n",
              "    <tr>\n",
              "      <th>free</th>\n",
              "      <td>835</td>\n",
              "    </tr>\n",
              "    <tr>\n",
              "      <th>ultra</th>\n",
              "      <td>699</td>\n",
              "    </tr>\n",
              "  </tbody>\n",
              "</table>\n",
              "</div>"
            ],
            "text/plain": [
              "              Кол-во пользователей\n",
              "Тип подписки                      \n",
              "free                           835\n",
              "ultra                          699"
            ]
          },
          "execution_count": 14,
          "metadata": {},
          "output_type": "execute_result"
        }
      ],
      "source": [
        "(\n",
        "    users\n",
        "    .pivot_table(index='subscription_type', values='user_id', aggfunc='count')\n",
        "    .rename(columns={'user_id': 'Кол-во пользователей'})\n",
        "    .rename_axis('Тип подписки')\n",
        ")"
      ]
    },
    {
      "cell_type": "code",
      "execution_count": null,
      "id": "9c01133b",
      "metadata": {
        "id": "9c01133b",
        "outputId": "549a4358-90f0-459d-e4c8-61c240de86f5"
      },
      "outputs": [
        {
          "data": {
            "image/png": "[encoded data removed]",
            "text/plain": [
              "<Figure size 360x360 with 1 Axes>"
            ]
          },
          "metadata": {},
          "output_type": "display_data"
        }
      ],
      "source": [
        "# построим круговую диаграмму и выведем значения показателей в процентах от общего количества пользователей\n",
        "(\n",
        "    users\n",
        "    .pivot_table(index='subscription_type', values='user_id', aggfunc='count')\n",
        "    .plot.pie(y='user_id', figsize=(5,5),  label='Количество пользователей',\n",
        "    autopct='%1.1f%%', startangle=45,\n",
        "    title='Отношение количества пользователей без подписки (free), и с подпиской (ultra), к общему количеству')\n",
        ")\n",
        "plt.axis('equal')\n",
        "plt.show()"
      ]
    },
    {
      "cell_type": "markdown",
      "id": "287118ae",
      "metadata": {
        "id": "287118ae"
      },
      "source": [
        "Количество пользователей без подписки (free) составляет 54,4% и превышает количество пользователей с подпиской ultra, которое составляет 45,6% от общего числа пользователей."
      ]
    },
    {
      "cell_type": "markdown",
      "id": "2088799e",
      "metadata": {
        "id": "2088799e"
      },
      "source": [
        "<div class=\"alert alert-success\">\n",
        "<b>✔️ Комментарий ревьюера v1:</b>\n",
        "<br>Верно! В этом задании нужно смотреть именно на долю пользователей и тут круговая диаграмма отлично подходит!\n",
        "</div>"
      ]
    },
    {
      "cell_type": "markdown",
      "id": "828b8c76",
      "metadata": {
        "id": "828b8c76"
      },
      "source": [
        "##### Изучаем возраст пользователей\n",
        "\n",
        "\n",
        "Посмотрим на общие даннее колонки, содержащую сведения о возрасте пользователей, а также общий разброс значений."
      ]
    },
    {
      "cell_type": "code",
      "execution_count": null,
      "id": "62ebf8c8",
      "metadata": {
        "id": "62ebf8c8",
        "outputId": "7d779e05-2993-4131-e3c7-91218e21a816"
      },
      "outputs": [
        {
          "name": "stdout",
          "output_type": "stream",
          "text": [
            "Среднее значение возраста пользователей 24.9\n"
          ]
        },
        {
          "data": {
            "text/plain": [
              "count    1534.000000\n",
              "mean       24.903520\n",
              "std         4.572367\n",
              "min        12.000000\n",
              "25%        22.000000\n",
              "50%        25.000000\n",
              "75%        28.000000\n",
              "max        43.000000\n",
              "Name: age, dtype: float64"
            ]
          },
          "execution_count": 16,
          "metadata": {},
          "output_type": "execute_result"
        }
      ],
      "source": [
        "print('Среднее значение возраста пользователей', users['age'].mean().round(1))\n",
        "users['age'].describe()"
      ]
    },
    {
      "cell_type": "markdown",
      "id": "5ccf71db",
      "metadata": {
        "id": "5ccf71db"
      },
      "source": [
        "Выбивающихся и аномальных значений не найдено."
      ]
    },
    {
      "cell_type": "code",
      "execution_count": null,
      "id": "0d326191",
      "metadata": {
        "id": "0d326191",
        "outputId": "5eeca897-c0f1-4723-e4ed-45872aa99f8c"
      },
      "outputs": [
        {
          "data": {
            "image/png": "[encoded data removed]",
            "text/plain": [
              "<Figure size 720x360 with 1 Axes>"
            ]
          },
          "metadata": {
            "needs_background": "light"
          },
          "output_type": "display_data"
        }
      ],
      "source": [
        "# визуализируем информацию о возрасте пользователей на основе сводной таблицы\n",
        "(\n",
        "    users\n",
        "    .pivot_table(index='age', values='user_id', aggfunc='count')\n",
        "    .sort_values(by='age', ascending=True)\n",
        "    .plot(kind='bar', grid=True, figsize=(10, 5))\n",
        ")\n",
        "plt.title('Распределение пользователей по возрасту')\n",
        "plt.xlabel('Возраст')\n",
        "plt.ylabel('Количество')\n",
        "plt.show()"
      ]
    },
    {
      "cell_type": "markdown",
      "id": "e95c53e3",
      "metadata": {
        "id": "e95c53e3"
      },
      "source": [
        "Как мы можем увидеть, медиана и средний возраст пользователей практически совпадают: рядовому пользователю сервису самокатов GoFast - 25 лет. Большинство пользователей в возрасте от 20 до 30 лет."
      ]
    },
    {
      "cell_type": "markdown",
      "id": "cd411f24",
      "metadata": {
        "id": "cd411f24"
      },
      "source": [
        "##### Среднее расстояние за одну поездку\n",
        "\n",
        "\n",
        "Вычислим расстояние, которое пользователь предодолевает за одну поездку на самокате. Для чего проанализируем соответствующий столбец в таблице rides."
      ]
    },
    {
      "cell_type": "code",
      "execution_count": null,
      "id": "f8bf60e4",
      "metadata": {
        "id": "f8bf60e4",
        "outputId": "2ce1d148-e58c-4452-f9f5-d0750a6fbd0f"
      },
      "outputs": [
        {
          "data": {
            "text/plain": [
              "count    18068.000000\n",
              "mean      3070.659992\n",
              "std       1116.831222\n",
              "min          0.860000\n",
              "25%       2543.227500\n",
              "50%       3133.610000\n",
              "75%       3776.220000\n",
              "max       7211.010000\n",
              "Name: distance, dtype: float64"
            ]
          },
          "execution_count": 18,
          "metadata": {},
          "output_type": "execute_result"
        }
      ],
      "source": [
        "rides['distance'].describe()"
      ]
    },
    {
      "cell_type": "markdown",
      "id": "251606d3",
      "metadata": {
        "id": "251606d3"
      },
      "source": [
        "Здесь мы можем увидеть как чрезвычайно короткие поездки (менее 1 метра), там и необычно долгие поездки (более 7 км). Средняя пройденная дистанция - чуть более 3 км. Визуализируем эти данные на графике."
      ]
    },
    {
      "cell_type": "code",
      "execution_count": null,
      "id": "6b4dcd29",
      "metadata": {
        "id": "6b4dcd29",
        "outputId": "0049d399-9a11-4dec-ab89-89f481b57293"
      },
      "outputs": [
        {
          "data": {
            "image/png": "[encoded data removed]",
            "text/plain": [
              "<Figure size 432x288 with 1 Axes>"
            ]
          },
          "metadata": {
            "needs_background": "light"
          },
          "output_type": "display_data"
        }
      ],
      "source": [
        "plt.hist(rides['distance'], bins=500, range=(1,7000))\n",
        "plt.title('Количество поездок в зависимости от расстояния поездки')\n",
        "plt.xlabel('Расстояние в метрах')\n",
        "plt.ylabel('Количество поездок')\n",
        "plt.show()"
      ]
    },
    {
      "cell_type": "markdown",
      "id": "5af4d04a",
      "metadata": {
        "id": "5af4d04a"
      },
      "source": [
        "Действительно, большинство пользователей проезжают на самокате расстояние в пределах от 2,5 до 4 км. Однако на графике наблюдается интересный всплеск около значения 700 метров. Возможно эти пользователи не очень уверенно ездят на самокате и совершали пробную поездку, ведь не все чувствуют себя уверенно на двухколёсном транспорте. А может быть, это короткие поездки по парку или до ближайшей остановки общественного траспорта. Чтобы точнее ответить на эти вопросы необходимы данные по геолокациям данных поездок."
      ]
    },
    {
      "cell_type": "markdown",
      "id": "5002e940",
      "metadata": {
        "id": "5002e940"
      },
      "source": [
        "##### Средняя продолжительность поездок\n",
        "\n",
        "\n",
        "Теперь посмотрим на среднюю продолжительность поездок на самокатах GoFast: изучим значения в колонке duration."
      ]
    },
    {
      "cell_type": "code",
      "execution_count": null,
      "id": "d417c413",
      "metadata": {
        "id": "d417c413",
        "outputId": "bf651e39-5818-4b7a-9008-630da5867fa4"
      },
      "outputs": [
        {
          "data": {
            "text/plain": [
              "count    18068.000000\n",
              "mean        18.303520\n",
              "std          6.094928\n",
              "min          1.000000\n",
              "25%         14.000000\n",
              "50%         18.000000\n",
              "75%         22.000000\n",
              "max         41.000000\n",
              "Name: duration, dtype: float64"
            ]
          },
          "execution_count": 20,
          "metadata": {},
          "output_type": "execute_result"
        }
      ],
      "source": [
        "rides['duration'].describe()"
      ]
    },
    {
      "cell_type": "markdown",
      "id": "476c4b11",
      "metadata": {
        "id": "476c4b11"
      },
      "source": [
        "После того, как мы округлили значения до целых минут - минимальная продолжительность поездки равна 1 минуте, а максимальная - 41 минута, что довольно долго. Средняя продолжительность поездки - 18 минут. Посмотрим на эти данные на графике."
      ]
    },
    {
      "cell_type": "code",
      "execution_count": null,
      "id": "6309d871",
      "metadata": {
        "id": "6309d871",
        "outputId": "c0df34b9-8eba-45f8-e618-45bafcaf1461"
      },
      "outputs": [
        {
          "data": {
            "image/png": "[encoded data removed]",
            "text/plain": [
              "<Figure size 432x288 with 1 Axes>"
            ]
          },
          "metadata": {
            "needs_background": "light"
          },
          "output_type": "display_data"
        }
      ],
      "source": [
        "plt.hist(rides['duration'], bins=40, range=(1,41))\n",
        "plt.title('Количество поездок в зависимости от продолжительности')\n",
        "plt.xlabel('Продолжительность поездки в минутах')\n",
        "plt.ylabel('Количество поездок')\n",
        "plt.show()"
      ]
    },
    {
      "cell_type": "markdown",
      "id": "f592c41e",
      "metadata": {
        "id": "f592c41e"
      },
      "source": [
        "Как мы видим - большинство поездок длительностью от 15 до 25 минут, что довольно долго, такие поездки приносят компании прибыль. Всплеск около 1 минуты объясняется тем, что кто-то пытался начать поездку, но так и не совершил её по каким-то причинам: практически 100 случаев из выборки. Аналитикам мобильного приложения следует изучить эти кейсы и отработать гипотезы по каким причинам пользователи не совершают полноценную поездку.\n",
        "\n",
        "\n",
        "**Выводы:** на этапе исследовательского анализа было установлено, что самый популярный город проката сервиса GoFast - это Пятигорск, самый непопуляный - в Москве. У большинства пользователей нет платной подписки, а обычному пользователю сервиса - от 20 до 30 лет. В среднем, на самокатах GoFast проезжают 3 км, что по времени занимает около 18 минут (таким образом, средняя скорость поездки - 10 км/ч, что не превышает установленные городские лимиты скорости для СИМов)."
      ]
    },
    {
      "cell_type": "markdown",
      "id": "4ef51331",
      "metadata": {
        "id": "4ef51331"
      },
      "source": [
        "#### Шаг 4. Объединение данных"
      ]
    },
    {
      "cell_type": "markdown",
      "id": "d0ae9d79",
      "metadata": {
        "id": "d0ae9d79"
      },
      "source": [
        "##### Объединение данных о пользователях, поездках и подписках в один датафрейм."
      ]
    },
    {
      "cell_type": "code",
      "execution_count": null,
      "id": "cd7970df",
      "metadata": {
        "id": "cd7970df",
        "outputId": "2dca9d80-0618-4d1d-cc5f-6fb82d1d31bb"
      },
      "outputs": [
        {
          "name": "stdout",
          "output_type": "stream",
          "text": [
            "Количество явных дубликатов в \"data\" =  0 \n",
            "\n",
            "<class 'pandas.core.frame.DataFrame'>\n",
            "Int64Index: 18068 entries, 0 to 18067\n",
            "Data columns (total 12 columns):\n",
            " #   Column             Non-Null Count  Dtype         \n",
            "---  ------             --------------  -----         \n",
            " 0   user_id            18068 non-null  int64         \n",
            " 1   distance           18068 non-null  float64       \n",
            " 2   duration           18068 non-null  int64         \n",
            " 3   date               18068 non-null  datetime64[ns]\n",
            " 4   ride_month         18068 non-null  int64         \n",
            " 5   name               18068 non-null  object        \n",
            " 6   age                18068 non-null  int64         \n",
            " 7   city               18068 non-null  object        \n",
            " 8   subscription_type  18068 non-null  object        \n",
            " 9   minute_price       18068 non-null  int64         \n",
            " 10  start_ride_price   18068 non-null  int64         \n",
            " 11  subscription_fee   18068 non-null  int64         \n",
            "dtypes: datetime64[ns](1), float64(1), int64(7), object(3)\n",
            "memory usage: 1.8+ MB\n"
          ]
        }
      ],
      "source": [
        "# создадим новый датасет data, для чего воспользуемся методом merge()\n",
        "\n",
        "df = pd.merge(users, subscriptions, on='subscription_type')\n",
        "data = pd.merge(rides, df, on='user_id')\n",
        "\n",
        "# проверим количество дубликатов в новом датасете, а также убедимся в успешном объединении данных\n",
        "\n",
        "print('Количество явных дубликатов в \"data\" = ', data.duplicated().sum(), '\\n')\n",
        "data.info()"
      ]
    },
    {
      "cell_type": "code",
      "execution_count": null,
      "id": "55e33c5b",
      "metadata": {
        "id": "55e33c5b",
        "outputId": "1de1b509-7dbe-45a0-aa6a-e33a5902e160"
      },
      "outputs": [
        {
          "data": {
            "text/html": [
              "<div>\n",
              "<style scoped>\n",
              "    .dataframe tbody tr th:only-of-type {\n",
              "        vertical-align: middle;\n",
              "    }\n",
              "\n",
              "    .dataframe tbody tr th {\n",
              "        vertical-align: top;\n",
              "    }\n",
              "\n",
              "    .dataframe thead th {\n",
              "        text-align: right;\n",
              "    }\n",
              "</style>\n",
              "<table border=\"1\" class=\"dataframe\">\n",
              "  <thead>\n",
              "    <tr style=\"text-align: right;\">\n",
              "      <th></th>\n",
              "      <th>user_id</th>\n",
              "      <th>distance</th>\n",
              "      <th>duration</th>\n",
              "      <th>date</th>\n",
              "      <th>ride_month</th>\n",
              "      <th>name</th>\n",
              "      <th>age</th>\n",
              "      <th>city</th>\n",
              "      <th>subscription_type</th>\n",
              "      <th>minute_price</th>\n",
              "      <th>start_ride_price</th>\n",
              "      <th>subscription_fee</th>\n",
              "    </tr>\n",
              "  </thead>\n",
              "  <tbody>\n",
              "    <tr>\n",
              "      <th>0</th>\n",
              "      <td>1</td>\n",
              "      <td>4409.92</td>\n",
              "      <td>26</td>\n",
              "      <td>2021-01-01</td>\n",
              "      <td>1</td>\n",
              "      <td>Кира</td>\n",
              "      <td>22</td>\n",
              "      <td>Тюмень</td>\n",
              "      <td>ultra</td>\n",
              "      <td>6</td>\n",
              "      <td>0</td>\n",
              "      <td>199</td>\n",
              "    </tr>\n",
              "    <tr>\n",
              "      <th>1</th>\n",
              "      <td>1</td>\n",
              "      <td>2617.59</td>\n",
              "      <td>16</td>\n",
              "      <td>2021-01-18</td>\n",
              "      <td>1</td>\n",
              "      <td>Кира</td>\n",
              "      <td>22</td>\n",
              "      <td>Тюмень</td>\n",
              "      <td>ultra</td>\n",
              "      <td>6</td>\n",
              "      <td>0</td>\n",
              "      <td>199</td>\n",
              "    </tr>\n",
              "    <tr>\n",
              "      <th>2</th>\n",
              "      <td>1</td>\n",
              "      <td>754.16</td>\n",
              "      <td>7</td>\n",
              "      <td>2021-04-20</td>\n",
              "      <td>4</td>\n",
              "      <td>Кира</td>\n",
              "      <td>22</td>\n",
              "      <td>Тюмень</td>\n",
              "      <td>ultra</td>\n",
              "      <td>6</td>\n",
              "      <td>0</td>\n",
              "      <td>199</td>\n",
              "    </tr>\n",
              "    <tr>\n",
              "      <th>3</th>\n",
              "      <td>1</td>\n",
              "      <td>2694.78</td>\n",
              "      <td>19</td>\n",
              "      <td>2021-08-11</td>\n",
              "      <td>8</td>\n",
              "      <td>Кира</td>\n",
              "      <td>22</td>\n",
              "      <td>Тюмень</td>\n",
              "      <td>ultra</td>\n",
              "      <td>6</td>\n",
              "      <td>0</td>\n",
              "      <td>199</td>\n",
              "    </tr>\n",
              "    <tr>\n",
              "      <th>4</th>\n",
              "      <td>1</td>\n",
              "      <td>4028.69</td>\n",
              "      <td>27</td>\n",
              "      <td>2021-08-28</td>\n",
              "      <td>8</td>\n",
              "      <td>Кира</td>\n",
              "      <td>22</td>\n",
              "      <td>Тюмень</td>\n",
              "      <td>ultra</td>\n",
              "      <td>6</td>\n",
              "      <td>0</td>\n",
              "      <td>199</td>\n",
              "    </tr>\n",
              "    <tr>\n",
              "      <th>...</th>\n",
              "      <td>...</td>\n",
              "      <td>...</td>\n",
              "      <td>...</td>\n",
              "      <td>...</td>\n",
              "      <td>...</td>\n",
              "      <td>...</td>\n",
              "      <td>...</td>\n",
              "      <td>...</td>\n",
              "      <td>...</td>\n",
              "      <td>...</td>\n",
              "      <td>...</td>\n",
              "      <td>...</td>\n",
              "    </tr>\n",
              "    <tr>\n",
              "      <th>18063</th>\n",
              "      <td>1534</td>\n",
              "      <td>3781.10</td>\n",
              "      <td>20</td>\n",
              "      <td>2021-11-04</td>\n",
              "      <td>11</td>\n",
              "      <td>Альберт</td>\n",
              "      <td>25</td>\n",
              "      <td>Краснодар</td>\n",
              "      <td>free</td>\n",
              "      <td>8</td>\n",
              "      <td>50</td>\n",
              "      <td>0</td>\n",
              "    </tr>\n",
              "    <tr>\n",
              "      <th>18064</th>\n",
              "      <td>1534</td>\n",
              "      <td>2840.42</td>\n",
              "      <td>22</td>\n",
              "      <td>2021-11-16</td>\n",
              "      <td>11</td>\n",
              "      <td>Альберт</td>\n",
              "      <td>25</td>\n",
              "      <td>Краснодар</td>\n",
              "      <td>free</td>\n",
              "      <td>8</td>\n",
              "      <td>50</td>\n",
              "      <td>0</td>\n",
              "    </tr>\n",
              "    <tr>\n",
              "      <th>18065</th>\n",
              "      <td>1534</td>\n",
              "      <td>3826.19</td>\n",
              "      <td>19</td>\n",
              "      <td>2021-11-18</td>\n",
              "      <td>11</td>\n",
              "      <td>Альберт</td>\n",
              "      <td>25</td>\n",
              "      <td>Краснодар</td>\n",
              "      <td>free</td>\n",
              "      <td>8</td>\n",
              "      <td>50</td>\n",
              "      <td>0</td>\n",
              "    </tr>\n",
              "    <tr>\n",
              "      <th>18066</th>\n",
              "      <td>1534</td>\n",
              "      <td>2902.31</td>\n",
              "      <td>17</td>\n",
              "      <td>2021-11-27</td>\n",
              "      <td>11</td>\n",
              "      <td>Альберт</td>\n",
              "      <td>25</td>\n",
              "      <td>Краснодар</td>\n",
              "      <td>free</td>\n",
              "      <td>8</td>\n",
              "      <td>50</td>\n",
              "      <td>0</td>\n",
              "    </tr>\n",
              "    <tr>\n",
              "      <th>18067</th>\n",
              "      <td>1534</td>\n",
              "      <td>2371.71</td>\n",
              "      <td>16</td>\n",
              "      <td>2021-12-29</td>\n",
              "      <td>12</td>\n",
              "      <td>Альберт</td>\n",
              "      <td>25</td>\n",
              "      <td>Краснодар</td>\n",
              "      <td>free</td>\n",
              "      <td>8</td>\n",
              "      <td>50</td>\n",
              "      <td>0</td>\n",
              "    </tr>\n",
              "  </tbody>\n",
              "</table>\n",
              "<p>18068 rows × 12 columns</p>\n",
              "</div>"
            ],
            "text/plain": [
              "       user_id  distance  duration       date  ride_month     name  age  \\\n",
              "0            1   4409.92        26 2021-01-01           1     Кира   22   \n",
              "1            1   2617.59        16 2021-01-18           1     Кира   22   \n",
              "2            1    754.16         7 2021-04-20           4     Кира   22   \n",
              "3            1   2694.78        19 2021-08-11           8     Кира   22   \n",
              "4            1   4028.69        27 2021-08-28           8     Кира   22   \n",
              "...        ...       ...       ...        ...         ...      ...  ...   \n",
              "18063     1534   3781.10        20 2021-11-04          11  Альберт   25   \n",
              "18064     1534   2840.42        22 2021-11-16          11  Альберт   25   \n",
              "18065     1534   3826.19        19 2021-11-18          11  Альберт   25   \n",
              "18066     1534   2902.31        17 2021-11-27          11  Альберт   25   \n",
              "18067     1534   2371.71        16 2021-12-29          12  Альберт   25   \n",
              "\n",
              "            city subscription_type  minute_price  start_ride_price  \\\n",
              "0         Тюмень             ultra             6                 0   \n",
              "1         Тюмень             ultra             6                 0   \n",
              "2         Тюмень             ultra             6                 0   \n",
              "3         Тюмень             ultra             6                 0   \n",
              "4         Тюмень             ultra             6                 0   \n",
              "...          ...               ...           ...               ...   \n",
              "18063  Краснодар              free             8                50   \n",
              "18064  Краснодар              free             8                50   \n",
              "18065  Краснодар              free             8                50   \n",
              "18066  Краснодар              free             8                50   \n",
              "18067  Краснодар              free             8                50   \n",
              "\n",
              "       subscription_fee  \n",
              "0                   199  \n",
              "1                   199  \n",
              "2                   199  \n",
              "3                   199  \n",
              "4                   199  \n",
              "...                 ...  \n",
              "18063                 0  \n",
              "18064                 0  \n",
              "18065                 0  \n",
              "18066                 0  \n",
              "18067                 0  \n",
              "\n",
              "[18068 rows x 12 columns]"
            ]
          },
          "execution_count": 23,
          "metadata": {},
          "output_type": "execute_result"
        }
      ],
      "source": [
        "data"
      ]
    },
    {
      "cell_type": "markdown",
      "id": "0b2b51de",
      "metadata": {
        "id": "0b2b51de"
      },
      "source": [
        "Таблицы успешно объединены, количество записей (18068) - не изменилось, дубликаты не возникли, все ячейки заполнены данными, которые корректно отображаются."
      ]
    },
    {
      "cell_type": "markdown",
      "id": "f65f624e",
      "metadata": {
        "id": "f65f624e"
      },
      "source": [
        "##### Создадим датафреймы для пользователей с подпиской и без подписки"
      ]
    },
    {
      "cell_type": "markdown",
      "id": "d377e28b",
      "metadata": {
        "id": "d377e28b"
      },
      "source": [
        "###### Таблица с данными о пользователях без подписки"
      ]
    },
    {
      "cell_type": "code",
      "execution_count": null,
      "id": "2ba8d3ed",
      "metadata": {
        "id": "2ba8d3ed",
        "outputId": "84a20e3c-95da-420b-92d0-af7f1e3c56cc"
      },
      "outputs": [
        {
          "data": {
            "text/html": [
              "<div>\n",
              "<style scoped>\n",
              "    .dataframe tbody tr th:only-of-type {\n",
              "        vertical-align: middle;\n",
              "    }\n",
              "\n",
              "    .dataframe tbody tr th {\n",
              "        vertical-align: top;\n",
              "    }\n",
              "\n",
              "    .dataframe thead th {\n",
              "        text-align: right;\n",
              "    }\n",
              "</style>\n",
              "<table border=\"1\" class=\"dataframe\">\n",
              "  <thead>\n",
              "    <tr style=\"text-align: right;\">\n",
              "      <th></th>\n",
              "      <th>user_id</th>\n",
              "      <th>distance</th>\n",
              "      <th>duration</th>\n",
              "      <th>date</th>\n",
              "      <th>ride_month</th>\n",
              "      <th>name</th>\n",
              "      <th>age</th>\n",
              "      <th>city</th>\n",
              "      <th>subscription_type</th>\n",
              "      <th>minute_price</th>\n",
              "      <th>start_ride_price</th>\n",
              "      <th>subscription_fee</th>\n",
              "    </tr>\n",
              "  </thead>\n",
              "  <tbody>\n",
              "    <tr>\n",
              "      <th>6500</th>\n",
              "      <td>700</td>\n",
              "      <td>2515.69</td>\n",
              "      <td>15</td>\n",
              "      <td>2021-01-02</td>\n",
              "      <td>1</td>\n",
              "      <td>Айдар</td>\n",
              "      <td>22</td>\n",
              "      <td>Омск</td>\n",
              "      <td>free</td>\n",
              "      <td>8</td>\n",
              "      <td>50</td>\n",
              "      <td>0</td>\n",
              "    </tr>\n",
              "    <tr>\n",
              "      <th>6501</th>\n",
              "      <td>700</td>\n",
              "      <td>846.93</td>\n",
              "      <td>17</td>\n",
              "      <td>2021-02-01</td>\n",
              "      <td>2</td>\n",
              "      <td>Айдар</td>\n",
              "      <td>22</td>\n",
              "      <td>Омск</td>\n",
              "      <td>free</td>\n",
              "      <td>8</td>\n",
              "      <td>50</td>\n",
              "      <td>0</td>\n",
              "    </tr>\n",
              "    <tr>\n",
              "      <th>6502</th>\n",
              "      <td>700</td>\n",
              "      <td>4004.43</td>\n",
              "      <td>21</td>\n",
              "      <td>2021-02-04</td>\n",
              "      <td>2</td>\n",
              "      <td>Айдар</td>\n",
              "      <td>22</td>\n",
              "      <td>Омск</td>\n",
              "      <td>free</td>\n",
              "      <td>8</td>\n",
              "      <td>50</td>\n",
              "      <td>0</td>\n",
              "    </tr>\n",
              "    <tr>\n",
              "      <th>6503</th>\n",
              "      <td>700</td>\n",
              "      <td>1205.91</td>\n",
              "      <td>10</td>\n",
              "      <td>2021-02-10</td>\n",
              "      <td>2</td>\n",
              "      <td>Айдар</td>\n",
              "      <td>22</td>\n",
              "      <td>Омск</td>\n",
              "      <td>free</td>\n",
              "      <td>8</td>\n",
              "      <td>50</td>\n",
              "      <td>0</td>\n",
              "    </tr>\n",
              "    <tr>\n",
              "      <th>6504</th>\n",
              "      <td>700</td>\n",
              "      <td>3047.38</td>\n",
              "      <td>18</td>\n",
              "      <td>2021-02-14</td>\n",
              "      <td>2</td>\n",
              "      <td>Айдар</td>\n",
              "      <td>22</td>\n",
              "      <td>Омск</td>\n",
              "      <td>free</td>\n",
              "      <td>8</td>\n",
              "      <td>50</td>\n",
              "      <td>0</td>\n",
              "    </tr>\n",
              "  </tbody>\n",
              "</table>\n",
              "</div>"
            ],
            "text/plain": [
              "      user_id  distance  duration       date  ride_month   name  age  city  \\\n",
              "6500      700   2515.69        15 2021-01-02           1  Айдар   22  Омск   \n",
              "6501      700    846.93        17 2021-02-01           2  Айдар   22  Омск   \n",
              "6502      700   4004.43        21 2021-02-04           2  Айдар   22  Омск   \n",
              "6503      700   1205.91        10 2021-02-10           2  Айдар   22  Омск   \n",
              "6504      700   3047.38        18 2021-02-14           2  Айдар   22  Омск   \n",
              "\n",
              "     subscription_type  minute_price  start_ride_price  subscription_fee  \n",
              "6500              free             8                50                 0  \n",
              "6501              free             8                50                 0  \n",
              "6502              free             8                50                 0  \n",
              "6503              free             8                50                 0  \n",
              "6504              free             8                50                 0  "
            ]
          },
          "execution_count": 24,
          "metadata": {},
          "output_type": "execute_result"
        }
      ],
      "source": [
        "data_free = data[data['subscription_type'] == 'free']\n",
        "data_free.head()"
      ]
    },
    {
      "cell_type": "markdown",
      "id": "9b1efcfc",
      "metadata": {
        "id": "9b1efcfc"
      },
      "source": [
        "###### Таблица с данными о пользователях с подпиской"
      ]
    },
    {
      "cell_type": "code",
      "execution_count": null,
      "id": "885372aa",
      "metadata": {
        "id": "885372aa",
        "outputId": "9a467d3a-5928-482e-87e0-bd4fb2e937c3"
      },
      "outputs": [
        {
          "data": {
            "text/html": [
              "<div>\n",
              "<style scoped>\n",
              "    .dataframe tbody tr th:only-of-type {\n",
              "        vertical-align: middle;\n",
              "    }\n",
              "\n",
              "    .dataframe tbody tr th {\n",
              "        vertical-align: top;\n",
              "    }\n",
              "\n",
              "    .dataframe thead th {\n",
              "        text-align: right;\n",
              "    }\n",
              "</style>\n",
              "<table border=\"1\" class=\"dataframe\">\n",
              "  <thead>\n",
              "    <tr style=\"text-align: right;\">\n",
              "      <th></th>\n",
              "      <th>user_id</th>\n",
              "      <th>distance</th>\n",
              "      <th>duration</th>\n",
              "      <th>date</th>\n",
              "      <th>ride_month</th>\n",
              "      <th>name</th>\n",
              "      <th>age</th>\n",
              "      <th>city</th>\n",
              "      <th>subscription_type</th>\n",
              "      <th>minute_price</th>\n",
              "      <th>start_ride_price</th>\n",
              "      <th>subscription_fee</th>\n",
              "    </tr>\n",
              "  </thead>\n",
              "  <tbody>\n",
              "    <tr>\n",
              "      <th>0</th>\n",
              "      <td>1</td>\n",
              "      <td>4409.92</td>\n",
              "      <td>26</td>\n",
              "      <td>2021-01-01</td>\n",
              "      <td>1</td>\n",
              "      <td>Кира</td>\n",
              "      <td>22</td>\n",
              "      <td>Тюмень</td>\n",
              "      <td>ultra</td>\n",
              "      <td>6</td>\n",
              "      <td>0</td>\n",
              "      <td>199</td>\n",
              "    </tr>\n",
              "    <tr>\n",
              "      <th>1</th>\n",
              "      <td>1</td>\n",
              "      <td>2617.59</td>\n",
              "      <td>16</td>\n",
              "      <td>2021-01-18</td>\n",
              "      <td>1</td>\n",
              "      <td>Кира</td>\n",
              "      <td>22</td>\n",
              "      <td>Тюмень</td>\n",
              "      <td>ultra</td>\n",
              "      <td>6</td>\n",
              "      <td>0</td>\n",
              "      <td>199</td>\n",
              "    </tr>\n",
              "    <tr>\n",
              "      <th>2</th>\n",
              "      <td>1</td>\n",
              "      <td>754.16</td>\n",
              "      <td>7</td>\n",
              "      <td>2021-04-20</td>\n",
              "      <td>4</td>\n",
              "      <td>Кира</td>\n",
              "      <td>22</td>\n",
              "      <td>Тюмень</td>\n",
              "      <td>ultra</td>\n",
              "      <td>6</td>\n",
              "      <td>0</td>\n",
              "      <td>199</td>\n",
              "    </tr>\n",
              "    <tr>\n",
              "      <th>3</th>\n",
              "      <td>1</td>\n",
              "      <td>2694.78</td>\n",
              "      <td>19</td>\n",
              "      <td>2021-08-11</td>\n",
              "      <td>8</td>\n",
              "      <td>Кира</td>\n",
              "      <td>22</td>\n",
              "      <td>Тюмень</td>\n",
              "      <td>ultra</td>\n",
              "      <td>6</td>\n",
              "      <td>0</td>\n",
              "      <td>199</td>\n",
              "    </tr>\n",
              "    <tr>\n",
              "      <th>4</th>\n",
              "      <td>1</td>\n",
              "      <td>4028.69</td>\n",
              "      <td>27</td>\n",
              "      <td>2021-08-28</td>\n",
              "      <td>8</td>\n",
              "      <td>Кира</td>\n",
              "      <td>22</td>\n",
              "      <td>Тюмень</td>\n",
              "      <td>ultra</td>\n",
              "      <td>6</td>\n",
              "      <td>0</td>\n",
              "      <td>199</td>\n",
              "    </tr>\n",
              "  </tbody>\n",
              "</table>\n",
              "</div>"
            ],
            "text/plain": [
              "   user_id  distance  duration       date  ride_month  name  age    city  \\\n",
              "0        1   4409.92        26 2021-01-01           1  Кира   22  Тюмень   \n",
              "1        1   2617.59        16 2021-01-18           1  Кира   22  Тюмень   \n",
              "2        1    754.16         7 2021-04-20           4  Кира   22  Тюмень   \n",
              "3        1   2694.78        19 2021-08-11           8  Кира   22  Тюмень   \n",
              "4        1   4028.69        27 2021-08-28           8  Кира   22  Тюмень   \n",
              "\n",
              "  subscription_type  minute_price  start_ride_price  subscription_fee  \n",
              "0             ultra             6                 0               199  \n",
              "1             ultra             6                 0               199  \n",
              "2             ultra             6                 0               199  \n",
              "3             ultra             6                 0               199  \n",
              "4             ultra             6                 0               199  "
            ]
          },
          "execution_count": 25,
          "metadata": {},
          "output_type": "execute_result"
        }
      ],
      "source": [
        "data_ultra = data[data['subscription_type'] == 'ultra']\n",
        "data_ultra.head()"
      ]
    },
    {
      "cell_type": "markdown",
      "id": "1b0855f1",
      "metadata": {
        "id": "1b0855f1"
      },
      "source": [
        "##### Сравнение информации о расстоянии и времени поездок для разных категорий пользователей"
      ]
    },
    {
      "cell_type": "markdown",
      "id": "d888ff45",
      "metadata": {
        "id": "d888ff45"
      },
      "source": [
        "###### Сравнение пользователей по расстояню поездок"
      ]
    },
    {
      "cell_type": "code",
      "execution_count": null,
      "id": "6bf288b5",
      "metadata": {
        "id": "6bf288b5",
        "outputId": "21371a89-3a5c-4731-a149-fac568828a01"
      },
      "outputs": [
        {
          "data": {
            "image/png": "[encoded data removed]",
            "text/plain": [
              "<Figure size 432x288 with 1 Axes>"
            ]
          },
          "metadata": {
            "needs_background": "light"
          },
          "output_type": "display_data"
        }
      ],
      "source": [
        "plt.hist([data_free['distance'], data_ultra['distance']], bins=70, range=(1,7000), label=['free', 'ultra'])\n",
        "plt.legend(loc='upper right')\n",
        "plt.title('Количество поездок в зависимости расстояния')\n",
        "plt.xlabel('Расстояние в метрах')\n",
        "plt.ylabel('Количество поездок')\n",
        "plt.show()"
      ]
    },
    {
      "cell_type": "code",
      "execution_count": null,
      "id": "2847c018",
      "metadata": {
        "id": "2847c018",
        "outputId": "c4a93f69-6320-44b1-c3a2-511d52ddc91e"
      },
      "outputs": [
        {
          "name": "stdout",
          "output_type": "stream",
          "text": [
            "Описательная статистика для расстояния пользователей без подписки:\n"
          ]
        },
        {
          "data": {
            "text/plain": [
              "count    11568.000000\n",
              "mean      3045.495284\n",
              "std       1246.173810\n",
              "min          0.860000\n",
              "25%       2366.560000\n",
              "50%       3114.650000\n",
              "75%       3905.695000\n",
              "max       7211.010000\n",
              "Name: distance, dtype: float64"
            ]
          },
          "execution_count": 27,
          "metadata": {},
          "output_type": "execute_result"
        }
      ],
      "source": [
        "print('Описательная статистика для расстояния пользователей без подписки:')\n",
        "data_free['distance'].describe()"
      ]
    },
    {
      "cell_type": "code",
      "execution_count": null,
      "id": "40c65116",
      "metadata": {
        "id": "40c65116",
        "outputId": "9fef42f1-b671-4d4c-a27e-21289eea5ac8"
      },
      "outputs": [
        {
          "name": "stdout",
          "output_type": "stream",
          "text": [
            "Описательная статистика для расстояния пользователей с подпиской:\n"
          ]
        },
        {
          "data": {
            "text/plain": [
              "count    6500.000000\n",
              "mean     3115.445431\n",
              "std       836.895369\n",
              "min       244.210000\n",
              "25%      2785.447500\n",
              "50%      3148.640000\n",
              "75%      3560.577500\n",
              "max      5699.770000\n",
              "Name: distance, dtype: float64"
            ]
          },
          "execution_count": 28,
          "metadata": {},
          "output_type": "execute_result"
        }
      ],
      "source": [
        "print('Описательная статистика для расстояния пользователей с подпиской:')\n",
        "data_ultra['distance'].describe()"
      ]
    },
    {
      "cell_type": "markdown",
      "id": "5984d8d7",
      "metadata": {
        "id": "5984d8d7"
      },
      "source": [
        "**Вывод:** учитывая, что пользователей без подписки больше, но в среднем они проезжают 3045 метров, однако разброс значений очень большой, пользователи без подписки совершают больше дальних поездок. Тем не менее, пользователи с подпиской делают меньше коротких поездок и среднее расстояние поездки у них больше - 3115 метров."
      ]
    },
    {
      "cell_type": "markdown",
      "id": "3b82a81a",
      "metadata": {
        "id": "3b82a81a"
      },
      "source": [
        "###### Сравнение пользователей по длительности поездок"
      ]
    },
    {
      "cell_type": "code",
      "execution_count": null,
      "id": "1c5fa2c2",
      "metadata": {
        "id": "1c5fa2c2",
        "outputId": "dd5da69e-8ed9-47d8-c876-8fe382951d06"
      },
      "outputs": [
        {
          "data": {
            "image/png": "[encoded data removed]",
            "text/plain": [
              "<Figure size 432x288 with 1 Axes>"
            ]
          },
          "metadata": {
            "needs_background": "light"
          },
          "output_type": "display_data"
        }
      ],
      "source": [
        "plt.hist([data_free['duration'], data_ultra['duration']], bins=40, range=(1,41), label=['free', 'ultra'])\n",
        "plt.legend(loc='upper right')\n",
        "plt.title('Количество поездок в зависимости от продолжительности')\n",
        "plt.xlabel('Продолжительность поездки в минутах')\n",
        "plt.ylabel('Количество поездок')\n",
        "plt.show()"
      ]
    },
    {
      "cell_type": "code",
      "execution_count": null,
      "id": "7e1b1d14",
      "metadata": {
        "id": "7e1b1d14",
        "outputId": "5df9251a-2590-428f-ec9a-a21601cd1820"
      },
      "outputs": [
        {
          "name": "stdout",
          "output_type": "stream",
          "text": [
            "Описательная статистика для длительности поездок пользователей без подписки:\n"
          ]
        },
        {
          "data": {
            "text/plain": [
              "count    11568.000000\n",
              "mean        17.890992\n",
              "std          6.330250\n",
              "min          1.000000\n",
              "25%         13.000000\n",
              "50%         18.000000\n",
              "75%         22.000000\n",
              "max         35.000000\n",
              "Name: duration, dtype: float64"
            ]
          },
          "execution_count": 30,
          "metadata": {},
          "output_type": "execute_result"
        }
      ],
      "source": [
        "print('Описательная статистика для длительности поездок пользователей без подписки:')\n",
        "data_free['duration'].describe()"
      ]
    },
    {
      "cell_type": "code",
      "execution_count": null,
      "id": "b57fcede",
      "metadata": {
        "id": "b57fcede",
        "outputId": "3c77960d-0ac8-4fed-b281-7581d76f4dac"
      },
      "outputs": [
        {
          "name": "stdout",
          "output_type": "stream",
          "text": [
            "Описательная статистика для длительности поездок пользователей с подпиской:\n"
          ]
        },
        {
          "data": {
            "text/plain": [
              "count    6500.000000\n",
              "mean       19.037692\n",
              "std         5.577439\n",
              "min         4.000000\n",
              "25%        15.000000\n",
              "50%        19.000000\n",
              "75%        22.000000\n",
              "max        41.000000\n",
              "Name: duration, dtype: float64"
            ]
          },
          "execution_count": 31,
          "metadata": {},
          "output_type": "execute_result"
        }
      ],
      "source": [
        "print('Описательная статистика для длительности поездок пользователей с подпиской:')\n",
        "data_ultra['duration'].describe()"
      ]
    },
    {
      "cell_type": "markdown",
      "id": "265fde2b",
      "metadata": {
        "id": "265fde2b"
      },
      "source": [
        "**Вывод:** длительность средней поездки пользователя без подписки составляет почти 18 минут, а для пользователей с подпиской - 19 минут. Пользователи без подписки совершают больше коротких поездок, в то время как обладатели подписки катаются намного дольше, ведь стоимость одной минуты у них дешевле обычного.\n",
        "\n",
        "\n",
        "Таким образом, по результатам исследования объединённых данных, можно сказать, что пользовательское поведение самокатчиков меняется в зависимости от наличия или отсутствия подписки: поездки без подписки разрозненные, как долгие, так и короткие, но в целом длительность поездки не очень высокая: видимо, на это влияет повышенная стоимость минуты использования самоката. Поведение пользователей с подпиской более однородное и предсказуемое: меньше коротких поездок, больше средняя дистанция и самые длительные поездки."
      ]
    },
    {
      "cell_type": "markdown",
      "id": "402d620f",
      "metadata": {
        "id": "402d620f"
      },
      "source": [
        "#### Шаг 5. Подсчёт выручки"
      ]
    },
    {
      "cell_type": "markdown",
      "id": "186cbb79",
      "metadata": {
        "id": "186cbb79"
      },
      "source": [
        "##### Суммарное расстояние, время и количество поездок для каждого пользователя за каждый месяц"
      ]
    },
    {
      "cell_type": "code",
      "execution_count": null,
      "id": "d2faed96",
      "metadata": {
        "id": "d2faed96",
        "outputId": "f98cbf8b-f23b-4887-dc7b-bd5f7c950869"
      },
      "outputs": [
        {
          "data": {
            "text/html": [
              "<div>\n",
              "<style scoped>\n",
              "    .dataframe tbody tr th:only-of-type {\n",
              "        vertical-align: middle;\n",
              "    }\n",
              "\n",
              "    .dataframe tbody tr th {\n",
              "        vertical-align: top;\n",
              "    }\n",
              "\n",
              "    .dataframe thead th {\n",
              "        text-align: right;\n",
              "    }\n",
              "</style>\n",
              "<table border=\"1\" class=\"dataframe\">\n",
              "  <thead>\n",
              "    <tr style=\"text-align: right;\">\n",
              "      <th></th>\n",
              "      <th></th>\n",
              "      <th>count</th>\n",
              "      <th>distance</th>\n",
              "      <th>duration</th>\n",
              "      <th>minute_price</th>\n",
              "      <th>start_ride_price</th>\n",
              "      <th>subscription_fee</th>\n",
              "    </tr>\n",
              "    <tr>\n",
              "      <th>user_id</th>\n",
              "      <th>ride_month</th>\n",
              "      <th></th>\n",
              "      <th></th>\n",
              "      <th></th>\n",
              "      <th></th>\n",
              "      <th></th>\n",
              "      <th></th>\n",
              "    </tr>\n",
              "  </thead>\n",
              "  <tbody>\n",
              "    <tr>\n",
              "      <th rowspan=\"5\" valign=\"top\">1</th>\n",
              "      <th>1</th>\n",
              "      <td>2</td>\n",
              "      <td>7027.51</td>\n",
              "      <td>42</td>\n",
              "      <td>6</td>\n",
              "      <td>0</td>\n",
              "      <td>199</td>\n",
              "    </tr>\n",
              "    <tr>\n",
              "      <th>4</th>\n",
              "      <td>1</td>\n",
              "      <td>754.16</td>\n",
              "      <td>7</td>\n",
              "      <td>6</td>\n",
              "      <td>0</td>\n",
              "      <td>199</td>\n",
              "    </tr>\n",
              "    <tr>\n",
              "      <th>8</th>\n",
              "      <td>2</td>\n",
              "      <td>6723.47</td>\n",
              "      <td>46</td>\n",
              "      <td>6</td>\n",
              "      <td>0</td>\n",
              "      <td>199</td>\n",
              "    </tr>\n",
              "    <tr>\n",
              "      <th>10</th>\n",
              "      <td>2</td>\n",
              "      <td>5809.91</td>\n",
              "      <td>32</td>\n",
              "      <td>6</td>\n",
              "      <td>0</td>\n",
              "      <td>199</td>\n",
              "    </tr>\n",
              "    <tr>\n",
              "      <th>11</th>\n",
              "      <td>3</td>\n",
              "      <td>7003.50</td>\n",
              "      <td>56</td>\n",
              "      <td>6</td>\n",
              "      <td>0</td>\n",
              "      <td>199</td>\n",
              "    </tr>\n",
              "  </tbody>\n",
              "</table>\n",
              "</div>"
            ],
            "text/plain": [
              "                    count  distance  duration  minute_price  start_ride_price  \\\n",
              "user_id ride_month                                                              \n",
              "1       1               2   7027.51        42             6                 0   \n",
              "        4               1    754.16         7             6                 0   \n",
              "        8               2   6723.47        46             6                 0   \n",
              "        10              2   5809.91        32             6                 0   \n",
              "        11              3   7003.50        56             6                 0   \n",
              "\n",
              "                    subscription_fee  \n",
              "user_id ride_month                    \n",
              "1       1                        199  \n",
              "        4                        199  \n",
              "        8                        199  \n",
              "        10                       199  \n",
              "        11                       199  "
            ]
          },
          "execution_count": 32,
          "metadata": {},
          "output_type": "execute_result"
        }
      ],
      "source": [
        "# создадим сводную таблицу с агрегированными данными о поездках на основе полученного на предыдущем шаге датафрейма\n",
        "\n",
        "users_months_income = data.pivot_table(\n",
        "    index=('user_id', 'ride_month'),\n",
        "    values=(\n",
        "        'distance',\n",
        "        'duration',\n",
        "        'minute_price',\n",
        "        'start_ride_price',\n",
        "        'subscription_fee'\n",
        "    ),\n",
        "    aggfunc=({'distance':{'count', 'sum'},\n",
        "             'duration':'sum',\n",
        "             'minute_price': 'mean',\n",
        "             'start_ride_price':'mean',\n",
        "             'subscription_fee':'mean',})\n",
        ")\n",
        "\n",
        "users_months_income.columns = [\n",
        "    'count',\n",
        "    'distance',\n",
        "    'duration',\n",
        "    'minute_price',\n",
        "    'start_ride_price',\n",
        "    'subscription_fee'\n",
        "]\n",
        "\n",
        "\n",
        "users_months_income.head()"
      ]
    },
    {
      "cell_type": "markdown",
      "id": "f696096a",
      "metadata": {
        "id": "f696096a"
      },
      "source": [
        "Мы получили датафрейм с информацией по каждому пользователю с разбивкой по месяцам, с суммарным расстоянием, временем и количесвтом поездок."
      ]
    },
    {
      "cell_type": "markdown",
      "id": "a83e22f5",
      "metadata": {
        "id": "a83e22f5"
      },
      "source": [
        "##### Подсчёт помесячной выручки"
      ]
    },
    {
      "cell_type": "code",
      "execution_count": null,
      "id": "712695f1",
      "metadata": {
        "id": "712695f1",
        "outputId": "f939fd01-5bb3-4e40-9e8c-a9a89f7264c5"
      },
      "outputs": [
        {
          "data": {
            "text/html": [
              "<div>\n",
              "<style scoped>\n",
              "    .dataframe tbody tr th:only-of-type {\n",
              "        vertical-align: middle;\n",
              "    }\n",
              "\n",
              "    .dataframe tbody tr th {\n",
              "        vertical-align: top;\n",
              "    }\n",
              "\n",
              "    .dataframe thead th {\n",
              "        text-align: right;\n",
              "    }\n",
              "</style>\n",
              "<table border=\"1\" class=\"dataframe\">\n",
              "  <thead>\n",
              "    <tr style=\"text-align: right;\">\n",
              "      <th></th>\n",
              "      <th></th>\n",
              "      <th>count</th>\n",
              "      <th>distance</th>\n",
              "      <th>duration</th>\n",
              "      <th>minute_price</th>\n",
              "      <th>start_ride_price</th>\n",
              "      <th>subscription_fee</th>\n",
              "      <th>income</th>\n",
              "    </tr>\n",
              "    <tr>\n",
              "      <th>user_id</th>\n",
              "      <th>ride_month</th>\n",
              "      <th></th>\n",
              "      <th></th>\n",
              "      <th></th>\n",
              "      <th></th>\n",
              "      <th></th>\n",
              "      <th></th>\n",
              "      <th></th>\n",
              "    </tr>\n",
              "  </thead>\n",
              "  <tbody>\n",
              "    <tr>\n",
              "      <th rowspan=\"5\" valign=\"top\">1</th>\n",
              "      <th>1</th>\n",
              "      <td>2</td>\n",
              "      <td>7027.51</td>\n",
              "      <td>42</td>\n",
              "      <td>6</td>\n",
              "      <td>0</td>\n",
              "      <td>199</td>\n",
              "      <td>451</td>\n",
              "    </tr>\n",
              "    <tr>\n",
              "      <th>4</th>\n",
              "      <td>1</td>\n",
              "      <td>754.16</td>\n",
              "      <td>7</td>\n",
              "      <td>6</td>\n",
              "      <td>0</td>\n",
              "      <td>199</td>\n",
              "      <td>241</td>\n",
              "    </tr>\n",
              "    <tr>\n",
              "      <th>8</th>\n",
              "      <td>2</td>\n",
              "      <td>6723.47</td>\n",
              "      <td>46</td>\n",
              "      <td>6</td>\n",
              "      <td>0</td>\n",
              "      <td>199</td>\n",
              "      <td>475</td>\n",
              "    </tr>\n",
              "    <tr>\n",
              "      <th>10</th>\n",
              "      <td>2</td>\n",
              "      <td>5809.91</td>\n",
              "      <td>32</td>\n",
              "      <td>6</td>\n",
              "      <td>0</td>\n",
              "      <td>199</td>\n",
              "      <td>391</td>\n",
              "    </tr>\n",
              "    <tr>\n",
              "      <th>11</th>\n",
              "      <td>3</td>\n",
              "      <td>7003.50</td>\n",
              "      <td>56</td>\n",
              "      <td>6</td>\n",
              "      <td>0</td>\n",
              "      <td>199</td>\n",
              "      <td>535</td>\n",
              "    </tr>\n",
              "  </tbody>\n",
              "</table>\n",
              "</div>"
            ],
            "text/plain": [
              "                    count  distance  duration  minute_price  start_ride_price  \\\n",
              "user_id ride_month                                                              \n",
              "1       1               2   7027.51        42             6                 0   \n",
              "        4               1    754.16         7             6                 0   \n",
              "        8               2   6723.47        46             6                 0   \n",
              "        10              2   5809.91        32             6                 0   \n",
              "        11              3   7003.50        56             6                 0   \n",
              "\n",
              "                    subscription_fee  income  \n",
              "user_id ride_month                            \n",
              "1       1                        199     451  \n",
              "        4                        199     241  \n",
              "        8                        199     475  \n",
              "        10                       199     391  \n",
              "        11                       199     535  "
            ]
          },
          "execution_count": 33,
          "metadata": {},
          "output_type": "execute_result"
        }
      ],
      "source": [
        "# создадим новую колонку и подсчитаем помесячную прибыль по формуле\n",
        "\n",
        "users_months_income['income'] = (\n",
        "users_months_income['start_ride_price']*users_months_income['count']+\n",
        "users_months_income['minute_price']*users_months_income['duration']+\n",
        "users_months_income['subscription_fee'])\n",
        "\n",
        "users_months_income.head()"
      ]
    },
    {
      "cell_type": "code",
      "execution_count": null,
      "id": "e777492d",
      "metadata": {
        "id": "e777492d",
        "outputId": "f859b01c-5d36-4f05-c765-50afc0eb79d9"
      },
      "outputs": [
        {
          "name": "stdout",
          "output_type": "stream",
          "text": [
            "По данным с 2021-01-01 00:00:00 по 2021-12-30 00:00:00 выручка составила: 3878641 руб.\n"
          ]
        }
      ],
      "source": [
        "# подсчитаем общую выручку и выведем итоговую сумму на экран\n",
        "\n",
        "print('По данным с', data['date'].min(), 'по', data['date'].max(),\n",
        "      'выручка составила:',users_months_income['income'].sum(), 'руб.')"
      ]
    },
    {
      "cell_type": "markdown",
      "id": "66b7ed46",
      "metadata": {
        "id": "66b7ed46"
      },
      "source": [
        "**Вывод:** выручка сервиса аренды самокатов GoFast за 2021 год составила 3 878 641 руб."
      ]
    },
    {
      "cell_type": "markdown",
      "id": "41545ac0",
      "metadata": {
        "id": "41545ac0"
      },
      "source": [
        "#### Шаг 6. Проверка гипотез"
      ]
    },
    {
      "cell_type": "markdown",
      "id": "0e989133",
      "metadata": {
        "id": "0e989133"
      },
      "source": [
        "##### Проверка гипотезы о том, что пользователи с полдпиской тратят больше времени на поездки\n",
        "\n",
        "Выдвинем гипотезы:\n",
        "\n",
        "* Н0: Средняя продолжительность поездок с подпиской ultra и без free равна\n",
        "* Н1: Средняя продолжительность поездок с подпиской ultra больше продолжительности поездок без подписок free\n",
        "\n",
        "\n",
        "\n",
        "Проверим гипотезы, используем исходные данные о продолжительности каждой сессии — отдельно для подписчиков и тех, у кого нет подписки."
      ]
    },
    {
      "cell_type": "markdown",
      "id": "42e2412b",
      "metadata": {
        "id": "42e2412b"
      },
      "source": [
        "<div class=\"alert alert-success\">\n",
        "<b>✔️ Комментарий ревьюера v1:</b>\n",
        "<br>Гипотезы сформулированы верно\n",
        "</div>"
      ]
    },
    {
      "cell_type": "code",
      "execution_count": null,
      "id": "b2aadef0",
      "metadata": {
        "id": "b2aadef0",
        "outputId": "f0e64c53-46cf-425d-8454-685d4041dc7d"
      },
      "outputs": [
        {
          "name": "stdout",
          "output_type": "stream",
          "text": [
            "2.4959453720736625e-34\n",
            "Отвергаем нулевую гипотезу\n"
          ]
        }
      ],
      "source": [
        "results = st.ttest_ind(\n",
        "    data_ultra['duration'],\n",
        "    data_free['duration'],\n",
        "    equal_var=True,\n",
        "    alternative='greater')\n",
        "print(results.pvalue)\n",
        "\n",
        "alpha = 0.05\n",
        "if results.pvalue < alpha:\n",
        "    print('Отвергаем нулевую гипотезу')\n",
        "else:\n",
        "    print('Не получилось отвергнуть нулевую гипотезу')"
      ]
    },
    {
      "cell_type": "markdown",
      "id": "1798dd83",
      "metadata": {
        "id": "1798dd83"
      },
      "source": [
        "**Вывод:** нулевая гипотеза отвергнута, есть основания утверждать, что средняя продолжительность поездки с подпиской больше продолжительности поездок без подписки при установленном уровне значимости в 5 %, хотя на графиках, это практически не заметно, а средние значения у подписчиков лишь немного больше, чем тех, у кого нет подписки."
      ]
    },
    {
      "cell_type": "markdown",
      "id": "588103f4",
      "metadata": {
        "id": "588103f4"
      },
      "source": [
        "##### Проверка гипотезы о том, что среднее расстояние поездки c подпиской не превышает 3130 метров\n",
        "\n",
        "Выдвинем гипотезы:\n",
        "\n",
        "* Н0: Среднее расстояние поездок с подпиской ultra равно оптимальному расстоянию в 3130 метров.\n",
        "* Н1: Среднее расстояние поездок с подпиской ultra больше оптимального в 3130 метров.\n",
        "\n",
        "\n",
        "Проверим гипотезы, используем исходные данные о расстоянии для подписчиков."
      ]
    },
    {
      "cell_type": "markdown",
      "id": "77f895ab",
      "metadata": {
        "id": "77f895ab"
      },
      "source": [
        "<div class=\"alert alert-success\">\n",
        "<b>✔️ Комментарий ревьюера v1:</b>\n",
        "<br>Гипотезы сформулированы верно\n",
        "</div>"
      ]
    },
    {
      "cell_type": "code",
      "execution_count": null,
      "id": "554d621a",
      "metadata": {
        "id": "554d621a",
        "outputId": "61b3cb8b-191a-44b8-da35-c10e365cdfb6"
      },
      "outputs": [
        {
          "name": "stdout",
          "output_type": "stream",
          "text": [
            "0.9195362605842414\n",
            "Не получилось отвергнуть нулевую гипотезу\n"
          ]
        }
      ],
      "source": [
        "distance = 3130\n",
        "alpha = 0.05\n",
        "\n",
        "results = st.ttest_1samp(\n",
        "    data_ultra['distance'],\n",
        "    distance,\n",
        "    alternative='greater')\n",
        "\n",
        "print(results.pvalue)\n",
        "\n",
        "if results.pvalue < alpha:\n",
        "    print('Отвергаем нулевую гипотезу')\n",
        "else:\n",
        "    print('Не получилось отвергнуть нулевую гипотезу')"
      ]
    },
    {
      "cell_type": "markdown",
      "id": "e8baccad",
      "metadata": {
        "id": "e8baccad"
      },
      "source": [
        "**Вывод:** нулевую гипотезу отвергнуть не удалось, поэтому есть основания утверждать, что среднее расстояние поездки пользователей с подпиской не превышает оптимальное расстояние в 3130 метров с точки зрения износа самоката, при установленном уровне значимости в 5 %."
      ]
    },
    {
      "cell_type": "markdown",
      "id": "28a9c738",
      "metadata": {
        "id": "28a9c738"
      },
      "source": [
        "##### Проверка гипотезы о том, будет ли помесячная выручка от пользователей с подпиской по месяцам выше, чем выручка от пользователей без подписки\n",
        "\n",
        "Выдвинем гипотезы:\n",
        "\n",
        "* Н0: Помесячная средняя выручка от пользователей с подпиской равна помесячной средней выручке от пользователей без подписки.\n",
        "* Н1: Помесячная средняя выручка от пользователей с подпиской больше помесячной средней выручки от пользователей без подписки.\n",
        "\n",
        "Проверим гипотезы, используем данные о выручке с подпиской и без подписки."
      ]
    },
    {
      "cell_type": "code",
      "execution_count": null,
      "id": "08a653fe",
      "metadata": {
        "id": "08a653fe",
        "outputId": "baad1650-591d-4cad-9fd8-9d3f86b839d9"
      },
      "outputs": [
        {
          "name": "stdout",
          "output_type": "stream",
          "text": [
            "1.8850394384715216e-31\n",
            "Отвергаем нулевую гипотезу\n"
          ]
        }
      ],
      "source": [
        "results = st.ttest_ind(\n",
        "    users_months_income.loc[users_months_income['subscription_fee'] > 0, 'income'],\n",
        "    users_months_income.loc[users_months_income['subscription_fee'] == 0, 'income'],\n",
        "    equal_var=True,\n",
        "    alternative='greater')\n",
        "print(results.pvalue)\n",
        "\n",
        "alpha = 0.05\n",
        "if results.pvalue < alpha:\n",
        "    print('Отвергаем нулевую гипотезу')\n",
        "else:\n",
        "    print('Не получилось отвергнуть нулевую гипотезу')"
      ]
    },
    {
      "cell_type": "markdown",
      "id": "8c3ff918",
      "metadata": {
        "id": "8c3ff918"
      },
      "source": [
        "**Вывод:** нулевая гипотеза отвергнута, поэтому есть основания утверждать, что средняя месячная выручка от пользователей с подпиской больше средней месячной выручки от пользователей без подписки, при установленном уровне значимости в 5 %."
      ]
    },
    {
      "cell_type": "markdown",
      "id": "2a021b98",
      "metadata": {
        "id": "2a021b98"
      },
      "source": [
        "##### Проверка гипотезы о том, снизилось ли количество обращений в техподдержку после обновления сервера\n",
        "\n",
        "Для зависимых выборок если в данных некоторая переменная измеряется дважды (количество обращений до обновления и после него) для одних и тех же объектов (пользователь) и имеют одинаковые размеры, тогда можно применить метод scipy.stats.ttest_rel().\n",
        "\n",
        "При проверке на то что, истинное среднее значение генеральной выборки до изменения больше, чем истинное среднее значение генеральной совокупности после изменения следует указать alternative=\"less\".\n",
        "Если требования к зависимым выборкам не выполняются, можно воспользоваться методом scipy.stats.ttest_ind()."
      ]
    },
    {
      "cell_type": "markdown",
      "id": "0d964fb2",
      "metadata": {
        "id": "0d964fb2"
      },
      "source": [
        "**Выводы:** по результатам проверки гипотез установлено следующее:\n",
        "1) есть основания утверждать, что средняя продолжительность поездки с подпиской больше продолжительности поездок без подписки,\n",
        "\n",
        "2) есть основания утверждать, что среднее расстояние поездки пользователей с подпиской не превышает оптимальное расстояние в 3130 метров,\n",
        "\n",
        "3) есть основания утверждать, что средняя месячная выручка от пользователей с подпиской больше средней месячной выручки от пользователей без подписки,\n",
        "\n",
        "4) для проверки гипотезы о том, снизилось ли количество обращений в техподдержку после обновления сервера можно использовать метод scipy.stats.ttest_rel() для зависимых выборок."
      ]
    },
    {
      "cell_type": "markdown",
      "id": "61213c5e",
      "metadata": {
        "id": "61213c5e"
      },
      "source": [
        "#### Шаг 7. Распределения"
      ]
    },
    {
      "cell_type": "markdown",
      "id": "587a75a0",
      "metadata": {
        "id": "587a75a0"
      },
      "source": [
        "##### Какое количество промокодов нужно раздать на один бесплатный месяц, чтобы в следующем месяце как минимум 100 существующих клиентов продлили подписку\n",
        "\n",
        "Данную задачу будем рассматривать как поиск минимального количества испытаний, необходимого для достижения определенной вероятности успеха"
      ]
    },
    {
      "cell_type": "code",
      "execution_count": null,
      "id": "8a370c3d",
      "metadata": {
        "id": "8a370c3d",
        "outputId": "6a16bf1c-cd1f-41db-d69a-22d6487a9e80"
      },
      "outputs": [
        {
          "name": "stdout",
          "output_type": "stream",
          "text": [
            "При раздаче промокодов в количестве 1172 вероятность не выполнить план меньше 5.0 %\n"
          ]
        },
        {
          "data": {
            "image/png": "[encoded data removed]",
            "text/plain": [
              "<Figure size 432x288 with 1 Axes>"
            ]
          },
          "metadata": {
            "needs_background": "light"
          },
          "output_type": "display_data"
        }
      ],
      "source": [
        "# для того, чтобы рассчитать необходимое распределение, применим функицю binom.cdf(k, n, p)\n",
        "# она рассчитывает кумулятивную вероятность для биномиального распределения\n",
        "# и возвращает вероятность того, что будет получено k или меньше успехов в n испытаниях при вероятности успеха p\n",
        "\n",
        "n = 1000 # допустим, мы разошлём рассылку 1000 пользователям\n",
        "p = 0.1 # вероятность успеха 10%\n",
        "k = 100 # количество успешных исходов, для которых мы хотим рассчитать вероятность\n",
        "binom_cdf = 0.05 # начальное значение для кумулятивной вероятности CDF = 5%\n",
        "\n",
        "# далее напишем цикл, который будет продолжаться до тех пор,\n",
        "# пока значение binom_cdf станет меньше кумулятивной вероятности для k успехов, n испытаний и вероятности успеха p\n",
        "\n",
        "while binom_cdf < binom.cdf(k, n, p):\n",
        "    n += 1 # внутри цикла увеличиваем значение n на 1, что означает, что мы рассматриваем большее количество испытаний\n",
        "\n",
        "print(f'При раздаче промокодов в количестве {n} вероятность не выполнить план меньше {binom.cdf(k, n, p).round(2)*100} %')\n",
        "\n",
        "# зададим математическое ожидание и стандартное отклонение нормального распределения равными\n",
        "# математическому ожиданию и стандартному отклонению биномиального распределения\n",
        "\n",
        "mu = n * p # матаматическое ожидание равно произведению размера выборки n и вероятности успеха p\n",
        "sigma = (n * p * (1 - p))**0.5 # здесь 1 - p представляет собой вероятность неуспеха\n",
        "\n",
        "arange = np.arange((mu - 3 * sigma),(mu + 3 * sigma),1) # создадим диапазон значений вокруг среднего с учетом ст.отклонения\n",
        "\n",
        "plt.plot(arange, st.norm.pdf(arange, mu, sigma), 'b-')\n",
        "plt.axvline(x=k, color='red') # красная линия для порогового значения, для которого мы вычисляли вероятность (k)\n",
        "plt.axvline(x=mu, color='green') # зеленая линия для мат. ожидания mu\n",
        "plt.show()"
      ]
    },
    {
      "cell_type": "markdown",
      "id": "4eb9a11d",
      "metadata": {
        "id": "4eb9a11d"
      },
      "source": [
        "**Вывод:** необходимо довести до подписчиков как минимум 1172 промокода, для того чтобы как минимум 100 существующих клиентов продлили подписку (продлевают подписку 10% получивших промокод) с вероятностью 5% не выполнить план."
      ]
    },
    {
      "cell_type": "markdown",
      "id": "3df74b98",
      "metadata": {
        "id": "3df74b98"
      },
      "source": [
        "##### Оценка вероятности того, что уведомление откроют не более 399,5 тыс. пользователей, если разослать 1 млн уведомлений\n",
        "\n",
        "Для решения этой задачи установим параметры биномиального распределения"
      ]
    },
    {
      "cell_type": "code",
      "execution_count": null,
      "id": "f4ca23af",
      "metadata": {
        "id": "f4ca23af",
        "outputId": "b773011f-394e-459f-ed2b-1b6ea5a203e3"
      },
      "outputs": [
        {
          "name": "stdout",
          "output_type": "stream",
          "text": [
            "Вероятность открытия сообщений: 0.15371708296369768\n"
          ]
        },
        {
          "data": {
            "image/png": "[encoded data removed]",
            "text/plain": [
              "<Figure size 432x288 with 1 Axes>"
            ]
          },
          "metadata": {
            "needs_background": "light"
          },
          "output_type": "display_data"
        }
      ],
      "source": [
        "\n",
        "n = 1000000 # общее количество уведомлений (испытаний)\n",
        "p = 0.4 # вероятность открытия сообщения (успешного исхода)\n",
        "k = 399500 # значение, для которого мы хотим найти вероятность\n",
        "\n",
        "# зададим математическое ожидание и стандартное отклонение нормального распределения равными\n",
        "# математическому ожиданию и стандартному отклонению биномиального распределения\n",
        "\n",
        "mu = n * p\n",
        "sigma = (n * p * (1 - p))**0.5\n",
        "\n",
        "# задаём нормальное распределение\n",
        "distr = st.norm(mu, sigma)\n",
        "\n",
        "# считаем вероятность хвоста слева от 399500\n",
        "result = distr.cdf(k) # вычисляем вероятность того, что случайная величина меньше или равна k\n",
        "print('Вероятность открытия сообщений:', result)\n",
        "\n",
        "arange = np.arange((mu - 3 * sigma),(mu + 3 * sigma),1) # создаём диапазон значений для графика в пределах 3 ст.отклонений\n",
        "plt.plot(arange, st.norm.pdf(arange, mu, sigma), 'b-') # вычисляем плотность вероятности для каждого значения в arange\n",
        "plt.xticks(rotation=90)\n",
        "plt.axvline(x=k, color='red') # красная линия для порогового значения, для которого мы вычисляли вероятность (k)\n",
        "plt.axvline(x=mu, color='green') # зеленая линия для мат. ожидания mu\n",
        "plt.show()"
      ]
    },
    {
      "cell_type": "markdown",
      "id": "a80ec287",
      "metadata": {
        "id": "a80ec287"
      },
      "source": [
        "**Вывод:** если разослать 1 млн уведомлений, из которых откроют только 40 % получивших клиентов, тогда вероятность того, что уведомление откроют не более 399500 пользователей составит 0.1537 или 15,37 %."
      ]
    },
    {
      "cell_type": "markdown",
      "id": "580fbd3f",
      "metadata": {
        "id": "580fbd3f"
      },
      "source": [
        "#### Общий вывод и рекомендации\n",
        "\n",
        "\n"
      ]
    },
    {
      "cell_type": "markdown",
      "id": "0ce2473d",
      "metadata": {
        "id": "0ce2473d"
      },
      "source": [
        "Для анализа были предоставлены три таблицы, содержащие данные по пользователях самокатов, информация о длительности поездок и стоимости услуг сервиса аренды самокатов GoFast. Таблицы были загружены и подготовлены для работы в среде pandas.\n",
        "\n",
        "Произведена предварительная обработка данных: найдены и удалены дубликаты, данные приведены к типу pandas. Далее был произведен первичный исследовательский анализ на предмет выявления самых популярных городов присутствия сервиса, выявлено соотношение пользователей с подпиской и без подписки, изучены средний возраст пользователей, средние значения пройденного расстояния и времени использования самокатов. Выявлено, что самый популярный город проката сервиса GoFast - это Пятигорск, а самый непопулярный - Москва. У большинства пользователей нет платной подписки, а в среднем пользователю сервиса - от 20 до 30 лет. Обычно на самокатах GoFast проезжают 3 км, что по времени занимает около 18 минут.\n",
        "\n",
        "\n",
        "Была создана сводная таблица по всем имеющимся данным, произведена визуализация информации о расстоянии и времени поездок для пользователей обеих категорий. Выявлено, что пользователи без подписки в среднем проезжают 3045 метров, но совершают больше дальних поездок, в то время как пользователи с подпиской делают меньше коротких поездок и среднее расстояние поездки у них больше - 3115 метров.\n",
        "\n",
        "\n",
        "По подготовленным данным подсчитана помесячная и общая выручка сервиса за 2021 год: сервис заработал 3 878 641 рублей. Далее были проверены исследовательские гипотезы и выявлено, что  есть основания утверждать, о том, что средняя продолжительность поездки с подпиской больше продолжительности поездок без подписки, что среднее расстояние поездки пользователей с подпиской не превышает оптимальное расстояние в 3130 метров и что средняя месячная выручка от пользователей с подпиской больше средней месячной выручки от пользователей без подписки.\n",
        "\n",
        "\n",
        "Изучены биноминальные распределения для предлагаемых обстоятельств, связанных с рассылкой рекламных уведомлений и подсчитаны вероятности успешного завершения рекламных компаний: необходимо довести до подписчиков как минимум 1172 промокода, для того чтобы как минимум 100 существующих клиентов продлили подписку, а также установлена 15,37 % вероятность того, что уведомление откроют не более 399500 пользователей из 1 млн разосланных уведомлений.\n",
        "\n",
        "\n",
        "**Рекомендации для продакт-менеджера:** 1) совместно с аналитикам мобильного приложения изучить по каким причинам пользователи не совершают полноценную поездку (поездки меньше 1 минуты), 2) поддерживать лояльность пользователей с подпиской, т.к. они используют самокаты активнее и дольше, 3) расширять работу на распространение подписок, т.к. подписчики приносят больше прибыли, 4) распространять сервис на небольшие города, где не высока ещё конкуренция с крупными игроками рынка."
      ]
    }
  ],
  "metadata": {
    "ExecuteTimeLog": [
      {
        "duration": 52,
        "start_time": "2024-08-14T21:24:44.166Z"
      },
      {
        "duration": 796,
        "start_time": "2024-08-14T21:24:51.589Z"
      },
      {
        "duration": 83,
        "start_time": "2024-08-14T21:24:55.202Z"
      },
      {
        "duration": 34,
        "start_time": "2024-08-14T21:25:36.614Z"
      },
      {
        "duration": 243,
        "start_time": "2024-08-14T21:27:43.046Z"
      },
      {
        "duration": 71,
        "start_time": "2024-08-14T21:28:11.112Z"
      },
      {
        "duration": 69,
        "start_time": "2024-08-14T21:28:34.988Z"
      },
      {
        "duration": 70,
        "start_time": "2024-08-14T21:28:45.079Z"
      },
      {
        "duration": 9,
        "start_time": "2024-08-14T21:29:48.144Z"
      },
      {
        "duration": 7,
        "start_time": "2024-08-14T21:30:05.342Z"
      },
      {
        "duration": 54,
        "start_time": "2024-08-15T20:45:39.348Z"
      },
      {
        "duration": 1322,
        "start_time": "2024-08-15T20:45:53.504Z"
      },
      {
        "duration": 312,
        "start_time": "2024-08-15T20:45:54.828Z"
      },
      {
        "duration": 17,
        "start_time": "2024-08-15T20:45:55.143Z"
      },
      {
        "duration": 8,
        "start_time": "2024-08-15T20:45:55.163Z"
      },
      {
        "duration": 76,
        "start_time": "2024-08-15T20:46:24.633Z"
      },
      {
        "duration": 11,
        "start_time": "2024-08-15T20:46:41.545Z"
      },
      {
        "duration": 21,
        "start_time": "2024-08-15T20:47:02.240Z"
      },
      {
        "duration": 10,
        "start_time": "2024-08-15T20:48:00.267Z"
      },
      {
        "duration": 17,
        "start_time": "2024-08-15T20:58:09.461Z"
      },
      {
        "duration": 13,
        "start_time": "2024-08-15T21:25:00.192Z"
      },
      {
        "duration": 16,
        "start_time": "2024-08-15T21:48:32.705Z"
      },
      {
        "duration": 9,
        "start_time": "2024-08-15T21:53:59.206Z"
      },
      {
        "duration": 15,
        "start_time": "2024-08-15T21:54:21.854Z"
      },
      {
        "duration": 6,
        "start_time": "2024-08-15T21:56:46.890Z"
      },
      {
        "duration": 1214,
        "start_time": "2024-08-20T18:07:54.260Z"
      },
      {
        "duration": 311,
        "start_time": "2024-08-20T18:07:55.475Z"
      },
      {
        "duration": 11,
        "start_time": "2024-08-20T18:07:55.788Z"
      },
      {
        "duration": 9,
        "start_time": "2024-08-20T18:07:55.801Z"
      },
      {
        "duration": 12,
        "start_time": "2024-08-20T18:07:55.811Z"
      },
      {
        "duration": 8,
        "start_time": "2024-08-20T18:07:55.825Z"
      },
      {
        "duration": 9,
        "start_time": "2024-08-20T18:07:55.835Z"
      },
      {
        "duration": 21,
        "start_time": "2024-08-20T18:07:55.846Z"
      },
      {
        "duration": 11,
        "start_time": "2024-08-20T18:07:55.868Z"
      },
      {
        "duration": 27,
        "start_time": "2024-08-20T18:07:55.881Z"
      },
      {
        "duration": 5,
        "start_time": "2024-08-20T20:10:23.223Z"
      },
      {
        "duration": 6,
        "start_time": "2024-08-20T20:12:08.294Z"
      },
      {
        "duration": 86,
        "start_time": "2024-08-20T20:12:57.448Z"
      },
      {
        "duration": 6,
        "start_time": "2024-08-20T20:13:11.129Z"
      },
      {
        "duration": 8,
        "start_time": "2024-08-20T20:13:20.577Z"
      },
      {
        "duration": 7,
        "start_time": "2024-08-20T20:13:45.760Z"
      },
      {
        "duration": 10,
        "start_time": "2024-08-20T20:14:26.780Z"
      },
      {
        "duration": 10,
        "start_time": "2024-08-20T20:15:11.151Z"
      },
      {
        "duration": 11,
        "start_time": "2024-08-20T20:15:26.146Z"
      },
      {
        "duration": 10,
        "start_time": "2024-08-20T20:22:48.096Z"
      },
      {
        "duration": 8,
        "start_time": "2024-08-20T20:23:24.899Z"
      },
      {
        "duration": 9,
        "start_time": "2024-08-20T20:26:10.147Z"
      },
      {
        "duration": 9,
        "start_time": "2024-08-20T20:26:32.116Z"
      },
      {
        "duration": 6,
        "start_time": "2024-08-20T20:26:36.752Z"
      },
      {
        "duration": 11,
        "start_time": "2024-08-20T20:31:14.601Z"
      },
      {
        "duration": 6,
        "start_time": "2024-08-20T20:32:40.001Z"
      },
      {
        "duration": 9,
        "start_time": "2024-08-20T20:32:43.969Z"
      },
      {
        "duration": 7,
        "start_time": "2024-08-20T20:32:46.197Z"
      },
      {
        "duration": 914,
        "start_time": "2024-08-20T20:37:12.280Z"
      },
      {
        "duration": 720,
        "start_time": "2024-08-20T20:38:12.511Z"
      },
      {
        "duration": 569,
        "start_time": "2024-08-20T20:38:41.902Z"
      },
      {
        "duration": 654,
        "start_time": "2024-08-20T20:38:49.355Z"
      },
      {
        "duration": 647,
        "start_time": "2024-08-20T20:39:03.183Z"
      },
      {
        "duration": 757,
        "start_time": "2024-08-20T20:39:10.031Z"
      },
      {
        "duration": 3,
        "start_time": "2024-08-20T21:07:26.558Z"
      },
      {
        "duration": 22,
        "start_time": "2024-08-20T21:07:55.379Z"
      },
      {
        "duration": 18,
        "start_time": "2024-08-20T21:08:06.352Z"
      },
      {
        "duration": 3,
        "start_time": "2024-08-20T21:09:51.350Z"
      },
      {
        "duration": 10,
        "start_time": "2024-08-20T21:10:00.818Z"
      },
      {
        "duration": 191,
        "start_time": "2024-08-20T21:18:17.153Z"
      },
      {
        "duration": 163,
        "start_time": "2024-08-20T21:18:46.223Z"
      },
      {
        "duration": 163,
        "start_time": "2024-08-20T21:19:07.599Z"
      },
      {
        "duration": 148,
        "start_time": "2024-08-20T21:20:24.132Z"
      },
      {
        "duration": 12,
        "start_time": "2024-08-20T21:21:01.116Z"
      },
      {
        "duration": 11,
        "start_time": "2024-08-20T21:24:02.176Z"
      },
      {
        "duration": 49,
        "start_time": "2024-08-20T21:25:47.364Z"
      },
      {
        "duration": 11,
        "start_time": "2024-08-20T21:25:58.319Z"
      },
      {
        "duration": 13,
        "start_time": "2024-08-20T21:30:34.654Z"
      },
      {
        "duration": 191,
        "start_time": "2024-08-20T21:30:39.910Z"
      },
      {
        "duration": 165,
        "start_time": "2024-08-20T21:31:08.065Z"
      },
      {
        "duration": 10,
        "start_time": "2024-08-20T21:47:39.234Z"
      },
      {
        "duration": 15,
        "start_time": "2024-08-20T21:50:17.732Z"
      },
      {
        "duration": 155,
        "start_time": "2024-08-20T21:50:59.124Z"
      },
      {
        "duration": 158,
        "start_time": "2024-08-20T21:52:03.667Z"
      },
      {
        "duration": 217,
        "start_time": "2024-08-20T21:52:21.469Z"
      },
      {
        "duration": 144,
        "start_time": "2024-08-20T21:52:47.405Z"
      },
      {
        "duration": 136,
        "start_time": "2024-08-20T21:52:59.547Z"
      },
      {
        "duration": 135,
        "start_time": "2024-08-20T21:53:11.276Z"
      },
      {
        "duration": 149,
        "start_time": "2024-08-20T21:53:23.047Z"
      },
      {
        "duration": 165,
        "start_time": "2024-08-20T21:58:12.855Z"
      },
      {
        "duration": 8,
        "start_time": "2024-08-20T22:11:50.042Z"
      },
      {
        "duration": 248,
        "start_time": "2024-08-20T22:19:18.432Z"
      },
      {
        "duration": 246,
        "start_time": "2024-08-20T22:21:38.346Z"
      },
      {
        "duration": 257,
        "start_time": "2024-08-20T22:22:30.087Z"
      },
      {
        "duration": 1266,
        "start_time": "2024-08-21T11:17:53.321Z"
      },
      {
        "duration": 300,
        "start_time": "2024-08-21T11:17:54.589Z"
      },
      {
        "duration": 16,
        "start_time": "2024-08-21T11:17:54.891Z"
      },
      {
        "duration": 14,
        "start_time": "2024-08-21T11:17:54.909Z"
      },
      {
        "duration": 16,
        "start_time": "2024-08-21T11:17:54.925Z"
      },
      {
        "duration": 8,
        "start_time": "2024-08-21T11:17:54.943Z"
      },
      {
        "duration": 10,
        "start_time": "2024-08-21T11:17:54.953Z"
      },
      {
        "duration": 47,
        "start_time": "2024-08-21T11:17:54.964Z"
      },
      {
        "duration": 14,
        "start_time": "2024-08-21T11:17:55.013Z"
      },
      {
        "duration": 13,
        "start_time": "2024-08-21T11:17:55.029Z"
      },
      {
        "duration": 15,
        "start_time": "2024-08-21T11:17:55.043Z"
      },
      {
        "duration": 17,
        "start_time": "2024-08-21T11:17:55.060Z"
      },
      {
        "duration": 236,
        "start_time": "2024-08-21T11:17:55.078Z"
      },
      {
        "duration": 12,
        "start_time": "2024-08-21T11:17:55.316Z"
      },
      {
        "duration": 177,
        "start_time": "2024-08-21T11:17:55.330Z"
      },
      {
        "duration": 10,
        "start_time": "2024-08-21T11:17:55.508Z"
      },
      {
        "duration": 312,
        "start_time": "2024-08-21T11:17:55.519Z"
      },
      {
        "duration": 10,
        "start_time": "2024-08-21T11:37:28.361Z"
      },
      {
        "duration": 64,
        "start_time": "2024-08-21T11:38:24.511Z"
      },
      {
        "duration": 881,
        "start_time": "2024-08-21T11:42:32.240Z"
      },
      {
        "duration": 769,
        "start_time": "2024-08-21T11:42:59.915Z"
      },
      {
        "duration": 904,
        "start_time": "2024-08-21T11:43:18.456Z"
      },
      {
        "duration": 871,
        "start_time": "2024-08-21T11:47:44.184Z"
      },
      {
        "duration": 887,
        "start_time": "2024-08-21T11:48:18.404Z"
      },
      {
        "duration": 10,
        "start_time": "2024-08-21T12:10:34.900Z"
      },
      {
        "duration": 194,
        "start_time": "2024-08-21T12:13:06.398Z"
      },
      {
        "duration": 267,
        "start_time": "2024-08-21T12:13:22.233Z"
      },
      {
        "duration": 229,
        "start_time": "2024-08-21T12:13:32.700Z"
      },
      {
        "duration": 217,
        "start_time": "2024-08-21T12:13:39.877Z"
      },
      {
        "duration": 185,
        "start_time": "2024-08-21T12:13:49.146Z"
      },
      {
        "duration": 225,
        "start_time": "2024-08-21T12:14:40.870Z"
      },
      {
        "duration": 3,
        "start_time": "2024-08-21T12:49:49.454Z"
      },
      {
        "duration": 38,
        "start_time": "2024-08-21T12:52:37.378Z"
      },
      {
        "duration": 33,
        "start_time": "2024-08-21T12:54:23.584Z"
      },
      {
        "duration": 2,
        "start_time": "2024-08-21T12:59:28.404Z"
      },
      {
        "duration": 19,
        "start_time": "2024-08-21T13:00:26.430Z"
      },
      {
        "duration": 17,
        "start_time": "2024-08-21T13:00:49.928Z"
      },
      {
        "duration": 20,
        "start_time": "2024-08-21T13:01:12.121Z"
      },
      {
        "duration": 17,
        "start_time": "2024-08-21T13:05:23.458Z"
      },
      {
        "duration": 20,
        "start_time": "2024-08-21T13:07:01.484Z"
      },
      {
        "duration": 434,
        "start_time": "2024-08-21T13:10:26.001Z"
      },
      {
        "duration": 294,
        "start_time": "2024-08-21T13:10:56.514Z"
      },
      {
        "duration": 448,
        "start_time": "2024-08-21T13:11:06.017Z"
      },
      {
        "duration": 320,
        "start_time": "2024-08-21T13:11:23.033Z"
      },
      {
        "duration": 225,
        "start_time": "2024-08-21T13:13:33.592Z"
      },
      {
        "duration": 390,
        "start_time": "2024-08-21T13:14:01.364Z"
      },
      {
        "duration": 267,
        "start_time": "2024-08-21T13:14:21.078Z"
      },
      {
        "duration": 11,
        "start_time": "2024-08-21T13:28:14.635Z"
      },
      {
        "duration": 13,
        "start_time": "2024-08-21T13:29:40.805Z"
      },
      {
        "duration": 9,
        "start_time": "2024-08-21T13:38:32.741Z"
      },
      {
        "duration": 8,
        "start_time": "2024-08-21T13:39:17.321Z"
      },
      {
        "duration": 27,
        "start_time": "2024-08-21T14:13:30.059Z"
      },
      {
        "duration": 54,
        "start_time": "2024-08-21T14:14:12.538Z"
      },
      {
        "duration": 10,
        "start_time": "2024-08-21T14:18:08.483Z"
      },
      {
        "duration": 92,
        "start_time": "2024-08-21T14:19:31.545Z"
      },
      {
        "duration": 7,
        "start_time": "2024-08-21T14:19:53.475Z"
      },
      {
        "duration": 9,
        "start_time": "2024-08-21T14:20:37.129Z"
      },
      {
        "duration": 7,
        "start_time": "2024-08-21T14:21:25.228Z"
      },
      {
        "duration": 12,
        "start_time": "2024-08-21T14:29:46.672Z"
      },
      {
        "duration": 18,
        "start_time": "2024-08-21T14:30:24.477Z"
      },
      {
        "duration": 6,
        "start_time": "2024-08-21T14:31:17.949Z"
      },
      {
        "duration": 69,
        "start_time": "2024-08-21T14:32:49.805Z"
      },
      {
        "duration": 11,
        "start_time": "2024-08-21T14:32:55.754Z"
      },
      {
        "duration": 5,
        "start_time": "2024-08-21T14:33:29.436Z"
      },
      {
        "duration": 3,
        "start_time": "2024-08-21T14:38:59.330Z"
      },
      {
        "duration": 7,
        "start_time": "2024-08-21T14:41:42.609Z"
      },
      {
        "duration": 5,
        "start_time": "2024-08-21T14:47:44.698Z"
      },
      {
        "duration": 10,
        "start_time": "2024-08-21T15:20:11.505Z"
      },
      {
        "duration": 367,
        "start_time": "2024-08-21T15:49:06.154Z"
      },
      {
        "duration": 266,
        "start_time": "2024-08-21T15:49:23.539Z"
      },
      {
        "duration": 397,
        "start_time": "2024-08-21T15:53:02.346Z"
      },
      {
        "duration": 314,
        "start_time": "2024-08-21T15:55:19.057Z"
      },
      {
        "duration": 233,
        "start_time": "2024-08-21T16:11:33.629Z"
      },
      {
        "duration": 305,
        "start_time": "2024-08-21T16:19:12.561Z"
      },
      {
        "duration": 283,
        "start_time": "2024-08-21T16:29:47.472Z"
      },
      {
        "duration": 3,
        "start_time": "2024-08-21T16:31:09.523Z"
      },
      {
        "duration": 243,
        "start_time": "2024-08-21T16:36:41.667Z"
      },
      {
        "duration": 52,
        "start_time": "2024-08-21T19:47:52.592Z"
      },
      {
        "duration": 1215,
        "start_time": "2024-08-21T19:48:01.385Z"
      },
      {
        "duration": 80,
        "start_time": "2024-08-21T19:48:02.601Z"
      },
      {
        "duration": 13,
        "start_time": "2024-08-21T19:48:02.683Z"
      },
      {
        "duration": 34,
        "start_time": "2024-08-21T19:48:02.699Z"
      },
      {
        "duration": 36,
        "start_time": "2024-08-21T19:48:02.735Z"
      },
      {
        "duration": 7,
        "start_time": "2024-08-21T19:48:02.773Z"
      },
      {
        "duration": 47,
        "start_time": "2024-08-21T19:48:02.782Z"
      },
      {
        "duration": 35,
        "start_time": "2024-08-21T19:48:02.831Z"
      },
      {
        "duration": 19,
        "start_time": "2024-08-21T19:48:02.868Z"
      },
      {
        "duration": 48,
        "start_time": "2024-08-21T19:48:02.891Z"
      },
      {
        "duration": 24,
        "start_time": "2024-08-21T19:48:02.942Z"
      },
      {
        "duration": 30,
        "start_time": "2024-08-21T19:48:02.968Z"
      },
      {
        "duration": 221,
        "start_time": "2024-08-21T19:48:03.000Z"
      },
      {
        "duration": 13,
        "start_time": "2024-08-21T19:48:03.222Z"
      },
      {
        "duration": 231,
        "start_time": "2024-08-21T19:48:03.237Z"
      },
      {
        "duration": 11,
        "start_time": "2024-08-21T19:48:03.470Z"
      },
      {
        "duration": 324,
        "start_time": "2024-08-21T19:48:03.483Z"
      },
      {
        "duration": 9,
        "start_time": "2024-08-21T19:48:03.809Z"
      },
      {
        "duration": 891,
        "start_time": "2024-08-21T19:48:03.820Z"
      },
      {
        "duration": 10,
        "start_time": "2024-08-21T19:48:04.713Z"
      },
      {
        "duration": 235,
        "start_time": "2024-08-21T19:48:04.725Z"
      },
      {
        "duration": 47,
        "start_time": "2024-08-21T19:48:04.962Z"
      },
      {
        "duration": 21,
        "start_time": "2024-08-21T19:48:05.010Z"
      },
      {
        "duration": 20,
        "start_time": "2024-08-21T19:48:05.032Z"
      },
      {
        "duration": 18,
        "start_time": "2024-08-21T19:48:05.053Z"
      },
      {
        "duration": 374,
        "start_time": "2024-08-21T19:48:05.072Z"
      },
      {
        "duration": 9,
        "start_time": "2024-08-21T19:48:05.448Z"
      },
      {
        "duration": 9,
        "start_time": "2024-08-21T19:48:05.460Z"
      },
      {
        "duration": 302,
        "start_time": "2024-08-21T19:48:05.470Z"
      },
      {
        "duration": 8,
        "start_time": "2024-08-21T19:48:05.774Z"
      },
      {
        "duration": 131,
        "start_time": "2024-08-21T19:48:05.784Z"
      },
      {
        "duration": 62,
        "start_time": "2024-08-21T19:48:05.917Z"
      },
      {
        "duration": 13,
        "start_time": "2024-08-21T19:48:05.981Z"
      },
      {
        "duration": 8,
        "start_time": "2024-08-21T19:48:06.004Z"
      },
      {
        "duration": 15,
        "start_time": "2024-08-21T19:48:06.014Z"
      },
      {
        "duration": 6,
        "start_time": "2024-08-21T19:48:06.031Z"
      },
      {
        "duration": 16,
        "start_time": "2024-08-21T19:48:06.039Z"
      },
      {
        "duration": 316,
        "start_time": "2024-08-21T19:48:06.056Z"
      },
      {
        "duration": 297,
        "start_time": "2024-08-21T19:48:06.373Z"
      },
      {
        "duration": 2000,
        "start_time": "2024-08-22T05:57:07.577Z"
      },
      {
        "duration": 364,
        "start_time": "2024-08-22T05:57:09.579Z"
      },
      {
        "duration": 13,
        "start_time": "2024-08-22T05:57:09.944Z"
      },
      {
        "duration": 84,
        "start_time": "2024-08-22T05:57:09.959Z"
      },
      {
        "duration": 16,
        "start_time": "2024-08-22T05:57:10.046Z"
      },
      {
        "duration": 9,
        "start_time": "2024-08-22T05:57:10.064Z"
      },
      {
        "duration": 75,
        "start_time": "2024-08-22T05:57:10.075Z"
      },
      {
        "duration": 14,
        "start_time": "2024-08-22T05:57:10.152Z"
      },
      {
        "duration": 72,
        "start_time": "2024-08-22T05:57:10.167Z"
      },
      {
        "duration": 12,
        "start_time": "2024-08-22T05:57:10.241Z"
      },
      {
        "duration": 7,
        "start_time": "2024-08-22T05:57:10.255Z"
      },
      {
        "duration": 83,
        "start_time": "2024-08-22T05:57:10.263Z"
      },
      {
        "duration": 403,
        "start_time": "2024-08-22T05:57:10.348Z"
      },
      {
        "duration": 12,
        "start_time": "2024-08-22T05:57:10.754Z"
      },
      {
        "duration": 318,
        "start_time": "2024-08-22T05:57:10.768Z"
      },
      {
        "duration": 10,
        "start_time": "2024-08-22T05:57:11.138Z"
      },
      {
        "duration": 632,
        "start_time": "2024-08-22T05:57:11.150Z"
      },
      {
        "duration": 9,
        "start_time": "2024-08-22T05:57:11.838Z"
      },
      {
        "duration": 1818,
        "start_time": "2024-08-22T05:57:11.850Z"
      },
      {
        "duration": 9,
        "start_time": "2024-08-22T05:57:13.671Z"
      },
      {
        "duration": 268,
        "start_time": "2024-08-22T05:57:13.682Z"
      },
      {
        "duration": 31,
        "start_time": "2024-08-22T05:57:13.951Z"
      },
      {
        "duration": 17,
        "start_time": "2024-08-22T05:57:13.984Z"
      },
      {
        "duration": 49,
        "start_time": "2024-08-22T05:57:14.002Z"
      },
      {
        "duration": 12,
        "start_time": "2024-08-22T05:57:14.053Z"
      },
      {
        "duration": 309,
        "start_time": "2024-08-22T05:57:14.066Z"
      },
      {
        "duration": 8,
        "start_time": "2024-08-22T05:57:14.377Z"
      },
      {
        "duration": 21,
        "start_time": "2024-08-22T05:57:14.387Z"
      },
      {
        "duration": 252,
        "start_time": "2024-08-22T05:57:14.409Z"
      },
      {
        "duration": 9,
        "start_time": "2024-08-22T05:57:14.662Z"
      },
      {
        "duration": 7,
        "start_time": "2024-08-22T05:57:14.672Z"
      },
      {
        "duration": 67,
        "start_time": "2024-08-22T05:57:14.680Z"
      },
      {
        "duration": 11,
        "start_time": "2024-08-22T05:57:14.748Z"
      },
      {
        "duration": 5,
        "start_time": "2024-08-22T05:57:14.760Z"
      },
      {
        "duration": 4,
        "start_time": "2024-08-22T05:57:14.767Z"
      },
      {
        "duration": 5,
        "start_time": "2024-08-22T05:57:14.773Z"
      },
      {
        "duration": 18,
        "start_time": "2024-08-22T05:57:14.779Z"
      },
      {
        "duration": 294,
        "start_time": "2024-08-22T05:57:14.799Z"
      },
      {
        "duration": 273,
        "start_time": "2024-08-22T05:57:15.095Z"
      }
    ],
    "kernelspec": {
      "display_name": "Python 3 (ipykernel)",
      "language": "python",
      "name": "python3"
    },
    "language_info": {
      "codemirror_mode": {
        "name": "ipython",
        "version": 3
      },
      "file_extension": ".py",
      "mimetype": "text/x-python",
      "name": "python",
      "nbconvert_exporter": "python",
      "pygments_lexer": "ipython3",
      "version": "3.9.5"
    },
    "toc": {
      "base_numbering": 1,
      "nav_menu": {},
      "number_sections": true,
      "sideBar": false,
      "skip_h1_title": true,
      "title_cell": "Содержание",
      "title_sidebar": "Contents",
      "toc_cell": true,
      "toc_position": {},
      "toc_section_display": false,
      "toc_window_display": false
    },
    "colab": {
      "provenance": [],
      "include_colab_link": true
    }
  },
  "nbformat": 4,
  "nbformat_minor": 5
}