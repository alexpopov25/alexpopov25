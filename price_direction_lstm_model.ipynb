{
  "nbformat": 4,
  "nbformat_minor": 0,
  "metadata": {
    "colab": {
      "provenance": [],
      "authorship_tag": "ABX9TyM2gl81GHexgmavn6N4homZ",
      "include_colab_link": true
    },
    "kernelspec": {
      "name": "python3",
      "display_name": "Python 3"
    },
    "language_info": {
      "name": "python"
    }
  },
  "cells": [
    {
      "cell_type": "markdown",
      "metadata": {
        "id": "view-in-github",
        "colab_type": "text"
      },
      "source": [
        "<a href=\"https://colab.research.google.com/github/alexpopov25/alexpopov25/blob/main/price_direction_lstm_model.ipynb\" target=\"_parent\"><img src=\"https://colab.research.google.com/assets/colab-badge.svg\" alt=\"Open In Colab\"/></a>"
      ]
    },
    {
      "cell_type": "markdown",
      "source": [
        "**Тестовое задание 1**\n",
        "\n",
        "*Задача:* создать модель машинного обучения, которая будет определять направление цены  \n",
        "\n",
        "*Метрика* выбирается самостоятельно  \n",
        "\n",
        "*Особенности*: показать отдельно код метрики и код для матрицы ошибок на трейне и тесте.  \n",
        "\n",
        "\n",
        "*Описание данных:*  \n",
        "\n",
        "date - дата  \n",
        "\n",
        "open - цена открытия  \n",
        "\n",
        "high - цена максимум  \n",
        "\n",
        "low - цена минимум  \n",
        "\n",
        "close - цена закрытия  \n",
        "\n",
        "vol  - объем  \n",
        "\n",
        "target - целевая переменная (направление движения цены на следующий день)."
      ],
      "metadata": {
        "id": "cxV-1KTH_-7i"
      }
    },
    {
      "cell_type": "markdown",
      "source": [
        "**План исследования:**\n",
        "1. Загрузка и обзор данных\n",
        "2. Предобработка данных\n",
        "3. Добавление фичей\n",
        "4. Выбор модели\n",
        "5. Тестирование модели\n",
        "6. Выводы"
      ],
      "metadata": {
        "id": "XEg0gSGwJLbp"
      }
    },
    {
      "cell_type": "markdown",
      "source": [
        "**Загрузка и обзор данных**"
      ],
      "metadata": {
        "id": "TR_0pjofYTFs"
      }
    },
    {
      "cell_type": "code",
      "execution_count": null,
      "metadata": {
        "id": "eAiNxndvDLU2"
      },
      "outputs": [],
      "source": [
        "# подключаем библиотеки\n",
        "import numpy as np\n",
        "import pandas as pd\n",
        "from sklearn.preprocessing import MinMaxScaler\n",
        "from sklearn.metrics import f1_score, confusion_matrix, ConfusionMatrixDisplay\n",
        "import matplotlib.pyplot as plt\n",
        "from tensorflow.keras.models import Sequential\n",
        "from tensorflow.keras.layers import LSTM, Dense, Dropout, GRU"
      ]
    },
    {
      "cell_type": "code",
      "execution_count": null,
      "metadata": {
        "id": "OA_eej5aBgSC"
      },
      "outputs": [],
      "source": [
        "# загружаем датасет\n",
        "\n",
        "url = 'https://drive.google.com/file/d/1qtsnuL4AftbX8A3EvA6FcZhV9mrS_hgV/view?usp=sharing'\n",
        "path = 'https://drive.google.com/uc?export=download&id='+url.split('/')[-2]\n",
        "df = pd.read_csv(path, sep=';', on_bad_lines='skip')\n",
        "\n",
        "df['date'] = pd.to_datetime(df['date'].astype(str), format='%Y%m%d') # меняем формат даты\n",
        "df.sort_values(by='date', inplace=True)  # сортируем по дате\n",
        "df.head()"
      ]
    },
    {
      "cell_type": "code",
      "source": [
        "df.info() # смотрим свойства датасета"
      ],
      "metadata": {
        "colab": {
          "base_uri": "https://localhost:8080/"
        },
        "id": "ySuiSI8NEGMr",
        "outputId": "51d9a2ff-a807-4181-9bdb-64a24e50eeab"
      },
      "execution_count": null,
      "outputs": [
        {
          "output_type": "stream",
          "name": "stdout",
          "text": [
            "<class 'pandas.core.frame.DataFrame'>\n",
            "RangeIndex: 2507 entries, 0 to 2506\n",
            "Data columns (total 7 columns):\n",
            " #   Column  Non-Null Count  Dtype         \n",
            "---  ------  --------------  -----         \n",
            " 0   date    2507 non-null   datetime64[ns]\n",
            " 1   open    2507 non-null   object        \n",
            " 2   high    2507 non-null   object        \n",
            " 3   low     2507 non-null   object        \n",
            " 4   close   2507 non-null   object        \n",
            " 5   vol     2507 non-null   int64         \n",
            " 6   target  2507 non-null   int64         \n",
            "dtypes: datetime64[ns](1), int64(2), object(4)\n",
            "memory usage: 137.2+ KB\n"
          ]
        }
      ]
    },
    {
      "cell_type": "markdown",
      "source": [
        "Пропусков в данных не обнаружено. Меняем форматы данных для дальнейшего анализа."
      ],
      "metadata": {
        "id": "TZLjXuBLByFK"
      }
    },
    {
      "cell_type": "markdown",
      "source": [
        "**Предобработка данных**"
      ],
      "metadata": {
        "id": "I0ptX1iPYVjq"
      }
    },
    {
      "cell_type": "code",
      "source": [
        "df['open'] = df['open'].str.replace(',', '.')\n",
        "df['high'] = df['high'].str.replace(',', '.')\n",
        "df['low'] = df['low'].str.replace(',', '.')\n",
        "df['close'] = df['close'].str.replace(',', '.')\n",
        "pd.to_numeric(df['open'], errors='coerce')\n",
        "pd.to_numeric(df['high'], errors='coerce')\n",
        "pd.to_numeric(df['low'], errors='coerce')\n",
        "pd.to_numeric(df['close'], errors='coerce')\n",
        "df['open'] = df['open'].astype(float)\n",
        "df['high'] = df['high'].astype(float)\n",
        "df['low'] = df['low'].astype(float)\n",
        "df['close'] = df['close'].astype(float)\n",
        "df['target'] = df['target'].astype(int)\n",
        "df.info() # проверяем изменения"
      ],
      "metadata": {
        "colab": {
          "base_uri": "https://localhost:8080/"
        },
        "id": "1sw4rJTQELSe",
        "outputId": "81d04459-f1bb-4a79-857e-87498b8e5582"
      },
      "execution_count": null,
      "outputs": [
        {
          "output_type": "stream",
          "name": "stdout",
          "text": [
            "<class 'pandas.core.frame.DataFrame'>\n",
            "RangeIndex: 2507 entries, 0 to 2506\n",
            "Data columns (total 7 columns):\n",
            " #   Column  Non-Null Count  Dtype         \n",
            "---  ------  --------------  -----         \n",
            " 0   date    2507 non-null   datetime64[ns]\n",
            " 1   open    2507 non-null   float64       \n",
            " 2   high    2507 non-null   float64       \n",
            " 3   low     2507 non-null   float64       \n",
            " 4   close   2507 non-null   float64       \n",
            " 5   vol     2507 non-null   int64         \n",
            " 6   target  2507 non-null   int64         \n",
            "dtypes: datetime64[ns](1), float64(4), int64(2)\n",
            "memory usage: 137.2 KB\n"
          ]
        }
      ]
    },
    {
      "cell_type": "markdown",
      "source": [
        "Мы имеет датасет с биржевыми данными. Так как в финансовых данных закономерности труднео поддаются анализу, прибегнем к генерации новых данных на основании имеющихся, чтобы лучше предсказать поведение рынка и направления target.  \n",
        "Далее добавляем фичи: столбцы с изменениями цены отосительно закрытия позиции, коэффициенты цены открытия к закрытию, высшего значения к низшему и столбец волатильности рынка."
      ],
      "metadata": {
        "id": "eKInRoOCCltT"
      }
    },
    {
      "cell_type": "markdown",
      "source": [
        "**Добавление фичей**"
      ],
      "metadata": {
        "id": "mxqt2tbRYaHf"
      }
    },
    {
      "cell_type": "code",
      "source": [
        "# добавление фичей (через функцию)\n",
        "\n",
        "def add_features(df):\n",
        "    df['price_return'] = df['close'].pct_change()\n",
        "    df['open_close_ratio'] = df['open'] / df['close']\n",
        "    df['high_low_ratio'] = df['high'] / df['low']\n",
        "    df['volatility'] = df['high'] - df['low']\n",
        "\n",
        "    for lag in [1, 2, 3]:\n",
        "        df[f'close_lag_{lag}'] = df['close'].shift(lag)\n",
        "\n",
        "    return df\n",
        "\n",
        "df = add_features(df)\n",
        "df.dropna(inplace=True)\n",
        "\n",
        "# слияние фичей\n",
        "\n",
        "features = [\n",
        "    'open', 'high', 'low', 'close', 'vol',\n",
        "    'price_return', 'open_close_ratio', 'high_low_ratio', 'volatility',\n",
        "    'close_lag_1', 'close_lag_2', 'close_lag_3'\n",
        "]\n",
        "X = df[features]\n",
        "y = df['target'].astype(int)"
      ],
      "metadata": {
        "id": "l2vai5xhNxUh"
      },
      "execution_count": null,
      "outputs": []
    },
    {
      "cell_type": "markdown",
      "source": [
        "В биржевых данных важно учесть не только особенности призакнов, влияющих на цену, но и на изменения их во времени. Соответсвенно мы должны учесть влияние временных периодов на изменения рынка. Для этого создаём временной ряд."
      ],
      "metadata": {
        "id": "mxIO2FRED3pc"
      }
    },
    {
      "cell_type": "markdown",
      "source": [
        "**Создание временных рядов**"
      ],
      "metadata": {
        "id": "V4e6MGmtYqZy"
      }
    },
    {
      "cell_type": "code",
      "source": [
        "# создание временных окон (windowed data) из временного ряда\n",
        "\n",
        "SEQ_LENGTH = 30  # длина окна\n",
        "\n",
        "def create_sequences(X, y, seq_length):\n",
        "    xs, ys = [], []\n",
        "    for i in range(len(X) - seq_length):\n",
        "        x = X.iloc[i:i+seq_length].values\n",
        "        y_label = y.iloc[i+seq_length]\n",
        "        xs.append(x)\n",
        "        ys.append(y_label)\n",
        "    return np.array(xs), np.array(ys)\n",
        "\n",
        "X_seq, y_seq = create_sequences(X, y, SEQ_LENGTH)"
      ],
      "metadata": {
        "id": "aUVQswaTOLg-"
      },
      "execution_count": null,
      "outputs": []
    },
    {
      "cell_type": "code",
      "source": [
        "# нормализуем данные для балансировки признаков\n",
        "\n",
        "scaler = MinMaxScaler(feature_range=(0, 1))\n",
        "X_scaled = scaler.fit_transform(X.values)\n",
        "\n",
        "# Пересоздаём последовательности после нормализации\n",
        "X_seq, y_seq = create_sequences(pd.DataFrame(X_scaled, columns=X.columns), y, SEQ_LENGTH)"
      ],
      "metadata": {
        "id": "uOdp71WqOOT5"
      },
      "execution_count": null,
      "outputs": []
    },
    {
      "cell_type": "code",
      "source": [
        "# разделяем модель на train/test\n",
        "\n",
        "split_idx = int(len(X_seq) * 0.8)\n",
        "X_train, X_test = X_seq[:split_idx], X_seq[split_idx:]\n",
        "y_train, y_test = y_seq[:split_idx], y_seq[split_idx:]"
      ],
      "metadata": {
        "id": "95jcv3o5OQsn"
      },
      "execution_count": null,
      "outputs": []
    },
    {
      "cell_type": "markdown",
      "source": [
        "**Выбор и тестирование модели**"
      ],
      "metadata": {
        "id": "P1lRmcciYfkK"
      }
    },
    {
      "cell_type": "markdown",
      "source": [
        "В данном исследовании применим LSTM / GRU (RNN) модели. Они подходят для работы с временными рядами и лучше улавливают долгосрочные зависимости, чем традиционные модели машинного обучения."
      ],
      "metadata": {
        "id": "10keHpBOFEU1"
      }
    },
    {
      "cell_type": "code",
      "source": [
        "# создаём модель LSTM\n",
        "\n",
        "model = Sequential([\n",
        "    LSTM(units=64, return_sequences=False, input_shape=(X_train.shape[1], X_train.shape[2])),\n",
        "    Dropout(0.3),\n",
        "    Dense(1, activation='sigmoid')\n",
        "])\n",
        "\n",
        "model.compile(optimizer='adam', loss='binary_crossentropy', metrics=['accuracy'])\n",
        "\n",
        "\n",
        "# обучим модель на трейне\n",
        "\n",
        "history = model.fit(X_train, y_train,\n",
        "                    epochs=20,\n",
        "                    batch_size=32,\n",
        "                    validation_split=0.2,\n",
        "                    verbose=1)"
      ],
      "metadata": {
        "colab": {
          "base_uri": "https://localhost:8080/"
        },
        "id": "9sIVF0gOOShx",
        "outputId": "efa11648-2ccc-4a08-8eeb-89ecab8fbf90"
      },
      "execution_count": null,
      "outputs": [
        {
          "output_type": "stream",
          "name": "stderr",
          "text": [
            "/usr/local/lib/python3.11/dist-packages/keras/src/layers/rnn/rnn.py:200: UserWarning: Do not pass an `input_shape`/`input_dim` argument to a layer. When using Sequential models, prefer using an `Input(shape)` object as the first layer in the model instead.\n",
            "  super().__init__(**kwargs)\n"
          ]
        },
        {
          "output_type": "stream",
          "name": "stdout",
          "text": [
            "Epoch 1/20\n",
            "\u001b[1m50/50\u001b[0m \u001b[32m━━━━━━━━━━━━━━━━━━━━\u001b[0m\u001b[37m\u001b[0m \u001b[1m4s\u001b[0m 25ms/step - accuracy: 0.5295 - loss: 0.6916 - val_accuracy: 0.5101 - val_loss: 0.6937\n",
            "Epoch 2/20\n",
            "\u001b[1m50/50\u001b[0m \u001b[32m━━━━━━━━━━━━━━━━━━━━\u001b[0m\u001b[37m\u001b[0m \u001b[1m2s\u001b[0m 18ms/step - accuracy: 0.5301 - loss: 0.6911 - val_accuracy: 0.5101 - val_loss: 0.6928\n",
            "Epoch 3/20\n",
            "\u001b[1m50/50\u001b[0m \u001b[32m━━━━━━━━━━━━━━━━━━━━\u001b[0m\u001b[37m\u001b[0m \u001b[1m1s\u001b[0m 17ms/step - accuracy: 0.5046 - loss: 0.6926 - val_accuracy: 0.4899 - val_loss: 0.7051\n",
            "Epoch 4/20\n",
            "\u001b[1m50/50\u001b[0m \u001b[32m━━━━━━━━━━━━━━━━━━━━\u001b[0m\u001b[37m\u001b[0m \u001b[1m1s\u001b[0m 17ms/step - accuracy: 0.5291 - loss: 0.6905 - val_accuracy: 0.4924 - val_loss: 0.6956\n",
            "Epoch 5/20\n",
            "\u001b[1m50/50\u001b[0m \u001b[32m━━━━━━━━━━━━━━━━━━━━\u001b[0m\u001b[37m\u001b[0m \u001b[1m1s\u001b[0m 18ms/step - accuracy: 0.5257 - loss: 0.6924 - val_accuracy: 0.4924 - val_loss: 0.6963\n",
            "Epoch 6/20\n",
            "\u001b[1m50/50\u001b[0m \u001b[32m━━━━━━━━━━━━━━━━━━━━\u001b[0m\u001b[37m\u001b[0m \u001b[1m1s\u001b[0m 18ms/step - accuracy: 0.5335 - loss: 0.6927 - val_accuracy: 0.5404 - val_loss: 0.6928\n",
            "Epoch 7/20\n",
            "\u001b[1m50/50\u001b[0m \u001b[32m━━━━━━━━━━━━━━━━━━━━\u001b[0m\u001b[37m\u001b[0m \u001b[1m1s\u001b[0m 19ms/step - accuracy: 0.5404 - loss: 0.6894 - val_accuracy: 0.4949 - val_loss: 0.6970\n",
            "Epoch 8/20\n",
            "\u001b[1m50/50\u001b[0m \u001b[32m━━━━━━━━━━━━━━━━━━━━\u001b[0m\u001b[37m\u001b[0m \u001b[1m1s\u001b[0m 26ms/step - accuracy: 0.5333 - loss: 0.6903 - val_accuracy: 0.5025 - val_loss: 0.6931\n",
            "Epoch 9/20\n",
            "\u001b[1m50/50\u001b[0m \u001b[32m━━━━━━━━━━━━━━━━━━━━\u001b[0m\u001b[37m\u001b[0m \u001b[1m2s\u001b[0m 17ms/step - accuracy: 0.5374 - loss: 0.6925 - val_accuracy: 0.5000 - val_loss: 0.6934\n",
            "Epoch 10/20\n",
            "\u001b[1m50/50\u001b[0m \u001b[32m━━━━━━━━━━━━━━━━━━━━\u001b[0m\u001b[37m\u001b[0m \u001b[1m1s\u001b[0m 18ms/step - accuracy: 0.5372 - loss: 0.6900 - val_accuracy: 0.5076 - val_loss: 0.6934\n",
            "Epoch 11/20\n",
            "\u001b[1m50/50\u001b[0m \u001b[32m━━━━━━━━━━━━━━━━━━━━\u001b[0m\u001b[37m\u001b[0m \u001b[1m1s\u001b[0m 18ms/step - accuracy: 0.5346 - loss: 0.6927 - val_accuracy: 0.4798 - val_loss: 0.6942\n",
            "Epoch 12/20\n",
            "\u001b[1m50/50\u001b[0m \u001b[32m━━━━━━━━━━━━━━━━━━━━\u001b[0m\u001b[37m\u001b[0m \u001b[1m1s\u001b[0m 18ms/step - accuracy: 0.5339 - loss: 0.6911 - val_accuracy: 0.5101 - val_loss: 0.6932\n",
            "Epoch 13/20\n",
            "\u001b[1m50/50\u001b[0m \u001b[32m━━━━━━━━━━━━━━━━━━━━\u001b[0m\u001b[37m\u001b[0m \u001b[1m1s\u001b[0m 17ms/step - accuracy: 0.5380 - loss: 0.6911 - val_accuracy: 0.4798 - val_loss: 0.6944\n",
            "Epoch 14/20\n",
            "\u001b[1m50/50\u001b[0m \u001b[32m━━━━━━━━━━━━━━━━━━━━\u001b[0m\u001b[37m\u001b[0m \u001b[1m1s\u001b[0m 17ms/step - accuracy: 0.4992 - loss: 0.6936 - val_accuracy: 0.4924 - val_loss: 0.6964\n",
            "Epoch 15/20\n",
            "\u001b[1m50/50\u001b[0m \u001b[32m━━━━━━━━━━━━━━━━━━━━\u001b[0m\u001b[37m\u001b[0m \u001b[1m1s\u001b[0m 18ms/step - accuracy: 0.5417 - loss: 0.6886 - val_accuracy: 0.4848 - val_loss: 0.6949\n",
            "Epoch 16/20\n",
            "\u001b[1m50/50\u001b[0m \u001b[32m━━━━━━━━━━━━━━━━━━━━\u001b[0m\u001b[37m\u001b[0m \u001b[1m1s\u001b[0m 18ms/step - accuracy: 0.5310 - loss: 0.6905 - val_accuracy: 0.5076 - val_loss: 0.6936\n",
            "Epoch 17/20\n",
            "\u001b[1m50/50\u001b[0m \u001b[32m━━━━━━━━━━━━━━━━━━━━\u001b[0m\u001b[37m\u001b[0m \u001b[1m1s\u001b[0m 19ms/step - accuracy: 0.4992 - loss: 0.6933 - val_accuracy: 0.4848 - val_loss: 0.6949\n",
            "Epoch 18/20\n",
            "\u001b[1m50/50\u001b[0m \u001b[32m━━━━━━━━━━━━━━━━━━━━\u001b[0m\u001b[37m\u001b[0m \u001b[1m1s\u001b[0m 27ms/step - accuracy: 0.5434 - loss: 0.6897 - val_accuracy: 0.5051 - val_loss: 0.6935\n",
            "Epoch 19/20\n",
            "\u001b[1m50/50\u001b[0m \u001b[32m━━━━━━━━━━━━━━━━━━━━\u001b[0m\u001b[37m\u001b[0m \u001b[1m1s\u001b[0m 27ms/step - accuracy: 0.5416 - loss: 0.6900 - val_accuracy: 0.4773 - val_loss: 0.6942\n",
            "Epoch 20/20\n",
            "\u001b[1m50/50\u001b[0m \u001b[32m━━━━━━━━━━━━━━━━━━━━\u001b[0m\u001b[37m\u001b[0m \u001b[1m1s\u001b[0m 18ms/step - accuracy: 0.5165 - loss: 0.6921 - val_accuracy: 0.4848 - val_loss: 0.6944\n"
          ]
        }
      ]
    },
    {
      "cell_type": "markdown",
      "source": [
        "**Создание матрицы ошибок**"
      ],
      "metadata": {
        "id": "T7-Jc3kBY3DQ"
      }
    },
    {
      "cell_type": "code",
      "source": [
        "# Код метрики и код для матрицы ошибок на трейне и тесте\n",
        "\n",
        "def evaluate_model(model, X_true, y_true, name):\n",
        "    y_pred_prob = model.predict(X_true).flatten()\n",
        "    y_pred = (y_pred_prob > 0.5).astype(int)\n",
        "\n",
        "    f1 = f1_score(y_true, y_pred)\n",
        "    print(f\"{name} F1 Score: {f1:.4f}\")\n",
        "\n",
        "    cm = confusion_matrix(y_true, y_pred)\n",
        "    disp = ConfusionMatrixDisplay(confusion_matrix=cm, display_labels=[0, 1])\n",
        "    disp.plot(cmap=plt.cm.Blues)\n",
        "    plt.title(f\"Confusion Matrix ({name})\")\n",
        "    plt.show()\n",
        "\n",
        "evaluate_model(model, X_train, y_train, \"Train\")\n",
        "evaluate_model(model, X_test, y_test, \"Test\")"
      ],
      "metadata": {
        "colab": {
          "base_uri": "https://localhost:8080/",
          "height": 996
        },
        "id": "uXk7teIvOV7F",
        "outputId": "0b4d424c-5f8f-4af9-c31c-29dd13ba4196"
      },
      "execution_count": null,
      "outputs": [
        {
          "output_type": "stream",
          "name": "stdout",
          "text": [
            "\u001b[1m62/62\u001b[0m \u001b[32m━━━━━━━━━━━━━━━━━━━━\u001b[0m\u001b[37m\u001b[0m \u001b[1m1s\u001b[0m 8ms/step\n",
            "Train F1 Score: 0.6762\n"
          ]
        },
        {
          "output_type": "display_data",
          "data": {
            "text/plain": [
              "<Figure size 640x480 with 2 Axes>"
            ],
            "image/png": "[encoded data removed]"
          },
          "metadata": {}
        },
        {
          "output_type": "stream",
          "name": "stdout",
          "text": [
            "\u001b[1m16/16\u001b[0m \u001b[32m━━━━━━━━━━━━━━━━━━━━\u001b[0m\u001b[37m\u001b[0m \u001b[1m0s\u001b[0m 7ms/step\n",
            "Test F1 Score: 0.6436\n"
          ]
        },
        {
          "output_type": "display_data",
          "data": {
            "text/plain": [
              "<Figure size 640x480 with 2 Axes>"
            ],
            "image/png": "[encoded data removed]"
          },
          "metadata": {}
        }
      ]
    },
    {
      "cell_type": "markdown",
      "source": [
        "**Выводы:**  \n",
        "\n",
        "Эффективность модели на трейне: 67% - нет переобученности, модель не \"выучила все ответы\".\n",
        "Эффективность на тесте: 64% - довольно высокий стабильный процент \"угадывания\".\n",
        "Выбранная нами модель умеет улавливать временные закономерности в данных.\n",
        "Она работает лучше, чем случайное угадывание (F1 = 0.5), и даже лучше, чем LightGBM/XGBoost с аналогичными данными.\n",
        "Разница между train и test — менее 4% , что говорит о умеренном переобучении, но в целом модель хорошо обобщает.\n",
        "\n",
        "Плюсы LSTM / GRU (RNN) модели:\n",
        "* Учитывают временную зависимость\n",
        "* Позволяют модели \"помнить\" прошлое\n",
        "* Хорошо подходят для финансовых временных рядов, где паттерны часто повторяются, но меняются со временем"
      ],
      "metadata": {
        "id": "3NsFntJbPPGz"
      }
    },
    {
      "cell_type": "markdown",
      "source": [
        "**Рекомендации:**  \n",
        "\n",
        "Для использования модели в реальных условиях, перед запуском в продакшн\n",
        "неоьходимо регулярное перетренирование модели, т.к. финансовые рынки меняются со временем. Рекомендуется регулярно перезапускать обучение модели. Также необходимо мониторить качество модели и следите за метриками в реальном времени (если качество предсказания падает ниже порога — стоит перенастраивать модель)."
      ],
      "metadata": {
        "id": "DQlVaaxFPqIb"
      }
    }
  ]
}