{
  "nbformat": 4,
  "nbformat_minor": 0,
  "metadata": {
    "colab": {
      "provenance": [],
      "authorship_tag": "ABX9TyPCE47pxv+g50JM0Ky1wgNK",
      "include_colab_link": true
    },
    "kernelspec": {
      "name": "python3",
      "display_name": "Python 3"
    },
    "language_info": {
      "name": "python"
    }
  },
  "cells": [
    {
      "cell_type": "markdown",
      "metadata": {
        "id": "view-in-github",
        "colab_type": "text"
      },
      "source": [
        "<a href=\"https://colab.research.google.com/github/alexpopov25/alexpopov25/blob/test-tasks/risk_level_predict.ipynb\" target=\"_parent\"><img src=\"https://colab.research.google.com/assets/colab-badge.svg\" alt=\"Open In Colab\"/></a>"
      ]
    },
    {
      "cell_type": "markdown",
      "source": [
        "**Задание №2**\n",
        "\n",
        "*Задача*: создать прогностическую модель рисков беременных.  \n",
        "\n",
        "*Метрика*: выбрать самостоятельно  \n",
        "\n",
        "*Особенности*: в последних ячейках необходимо вывести метрики и матрицу ошибок на трейне и тесте.  \n",
        "\n",
        "\n",
        "*Описание данных:*  \n",
        "\n",
        "Age – возраст женщины  \n",
        "\n",
        "SystolicBP, DiastolicBP – систолическое и диастолическое давление  \n",
        "\n",
        "BS – уровень глюкозы в крови (mmol/L)  \n",
        "\n",
        "BodyTemp – температура тела  \n",
        "\n",
        "HeartRate – пульс  \n",
        "\n",
        "RiskLevel – целевая переменная (низкий, средний, высокий риск)  \n",
        "\n",
        "**План исследования:**  \n",
        "1. Загрузка и исследование данных.\n",
        "2. Предобработка данных.\n",
        "3. Разделение на обучающую и тестовую выборки.\n",
        "4. Обучение модели классификации\n",
        "5. Оценка качества: метрики и матрица ошибок\n",
        "6. Визуализация важности признаков\n",
        "7. Вывод результатов на трейне и тесте\n"
      ],
      "metadata": {
        "id": "ihXS-AFRQgKL"
      }
    },
    {
      "cell_type": "markdown",
      "source": [
        "**Загрузка и исследование данных**"
      ],
      "metadata": {
        "id": "5I21mWMDXtlW"
      }
    },
    {
      "cell_type": "code",
      "execution_count": null,
      "metadata": {
        "id": "22tS_Dw1s-wG"
      },
      "outputs": [],
      "source": [
        "# Загрузка библиотек и метрик\n",
        "import pandas as pd\n",
        "import numpy as np\n",
        "import seaborn as sns\n",
        "import matplotlib.pyplot as plt\n",
        "from sklearn.model_selection import train_test_split\n",
        "from sklearn.ensemble import RandomForestClassifier\n",
        "from sklearn.metrics import accuracy_score, f1_score, confusion_matrix, classification_report\n",
        "\n",
        "# Импорт для визуализаций\n",
        "from sklearn.metrics import precision_recall_curve, average_precision_score\n",
        "from imblearn.over_sampling import SMOTE"
      ]
    },
    {
      "cell_type": "code",
      "execution_count": null,
      "metadata": {
        "colab": {
          "base_uri": "https://localhost:8080/",
          "height": 206
        },
        "outputId": "2ee9a099-b575-4037-adf2-db2f8a76ad8a",
        "id": "ADI2Pt_PRf6y"
      },
      "outputs": [
        {
          "output_type": "execute_result",
          "data": {
            "text/plain": [
              "   Age  SystolicBP  DiastolicBP    BS  BodyTemp  HeartRate  RiskLevel\n",
              "0   25         130           80  15.0      98.0         86  high risk\n",
              "1   35         140           90  13.0      98.0         70  high risk\n",
              "2   29          90           70   8.0     100.0         80  high risk\n",
              "3   30         140           85   7.0      98.0         70  high risk\n",
              "4   35         120           60   6.1      98.0         76   low risk"
            ],
            "text/html": [
              "\n",
              "  <div id=\"df-64bcf24c-8896-46db-9f26-4a07e632fc08\" class=\"colab-df-container\">\n",
              "    <div>\n",
              "<style scoped>\n",
              "    .dataframe tbody tr th:only-of-type {\n",
              "        vertical-align: middle;\n",
              "    }\n",
              "\n",
              "    .dataframe tbody tr th {\n",
              "        vertical-align: top;\n",
              "    }\n",
              "\n",
              "    .dataframe thead th {\n",
              "        text-align: right;\n",
              "    }\n",
              "</style>\n",
              "<table border=\"1\" class=\"dataframe\">\n",
              "  <thead>\n",
              "    <tr style=\"text-align: right;\">\n",
              "      <th></th>\n",
              "      <th>Age</th>\n",
              "      <th>SystolicBP</th>\n",
              "      <th>DiastolicBP</th>\n",
              "      <th>BS</th>\n",
              "      <th>BodyTemp</th>\n",
              "      <th>HeartRate</th>\n",
              "      <th>RiskLevel</th>\n",
              "    </tr>\n",
              "  </thead>\n",
              "  <tbody>\n",
              "    <tr>\n",
              "      <th>0</th>\n",
              "      <td>25</td>\n",
              "      <td>130</td>\n",
              "      <td>80</td>\n",
              "      <td>15.0</td>\n",
              "      <td>98.0</td>\n",
              "      <td>86</td>\n",
              "      <td>high risk</td>\n",
              "    </tr>\n",
              "    <tr>\n",
              "      <th>1</th>\n",
              "      <td>35</td>\n",
              "      <td>140</td>\n",
              "      <td>90</td>\n",
              "      <td>13.0</td>\n",
              "      <td>98.0</td>\n",
              "      <td>70</td>\n",
              "      <td>high risk</td>\n",
              "    </tr>\n",
              "    <tr>\n",
              "      <th>2</th>\n",
              "      <td>29</td>\n",
              "      <td>90</td>\n",
              "      <td>70</td>\n",
              "      <td>8.0</td>\n",
              "      <td>100.0</td>\n",
              "      <td>80</td>\n",
              "      <td>high risk</td>\n",
              "    </tr>\n",
              "    <tr>\n",
              "      <th>3</th>\n",
              "      <td>30</td>\n",
              "      <td>140</td>\n",
              "      <td>85</td>\n",
              "      <td>7.0</td>\n",
              "      <td>98.0</td>\n",
              "      <td>70</td>\n",
              "      <td>high risk</td>\n",
              "    </tr>\n",
              "    <tr>\n",
              "      <th>4</th>\n",
              "      <td>35</td>\n",
              "      <td>120</td>\n",
              "      <td>60</td>\n",
              "      <td>6.1</td>\n",
              "      <td>98.0</td>\n",
              "      <td>76</td>\n",
              "      <td>low risk</td>\n",
              "    </tr>\n",
              "  </tbody>\n",
              "</table>\n",
              "</div>\n",
              "    <div class=\"colab-df-buttons\">\n",
              "\n",
              "  <div class=\"colab-df-container\">\n",
              "    <button class=\"colab-df-convert\" onclick=\"convertToInteractive('df-64bcf24c-8896-46db-9f26-4a07e632fc08')\"\n",
              "            title=\"Convert this dataframe to an interactive table.\"\n",
              "            style=\"display:none;\">\n",
              "\n",
              "  <svg xmlns=\"http://www.w3.org/2000/svg\" height=\"24px\" viewBox=\"0 -960 960 960\">\n",
              "    <path d=\"M120-120v-720h720v720H120Zm60-500h600v-160H180v160Zm220 220h160v-160H400v160Zm0 220h160v-160H400v160ZM180-400h160v-160H180v160Zm440 0h160v-160H620v160ZM180-180h160v-160H180v160Zm440 0h160v-160H620v160Z\"/>\n",
              "  </svg>\n",
              "    </button>\n",
              "\n",
              "  <style>\n",
              "    .colab-df-container {\n",
              "      display:flex;\n",
              "      gap: 12px;\n",
              "    }\n",
              "\n",
              "    .colab-df-convert {\n",
              "      background-color: #E8F0FE;\n",
              "      border: none;\n",
              "      border-radius: 50%;\n",
              "      cursor: pointer;\n",
              "      display: none;\n",
              "      fill: #1967D2;\n",
              "      height: 32px;\n",
              "      padding: 0 0 0 0;\n",
              "      width: 32px;\n",
              "    }\n",
              "\n",
              "    .colab-df-convert:hover {\n",
              "      background-color: #E2EBFA;\n",
              "      box-shadow: 0px 1px 2px rgba(60, 64, 67, 0.3), 0px 1px 3px 1px rgba(60, 64, 67, 0.15);\n",
              "      fill: #174EA6;\n",
              "    }\n",
              "\n",
              "    .colab-df-buttons div {\n",
              "      margin-bottom: 4px;\n",
              "    }\n",
              "\n",
              "    [theme=dark] .colab-df-convert {\n",
              "      background-color: #3B4455;\n",
              "      fill: #D2E3FC;\n",
              "    }\n",
              "\n",
              "    [theme=dark] .colab-df-convert:hover {\n",
              "      background-color: #434B5C;\n",
              "      box-shadow: 0px 1px 3px 1px rgba(0, 0, 0, 0.15);\n",
              "      filter: drop-shadow(0px 1px 2px rgba(0, 0, 0, 0.3));\n",
              "      fill: #FFFFFF;\n",
              "    }\n",
              "  </style>\n",
              "\n",
              "    <script>\n",
              "      const buttonEl =\n",
              "        document.querySelector('#df-64bcf24c-8896-46db-9f26-4a07e632fc08 button.colab-df-convert');\n",
              "      buttonEl.style.display =\n",
              "        google.colab.kernel.accessAllowed ? 'block' : 'none';\n",
              "\n",
              "      async function convertToInteractive(key) {\n",
              "        const element = document.querySelector('#df-64bcf24c-8896-46db-9f26-4a07e632fc08');\n",
              "        const dataTable =\n",
              "          await google.colab.kernel.invokeFunction('convertToInteractive',\n",
              "                                                    [key], {});\n",
              "        if (!dataTable) return;\n",
              "\n",
              "        const docLinkHtml = 'Like what you see? Visit the ' +\n",
              "          '<a target=\"_blank\" href=https://colab.research.google.com/notebooks/data_table.ipynb>data table notebook</a>'\n",
              "          + ' to learn more about interactive tables.';\n",
              "        element.innerHTML = '';\n",
              "        dataTable['output_type'] = 'display_data';\n",
              "        await google.colab.output.renderOutput(dataTable, element);\n",
              "        const docLink = document.createElement('div');\n",
              "        docLink.innerHTML = docLinkHtml;\n",
              "        element.appendChild(docLink);\n",
              "      }\n",
              "    </script>\n",
              "  </div>\n",
              "\n",
              "\n",
              "    <div id=\"df-4258825f-1150-450c-b871-ffd5ee362f40\">\n",
              "      <button class=\"colab-df-quickchart\" onclick=\"quickchart('df-4258825f-1150-450c-b871-ffd5ee362f40')\"\n",
              "                title=\"Suggest charts\"\n",
              "                style=\"display:none;\">\n",
              "\n",
              "<svg xmlns=\"http://www.w3.org/2000/svg\" height=\"24px\"viewBox=\"0 0 24 24\"\n",
              "     width=\"24px\">\n",
              "    <g>\n",
              "        <path d=\"M19 3H5c-1.1 0-2 .9-2 2v14c0 1.1.9 2 2 2h14c1.1 0 2-.9 2-2V5c0-1.1-.9-2-2-2zM9 17H7v-7h2v7zm4 0h-2V7h2v10zm4 0h-2v-4h2v4z\"/>\n",
              "    </g>\n",
              "</svg>\n",
              "      </button>\n",
              "\n",
              "<style>\n",
              "  .colab-df-quickchart {\n",
              "      --bg-color: #E8F0FE;\n",
              "      --fill-color: #1967D2;\n",
              "      --hover-bg-color: #E2EBFA;\n",
              "      --hover-fill-color: #174EA6;\n",
              "      --disabled-fill-color: #AAA;\n",
              "      --disabled-bg-color: #DDD;\n",
              "  }\n",
              "\n",
              "  [theme=dark] .colab-df-quickchart {\n",
              "      --bg-color: #3B4455;\n",
              "      --fill-color: #D2E3FC;\n",
              "      --hover-bg-color: #434B5C;\n",
              "      --hover-fill-color: #FFFFFF;\n",
              "      --disabled-bg-color: #3B4455;\n",
              "      --disabled-fill-color: #666;\n",
              "  }\n",
              "\n",
              "  .colab-df-quickchart {\n",
              "    background-color: var(--bg-color);\n",
              "    border: none;\n",
              "    border-radius: 50%;\n",
              "    cursor: pointer;\n",
              "    display: none;\n",
              "    fill: var(--fill-color);\n",
              "    height: 32px;\n",
              "    padding: 0;\n",
              "    width: 32px;\n",
              "  }\n",
              "\n",
              "  .colab-df-quickchart:hover {\n",
              "    background-color: var(--hover-bg-color);\n",
              "    box-shadow: 0 1px 2px rgba(60, 64, 67, 0.3), 0 1px 3px 1px rgba(60, 64, 67, 0.15);\n",
              "    fill: var(--button-hover-fill-color);\n",
              "  }\n",
              "\n",
              "  .colab-df-quickchart-complete:disabled,\n",
              "  .colab-df-quickchart-complete:disabled:hover {\n",
              "    background-color: var(--disabled-bg-color);\n",
              "    fill: var(--disabled-fill-color);\n",
              "    box-shadow: none;\n",
              "  }\n",
              "\n",
              "  .colab-df-spinner {\n",
              "    border: 2px solid var(--fill-color);\n",
              "    border-color: transparent;\n",
              "    border-bottom-color: var(--fill-color);\n",
              "    animation:\n",
              "      spin 1s steps(1) infinite;\n",
              "  }\n",
              "\n",
              "  @keyframes spin {\n",
              "    0% {\n",
              "      border-color: transparent;\n",
              "      border-bottom-color: var(--fill-color);\n",
              "      border-left-color: var(--fill-color);\n",
              "    }\n",
              "    20% {\n",
              "      border-color: transparent;\n",
              "      border-left-color: var(--fill-color);\n",
              "      border-top-color: var(--fill-color);\n",
              "    }\n",
              "    30% {\n",
              "      border-color: transparent;\n",
              "      border-left-color: var(--fill-color);\n",
              "      border-top-color: var(--fill-color);\n",
              "      border-right-color: var(--fill-color);\n",
              "    }\n",
              "    40% {\n",
              "      border-color: transparent;\n",
              "      border-right-color: var(--fill-color);\n",
              "      border-top-color: var(--fill-color);\n",
              "    }\n",
              "    60% {\n",
              "      border-color: transparent;\n",
              "      border-right-color: var(--fill-color);\n",
              "    }\n",
              "    80% {\n",
              "      border-color: transparent;\n",
              "      border-right-color: var(--fill-color);\n",
              "      border-bottom-color: var(--fill-color);\n",
              "    }\n",
              "    90% {\n",
              "      border-color: transparent;\n",
              "      border-bottom-color: var(--fill-color);\n",
              "    }\n",
              "  }\n",
              "</style>\n",
              "\n",
              "      <script>\n",
              "        async function quickchart(key) {\n",
              "          const quickchartButtonEl =\n",
              "            document.querySelector('#' + key + ' button');\n",
              "          quickchartButtonEl.disabled = true;  // To prevent multiple clicks.\n",
              "          quickchartButtonEl.classList.add('colab-df-spinner');\n",
              "          try {\n",
              "            const charts = await google.colab.kernel.invokeFunction(\n",
              "                'suggestCharts', [key], {});\n",
              "          } catch (error) {\n",
              "            console.error('Error during call to suggestCharts:', error);\n",
              "          }\n",
              "          quickchartButtonEl.classList.remove('colab-df-spinner');\n",
              "          quickchartButtonEl.classList.add('colab-df-quickchart-complete');\n",
              "        }\n",
              "        (() => {\n",
              "          let quickchartButtonEl =\n",
              "            document.querySelector('#df-4258825f-1150-450c-b871-ffd5ee362f40 button');\n",
              "          quickchartButtonEl.style.display =\n",
              "            google.colab.kernel.accessAllowed ? 'block' : 'none';\n",
              "        })();\n",
              "      </script>\n",
              "    </div>\n",
              "    </div>\n",
              "  </div>\n"
            ],
            "application/vnd.google.colaboratory.intrinsic+json": {
              "type": "dataframe",
              "variable_name": "df",
              "summary": "{\n  \"name\": \"df\",\n  \"rows\": 1014,\n  \"fields\": [\n    {\n      \"column\": \"Age\",\n      \"properties\": {\n        \"dtype\": \"number\",\n        \"std\": 13,\n        \"min\": 10,\n        \"max\": 70,\n        \"num_unique_values\": 50,\n        \"samples\": [\n          40,\n          43,\n          13\n        ],\n        \"semantic_type\": \"\",\n        \"description\": \"\"\n      }\n    },\n    {\n      \"column\": \"SystolicBP\",\n      \"properties\": {\n        \"dtype\": \"number\",\n        \"std\": 18,\n        \"min\": 70,\n        \"max\": 160,\n        \"num_unique_values\": 19,\n        \"samples\": [\n          130,\n          110,\n          80\n        ],\n        \"semantic_type\": \"\",\n        \"description\": \"\"\n      }\n    },\n    {\n      \"column\": \"DiastolicBP\",\n      \"properties\": {\n        \"dtype\": \"number\",\n        \"std\": 13,\n        \"min\": 49,\n        \"max\": 100,\n        \"num_unique_values\": 16,\n        \"samples\": [\n          80,\n          90,\n          89\n        ],\n        \"semantic_type\": \"\",\n        \"description\": \"\"\n      }\n    },\n    {\n      \"column\": \"BS\",\n      \"properties\": {\n        \"dtype\": \"number\",\n        \"std\": 3.293531721151271,\n        \"min\": 6.0,\n        \"max\": 19.0,\n        \"num_unique_values\": 29,\n        \"samples\": [\n          6.5,\n          7.7,\n          7.1\n        ],\n        \"semantic_type\": \"\",\n        \"description\": \"\"\n      }\n    },\n    {\n      \"column\": \"BodyTemp\",\n      \"properties\": {\n        \"dtype\": \"number\",\n        \"std\": 1.3713843755995325,\n        \"min\": 98.0,\n        \"max\": 103.0,\n        \"num_unique_values\": 8,\n        \"samples\": [\n          100.0,\n          98.4,\n          98.0\n        ],\n        \"semantic_type\": \"\",\n        \"description\": \"\"\n      }\n    },\n    {\n      \"column\": \"HeartRate\",\n      \"properties\": {\n        \"dtype\": \"number\",\n        \"std\": 8,\n        \"min\": 7,\n        \"max\": 90,\n        \"num_unique_values\": 16,\n        \"samples\": [\n          86,\n          70,\n          77\n        ],\n        \"semantic_type\": \"\",\n        \"description\": \"\"\n      }\n    },\n    {\n      \"column\": \"RiskLevel\",\n      \"properties\": {\n        \"dtype\": \"category\",\n        \"num_unique_values\": 3,\n        \"samples\": [\n          \"high risk\",\n          \"low risk\",\n          \"mid risk\"\n        ],\n        \"semantic_type\": \"\",\n        \"description\": \"\"\n      }\n    }\n  ]\n}"
            }
          },
          "metadata": {},
          "execution_count": 2
        }
      ],
      "source": [
        "# Загрузка данных\n",
        "\n",
        "url = 'https://drive.google.com/file/d/1--FeiK0Yo4GARky8s3OjujnXgOeicO1V/view?usp=sharing'\n",
        "path = 'https://drive.google.com/uc?export=download&id='+url.split('/')[-2]\n",
        "df = pd.read_csv(path, sep=',', on_bad_lines='skip')\n",
        "\n",
        "df.head()"
      ]
    },
    {
      "cell_type": "markdown",
      "source": [
        "Выполняем обзор файла и информацию о нём."
      ],
      "metadata": {
        "id": "WMKUbJgVSAPA"
      }
    },
    {
      "cell_type": "code",
      "source": [
        "df.info()"
      ],
      "metadata": {
        "colab": {
          "base_uri": "https://localhost:8080/"
        },
        "id": "AwsQ1CL-uEgs",
        "outputId": "4a4eebd8-3d16-4100-9f2d-2657faff7f62"
      },
      "execution_count": null,
      "outputs": [
        {
          "output_type": "stream",
          "name": "stdout",
          "text": [
            "<class 'pandas.core.frame.DataFrame'>\n",
            "RangeIndex: 1014 entries, 0 to 1013\n",
            "Data columns (total 7 columns):\n",
            " #   Column       Non-Null Count  Dtype  \n",
            "---  ------       --------------  -----  \n",
            " 0   Age          1014 non-null   int64  \n",
            " 1   SystolicBP   1014 non-null   int64  \n",
            " 2   DiastolicBP  1014 non-null   int64  \n",
            " 3   BS           1014 non-null   float64\n",
            " 4   BodyTemp     1014 non-null   float64\n",
            " 5   HeartRate    1014 non-null   int64  \n",
            " 6   RiskLevel    1014 non-null   object \n",
            "dtypes: float64(2), int64(4), object(1)\n",
            "memory usage: 55.6+ KB\n"
          ]
        }
      ]
    },
    {
      "cell_type": "code",
      "source": [
        "df.describe()"
      ],
      "metadata": {
        "colab": {
          "base_uri": "https://localhost:8080/",
          "height": 300
        },
        "id": "jnF12Nl7uM1g",
        "outputId": "8cb53e99-860c-472f-b960-59ef5c8224b3"
      },
      "execution_count": null,
      "outputs": [
        {
          "output_type": "execute_result",
          "data": {
            "text/plain": [
              "               Age   SystolicBP  DiastolicBP           BS     BodyTemp  \\\n",
              "count  1014.000000  1014.000000  1014.000000  1014.000000  1014.000000   \n",
              "mean     29.871795   113.198225    76.460552     8.725986    98.665089   \n",
              "std      13.474386    18.403913    13.885796     3.293532     1.371384   \n",
              "min      10.000000    70.000000    49.000000     6.000000    98.000000   \n",
              "25%      19.000000   100.000000    65.000000     6.900000    98.000000   \n",
              "50%      26.000000   120.000000    80.000000     7.500000    98.000000   \n",
              "75%      39.000000   120.000000    90.000000     8.000000    98.000000   \n",
              "max      70.000000   160.000000   100.000000    19.000000   103.000000   \n",
              "\n",
              "         HeartRate  \n",
              "count  1014.000000  \n",
              "mean     74.301775  \n",
              "std       8.088702  \n",
              "min       7.000000  \n",
              "25%      70.000000  \n",
              "50%      76.000000  \n",
              "75%      80.000000  \n",
              "max      90.000000  "
            ],
            "text/html": [
              "\n",
              "  <div id=\"df-1feea3ae-69da-4386-ac9e-80f55ab7ec22\" class=\"colab-df-container\">\n",
              "    <div>\n",
              "<style scoped>\n",
              "    .dataframe tbody tr th:only-of-type {\n",
              "        vertical-align: middle;\n",
              "    }\n",
              "\n",
              "    .dataframe tbody tr th {\n",
              "        vertical-align: top;\n",
              "    }\n",
              "\n",
              "    .dataframe thead th {\n",
              "        text-align: right;\n",
              "    }\n",
              "</style>\n",
              "<table border=\"1\" class=\"dataframe\">\n",
              "  <thead>\n",
              "    <tr style=\"text-align: right;\">\n",
              "      <th></th>\n",
              "      <th>Age</th>\n",
              "      <th>SystolicBP</th>\n",
              "      <th>DiastolicBP</th>\n",
              "      <th>BS</th>\n",
              "      <th>BodyTemp</th>\n",
              "      <th>HeartRate</th>\n",
              "    </tr>\n",
              "  </thead>\n",
              "  <tbody>\n",
              "    <tr>\n",
              "      <th>count</th>\n",
              "      <td>1014.000000</td>\n",
              "      <td>1014.000000</td>\n",
              "      <td>1014.000000</td>\n",
              "      <td>1014.000000</td>\n",
              "      <td>1014.000000</td>\n",
              "      <td>1014.000000</td>\n",
              "    </tr>\n",
              "    <tr>\n",
              "      <th>mean</th>\n",
              "      <td>29.871795</td>\n",
              "      <td>113.198225</td>\n",
              "      <td>76.460552</td>\n",
              "      <td>8.725986</td>\n",
              "      <td>98.665089</td>\n",
              "      <td>74.301775</td>\n",
              "    </tr>\n",
              "    <tr>\n",
              "      <th>std</th>\n",
              "      <td>13.474386</td>\n",
              "      <td>18.403913</td>\n",
              "      <td>13.885796</td>\n",
              "      <td>3.293532</td>\n",
              "      <td>1.371384</td>\n",
              "      <td>8.088702</td>\n",
              "    </tr>\n",
              "    <tr>\n",
              "      <th>min</th>\n",
              "      <td>10.000000</td>\n",
              "      <td>70.000000</td>\n",
              "      <td>49.000000</td>\n",
              "      <td>6.000000</td>\n",
              "      <td>98.000000</td>\n",
              "      <td>7.000000</td>\n",
              "    </tr>\n",
              "    <tr>\n",
              "      <th>25%</th>\n",
              "      <td>19.000000</td>\n",
              "      <td>100.000000</td>\n",
              "      <td>65.000000</td>\n",
              "      <td>6.900000</td>\n",
              "      <td>98.000000</td>\n",
              "      <td>70.000000</td>\n",
              "    </tr>\n",
              "    <tr>\n",
              "      <th>50%</th>\n",
              "      <td>26.000000</td>\n",
              "      <td>120.000000</td>\n",
              "      <td>80.000000</td>\n",
              "      <td>7.500000</td>\n",
              "      <td>98.000000</td>\n",
              "      <td>76.000000</td>\n",
              "    </tr>\n",
              "    <tr>\n",
              "      <th>75%</th>\n",
              "      <td>39.000000</td>\n",
              "      <td>120.000000</td>\n",
              "      <td>90.000000</td>\n",
              "      <td>8.000000</td>\n",
              "      <td>98.000000</td>\n",
              "      <td>80.000000</td>\n",
              "    </tr>\n",
              "    <tr>\n",
              "      <th>max</th>\n",
              "      <td>70.000000</td>\n",
              "      <td>160.000000</td>\n",
              "      <td>100.000000</td>\n",
              "      <td>19.000000</td>\n",
              "      <td>103.000000</td>\n",
              "      <td>90.000000</td>\n",
              "    </tr>\n",
              "  </tbody>\n",
              "</table>\n",
              "</div>\n",
              "    <div class=\"colab-df-buttons\">\n",
              "\n",
              "  <div class=\"colab-df-container\">\n",
              "    <button class=\"colab-df-convert\" onclick=\"convertToInteractive('df-1feea3ae-69da-4386-ac9e-80f55ab7ec22')\"\n",
              "            title=\"Convert this dataframe to an interactive table.\"\n",
              "            style=\"display:none;\">\n",
              "\n",
              "  <svg xmlns=\"http://www.w3.org/2000/svg\" height=\"24px\" viewBox=\"0 -960 960 960\">\n",
              "    <path d=\"M120-120v-720h720v720H120Zm60-500h600v-160H180v160Zm220 220h160v-160H400v160Zm0 220h160v-160H400v160ZM180-400h160v-160H180v160Zm440 0h160v-160H620v160ZM180-180h160v-160H180v160Zm440 0h160v-160H620v160Z\"/>\n",
              "  </svg>\n",
              "    </button>\n",
              "\n",
              "  <style>\n",
              "    .colab-df-container {\n",
              "      display:flex;\n",
              "      gap: 12px;\n",
              "    }\n",
              "\n",
              "    .colab-df-convert {\n",
              "      background-color: #E8F0FE;\n",
              "      border: none;\n",
              "      border-radius: 50%;\n",
              "      cursor: pointer;\n",
              "      display: none;\n",
              "      fill: #1967D2;\n",
              "      height: 32px;\n",
              "      padding: 0 0 0 0;\n",
              "      width: 32px;\n",
              "    }\n",
              "\n",
              "    .colab-df-convert:hover {\n",
              "      background-color: #E2EBFA;\n",
              "      box-shadow: 0px 1px 2px rgba(60, 64, 67, 0.3), 0px 1px 3px 1px rgba(60, 64, 67, 0.15);\n",
              "      fill: #174EA6;\n",
              "    }\n",
              "\n",
              "    .colab-df-buttons div {\n",
              "      margin-bottom: 4px;\n",
              "    }\n",
              "\n",
              "    [theme=dark] .colab-df-convert {\n",
              "      background-color: #3B4455;\n",
              "      fill: #D2E3FC;\n",
              "    }\n",
              "\n",
              "    [theme=dark] .colab-df-convert:hover {\n",
              "      background-color: #434B5C;\n",
              "      box-shadow: 0px 1px 3px 1px rgba(0, 0, 0, 0.15);\n",
              "      filter: drop-shadow(0px 1px 2px rgba(0, 0, 0, 0.3));\n",
              "      fill: #FFFFFF;\n",
              "    }\n",
              "  </style>\n",
              "\n",
              "    <script>\n",
              "      const buttonEl =\n",
              "        document.querySelector('#df-1feea3ae-69da-4386-ac9e-80f55ab7ec22 button.colab-df-convert');\n",
              "      buttonEl.style.display =\n",
              "        google.colab.kernel.accessAllowed ? 'block' : 'none';\n",
              "\n",
              "      async function convertToInteractive(key) {\n",
              "        const element = document.querySelector('#df-1feea3ae-69da-4386-ac9e-80f55ab7ec22');\n",
              "        const dataTable =\n",
              "          await google.colab.kernel.invokeFunction('convertToInteractive',\n",
              "                                                    [key], {});\n",
              "        if (!dataTable) return;\n",
              "\n",
              "        const docLinkHtml = 'Like what you see? Visit the ' +\n",
              "          '<a target=\"_blank\" href=https://colab.research.google.com/notebooks/data_table.ipynb>data table notebook</a>'\n",
              "          + ' to learn more about interactive tables.';\n",
              "        element.innerHTML = '';\n",
              "        dataTable['output_type'] = 'display_data';\n",
              "        await google.colab.output.renderOutput(dataTable, element);\n",
              "        const docLink = document.createElement('div');\n",
              "        docLink.innerHTML = docLinkHtml;\n",
              "        element.appendChild(docLink);\n",
              "      }\n",
              "    </script>\n",
              "  </div>\n",
              "\n",
              "\n",
              "    <div id=\"df-b34888f6-189b-4c30-86ae-3277d6b8ffd4\">\n",
              "      <button class=\"colab-df-quickchart\" onclick=\"quickchart('df-b34888f6-189b-4c30-86ae-3277d6b8ffd4')\"\n",
              "                title=\"Suggest charts\"\n",
              "                style=\"display:none;\">\n",
              "\n",
              "<svg xmlns=\"http://www.w3.org/2000/svg\" height=\"24px\"viewBox=\"0 0 24 24\"\n",
              "     width=\"24px\">\n",
              "    <g>\n",
              "        <path d=\"M19 3H5c-1.1 0-2 .9-2 2v14c0 1.1.9 2 2 2h14c1.1 0 2-.9 2-2V5c0-1.1-.9-2-2-2zM9 17H7v-7h2v7zm4 0h-2V7h2v10zm4 0h-2v-4h2v4z\"/>\n",
              "    </g>\n",
              "</svg>\n",
              "      </button>\n",
              "\n",
              "<style>\n",
              "  .colab-df-quickchart {\n",
              "      --bg-color: #E8F0FE;\n",
              "      --fill-color: #1967D2;\n",
              "      --hover-bg-color: #E2EBFA;\n",
              "      --hover-fill-color: #174EA6;\n",
              "      --disabled-fill-color: #AAA;\n",
              "      --disabled-bg-color: #DDD;\n",
              "  }\n",
              "\n",
              "  [theme=dark] .colab-df-quickchart {\n",
              "      --bg-color: #3B4455;\n",
              "      --fill-color: #D2E3FC;\n",
              "      --hover-bg-color: #434B5C;\n",
              "      --hover-fill-color: #FFFFFF;\n",
              "      --disabled-bg-color: #3B4455;\n",
              "      --disabled-fill-color: #666;\n",
              "  }\n",
              "\n",
              "  .colab-df-quickchart {\n",
              "    background-color: var(--bg-color);\n",
              "    border: none;\n",
              "    border-radius: 50%;\n",
              "    cursor: pointer;\n",
              "    display: none;\n",
              "    fill: var(--fill-color);\n",
              "    height: 32px;\n",
              "    padding: 0;\n",
              "    width: 32px;\n",
              "  }\n",
              "\n",
              "  .colab-df-quickchart:hover {\n",
              "    background-color: var(--hover-bg-color);\n",
              "    box-shadow: 0 1px 2px rgba(60, 64, 67, 0.3), 0 1px 3px 1px rgba(60, 64, 67, 0.15);\n",
              "    fill: var(--button-hover-fill-color);\n",
              "  }\n",
              "\n",
              "  .colab-df-quickchart-complete:disabled,\n",
              "  .colab-df-quickchart-complete:disabled:hover {\n",
              "    background-color: var(--disabled-bg-color);\n",
              "    fill: var(--disabled-fill-color);\n",
              "    box-shadow: none;\n",
              "  }\n",
              "\n",
              "  .colab-df-spinner {\n",
              "    border: 2px solid var(--fill-color);\n",
              "    border-color: transparent;\n",
              "    border-bottom-color: var(--fill-color);\n",
              "    animation:\n",
              "      spin 1s steps(1) infinite;\n",
              "  }\n",
              "\n",
              "  @keyframes spin {\n",
              "    0% {\n",
              "      border-color: transparent;\n",
              "      border-bottom-color: var(--fill-color);\n",
              "      border-left-color: var(--fill-color);\n",
              "    }\n",
              "    20% {\n",
              "      border-color: transparent;\n",
              "      border-left-color: var(--fill-color);\n",
              "      border-top-color: var(--fill-color);\n",
              "    }\n",
              "    30% {\n",
              "      border-color: transparent;\n",
              "      border-left-color: var(--fill-color);\n",
              "      border-top-color: var(--fill-color);\n",
              "      border-right-color: var(--fill-color);\n",
              "    }\n",
              "    40% {\n",
              "      border-color: transparent;\n",
              "      border-right-color: var(--fill-color);\n",
              "      border-top-color: var(--fill-color);\n",
              "    }\n",
              "    60% {\n",
              "      border-color: transparent;\n",
              "      border-right-color: var(--fill-color);\n",
              "    }\n",
              "    80% {\n",
              "      border-color: transparent;\n",
              "      border-right-color: var(--fill-color);\n",
              "      border-bottom-color: var(--fill-color);\n",
              "    }\n",
              "    90% {\n",
              "      border-color: transparent;\n",
              "      border-bottom-color: var(--fill-color);\n",
              "    }\n",
              "  }\n",
              "</style>\n",
              "\n",
              "      <script>\n",
              "        async function quickchart(key) {\n",
              "          const quickchartButtonEl =\n",
              "            document.querySelector('#' + key + ' button');\n",
              "          quickchartButtonEl.disabled = true;  // To prevent multiple clicks.\n",
              "          quickchartButtonEl.classList.add('colab-df-spinner');\n",
              "          try {\n",
              "            const charts = await google.colab.kernel.invokeFunction(\n",
              "                'suggestCharts', [key], {});\n",
              "          } catch (error) {\n",
              "            console.error('Error during call to suggestCharts:', error);\n",
              "          }\n",
              "          quickchartButtonEl.classList.remove('colab-df-spinner');\n",
              "          quickchartButtonEl.classList.add('colab-df-quickchart-complete');\n",
              "        }\n",
              "        (() => {\n",
              "          let quickchartButtonEl =\n",
              "            document.querySelector('#df-b34888f6-189b-4c30-86ae-3277d6b8ffd4 button');\n",
              "          quickchartButtonEl.style.display =\n",
              "            google.colab.kernel.accessAllowed ? 'block' : 'none';\n",
              "        })();\n",
              "      </script>\n",
              "    </div>\n",
              "    </div>\n",
              "  </div>\n"
            ],
            "application/vnd.google.colaboratory.intrinsic+json": {
              "type": "dataframe",
              "summary": "{\n  \"name\": \"df\",\n  \"rows\": 8,\n  \"fields\": [\n    {\n      \"column\": \"Age\",\n      \"properties\": {\n        \"dtype\": \"number\",\n        \"std\": 348.5412604486188,\n        \"min\": 10.0,\n        \"max\": 1014.0,\n        \"num_unique_values\": 8,\n        \"samples\": [\n          29.871794871794872,\n          26.0,\n          1014.0\n        ],\n        \"semantic_type\": \"\",\n        \"description\": \"\"\n      }\n    },\n    {\n      \"column\": \"SystolicBP\",\n      \"properties\": {\n        \"dtype\": \"number\",\n        \"std\": 325.7381080591285,\n        \"min\": 18.403912756342805,\n        \"max\": 1014.0,\n        \"num_unique_values\": 7,\n        \"samples\": [\n          1014.0,\n          113.19822485207101,\n          120.0\n        ],\n        \"semantic_type\": \"\",\n        \"description\": \"\"\n      }\n    },\n    {\n      \"column\": \"DiastolicBP\",\n      \"properties\": {\n        \"dtype\": \"number\",\n        \"std\": 335.6154634033818,\n        \"min\": 13.885795724160682,\n        \"max\": 1014.0,\n        \"num_unique_values\": 8,\n        \"samples\": [\n          76.46055226824457,\n          80.0,\n          1014.0\n        ],\n        \"semantic_type\": \"\",\n        \"description\": \"\"\n      }\n    },\n    {\n      \"column\": \"BS\",\n      \"properties\": {\n        \"dtype\": \"number\",\n        \"std\": 355.5316275877343,\n        \"min\": 3.293531721151271,\n        \"max\": 1014.0,\n        \"num_unique_values\": 8,\n        \"samples\": [\n          8.725986193293886,\n          7.5,\n          1014.0\n        ],\n        \"semantic_type\": \"\",\n        \"description\": \"\"\n      }\n    },\n    {\n      \"column\": \"BodyTemp\",\n      \"properties\": {\n        \"dtype\": \"number\",\n        \"std\": 330.22349227467515,\n        \"min\": 1.3713843755995325,\n        \"max\": 1014.0,\n        \"num_unique_values\": 5,\n        \"samples\": [\n          98.66508875739645,\n          103.0,\n          1.3713843755995325\n        ],\n        \"semantic_type\": \"\",\n        \"description\": \"\"\n      }\n    },\n    {\n      \"column\": \"HeartRate\",\n      \"properties\": {\n        \"dtype\": \"number\",\n        \"std\": 339.57400097574833,\n        \"min\": 7.0,\n        \"max\": 1014.0,\n        \"num_unique_values\": 8,\n        \"samples\": [\n          74.30177514792899,\n          76.0,\n          1014.0\n        ],\n        \"semantic_type\": \"\",\n        \"description\": \"\"\n      }\n    }\n  ]\n}"
            }
          },
          "metadata": {},
          "execution_count": 4
        }
      ]
    },
    {
      "cell_type": "markdown",
      "source": [
        "Пропусков и явных аномалий в данных не обнаружено."
      ],
      "metadata": {
        "id": "LnzKv7TlSHYK"
      }
    },
    {
      "cell_type": "markdown",
      "source": [
        "**Предобработка данных**"
      ],
      "metadata": {
        "id": "OVAD3gGJXzRU"
      }
    },
    {
      "cell_type": "code",
      "source": [
        "df['RiskLevel'] = df['RiskLevel'].astype('string')\n",
        "df['RiskLevel'].value_counts(dropna=False, ascending=True)"
      ],
      "metadata": {
        "colab": {
          "base_uri": "https://localhost:8080/",
          "height": 210
        },
        "id": "gUxgBr8DygtX",
        "outputId": "cb72e786-bc56-48cb-bca6-366313ee7e7d"
      },
      "execution_count": null,
      "outputs": [
        {
          "output_type": "execute_result",
          "data": {
            "text/plain": [
              "RiskLevel\n",
              "high risk    272\n",
              "mid risk     336\n",
              "low risk     406\n",
              "Name: count, dtype: Int64"
            ],
            "text/html": [
              "<div>\n",
              "<style scoped>\n",
              "    .dataframe tbody tr th:only-of-type {\n",
              "        vertical-align: middle;\n",
              "    }\n",
              "\n",
              "    .dataframe tbody tr th {\n",
              "        vertical-align: top;\n",
              "    }\n",
              "\n",
              "    .dataframe thead th {\n",
              "        text-align: right;\n",
              "    }\n",
              "</style>\n",
              "<table border=\"1\" class=\"dataframe\">\n",
              "  <thead>\n",
              "    <tr style=\"text-align: right;\">\n",
              "      <th></th>\n",
              "      <th>count</th>\n",
              "    </tr>\n",
              "    <tr>\n",
              "      <th>RiskLevel</th>\n",
              "      <th></th>\n",
              "    </tr>\n",
              "  </thead>\n",
              "  <tbody>\n",
              "    <tr>\n",
              "      <th>high risk</th>\n",
              "      <td>272</td>\n",
              "    </tr>\n",
              "    <tr>\n",
              "      <th>mid risk</th>\n",
              "      <td>336</td>\n",
              "    </tr>\n",
              "    <tr>\n",
              "      <th>low risk</th>\n",
              "      <td>406</td>\n",
              "    </tr>\n",
              "  </tbody>\n",
              "</table>\n",
              "</div><br><label><b>dtype:</b> Int64</label>"
            ]
          },
          "metadata": {},
          "execution_count": 5
        }
      ]
    },
    {
      "cell_type": "code",
      "source": [
        "df['RiskLevel'].hist() # Смотрим на баланс уровней риска"
      ],
      "metadata": {
        "colab": {
          "base_uri": "https://localhost:8080/",
          "height": 447
        },
        "id": "rHtMVUNC1_p1",
        "outputId": "d098b15f-af3e-49b5-e40a-f9c57ce0667d"
      },
      "execution_count": null,
      "outputs": [
        {
          "output_type": "execute_result",
          "data": {
            "text/plain": [
              "<Axes: >"
            ]
          },
          "metadata": {},
          "execution_count": 6
        },
        {
          "output_type": "display_data",
          "data": {
            "text/plain": [
              "<Figure size 640x480 with 1 Axes>"
            ],
            "image/png": "[encoded data removed]"
          },
          "metadata": {}
        }
      ]
    },
    {
      "cell_type": "markdown",
      "source": [
        "Целевая переменная относительно сбалансирована, перекосов в данных нет. Далее кодируем переменную, разделяем выборку на обучающую и тестовую, создаём и тестируем модель, строим визуализацию матрицы."
      ],
      "metadata": {
        "id": "v4DElaYaScLn"
      }
    },
    {
      "cell_type": "markdown",
      "source": [
        "**Обучение модели**"
      ],
      "metadata": {
        "id": "qnXwG9kxYEV7"
      }
    },
    {
      "cell_type": "code",
      "source": [
        "# Кодируем целевую переменную\n",
        "from sklearn.preprocessing import LabelEncoder\n",
        "le = LabelEncoder()\n",
        "df['RiskLevel'] = le.fit_transform(df['RiskLevel'])\n",
        "\n",
        "# Разделение признаков и целевой переменной\n",
        "X = df.drop(columns=['RiskLevel'])\n",
        "y = df['RiskLevel']\n",
        "\n",
        "# Разделение на train/test\n",
        "X_train, X_test, y_train, y_test = train_test_split(X, y, test_size=0.2, random_state=42)\n",
        "\n",
        "# Инициализация и обучение модели\n",
        "model = RandomForestClassifier(random_state=42)\n",
        "model.fit(X_train, y_train)\n",
        "\n",
        "# Предсказания\n",
        "y_train_pred = model.predict(X_train)\n",
        "y_test_pred = model.predict(X_test)\n",
        "\n",
        "# Вычисление метрик\n",
        "def evaluate_model(y_true, y_pred, set_name):\n",
        "    acc = accuracy_score(y_true, y_pred)\n",
        "    f1 = f1_score(y_true, y_pred, average='weighted')\n",
        "    cm = confusion_matrix(y_true, y_pred)\n",
        "    print(f\"\\n--- {set_name} ---\")\n",
        "    print(f\"Accuracy: {acc:.4f}\")\n",
        "    print(f\"F1 Score (Weighted): {f1:.4f}\")\n",
        "    print(\"Confusion Matrix:\")\n",
        "    print(cm)\n",
        "    print(\"Classification Report:\")\n",
        "    print(classification_report(y_true, y_pred, target_names=le.classes_))\n",
        "\n",
        "    # Визуализация матрицы ошибок\n",
        "    plt.figure(figsize=(6, 4))\n",
        "    sns.heatmap(cm, annot=True, fmt=\"d\", cmap=\"Blues\", xticklabels=le.classes_, yticklabels=le.classes_)\n",
        "    plt.title(f'Confusion Matrix - {set_name}')\n",
        "    plt.xlabel('Predicted')\n",
        "    plt.ylabel('Actual')\n",
        "    plt.show()\n",
        "\n",
        "# Оценка на train и test\n",
        "evaluate_model(y_train, y_train_pred, \"Train\")\n",
        "evaluate_model(y_test, y_test_pred, \"Test\")"
      ],
      "metadata": {
        "colab": {
          "base_uri": "https://localhost:8080/",
          "height": 1000
        },
        "id": "SI_9xJ4WwpyY",
        "outputId": "c4dbba79-e5a6-4f21-dc6a-2122a35c6cef"
      },
      "execution_count": null,
      "outputs": [
        {
          "output_type": "stream",
          "name": "stdout",
          "text": [
            "\n",
            "--- Train ---\n",
            "Accuracy: 0.9359\n",
            "F1 Score (Weighted): 0.9359\n",
            "Confusion Matrix:\n",
            "[[220   1   4]\n",
            " [  4 300  22]\n",
            " [  9  12 239]]\n",
            "Classification Report:\n",
            "              precision    recall  f1-score   support\n",
            "\n",
            "   high risk       0.94      0.98      0.96       225\n",
            "    low risk       0.96      0.92      0.94       326\n",
            "    mid risk       0.90      0.92      0.91       260\n",
            "\n",
            "    accuracy                           0.94       811\n",
            "   macro avg       0.93      0.94      0.94       811\n",
            "weighted avg       0.94      0.94      0.94       811\n",
            "\n"
          ]
        },
        {
          "output_type": "display_data",
          "data": {
            "text/plain": [
              "<Figure size 600x400 with 2 Axes>"
            ],
            "image/png": "[encoded data removed]"
          },
          "metadata": {}
        },
        {
          "output_type": "stream",
          "name": "stdout",
          "text": [
            "\n",
            "--- Test ---\n",
            "Accuracy: 0.8128\n",
            "F1 Score (Weighted): 0.8134\n",
            "Confusion Matrix:\n",
            "[[40  1  6]\n",
            " [ 3 61 16]\n",
            " [ 3  9 64]]\n",
            "Classification Report:\n",
            "              precision    recall  f1-score   support\n",
            "\n",
            "   high risk       0.87      0.85      0.86        47\n",
            "    low risk       0.86      0.76      0.81        80\n",
            "    mid risk       0.74      0.84      0.79        76\n",
            "\n",
            "    accuracy                           0.81       203\n",
            "   macro avg       0.82      0.82      0.82       203\n",
            "weighted avg       0.82      0.81      0.81       203\n",
            "\n"
          ]
        },
        {
          "output_type": "display_data",
          "data": {
            "text/plain": [
              "<Figure size 600x400 with 2 Axes>"
            ],
            "image/png": "[encoded data removed]"
          },
          "metadata": {}
        }
      ]
    },
    {
      "cell_type": "markdown",
      "source": [
        "**Предварительные выводы:**  \n",
        "\n",
        "для high risk:  \n",
        "\n",
        "Хорошие метрики, особенно precision = 0.87 — модель редко ошибочно помечает пациентов как высокий риск.  \n",
        "\n",
        "для low risk:  \n",
        "\n",
        "Высокая точность, но recall = 0.76 — модель иногда пропускает настоящих \"низких рисков\".  \n",
        "\n",
        "для mid risk:  \n",
        "\n",
        "Лучший recall (0.84), но низкая точность (0.74) — много ложных срабатываний.\n",
        "\n",
        "Однако, если мы говорим о прогнозировании рисков беременности, то recall по high risk может быть критически важным — важно не пропустить реальный риск - в медицинских задачах одна из самых важных метрик.\n",
        "Поэтому, сбалансируем уровни риска до одинакового уровня, проверим результаты."
      ],
      "metadata": {
        "id": "j-Ai1ZDq3IJ-"
      }
    },
    {
      "cell_type": "markdown",
      "source": [
        "**Обновлённый код с балансировкой**"
      ],
      "metadata": {
        "id": "A8Lm1Tll356g"
      }
    },
    {
      "cell_type": "code",
      "source": [
        "# Балансировка классов\n",
        "smote = SMOTE(random_state=42)\n",
        "X_res, y_res = smote.fit_resample(X_train, y_train)\n",
        "\n",
        "# Теперь все классы будут иметь одинаковое количество примеров (~336 шт. каждый)\n",
        "\n",
        "# Обучение модели с class_weight='balanced'\n",
        "model = RandomForestClassifier(class_weight='balanced', random_state=42)\n",
        "model.fit(X_res, y_res)  # обучаемся на сбалансированных данных\n",
        "\n",
        "# Предсказания\n",
        "y_train_pred = model.predict(X_train)\n",
        "y_test_pred = model.predict(X_test)\n",
        "\n",
        "# Функция для оценки\n",
        "def evaluate_model(y_true, y_pred, set_name):\n",
        "    acc = accuracy_score(y_true, y_pred)\n",
        "    f1 = f1_score(y_true, y_pred, average='weighted')\n",
        "    cm = confusion_matrix(y_true, y_pred)\n",
        "    print(f\"\\n--- {set_name} ---\")\n",
        "    print(f\"Accuracy: {acc:.4f}\")\n",
        "    print(f\"F1 Score (Weighted): {f1:.4f}\")\n",
        "    print(\"Confusion Matrix:\")\n",
        "    print(cm)\n",
        "    print(\"Classification Report:\")\n",
        "    print(classification_report(y_true, y_pred, target_names=le.classes_))\n",
        "\n",
        "    plt.figure(figsize=(6, 4))\n",
        "    sns.heatmap(cm, annot=True, fmt=\"d\", cmap=\"Blues\", xticklabels=le.classes_, yticklabels=le.classes_)\n",
        "    plt.title(f'Confusion Matrix - {set_name}')\n",
        "    plt.xlabel('Predicted')\n",
        "    plt.ylabel('Actual')\n",
        "    plt.show()\n",
        "\n",
        "# Оценка на train и test\n",
        "evaluate_model(y_train, y_train_pred, \"Train\")\n",
        "evaluate_model(y_test, y_test_pred, \"Test\")"
      ],
      "metadata": {
        "colab": {
          "base_uri": "https://localhost:8080/",
          "height": 1000
        },
        "id": "gxTzDO433Sk6",
        "outputId": "913f7c08-3a86-4c37-e4b4-febb98d6cb3e"
      },
      "execution_count": null,
      "outputs": [
        {
          "output_type": "stream",
          "name": "stdout",
          "text": [
            "\n",
            "--- Train ---\n",
            "Accuracy: 0.9359\n",
            "F1 Score (Weighted): 0.9359\n",
            "Confusion Matrix:\n",
            "[[220   1   4]\n",
            " [  4 298  24]\n",
            " [  9  10 241]]\n",
            "Classification Report:\n",
            "              precision    recall  f1-score   support\n",
            "\n",
            "   high risk       0.94      0.98      0.96       225\n",
            "    low risk       0.96      0.91      0.94       326\n",
            "    mid risk       0.90      0.93      0.91       260\n",
            "\n",
            "    accuracy                           0.94       811\n",
            "   macro avg       0.93      0.94      0.94       811\n",
            "weighted avg       0.94      0.94      0.94       811\n",
            "\n"
          ]
        },
        {
          "output_type": "display_data",
          "data": {
            "text/plain": [
              "<Figure size 600x400 with 2 Axes>"
            ],
            "image/png": "[encoded data removed]"
          },
          "metadata": {}
        },
        {
          "output_type": "stream",
          "name": "stdout",
          "text": [
            "\n",
            "--- Test ---\n",
            "Accuracy: 0.8128\n",
            "F1 Score (Weighted): 0.8128\n",
            "Confusion Matrix:\n",
            "[[41  1  5]\n",
            " [ 4 60 16]\n",
            " [ 3  9 64]]\n",
            "Classification Report:\n",
            "              precision    recall  f1-score   support\n",
            "\n",
            "   high risk       0.85      0.87      0.86        47\n",
            "    low risk       0.86      0.75      0.80        80\n",
            "    mid risk       0.75      0.84      0.80        76\n",
            "\n",
            "    accuracy                           0.81       203\n",
            "   macro avg       0.82      0.82      0.82       203\n",
            "weighted avg       0.82      0.81      0.81       203\n",
            "\n"
          ]
        },
        {
          "output_type": "display_data",
          "data": {
            "text/plain": [
              "<Figure size 600x400 with 2 Axes>"
            ],
            "image/png": "[encoded data removed]"
          },
          "metadata": {}
        }
      ]
    },
    {
      "cell_type": "markdown",
      "source": [
        "Для медицинской задачи также важно увидеть, какие признаки следует выделять прежде всего при диагностике пациента, для этого графически выделим наиболее значимые признаки (показатели здоровья пациента)."
      ],
      "metadata": {
        "id": "i5sikdLMT650"
      }
    },
    {
      "cell_type": "markdown",
      "source": [
        "**Визуализация важности признаков**"
      ],
      "metadata": {
        "id": "pJLAmAEs6hMi"
      }
    },
    {
      "cell_type": "code",
      "source": [
        "# Получаем важность признаков\n",
        "feature_importances = model.feature_importances_\n",
        "features = X_train.columns\n",
        "\n",
        "# Создаём DataFrame для удобства\n",
        "importance_df = pd.DataFrame({\n",
        "    'Feature': features,\n",
        "    'Importance': feature_importances\n",
        "}).sort_values(by='Importance', ascending=False)\n",
        "\n",
        "# Визуализация\n",
        "plt.figure(figsize=(10, 6))\n",
        "sns.barplot(x='Importance', y='Feature', data=importance_df, palette='viridis')\n",
        "plt.title('Важность признаков в модели')\n",
        "plt.xlabel('Важность')\n",
        "plt.ylabel('Признаки')\n",
        "plt.tight_layout()\n",
        "plt.show()"
      ],
      "metadata": {
        "colab": {
          "base_uri": "https://localhost:8080/",
          "height": 714
        },
        "id": "HZxiH4nU6cP4",
        "outputId": "04fc39cc-4a96-4d74-b8de-70f928bc100f"
      },
      "execution_count": null,
      "outputs": [
        {
          "output_type": "stream",
          "name": "stderr",
          "text": [
            "<ipython-input-9-89800b650c8d>:13: FutureWarning: \n",
            "\n",
            "Passing `palette` without assigning `hue` is deprecated and will be removed in v0.14.0. Assign the `y` variable to `hue` and set `legend=False` for the same effect.\n",
            "\n",
            "  sns.barplot(x='Importance', y='Feature', data=importance_df, palette='viridis')\n"
          ]
        },
        {
          "output_type": "display_data",
          "data": {
            "text/plain": [
              "<Figure size 1000x600 with 1 Axes>"
            ],
            "image/png": "[encoded data removed]"
          },
          "metadata": {}
        }
      ]
    },
    {
      "cell_type": "markdown",
      "source": [
        "**Визуализация показывает**, что такие измерения, как уровень глюкозы в крови, систолическое давление и возраст - наиболее важны для нашей модели.\n",
        "Остальные показатели наименее важны. Это может помочь в дальнейшей оптимизации: мы смоежм удалить нерелевантных признаков или собирать более точные данные для важнейших признаков (например, перепроверять их точность)."
      ],
      "metadata": {
        "id": "FzInhkFq8HaD"
      }
    },
    {
      "cell_type": "markdown",
      "source": [
        "**Выводы:**\n",
        "Предложенная нами модель RandomForestClassifier эффективна (81% точности), особенно если цель — выявление случаев высокого риска беременности.\n",
        "По результатам трейна видим небольшое переобучение, но оно не критично.\n",
        "Балансировка классов помогла точности модели, особенно по ключевому классу high risk.  Здесь важно не пропустить пациентов с высоким риском и \"перебдеть\".\n",
        "Выявили наиболее важные признаки для модели: уровень глюкозы в крови, систолическое давление и возраст. К сбору данных параметров следует отнестить более внимательно."
      ],
      "metadata": {
        "id": "GWqYJfahVA5n"
      }
    }
  ]
}